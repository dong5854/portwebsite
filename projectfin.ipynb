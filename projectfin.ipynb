{
 "metadata": {
  "language_info": {
   "codemirror_mode": {
    "name": "ipython",
    "version": 3
   },
   "file_extension": ".py",
   "mimetype": "text/x-python",
   "name": "python",
   "nbconvert_exporter": "python",
   "pygments_lexer": "ipython3",
   "version": "3.8.10"
  },
  "orig_nbformat": 4,
  "kernelspec": {
   "name": "python3",
   "display_name": "Python 3.8.10 64-bit"
  },
  "interpreter": {
   "hash": "e7370f93d1d0cde622a1f8e1c04877d8463912d04d973331ad4851f04de6915a"
  }
 },
 "nbformat": 4,
 "nbformat_minor": 2,
 "cells": [
  {
   "cell_type": "code",
   "execution_count": 2,
   "metadata": {},
   "outputs": [],
   "source": [
    "import pandas as pd\n",
    "import numpy as np"
   ]
  },
  {
   "source": [
    "(1) 선박입출항현황 데이터"
   ],
   "cell_type": "markdown",
   "metadata": {}
  },
  {
   "cell_type": "code",
   "execution_count": 3,
   "metadata": {},
   "outputs": [],
   "source": [
    "for i in range(2017, 2022):\n",
    "    for j in range(1, 13):\n",
    "        if(i== 2017 and j== 1):\n",
    "            SADS_data = pd.read_csv('/home/ubuntu/MachineLearning/Data/ShipsArrivalandDepartureStatus/%d.SADS/%d.%d.선박입출항.csv'%(i,i, j), encoding='utf-8')\n",
    "            SADS_data = SADS_data.drop([0,1,2,3,4,5,6,7,8,9,10,11],axis=0)\n",
    "            SADS_data.columns = ['항명', '호출부호','선명', '입항횟수1', '입항횟수2', '구분','외내','입출','총톤수','국제톤수','징수톤수','입항일시','출항일시', 'CIO수속일시','수리일시', '항해구분', 'MRN 번호','국적1','국적2', '계선장소1','계선장소2','계선장소3','차항지','전출항지','선박용도','승무원(한국인)','승무원(외국인)','승객','예선', '도선','부선호출부호1','부선호출부호2']\n",
    "        else:\n",
    "            if(i== 2021 and j==7):\n",
    "                break\n",
    "            SADS_data1 = pd.read_csv('/home/ubuntu/MachineLearning/Data/ShipsArrivalandDepartureStatus/%d.SADS/%d.%d.선박입출항.csv'%(i, i, j))\n",
    "            SADS_data1 = SADS_data1.drop([0,1,2,3,4,5,6,7,8,9,10,11],axis=0)\n",
    "            SADS_data1.columns = ['항명', '호출부호','선명', '입항횟수1', '입항횟수2', '구분','외내','입출','총톤수','국제톤수','징수톤수','입항일시','출항일시', 'CIO수속일시','수리일시', '항해구분', 'MRN 번호','국적1','국적2', '계선장소1','계선장소2','계선장소3','차항지','전출항지','선박용도','승무원(한국인)','승무원(외국인)','승객','예선', '도선','부선호출부호1','부선호출부호2']\n",
    "            #print(f'{j}월 데이터: {len(data1)}')\n",
    "            SADS_data = pd.concat([SADS_data, SADS_data1])\n",
    "            SADS_data.reset_index(drop=True, inplace = True)   "
   ]
  },
  {
   "cell_type": "code",
   "execution_count": 4,
   "metadata": {},
   "outputs": [
    {
     "output_type": "execute_result",
     "data": {
      "text/plain": [
       "        항명    호출부호          선명 입항횟수1 입항횟수2  구분  외내  입출     총톤수    국제톤수  ...  \\\n",
       "0       울산   V7RW2  AFRICA GAS  2017   001  최초  외항  출항  25,098  25,098  ...   \n",
       "1       울산  975652       97대광호  2015   001  최종  내항  출항     141     141  ...   \n",
       "2       울산  978218        유림5호  2016   001  최종  내항  출항     190     190  ...   \n",
       "3       울산  114432      31 신흥호  2016   006  최종  내항  출항     119     119  ...   \n",
       "4       울산  698123        제5동방  2016   014  최종  내항  출항      44      44  ...   \n",
       "...     ..     ...         ...   ...   ...  ..  ..  ..     ...     ...  ...   \n",
       "214571  울산  9V9557  BOW DALIAN  2021   007  최종  외항  입항   6,583   6,583  ...   \n",
       "214572  울산   5VEH4    XINGHE 9  2021   001  최종  외항  입항   1,495   1,495  ...   \n",
       "214573  울산  130093          삼원  2021   041  최종  내항  입항     699       0  ...   \n",
       "214574  울산  200013          유성  2021   074  최종  내항  입항   1,998       0  ...   \n",
       "214575  울산   LACQ6  BOW GEMINI  2021   001  최종  외항  입항  26,364  26,364  ...   \n",
       "\n",
       "                차항지               전출항지      선박용도 승무원(한국인) 승무원(외국인)   승객 예선 도선  \\\n",
       "0               NaN                NaN       신조선      NaN       21    2  N  N   \n",
       "1                부산                 부산       급유선        2        1    3  N  N   \n",
       "2                울산                기타항  이.접안용 예선        5      NaN  NaN  N  N   \n",
       "3               기타항                기타항     견인용예선        2        1  NaN  N  N   \n",
       "4               기타항                기타항     견인용예선        1        1  NaN  N  N   \n",
       "...             ...                ...       ...      ...      ...  ... .. ..   \n",
       "214571     SHANGHAI                 여수  석유제품 운반선      NaN       21  NaN  Y  Y   \n",
       "214572  ZHOUSHAN PT                 부산     일반화물선      NaN        9  NaN  Y  Y   \n",
       "214573          기타항                기타항  석유제품 운반선        4        4    0  N  N   \n",
       "214574           마산                 마산  석유제품 운반선        7        5    0  Y  N   \n",
       "214575      AN PING  PANAMA, CIUDAD DE  석유제품 운반선      NaN       25  NaN  Y  Y   \n",
       "\n",
       "       부선호출부호1 부선호출부호2  \n",
       "0          NaN     NaN  \n",
       "1          NaN     NaN  \n",
       "2          NaN     NaN  \n",
       "3          NaN     NaN  \n",
       "4          NaN     NaN  \n",
       "...        ...     ...  \n",
       "214571     NaN     NaN  \n",
       "214572     NaN     NaN  \n",
       "214573     NaN     NaN  \n",
       "214574     NaN     NaN  \n",
       "214575     NaN     NaN  \n",
       "\n",
       "[214576 rows x 32 columns]"
      ],
      "text/html": "<div>\n<style scoped>\n    .dataframe tbody tr th:only-of-type {\n        vertical-align: middle;\n    }\n\n    .dataframe tbody tr th {\n        vertical-align: top;\n    }\n\n    .dataframe thead th {\n        text-align: right;\n    }\n</style>\n<table border=\"1\" class=\"dataframe\">\n  <thead>\n    <tr style=\"text-align: right;\">\n      <th></th>\n      <th>항명</th>\n      <th>호출부호</th>\n      <th>선명</th>\n      <th>입항횟수1</th>\n      <th>입항횟수2</th>\n      <th>구분</th>\n      <th>외내</th>\n      <th>입출</th>\n      <th>총톤수</th>\n      <th>국제톤수</th>\n      <th>...</th>\n      <th>차항지</th>\n      <th>전출항지</th>\n      <th>선박용도</th>\n      <th>승무원(한국인)</th>\n      <th>승무원(외국인)</th>\n      <th>승객</th>\n      <th>예선</th>\n      <th>도선</th>\n      <th>부선호출부호1</th>\n      <th>부선호출부호2</th>\n    </tr>\n  </thead>\n  <tbody>\n    <tr>\n      <th>0</th>\n      <td>울산</td>\n      <td>V7RW2</td>\n      <td>AFRICA GAS</td>\n      <td>2017</td>\n      <td>001</td>\n      <td>최초</td>\n      <td>외항</td>\n      <td>출항</td>\n      <td>25,098</td>\n      <td>25,098</td>\n      <td>...</td>\n      <td>NaN</td>\n      <td>NaN</td>\n      <td>신조선</td>\n      <td>NaN</td>\n      <td>21</td>\n      <td>2</td>\n      <td>N</td>\n      <td>N</td>\n      <td>NaN</td>\n      <td>NaN</td>\n    </tr>\n    <tr>\n      <th>1</th>\n      <td>울산</td>\n      <td>975652</td>\n      <td>97대광호</td>\n      <td>2015</td>\n      <td>001</td>\n      <td>최종</td>\n      <td>내항</td>\n      <td>출항</td>\n      <td>141</td>\n      <td>141</td>\n      <td>...</td>\n      <td>부산</td>\n      <td>부산</td>\n      <td>급유선</td>\n      <td>2</td>\n      <td>1</td>\n      <td>3</td>\n      <td>N</td>\n      <td>N</td>\n      <td>NaN</td>\n      <td>NaN</td>\n    </tr>\n    <tr>\n      <th>2</th>\n      <td>울산</td>\n      <td>978218</td>\n      <td>유림5호</td>\n      <td>2016</td>\n      <td>001</td>\n      <td>최종</td>\n      <td>내항</td>\n      <td>출항</td>\n      <td>190</td>\n      <td>190</td>\n      <td>...</td>\n      <td>울산</td>\n      <td>기타항</td>\n      <td>이.접안용 예선</td>\n      <td>5</td>\n      <td>NaN</td>\n      <td>NaN</td>\n      <td>N</td>\n      <td>N</td>\n      <td>NaN</td>\n      <td>NaN</td>\n    </tr>\n    <tr>\n      <th>3</th>\n      <td>울산</td>\n      <td>114432</td>\n      <td>31 신흥호</td>\n      <td>2016</td>\n      <td>006</td>\n      <td>최종</td>\n      <td>내항</td>\n      <td>출항</td>\n      <td>119</td>\n      <td>119</td>\n      <td>...</td>\n      <td>기타항</td>\n      <td>기타항</td>\n      <td>견인용예선</td>\n      <td>2</td>\n      <td>1</td>\n      <td>NaN</td>\n      <td>N</td>\n      <td>N</td>\n      <td>NaN</td>\n      <td>NaN</td>\n    </tr>\n    <tr>\n      <th>4</th>\n      <td>울산</td>\n      <td>698123</td>\n      <td>제5동방</td>\n      <td>2016</td>\n      <td>014</td>\n      <td>최종</td>\n      <td>내항</td>\n      <td>출항</td>\n      <td>44</td>\n      <td>44</td>\n      <td>...</td>\n      <td>기타항</td>\n      <td>기타항</td>\n      <td>견인용예선</td>\n      <td>1</td>\n      <td>1</td>\n      <td>NaN</td>\n      <td>N</td>\n      <td>N</td>\n      <td>NaN</td>\n      <td>NaN</td>\n    </tr>\n    <tr>\n      <th>...</th>\n      <td>...</td>\n      <td>...</td>\n      <td>...</td>\n      <td>...</td>\n      <td>...</td>\n      <td>...</td>\n      <td>...</td>\n      <td>...</td>\n      <td>...</td>\n      <td>...</td>\n      <td>...</td>\n      <td>...</td>\n      <td>...</td>\n      <td>...</td>\n      <td>...</td>\n      <td>...</td>\n      <td>...</td>\n      <td>...</td>\n      <td>...</td>\n      <td>...</td>\n      <td>...</td>\n    </tr>\n    <tr>\n      <th>214571</th>\n      <td>울산</td>\n      <td>9V9557</td>\n      <td>BOW DALIAN</td>\n      <td>2021</td>\n      <td>007</td>\n      <td>최종</td>\n      <td>외항</td>\n      <td>입항</td>\n      <td>6,583</td>\n      <td>6,583</td>\n      <td>...</td>\n      <td>SHANGHAI</td>\n      <td>여수</td>\n      <td>석유제품 운반선</td>\n      <td>NaN</td>\n      <td>21</td>\n      <td>NaN</td>\n      <td>Y</td>\n      <td>Y</td>\n      <td>NaN</td>\n      <td>NaN</td>\n    </tr>\n    <tr>\n      <th>214572</th>\n      <td>울산</td>\n      <td>5VEH4</td>\n      <td>XINGHE 9</td>\n      <td>2021</td>\n      <td>001</td>\n      <td>최종</td>\n      <td>외항</td>\n      <td>입항</td>\n      <td>1,495</td>\n      <td>1,495</td>\n      <td>...</td>\n      <td>ZHOUSHAN PT</td>\n      <td>부산</td>\n      <td>일반화물선</td>\n      <td>NaN</td>\n      <td>9</td>\n      <td>NaN</td>\n      <td>Y</td>\n      <td>Y</td>\n      <td>NaN</td>\n      <td>NaN</td>\n    </tr>\n    <tr>\n      <th>214573</th>\n      <td>울산</td>\n      <td>130093</td>\n      <td>삼원</td>\n      <td>2021</td>\n      <td>041</td>\n      <td>최종</td>\n      <td>내항</td>\n      <td>입항</td>\n      <td>699</td>\n      <td>0</td>\n      <td>...</td>\n      <td>기타항</td>\n      <td>기타항</td>\n      <td>석유제품 운반선</td>\n      <td>4</td>\n      <td>4</td>\n      <td>0</td>\n      <td>N</td>\n      <td>N</td>\n      <td>NaN</td>\n      <td>NaN</td>\n    </tr>\n    <tr>\n      <th>214574</th>\n      <td>울산</td>\n      <td>200013</td>\n      <td>유성</td>\n      <td>2021</td>\n      <td>074</td>\n      <td>최종</td>\n      <td>내항</td>\n      <td>입항</td>\n      <td>1,998</td>\n      <td>0</td>\n      <td>...</td>\n      <td>마산</td>\n      <td>마산</td>\n      <td>석유제품 운반선</td>\n      <td>7</td>\n      <td>5</td>\n      <td>0</td>\n      <td>Y</td>\n      <td>N</td>\n      <td>NaN</td>\n      <td>NaN</td>\n    </tr>\n    <tr>\n      <th>214575</th>\n      <td>울산</td>\n      <td>LACQ6</td>\n      <td>BOW GEMINI</td>\n      <td>2021</td>\n      <td>001</td>\n      <td>최종</td>\n      <td>외항</td>\n      <td>입항</td>\n      <td>26,364</td>\n      <td>26,364</td>\n      <td>...</td>\n      <td>AN PING</td>\n      <td>PANAMA, CIUDAD DE</td>\n      <td>석유제품 운반선</td>\n      <td>NaN</td>\n      <td>25</td>\n      <td>NaN</td>\n      <td>Y</td>\n      <td>Y</td>\n      <td>NaN</td>\n      <td>NaN</td>\n    </tr>\n  </tbody>\n</table>\n<p>214576 rows × 32 columns</p>\n</div>"
     },
     "metadata": {},
     "execution_count": 4
    }
   ],
   "source": [
    "SADS_data"
   ]
  },
  {
   "source": [
    "(2) 시설사용현황 데이터"
   ],
   "cell_type": "markdown",
   "metadata": {}
  },
  {
   "cell_type": "code",
   "execution_count": 5,
   "metadata": {},
   "outputs": [],
   "source": [
    "for i in range(2017, 2022):\n",
    "    for j in range(1, 13):\n",
    "        if(i== 2017 and j== 1):\n",
    "            FUPS_data = pd.read_csv('/home/ubuntu/MachineLearning/Data/FacilityUsePermitStatus/%d.FUPS/%d.%d.시설사용.csv'%(i, i, j))\n",
    "            FUPS_data = FUPS_data.drop([0,1,2],axis=0)\n",
    "            FUPS_data.columns = ['순번','호출부호','입항횟수1','입항횟수2','입항횟수3','신고톤수','선박명','선사/대리점1','선사/대리점2','신청시설1','신청시설2','신청시설3','신청일시1(FROM ~ TO)','신청일시2(FROM ~ TO)','지정시설1','지정시설2','지정시설3','지정일시1(FROM ~ TO)','지정일시2(FROM ~ TO)','사용목적명','예보일시','허가유무']\n",
    "        else:\n",
    "            if(i== 2021 and j==7):\n",
    "                break\n",
    "            FUPS_data1 = pd.read_csv('/home/ubuntu/MachineLearning/Data/FacilityUsePermitStatus/%d.FUPS/%d.%d.시설사용.csv'%(i, i, j))\n",
    "            FUPS_data1 = FUPS_data1.drop([0,1,2],axis=0)\n",
    "            FUPS_data1.columns = ['순번','호출부호','입항횟수1','입항횟수2','입항횟수3','신고톤수','선박명','선사/대리점1','선사/대리점2','신청시설1','신청시설2','신청시설3','신청일시1(FROM ~ TO)','신청일시2(FROM ~ TO)','지정시설1','지정시설2','지정시설3','지정일시1(FROM ~ TO)','지정일시2(FROM ~ TO)','사용목적명','예보일시','허가유무']\n",
    "            #print(f'{j}월 데이터: {len(data1)}')\n",
    "            FUPS_data = pd.concat([FUPS_data, FUPS_data1])\n",
    "            FUPS_data.reset_index(drop=True, inplace = True) "
   ]
  },
  {
   "source": [
    "호출부호_입항횟수1_입항횟수2_i"
   ],
   "cell_type": "markdown",
   "metadata": {}
  },
  {
   "cell_type": "code",
   "execution_count": 6,
   "metadata": {},
   "outputs": [
    {
     "output_type": "execute_result",
     "data": {
      "text/plain": [
       "          순번    호출부호 입항횟수1 입항횟수2 입항횟수3   신고톤수           선박명  선사/대리점1  \\\n",
       "0          1    D7BN  2016   019   001  8.581            우동  OST0212   \n",
       "1          2    D7BN  2016   019   002  8.581            우동  OST0212   \n",
       "2          3    D7BN  2016   019   003  8.581            우동  OST0212   \n",
       "3          4    D7BN  2016   019   004  8.581            우동  OST0212   \n",
       "4          5  075682  2017   001   001  5.946           NaN  YSK0018   \n",
       "...      ...     ...   ...   ...   ...    ...           ...      ...   \n",
       "223278  4145    D7RI  2021   003   001  6.843         라용 케미  YSZ2381   \n",
       "223279  4146   3EIT4  2021   001   001  4.301  MORNING HOPE  USC2025   \n",
       "223280  4147  200035  2021   029   001    497           우원호  BSZ3327   \n",
       "223281  4148  088238  2021   084   001    700           3동주  USK0074   \n",
       "223282  4149  HO5909  2021   016   001  1.433          켐 하나  BSK2514   \n",
       "\n",
       "          선사/대리점2 신청시설1  ...  신청일시1(FROM ~ TO)  신청일시2(FROM ~ TO) 지정시설1 지정시설2  \\\n",
       "0         우민해운(주)   WAE  ...  2016-12-28 06:15  2016-12-28 07:45   WAE    03   \n",
       "1         우민해운(주)   MBA  ...  2016-12-28 08:45  2016-12-29 01:45   MBA    01   \n",
       "2         우민해운(주)   WAE  ...  2016-12-29 06:45  2016-12-30 06:40   WAE    01   \n",
       "3         우민해운(주)   MDS  ...  2016-12-30 07:45  2016-12-31 19:30   MDS    01   \n",
       "4         한선해운(주)   MBR  ...  2017-01-01 23:00  2017-01-02 12:00   MBR    01   \n",
       "...           ...   ...  ...               ...               ...   ...   ...   \n",
       "223278  선우탱커 주식회사   WAB  ...  2021-06-27 14:35  2021-06-27 21:05   WAB    02   \n",
       "223279   제이엠쉬핑(주)   WAE  ...  2021-06-25 10:30  2021-06-28 12:30   NaN   NaN   \n",
       "223280  우원마린 주식회사   MLJ  ...  2021-07-03 06:00  2021-07-03 20:00   NaN   NaN   \n",
       "223281    영우해운(주)   MBU  ...  2021-07-01 07:00  2021-07-01 16:00   NaN   NaN   \n",
       "223282    하나마린(주)   MB4  ...  2021-06-29 23:05  2021-06-30 08:10   NaN   NaN   \n",
       "\n",
       "              지정시설3  지정일시1(FROM ~ TO)  지정일시2(FROM ~ TO) 사용목적명        예보일시  \\\n",
       "0            정박지-E3  2016-12-28 06:15  2016-12-28 07:45  접안대기  2017-01-01   \n",
       "1              양곡부두  2016-12-28 08:45  2016-12-29 01:45    양하  2017-01-01   \n",
       "2            정박지-E1  2016-12-29 06:45  2016-12-30 06:40  접안대기  2017-01-01   \n",
       "3          S-OIL1부두  2016-12-30 07:45  2016-12-31 19:30    적하  2017-01-01   \n",
       "4             UTK부두  2017-01-02 04:25  2017-01-02 18:05    양하  2017-01-01   \n",
       "...             ...               ...               ...   ...         ...   \n",
       "223278  벙커링전용정박지 E2  2021-06-27 14:35  2021-06-27 21:05  접안대기  2021-06-30   \n",
       "223279          NaN               NaN               NaN  접안대기  2021-06-30   \n",
       "223280          NaN               NaN               NaN  접안대기  2021-06-30   \n",
       "223281          NaN               NaN               NaN    적하  2021-06-30   \n",
       "223282          NaN               NaN               NaN    양하  2021-06-30   \n",
       "\n",
       "        허가유무  \n",
       "0       허가완료  \n",
       "1       허가완료  \n",
       "2       허가완료  \n",
       "3       허가완료  \n",
       "4       허가완료  \n",
       "...      ...  \n",
       "223278  허가완료  \n",
       "223279   미허가  \n",
       "223280   미허가  \n",
       "223281   미허가  \n",
       "223282   미허가  \n",
       "\n",
       "[223283 rows x 22 columns]"
      ],
      "text/html": "<div>\n<style scoped>\n    .dataframe tbody tr th:only-of-type {\n        vertical-align: middle;\n    }\n\n    .dataframe tbody tr th {\n        vertical-align: top;\n    }\n\n    .dataframe thead th {\n        text-align: right;\n    }\n</style>\n<table border=\"1\" class=\"dataframe\">\n  <thead>\n    <tr style=\"text-align: right;\">\n      <th></th>\n      <th>순번</th>\n      <th>호출부호</th>\n      <th>입항횟수1</th>\n      <th>입항횟수2</th>\n      <th>입항횟수3</th>\n      <th>신고톤수</th>\n      <th>선박명</th>\n      <th>선사/대리점1</th>\n      <th>선사/대리점2</th>\n      <th>신청시설1</th>\n      <th>...</th>\n      <th>신청일시1(FROM ~ TO)</th>\n      <th>신청일시2(FROM ~ TO)</th>\n      <th>지정시설1</th>\n      <th>지정시설2</th>\n      <th>지정시설3</th>\n      <th>지정일시1(FROM ~ TO)</th>\n      <th>지정일시2(FROM ~ TO)</th>\n      <th>사용목적명</th>\n      <th>예보일시</th>\n      <th>허가유무</th>\n    </tr>\n  </thead>\n  <tbody>\n    <tr>\n      <th>0</th>\n      <td>1</td>\n      <td>D7BN</td>\n      <td>2016</td>\n      <td>019</td>\n      <td>001</td>\n      <td>8.581</td>\n      <td>우동</td>\n      <td>OST0212</td>\n      <td>우민해운(주)</td>\n      <td>WAE</td>\n      <td>...</td>\n      <td>2016-12-28 06:15</td>\n      <td>2016-12-28 07:45</td>\n      <td>WAE</td>\n      <td>03</td>\n      <td>정박지-E3</td>\n      <td>2016-12-28 06:15</td>\n      <td>2016-12-28 07:45</td>\n      <td>접안대기</td>\n      <td>2017-01-01</td>\n      <td>허가완료</td>\n    </tr>\n    <tr>\n      <th>1</th>\n      <td>2</td>\n      <td>D7BN</td>\n      <td>2016</td>\n      <td>019</td>\n      <td>002</td>\n      <td>8.581</td>\n      <td>우동</td>\n      <td>OST0212</td>\n      <td>우민해운(주)</td>\n      <td>MBA</td>\n      <td>...</td>\n      <td>2016-12-28 08:45</td>\n      <td>2016-12-29 01:45</td>\n      <td>MBA</td>\n      <td>01</td>\n      <td>양곡부두</td>\n      <td>2016-12-28 08:45</td>\n      <td>2016-12-29 01:45</td>\n      <td>양하</td>\n      <td>2017-01-01</td>\n      <td>허가완료</td>\n    </tr>\n    <tr>\n      <th>2</th>\n      <td>3</td>\n      <td>D7BN</td>\n      <td>2016</td>\n      <td>019</td>\n      <td>003</td>\n      <td>8.581</td>\n      <td>우동</td>\n      <td>OST0212</td>\n      <td>우민해운(주)</td>\n      <td>WAE</td>\n      <td>...</td>\n      <td>2016-12-29 06:45</td>\n      <td>2016-12-30 06:40</td>\n      <td>WAE</td>\n      <td>01</td>\n      <td>정박지-E1</td>\n      <td>2016-12-29 06:45</td>\n      <td>2016-12-30 06:40</td>\n      <td>접안대기</td>\n      <td>2017-01-01</td>\n      <td>허가완료</td>\n    </tr>\n    <tr>\n      <th>3</th>\n      <td>4</td>\n      <td>D7BN</td>\n      <td>2016</td>\n      <td>019</td>\n      <td>004</td>\n      <td>8.581</td>\n      <td>우동</td>\n      <td>OST0212</td>\n      <td>우민해운(주)</td>\n      <td>MDS</td>\n      <td>...</td>\n      <td>2016-12-30 07:45</td>\n      <td>2016-12-31 19:30</td>\n      <td>MDS</td>\n      <td>01</td>\n      <td>S-OIL1부두</td>\n      <td>2016-12-30 07:45</td>\n      <td>2016-12-31 19:30</td>\n      <td>적하</td>\n      <td>2017-01-01</td>\n      <td>허가완료</td>\n    </tr>\n    <tr>\n      <th>4</th>\n      <td>5</td>\n      <td>075682</td>\n      <td>2017</td>\n      <td>001</td>\n      <td>001</td>\n      <td>5.946</td>\n      <td>NaN</td>\n      <td>YSK0018</td>\n      <td>한선해운(주)</td>\n      <td>MBR</td>\n      <td>...</td>\n      <td>2017-01-01 23:00</td>\n      <td>2017-01-02 12:00</td>\n      <td>MBR</td>\n      <td>01</td>\n      <td>UTK부두</td>\n      <td>2017-01-02 04:25</td>\n      <td>2017-01-02 18:05</td>\n      <td>양하</td>\n      <td>2017-01-01</td>\n      <td>허가완료</td>\n    </tr>\n    <tr>\n      <th>...</th>\n      <td>...</td>\n      <td>...</td>\n      <td>...</td>\n      <td>...</td>\n      <td>...</td>\n      <td>...</td>\n      <td>...</td>\n      <td>...</td>\n      <td>...</td>\n      <td>...</td>\n      <td>...</td>\n      <td>...</td>\n      <td>...</td>\n      <td>...</td>\n      <td>...</td>\n      <td>...</td>\n      <td>...</td>\n      <td>...</td>\n      <td>...</td>\n      <td>...</td>\n      <td>...</td>\n    </tr>\n    <tr>\n      <th>223278</th>\n      <td>4145</td>\n      <td>D7RI</td>\n      <td>2021</td>\n      <td>003</td>\n      <td>001</td>\n      <td>6.843</td>\n      <td>라용 케미</td>\n      <td>YSZ2381</td>\n      <td>선우탱커 주식회사</td>\n      <td>WAB</td>\n      <td>...</td>\n      <td>2021-06-27 14:35</td>\n      <td>2021-06-27 21:05</td>\n      <td>WAB</td>\n      <td>02</td>\n      <td>벙커링전용정박지 E2</td>\n      <td>2021-06-27 14:35</td>\n      <td>2021-06-27 21:05</td>\n      <td>접안대기</td>\n      <td>2021-06-30</td>\n      <td>허가완료</td>\n    </tr>\n    <tr>\n      <th>223279</th>\n      <td>4146</td>\n      <td>3EIT4</td>\n      <td>2021</td>\n      <td>001</td>\n      <td>001</td>\n      <td>4.301</td>\n      <td>MORNING HOPE</td>\n      <td>USC2025</td>\n      <td>제이엠쉬핑(주)</td>\n      <td>WAE</td>\n      <td>...</td>\n      <td>2021-06-25 10:30</td>\n      <td>2021-06-28 12:30</td>\n      <td>NaN</td>\n      <td>NaN</td>\n      <td>NaN</td>\n      <td>NaN</td>\n      <td>NaN</td>\n      <td>접안대기</td>\n      <td>2021-06-30</td>\n      <td>미허가</td>\n    </tr>\n    <tr>\n      <th>223280</th>\n      <td>4147</td>\n      <td>200035</td>\n      <td>2021</td>\n      <td>029</td>\n      <td>001</td>\n      <td>497</td>\n      <td>우원호</td>\n      <td>BSZ3327</td>\n      <td>우원마린 주식회사</td>\n      <td>MLJ</td>\n      <td>...</td>\n      <td>2021-07-03 06:00</td>\n      <td>2021-07-03 20:00</td>\n      <td>NaN</td>\n      <td>NaN</td>\n      <td>NaN</td>\n      <td>NaN</td>\n      <td>NaN</td>\n      <td>접안대기</td>\n      <td>2021-06-30</td>\n      <td>미허가</td>\n    </tr>\n    <tr>\n      <th>223281</th>\n      <td>4148</td>\n      <td>088238</td>\n      <td>2021</td>\n      <td>084</td>\n      <td>001</td>\n      <td>700</td>\n      <td>3동주</td>\n      <td>USK0074</td>\n      <td>영우해운(주)</td>\n      <td>MBU</td>\n      <td>...</td>\n      <td>2021-07-01 07:00</td>\n      <td>2021-07-01 16:00</td>\n      <td>NaN</td>\n      <td>NaN</td>\n      <td>NaN</td>\n      <td>NaN</td>\n      <td>NaN</td>\n      <td>적하</td>\n      <td>2021-06-30</td>\n      <td>미허가</td>\n    </tr>\n    <tr>\n      <th>223282</th>\n      <td>4149</td>\n      <td>HO5909</td>\n      <td>2021</td>\n      <td>016</td>\n      <td>001</td>\n      <td>1.433</td>\n      <td>켐 하나</td>\n      <td>BSK2514</td>\n      <td>하나마린(주)</td>\n      <td>MB4</td>\n      <td>...</td>\n      <td>2021-06-29 23:05</td>\n      <td>2021-06-30 08:10</td>\n      <td>NaN</td>\n      <td>NaN</td>\n      <td>NaN</td>\n      <td>NaN</td>\n      <td>NaN</td>\n      <td>양하</td>\n      <td>2021-06-30</td>\n      <td>미허가</td>\n    </tr>\n  </tbody>\n</table>\n<p>223283 rows × 22 columns</p>\n</div>"
     },
     "metadata": {},
     "execution_count": 6
    }
   ],
   "source": [
    "FUPS_data"
   ]
  },
  {
   "cell_type": "code",
   "execution_count": 7,
   "metadata": {},
   "outputs": [
    {
     "output_type": "stream",
     "name": "stdout",
     "text": [
      "<class 'pandas.core.frame.DataFrame'>\nRangeIndex: 214576 entries, 0 to 214575\nData columns (total 32 columns):\n #   Column    Non-Null Count   Dtype \n---  ------    --------------   ----- \n 0   항명        214576 non-null  object\n 1   호출부호      214576 non-null  object\n 2   선명        214576 non-null  object\n 3   입항횟수1     214576 non-null  object\n 4   입항횟수2     214576 non-null  object\n 5   구분        214576 non-null  object\n 6   외내        214562 non-null  object\n 7   입출        214576 non-null  object\n 8   총톤수       214383 non-null  object\n 9   국제톤수      214383 non-null  object\n 10  징수톤수      214385 non-null  object\n 11  입항일시      214576 non-null  object\n 12  출항일시      214562 non-null  object\n 13  CIO수속일시   120065 non-null  object\n 14  수리일시      214326 non-null  object\n 15  항해구분      214409 non-null  object\n 16  MRN 번호    104480 non-null  object\n 17  국적1       214378 non-null  object\n 18  국적2       214378 non-null  object\n 19  계선장소1     214496 non-null  object\n 20  계선장소2     214496 non-null  object\n 21  계선장소3     214496 non-null  object\n 22  차항지       213950 non-null  object\n 23  전출항지      213952 non-null  object\n 24  선박용도      214426 non-null  object\n 25  승무원(한국인)  163248 non-null  object\n 26  승무원(외국인)  210908 non-null  object\n 27  승객        78732 non-null   object\n 28  예선        205525 non-null  object\n 29  도선        214375 non-null  object\n 30  부선호출부호1   14891 non-null   object\n 31  부선호출부호2   19 non-null      object\ndtypes: object(32)\nmemory usage: 52.4+ MB\n<class 'pandas.core.frame.DataFrame'>\nRangeIndex: 223283 entries, 0 to 223282\nData columns (total 22 columns):\n #   Column            Non-Null Count   Dtype \n---  ------            --------------   ----- \n 0   순번                223283 non-null  object\n 1   호출부호              223283 non-null  object\n 2   입항횟수1             223283 non-null  object\n 3   입항횟수2             223283 non-null  object\n 4   입항횟수3             223283 non-null  object\n 5   신고톤수              223283 non-null  object\n 6   선박명               205266 non-null  object\n 7   선사/대리점1           223283 non-null  object\n 8   선사/대리점2           223283 non-null  object\n 9   신청시설1             223283 non-null  object\n 10  신청시설2             223283 non-null  object\n 11  신청시설3             223283 non-null  object\n 12  신청일시1(FROM ~ TO)  223283 non-null  object\n 13  신청일시2(FROM ~ TO)  223283 non-null  object\n 14  지정시설1             222720 non-null  object\n 15  지정시설2             222720 non-null  object\n 16  지정시설3             222720 non-null  object\n 17  지정일시1(FROM ~ TO)  222720 non-null  object\n 18  지정일시2(FROM ~ TO)  222720 non-null  object\n 19  사용목적명             211676 non-null  object\n 20  예보일시              223283 non-null  object\n 21  허가유무              223283 non-null  object\ndtypes: object(22)\nmemory usage: 37.5+ MB\n"
     ]
    }
   ],
   "source": [
    "SADS_data.info()\n",
    "FUPS_data.info()"
   ]
  },
  {
   "cell_type": "code",
   "execution_count": 8,
   "metadata": {},
   "outputs": [
    {
     "output_type": "stream",
     "name": "stdout",
     "text": [
      "SADS(선박입출항) :  항명               0\n호출부호             0\n선명               0\n입항횟수1            0\n입항횟수2            0\n구분               0\n외내              14\n입출               0\n총톤수            193\n국제톤수           193\n징수톤수           191\n입항일시             0\n출항일시            14\nCIO수속일시      94511\n수리일시           250\n항해구분           167\nMRN 번호      110096\n국적1            198\n국적2            198\n계선장소1           80\n계선장소2           80\n계선장소3           80\n차항지            626\n전출항지           624\n선박용도           150\n승무원(한국인)     51328\n승무원(외국인)      3668\n승객          135844\n예선            9051\n도선             201\n부선호출부호1     199685\n부선호출부호2     214557\ndtype: int64\n----------------------------\nFUPS(시설사용현황) :  순번                      0\n호출부호                    0\n입항횟수1                   0\n입항횟수2                   0\n입항횟수3                   0\n신고톤수                    0\n선박명                 18017\n선사/대리점1                 0\n선사/대리점2                 0\n신청시설1                   0\n신청시설2                   0\n신청시설3                   0\n신청일시1(FROM ~ TO)        0\n신청일시2(FROM ~ TO)        0\n지정시설1                 563\n지정시설2                 563\n지정시설3                 563\n지정일시1(FROM ~ TO)      563\n지정일시2(FROM ~ TO)      563\n사용목적명               11607\n예보일시                    0\n허가유무                    0\ndtype: int64\n"
     ]
    }
   ],
   "source": [
    "# 결측치 확인\n",
    "print('SADS(선박입출항) : ', SADS_data.isnull().sum())\n",
    "print('----------------------------')\n",
    "print('FUPS(시설사용현황) : ', FUPS_data.isnull().sum())"
   ]
  },
  {
   "cell_type": "code",
   "execution_count": 9,
   "metadata": {},
   "outputs": [
    {
     "output_type": "execute_result",
     "data": {
      "text/plain": [
       "          호출부호          선명 입항횟수1 입항횟수2  구분  외내  입출     총톤수              입항일시  \\\n",
       "0        V7RW2  AFRICA GAS  2017   001  최초  외항  출항  25,098  1950-01-01 00:00   \n",
       "1       975652       97대광호  2015   001  최종  내항  출항     141  2015-02-06 12:35   \n",
       "2       978218        유림5호  2016   001  최종  내항  출항     190  2016-03-29 09:00   \n",
       "3       114432      31 신흥호  2016   006  최종  내항  출항     119  2016-09-09 12:50   \n",
       "4       698123        제5동방  2016   014  최종  내항  출항      44  2016-10-18 00:00   \n",
       "...        ...         ...   ...   ...  ..  ..  ..     ...               ...   \n",
       "214571  9V9557  BOW DALIAN  2021   007  최종  외항  입항   6,583  2021-06-30 22:25   \n",
       "214572   5VEH4    XINGHE 9  2021   001  최종  외항  입항   1,495  2021-06-30 22:50   \n",
       "214573  130093          삼원  2021   041  최종  내항  입항     699  2021-06-30 23:05   \n",
       "214574  200013          유성  2021   074  최종  내항  입항   1,998  2021-06-30 23:05   \n",
       "214575   LACQ6  BOW GEMINI  2021   001  최종  외항  입항  26,364  2021-06-30 23:15   \n",
       "\n",
       "                    출항일시  ... 계선장소2        계선장소3          차항지  \\\n",
       "0       2017-01-18 20:00  ...    05   현대미포의장안벽05          NaN   \n",
       "1       2017-01-11 03:50  ...    01        장생포호안           부산   \n",
       "2       2017-01-24 19:33  ...    01         매암부두           울산   \n",
       "3       2017-01-12 11:20  ...    01        용연물양장          기타항   \n",
       "4       2017-01-15 15:10  ...    03     현중해양의장안벽          기타항   \n",
       "...                  ...  ...   ...          ...          ...   \n",
       "214571  2021-07-01 16:54  ...    03       6부두 03     SHANGHAI   \n",
       "214572  2021-07-01 15:20  ...    01       정박지-E1  ZHOUSHAN PT   \n",
       "214573  2021-07-01 05:25  ...    12  현대오일터미널신항부두          기타항   \n",
       "214574  2021-07-01 06:45  ...    01     SK2부두 01           마산   \n",
       "214575  2021-07-04 07:00  ...    03       정박지-E3      AN PING   \n",
       "\n",
       "                     전출항지      선박용도 승무원(한국인) 승무원(외국인)   승객 예선 도선  \n",
       "0                     NaN       신조선      NaN       21    2  N  N  \n",
       "1                      부산       급유선        2        1    3  N  N  \n",
       "2                     기타항  이.접안용 예선        5      NaN  NaN  N  N  \n",
       "3                     기타항     견인용예선        2        1  NaN  N  N  \n",
       "4                     기타항     견인용예선        1        1  NaN  N  N  \n",
       "...                   ...       ...      ...      ...  ... .. ..  \n",
       "214571                 여수  석유제품 운반선      NaN       21  NaN  Y  Y  \n",
       "214572                 부산     일반화물선      NaN        9  NaN  Y  Y  \n",
       "214573                기타항  석유제품 운반선        4        4    0  N  N  \n",
       "214574                 마산  석유제품 운반선        7        5    0  Y  N  \n",
       "214575  PANAMA, CIUDAD DE  석유제품 운반선      NaN       25  NaN  Y  Y  \n",
       "\n",
       "[214576 rows x 24 columns]"
      ],
      "text/html": "<div>\n<style scoped>\n    .dataframe tbody tr th:only-of-type {\n        vertical-align: middle;\n    }\n\n    .dataframe tbody tr th {\n        vertical-align: top;\n    }\n\n    .dataframe thead th {\n        text-align: right;\n    }\n</style>\n<table border=\"1\" class=\"dataframe\">\n  <thead>\n    <tr style=\"text-align: right;\">\n      <th></th>\n      <th>호출부호</th>\n      <th>선명</th>\n      <th>입항횟수1</th>\n      <th>입항횟수2</th>\n      <th>구분</th>\n      <th>외내</th>\n      <th>입출</th>\n      <th>총톤수</th>\n      <th>입항일시</th>\n      <th>출항일시</th>\n      <th>...</th>\n      <th>계선장소2</th>\n      <th>계선장소3</th>\n      <th>차항지</th>\n      <th>전출항지</th>\n      <th>선박용도</th>\n      <th>승무원(한국인)</th>\n      <th>승무원(외국인)</th>\n      <th>승객</th>\n      <th>예선</th>\n      <th>도선</th>\n    </tr>\n  </thead>\n  <tbody>\n    <tr>\n      <th>0</th>\n      <td>V7RW2</td>\n      <td>AFRICA GAS</td>\n      <td>2017</td>\n      <td>001</td>\n      <td>최초</td>\n      <td>외항</td>\n      <td>출항</td>\n      <td>25,098</td>\n      <td>1950-01-01 00:00</td>\n      <td>2017-01-18 20:00</td>\n      <td>...</td>\n      <td>05</td>\n      <td>현대미포의장안벽05</td>\n      <td>NaN</td>\n      <td>NaN</td>\n      <td>신조선</td>\n      <td>NaN</td>\n      <td>21</td>\n      <td>2</td>\n      <td>N</td>\n      <td>N</td>\n    </tr>\n    <tr>\n      <th>1</th>\n      <td>975652</td>\n      <td>97대광호</td>\n      <td>2015</td>\n      <td>001</td>\n      <td>최종</td>\n      <td>내항</td>\n      <td>출항</td>\n      <td>141</td>\n      <td>2015-02-06 12:35</td>\n      <td>2017-01-11 03:50</td>\n      <td>...</td>\n      <td>01</td>\n      <td>장생포호안</td>\n      <td>부산</td>\n      <td>부산</td>\n      <td>급유선</td>\n      <td>2</td>\n      <td>1</td>\n      <td>3</td>\n      <td>N</td>\n      <td>N</td>\n    </tr>\n    <tr>\n      <th>2</th>\n      <td>978218</td>\n      <td>유림5호</td>\n      <td>2016</td>\n      <td>001</td>\n      <td>최종</td>\n      <td>내항</td>\n      <td>출항</td>\n      <td>190</td>\n      <td>2016-03-29 09:00</td>\n      <td>2017-01-24 19:33</td>\n      <td>...</td>\n      <td>01</td>\n      <td>매암부두</td>\n      <td>울산</td>\n      <td>기타항</td>\n      <td>이.접안용 예선</td>\n      <td>5</td>\n      <td>NaN</td>\n      <td>NaN</td>\n      <td>N</td>\n      <td>N</td>\n    </tr>\n    <tr>\n      <th>3</th>\n      <td>114432</td>\n      <td>31 신흥호</td>\n      <td>2016</td>\n      <td>006</td>\n      <td>최종</td>\n      <td>내항</td>\n      <td>출항</td>\n      <td>119</td>\n      <td>2016-09-09 12:50</td>\n      <td>2017-01-12 11:20</td>\n      <td>...</td>\n      <td>01</td>\n      <td>용연물양장</td>\n      <td>기타항</td>\n      <td>기타항</td>\n      <td>견인용예선</td>\n      <td>2</td>\n      <td>1</td>\n      <td>NaN</td>\n      <td>N</td>\n      <td>N</td>\n    </tr>\n    <tr>\n      <th>4</th>\n      <td>698123</td>\n      <td>제5동방</td>\n      <td>2016</td>\n      <td>014</td>\n      <td>최종</td>\n      <td>내항</td>\n      <td>출항</td>\n      <td>44</td>\n      <td>2016-10-18 00:00</td>\n      <td>2017-01-15 15:10</td>\n      <td>...</td>\n      <td>03</td>\n      <td>현중해양의장안벽</td>\n      <td>기타항</td>\n      <td>기타항</td>\n      <td>견인용예선</td>\n      <td>1</td>\n      <td>1</td>\n      <td>NaN</td>\n      <td>N</td>\n      <td>N</td>\n    </tr>\n    <tr>\n      <th>...</th>\n      <td>...</td>\n      <td>...</td>\n      <td>...</td>\n      <td>...</td>\n      <td>...</td>\n      <td>...</td>\n      <td>...</td>\n      <td>...</td>\n      <td>...</td>\n      <td>...</td>\n      <td>...</td>\n      <td>...</td>\n      <td>...</td>\n      <td>...</td>\n      <td>...</td>\n      <td>...</td>\n      <td>...</td>\n      <td>...</td>\n      <td>...</td>\n      <td>...</td>\n      <td>...</td>\n    </tr>\n    <tr>\n      <th>214571</th>\n      <td>9V9557</td>\n      <td>BOW DALIAN</td>\n      <td>2021</td>\n      <td>007</td>\n      <td>최종</td>\n      <td>외항</td>\n      <td>입항</td>\n      <td>6,583</td>\n      <td>2021-06-30 22:25</td>\n      <td>2021-07-01 16:54</td>\n      <td>...</td>\n      <td>03</td>\n      <td>6부두 03</td>\n      <td>SHANGHAI</td>\n      <td>여수</td>\n      <td>석유제품 운반선</td>\n      <td>NaN</td>\n      <td>21</td>\n      <td>NaN</td>\n      <td>Y</td>\n      <td>Y</td>\n    </tr>\n    <tr>\n      <th>214572</th>\n      <td>5VEH4</td>\n      <td>XINGHE 9</td>\n      <td>2021</td>\n      <td>001</td>\n      <td>최종</td>\n      <td>외항</td>\n      <td>입항</td>\n      <td>1,495</td>\n      <td>2021-06-30 22:50</td>\n      <td>2021-07-01 15:20</td>\n      <td>...</td>\n      <td>01</td>\n      <td>정박지-E1</td>\n      <td>ZHOUSHAN PT</td>\n      <td>부산</td>\n      <td>일반화물선</td>\n      <td>NaN</td>\n      <td>9</td>\n      <td>NaN</td>\n      <td>Y</td>\n      <td>Y</td>\n    </tr>\n    <tr>\n      <th>214573</th>\n      <td>130093</td>\n      <td>삼원</td>\n      <td>2021</td>\n      <td>041</td>\n      <td>최종</td>\n      <td>내항</td>\n      <td>입항</td>\n      <td>699</td>\n      <td>2021-06-30 23:05</td>\n      <td>2021-07-01 05:25</td>\n      <td>...</td>\n      <td>12</td>\n      <td>현대오일터미널신항부두</td>\n      <td>기타항</td>\n      <td>기타항</td>\n      <td>석유제품 운반선</td>\n      <td>4</td>\n      <td>4</td>\n      <td>0</td>\n      <td>N</td>\n      <td>N</td>\n    </tr>\n    <tr>\n      <th>214574</th>\n      <td>200013</td>\n      <td>유성</td>\n      <td>2021</td>\n      <td>074</td>\n      <td>최종</td>\n      <td>내항</td>\n      <td>입항</td>\n      <td>1,998</td>\n      <td>2021-06-30 23:05</td>\n      <td>2021-07-01 06:45</td>\n      <td>...</td>\n      <td>01</td>\n      <td>SK2부두 01</td>\n      <td>마산</td>\n      <td>마산</td>\n      <td>석유제품 운반선</td>\n      <td>7</td>\n      <td>5</td>\n      <td>0</td>\n      <td>Y</td>\n      <td>N</td>\n    </tr>\n    <tr>\n      <th>214575</th>\n      <td>LACQ6</td>\n      <td>BOW GEMINI</td>\n      <td>2021</td>\n      <td>001</td>\n      <td>최종</td>\n      <td>외항</td>\n      <td>입항</td>\n      <td>26,364</td>\n      <td>2021-06-30 23:15</td>\n      <td>2021-07-04 07:00</td>\n      <td>...</td>\n      <td>03</td>\n      <td>정박지-E3</td>\n      <td>AN PING</td>\n      <td>PANAMA, CIUDAD DE</td>\n      <td>석유제품 운반선</td>\n      <td>NaN</td>\n      <td>25</td>\n      <td>NaN</td>\n      <td>Y</td>\n      <td>Y</td>\n    </tr>\n  </tbody>\n</table>\n<p>214576 rows × 24 columns</p>\n</div>"
     },
     "metadata": {},
     "execution_count": 9
    }
   ],
   "source": [
    "# '부선호출부호1', '부선호출부호2', 'CIO수속일시', 'MRN 번호' 삭제\n",
    "cols = ['부선호출부호1', '부선호출부호2', 'CIO수속일시', 'MRN 번호', '항명', '국제톤수', '징수톤수', '국적2']\n",
    "SADS_data.drop(labels=cols, axis = \"columns\", inplace = True)\n",
    "SADS_data"
   ]
  },
  {
   "cell_type": "code",
   "execution_count": 10,
   "metadata": {},
   "outputs": [
    {
     "output_type": "execute_result",
     "data": {
      "text/plain": [
       "       입항횟수2  구분  외내  입출  총톤수              입항일시              출항일시\n",
       "1        001  최종  내항  출항  141  2015-02-06 12:35  2017-01-11 03:50\n",
       "2557     001  최종  내항  입항  141  2017-01-18 17:50  2018-05-04 04:40\n",
       "63764    001  최종  내항  출항  141  2017-01-18 17:50  2018-05-04 04:40\n",
       "65398    001  최초  내항  입항  141  2018-05-12 15:30  2019-05-12 15:30\n",
       "111024   001  최초  내항  출항  141  2018-05-12 15:30  2019-05-12 15:30"
      ],
      "text/html": "<div>\n<style scoped>\n    .dataframe tbody tr th:only-of-type {\n        vertical-align: middle;\n    }\n\n    .dataframe tbody tr th {\n        vertical-align: top;\n    }\n\n    .dataframe thead th {\n        text-align: right;\n    }\n</style>\n<table border=\"1\" class=\"dataframe\">\n  <thead>\n    <tr style=\"text-align: right;\">\n      <th></th>\n      <th>입항횟수2</th>\n      <th>구분</th>\n      <th>외내</th>\n      <th>입출</th>\n      <th>총톤수</th>\n      <th>입항일시</th>\n      <th>출항일시</th>\n    </tr>\n  </thead>\n  <tbody>\n    <tr>\n      <th>1</th>\n      <td>001</td>\n      <td>최종</td>\n      <td>내항</td>\n      <td>출항</td>\n      <td>141</td>\n      <td>2015-02-06 12:35</td>\n      <td>2017-01-11 03:50</td>\n    </tr>\n    <tr>\n      <th>2557</th>\n      <td>001</td>\n      <td>최종</td>\n      <td>내항</td>\n      <td>입항</td>\n      <td>141</td>\n      <td>2017-01-18 17:50</td>\n      <td>2018-05-04 04:40</td>\n    </tr>\n    <tr>\n      <th>63764</th>\n      <td>001</td>\n      <td>최종</td>\n      <td>내항</td>\n      <td>출항</td>\n      <td>141</td>\n      <td>2017-01-18 17:50</td>\n      <td>2018-05-04 04:40</td>\n    </tr>\n    <tr>\n      <th>65398</th>\n      <td>001</td>\n      <td>최초</td>\n      <td>내항</td>\n      <td>입항</td>\n      <td>141</td>\n      <td>2018-05-12 15:30</td>\n      <td>2019-05-12 15:30</td>\n    </tr>\n    <tr>\n      <th>111024</th>\n      <td>001</td>\n      <td>최초</td>\n      <td>내항</td>\n      <td>출항</td>\n      <td>141</td>\n      <td>2018-05-12 15:30</td>\n      <td>2019-05-12 15:30</td>\n    </tr>\n  </tbody>\n</table>\n</div>"
     },
     "metadata": {},
     "execution_count": 10
    }
   ],
   "source": [
    "SADS_data.loc[SADS_data['호출부호']=='975652', '입항횟수2':'출항일시']"
   ]
  },
  {
   "cell_type": "code",
   "execution_count": 11,
   "metadata": {},
   "outputs": [
    {
     "output_type": "stream",
     "name": "stdout",
     "text": [
      "총톤수값이 null인 선박수: 14\n"
     ]
    }
   ],
   "source": [
    "#톤수 데이터 정리\n",
    "SADS_data['총톤수'] = SADS_data['총톤수'].str.replace(\",\", \"\")\n",
    "SADS_data['총톤수'].astype(str).astype(float)\n",
    "\n",
    "#총톤수가 null인 선박 63개중 한개빼고 국제톤수와 징수톤수도 null이었음 -> 총톤수가 null인 호출부호를 보고 총톤수를 찾아서 평균값을 넣어준다.\n",
    "flg_is_null = SADS_data['총톤수'].isnull()\n",
    "\n",
    "for trg in list(SADS_data.loc[flg_is_null, '호출부호'].unique()):\n",
    "    weight = SADS_data.loc[(~flg_is_null) & (SADS_data['호출부호'] == trg), '총톤수'].mean()\n",
    "    SADS_data['총톤수'].loc[(flg_is_null) & (SADS_data['호출부호'] == trg)] = weight\n",
    "\n",
    "print('총톤수값이 null인 선박수:', SADS_data['총톤수'].isnull().sum())"
   ]
  },
  {
   "cell_type": "code",
   "execution_count": 12,
   "metadata": {},
   "outputs": [
    {
     "output_type": "execute_result",
     "data": {
      "text/plain": [
       "          호출부호          선명 입항횟수1 입항횟수2  구분  외내  입출    총톤수              입항일시  \\\n",
       "0        V7RW2  AFRICA GAS  2017   001  최초  외항  출항  25098  1950-01-01 00:00   \n",
       "1       975652       97대광호  2015   001  최종  내항  출항    141  2015-02-06 12:35   \n",
       "2       978218        유림5호  2016   001  최종  내항  출항    190  2016-03-29 09:00   \n",
       "3       114432      31 신흥호  2016   006  최종  내항  출항    119  2016-09-09 12:50   \n",
       "4       698123        제5동방  2016   014  최종  내항  출항     44  2016-10-18 00:00   \n",
       "...        ...         ...   ...   ...  ..  ..  ..    ...               ...   \n",
       "214571  9V9557  BOW DALIAN  2021   007  최종  외항  입항   6583  2021-06-30 22:25   \n",
       "214572   5VEH4    XINGHE 9  2021   001  최종  외항  입항   1495  2021-06-30 22:50   \n",
       "214573  130093          삼원  2021   041  최종  내항  입항    699  2021-06-30 23:05   \n",
       "214574  200013          유성  2021   074  최종  내항  입항   1998  2021-06-30 23:05   \n",
       "214575   LACQ6  BOW GEMINI  2021   001  최종  외항  입항  26364  2021-06-30 23:15   \n",
       "\n",
       "                    출항일시  ... 계선장소2        계선장소3          차항지  \\\n",
       "0       2017-01-18 20:00  ...    05   현대미포의장안벽05          NaN   \n",
       "1       2017-01-11 03:50  ...    01        장생포호안           부산   \n",
       "2       2017-01-24 19:33  ...    01         매암부두           울산   \n",
       "3       2017-01-12 11:20  ...    01        용연물양장          기타항   \n",
       "4       2017-01-15 15:10  ...    03     현중해양의장안벽          기타항   \n",
       "...                  ...  ...   ...          ...          ...   \n",
       "214571  2021-07-01 16:54  ...    03       6부두 03     SHANGHAI   \n",
       "214572  2021-07-01 15:20  ...    01       정박지-E1  ZHOUSHAN PT   \n",
       "214573  2021-07-01 05:25  ...    12  현대오일터미널신항부두          기타항   \n",
       "214574  2021-07-01 06:45  ...    01     SK2부두 01           마산   \n",
       "214575  2021-07-04 07:00  ...    03       정박지-E3      AN PING   \n",
       "\n",
       "                     전출항지      선박용도 승무원(한국인) 승무원(외국인)   승객 예선 도선  \n",
       "0                     NaN       신조선      NaN       21    2  N  N  \n",
       "1                      부산       급유선        2        1    3  N  N  \n",
       "2                     기타항  이.접안용 예선        5      NaN  NaN  N  N  \n",
       "3                     기타항     견인용예선        2        1  NaN  N  N  \n",
       "4                     기타항     견인용예선        1        1  NaN  N  N  \n",
       "...                   ...       ...      ...      ...  ... .. ..  \n",
       "214571                 여수  석유제품 운반선      NaN       21  NaN  Y  Y  \n",
       "214572                 부산     일반화물선      NaN        9  NaN  Y  Y  \n",
       "214573                기타항  석유제품 운반선        4        4    0  N  N  \n",
       "214574                 마산  석유제품 운반선        7        5    0  Y  N  \n",
       "214575  PANAMA, CIUDAD DE  석유제품 운반선      NaN       25  NaN  Y  Y  \n",
       "\n",
       "[214562 rows x 24 columns]"
      ],
      "text/html": "<div>\n<style scoped>\n    .dataframe tbody tr th:only-of-type {\n        vertical-align: middle;\n    }\n\n    .dataframe tbody tr th {\n        vertical-align: top;\n    }\n\n    .dataframe thead th {\n        text-align: right;\n    }\n</style>\n<table border=\"1\" class=\"dataframe\">\n  <thead>\n    <tr style=\"text-align: right;\">\n      <th></th>\n      <th>호출부호</th>\n      <th>선명</th>\n      <th>입항횟수1</th>\n      <th>입항횟수2</th>\n      <th>구분</th>\n      <th>외내</th>\n      <th>입출</th>\n      <th>총톤수</th>\n      <th>입항일시</th>\n      <th>출항일시</th>\n      <th>...</th>\n      <th>계선장소2</th>\n      <th>계선장소3</th>\n      <th>차항지</th>\n      <th>전출항지</th>\n      <th>선박용도</th>\n      <th>승무원(한국인)</th>\n      <th>승무원(외국인)</th>\n      <th>승객</th>\n      <th>예선</th>\n      <th>도선</th>\n    </tr>\n  </thead>\n  <tbody>\n    <tr>\n      <th>0</th>\n      <td>V7RW2</td>\n      <td>AFRICA GAS</td>\n      <td>2017</td>\n      <td>001</td>\n      <td>최초</td>\n      <td>외항</td>\n      <td>출항</td>\n      <td>25098</td>\n      <td>1950-01-01 00:00</td>\n      <td>2017-01-18 20:00</td>\n      <td>...</td>\n      <td>05</td>\n      <td>현대미포의장안벽05</td>\n      <td>NaN</td>\n      <td>NaN</td>\n      <td>신조선</td>\n      <td>NaN</td>\n      <td>21</td>\n      <td>2</td>\n      <td>N</td>\n      <td>N</td>\n    </tr>\n    <tr>\n      <th>1</th>\n      <td>975652</td>\n      <td>97대광호</td>\n      <td>2015</td>\n      <td>001</td>\n      <td>최종</td>\n      <td>내항</td>\n      <td>출항</td>\n      <td>141</td>\n      <td>2015-02-06 12:35</td>\n      <td>2017-01-11 03:50</td>\n      <td>...</td>\n      <td>01</td>\n      <td>장생포호안</td>\n      <td>부산</td>\n      <td>부산</td>\n      <td>급유선</td>\n      <td>2</td>\n      <td>1</td>\n      <td>3</td>\n      <td>N</td>\n      <td>N</td>\n    </tr>\n    <tr>\n      <th>2</th>\n      <td>978218</td>\n      <td>유림5호</td>\n      <td>2016</td>\n      <td>001</td>\n      <td>최종</td>\n      <td>내항</td>\n      <td>출항</td>\n      <td>190</td>\n      <td>2016-03-29 09:00</td>\n      <td>2017-01-24 19:33</td>\n      <td>...</td>\n      <td>01</td>\n      <td>매암부두</td>\n      <td>울산</td>\n      <td>기타항</td>\n      <td>이.접안용 예선</td>\n      <td>5</td>\n      <td>NaN</td>\n      <td>NaN</td>\n      <td>N</td>\n      <td>N</td>\n    </tr>\n    <tr>\n      <th>3</th>\n      <td>114432</td>\n      <td>31 신흥호</td>\n      <td>2016</td>\n      <td>006</td>\n      <td>최종</td>\n      <td>내항</td>\n      <td>출항</td>\n      <td>119</td>\n      <td>2016-09-09 12:50</td>\n      <td>2017-01-12 11:20</td>\n      <td>...</td>\n      <td>01</td>\n      <td>용연물양장</td>\n      <td>기타항</td>\n      <td>기타항</td>\n      <td>견인용예선</td>\n      <td>2</td>\n      <td>1</td>\n      <td>NaN</td>\n      <td>N</td>\n      <td>N</td>\n    </tr>\n    <tr>\n      <th>4</th>\n      <td>698123</td>\n      <td>제5동방</td>\n      <td>2016</td>\n      <td>014</td>\n      <td>최종</td>\n      <td>내항</td>\n      <td>출항</td>\n      <td>44</td>\n      <td>2016-10-18 00:00</td>\n      <td>2017-01-15 15:10</td>\n      <td>...</td>\n      <td>03</td>\n      <td>현중해양의장안벽</td>\n      <td>기타항</td>\n      <td>기타항</td>\n      <td>견인용예선</td>\n      <td>1</td>\n      <td>1</td>\n      <td>NaN</td>\n      <td>N</td>\n      <td>N</td>\n    </tr>\n    <tr>\n      <th>...</th>\n      <td>...</td>\n      <td>...</td>\n      <td>...</td>\n      <td>...</td>\n      <td>...</td>\n      <td>...</td>\n      <td>...</td>\n      <td>...</td>\n      <td>...</td>\n      <td>...</td>\n      <td>...</td>\n      <td>...</td>\n      <td>...</td>\n      <td>...</td>\n      <td>...</td>\n      <td>...</td>\n      <td>...</td>\n      <td>...</td>\n      <td>...</td>\n      <td>...</td>\n      <td>...</td>\n    </tr>\n    <tr>\n      <th>214571</th>\n      <td>9V9557</td>\n      <td>BOW DALIAN</td>\n      <td>2021</td>\n      <td>007</td>\n      <td>최종</td>\n      <td>외항</td>\n      <td>입항</td>\n      <td>6583</td>\n      <td>2021-06-30 22:25</td>\n      <td>2021-07-01 16:54</td>\n      <td>...</td>\n      <td>03</td>\n      <td>6부두 03</td>\n      <td>SHANGHAI</td>\n      <td>여수</td>\n      <td>석유제품 운반선</td>\n      <td>NaN</td>\n      <td>21</td>\n      <td>NaN</td>\n      <td>Y</td>\n      <td>Y</td>\n    </tr>\n    <tr>\n      <th>214572</th>\n      <td>5VEH4</td>\n      <td>XINGHE 9</td>\n      <td>2021</td>\n      <td>001</td>\n      <td>최종</td>\n      <td>외항</td>\n      <td>입항</td>\n      <td>1495</td>\n      <td>2021-06-30 22:50</td>\n      <td>2021-07-01 15:20</td>\n      <td>...</td>\n      <td>01</td>\n      <td>정박지-E1</td>\n      <td>ZHOUSHAN PT</td>\n      <td>부산</td>\n      <td>일반화물선</td>\n      <td>NaN</td>\n      <td>9</td>\n      <td>NaN</td>\n      <td>Y</td>\n      <td>Y</td>\n    </tr>\n    <tr>\n      <th>214573</th>\n      <td>130093</td>\n      <td>삼원</td>\n      <td>2021</td>\n      <td>041</td>\n      <td>최종</td>\n      <td>내항</td>\n      <td>입항</td>\n      <td>699</td>\n      <td>2021-06-30 23:05</td>\n      <td>2021-07-01 05:25</td>\n      <td>...</td>\n      <td>12</td>\n      <td>현대오일터미널신항부두</td>\n      <td>기타항</td>\n      <td>기타항</td>\n      <td>석유제품 운반선</td>\n      <td>4</td>\n      <td>4</td>\n      <td>0</td>\n      <td>N</td>\n      <td>N</td>\n    </tr>\n    <tr>\n      <th>214574</th>\n      <td>200013</td>\n      <td>유성</td>\n      <td>2021</td>\n      <td>074</td>\n      <td>최종</td>\n      <td>내항</td>\n      <td>입항</td>\n      <td>1998</td>\n      <td>2021-06-30 23:05</td>\n      <td>2021-07-01 06:45</td>\n      <td>...</td>\n      <td>01</td>\n      <td>SK2부두 01</td>\n      <td>마산</td>\n      <td>마산</td>\n      <td>석유제품 운반선</td>\n      <td>7</td>\n      <td>5</td>\n      <td>0</td>\n      <td>Y</td>\n      <td>N</td>\n    </tr>\n    <tr>\n      <th>214575</th>\n      <td>LACQ6</td>\n      <td>BOW GEMINI</td>\n      <td>2021</td>\n      <td>001</td>\n      <td>최종</td>\n      <td>외항</td>\n      <td>입항</td>\n      <td>26364</td>\n      <td>2021-06-30 23:15</td>\n      <td>2021-07-04 07:00</td>\n      <td>...</td>\n      <td>03</td>\n      <td>정박지-E3</td>\n      <td>AN PING</td>\n      <td>PANAMA, CIUDAD DE</td>\n      <td>석유제품 운반선</td>\n      <td>NaN</td>\n      <td>25</td>\n      <td>NaN</td>\n      <td>Y</td>\n      <td>Y</td>\n    </tr>\n  </tbody>\n</table>\n<p>214562 rows × 24 columns</p>\n</div>"
     },
     "metadata": {},
     "execution_count": 12
    }
   ],
   "source": [
    "SADS_data = SADS_data.dropna(axis=0, subset=['총톤수'])\n",
    "SADS_data"
   ]
  },
  {
   "cell_type": "code",
   "execution_count": 13,
   "metadata": {},
   "outputs": [
    {
     "output_type": "stream",
     "name": "stdout",
     "text": [
      "총톤수값이 null인 선박수: 0\n"
     ]
    }
   ],
   "source": [
    "print('총톤수값이 null인 선박수:', SADS_data['총톤수'].isnull().sum())"
   ]
  },
  {
   "cell_type": "code",
   "execution_count": 14,
   "metadata": {},
   "outputs": [
    {
     "output_type": "stream",
     "name": "stdout",
     "text": [
      "SADS(선박입출항) :  호출부호             0\n선명               0\n입항횟수1            0\n입항횟수2            0\n구분               0\n외내               0\n입출               0\n총톤수              0\n입항일시             0\n출항일시             0\n수리일시           236\n항해구분           153\n국적1            184\n계선장소1           66\n계선장소2           66\n계선장소3           66\n차항지            612\n전출항지           610\n선박용도           136\n승무원(한국인)     51314\n승무원(외국인)      3654\n승객          135830\n예선            9037\n도선             187\ndtype: int64\n"
     ]
    }
   ],
   "source": [
    "# 결측치 확인\n",
    "print('SADS(선박입출항) : ', SADS_data.isnull().sum())"
   ]
  },
  {
   "cell_type": "code",
   "execution_count": 15,
   "metadata": {},
   "outputs": [
    {
     "output_type": "stream",
     "name": "stdout",
     "text": [
      "SADS(선박입출항) 승무원(한국인) column :  0\n",
      "/home/ubuntu/.local/lib/python3.8/site-packages/pandas/core/frame.py:3607: SettingWithCopyWarning: \n",
      "A value is trying to be set on a copy of a slice from a DataFrame.\n",
      "Try using .loc[row_indexer,col_indexer] = value instead\n",
      "\n",
      "See the caveats in the documentation: https://pandas.pydata.org/pandas-docs/stable/user_guide/indexing.html#returning-a-view-versus-a-copy\n",
      "  self._set_item(key, value)\n"
     ]
    }
   ],
   "source": [
    "# SADS_data[\"승무원(한국인)\"] 결측치 0으로 채우기\n",
    "SADS_data[\"승무원(한국인)\"] = SADS_data[\"승무원(한국인)\"].fillna(0)\n",
    "\n",
    "# 결측치 사라졌는지 재확인\n",
    "print('SADS(선박입출항) 승무원(한국인) column : ', SADS_data[\"승무원(한국인)\"].isnull().sum())"
   ]
  },
  {
   "cell_type": "code",
   "execution_count": 16,
   "metadata": {},
   "outputs": [
    {
     "output_type": "stream",
     "name": "stdout",
     "text": [
      "SADS(선박입출항) 승무원(외국인) column :  0\nSADS(선박입출항) 승객 column :  0\n"
     ]
    }
   ],
   "source": [
    "# 결측치 0으로 채우기\n",
    "SADS_data[\"승무원(외국인)\"] = SADS_data[\"승무원(외국인)\"].fillna(0)\n",
    "SADS_data[\"승객\"] = SADS_data[\"승객\"].fillna(0)\n",
    "\n",
    "# 결측치 사라졌는지 재확인\n",
    "print('SADS(선박입출항) 승무원(외국인) column : ', SADS_data[\"승무원(외국인)\"].isnull().sum())\n",
    "print('SADS(선박입출항) 승객 column : ', SADS_data[\"승객\"].isnull().sum())"
   ]
  },
  {
   "cell_type": "code",
   "execution_count": 17,
   "metadata": {},
   "outputs": [
    {
     "output_type": "stream",
     "name": "stderr",
     "text": [
      "/home/ubuntu/.local/lib/python3.8/site-packages/pandas/core/frame.py:4901: SettingWithCopyWarning: \nA value is trying to be set on a copy of a slice from a DataFrame\n\nSee the caveats in the documentation: https://pandas.pydata.org/pandas-docs/stable/user_guide/indexing.html#returning-a-view-versus-a-copy\n  return super().drop(\n"
     ]
    }
   ],
   "source": [
    "#수리했으면 1, 안했으면 0\n",
    "SADS_data['수리여부'] = 0\n",
    "SADS_data['수리여부'] = SADS_data['수리여부'].where(SADS_data['수리일시'].isna(), 1)\n",
    "\n",
    "cols = ['수리일시']\n",
    "SADS_data.drop(labels=cols, axis = \"columns\", inplace = True)"
   ]
  },
  {
   "cell_type": "code",
   "execution_count": 18,
   "metadata": {},
   "outputs": [
    {
     "output_type": "execute_result",
     "data": {
      "text/plain": [
       "          호출부호          선명 입항횟수1 입항횟수2  구분  외내  입출    총톤수              입항일시  \\\n",
       "0        V7RW2  AFRICA GAS  2017   001  최초  외항  출항  25098  1950-01-01 00:00   \n",
       "1       975652       97대광호  2015   001  최종  내항  출항    141  2015-02-06 12:35   \n",
       "2       978218        유림5호  2016   001  최종  내항  출항    190  2016-03-29 09:00   \n",
       "3       114432      31 신흥호  2016   006  최종  내항  출항    119  2016-09-09 12:50   \n",
       "4       698123        제5동방  2016   014  최종  내항  출항     44  2016-10-18 00:00   \n",
       "...        ...         ...   ...   ...  ..  ..  ..    ...               ...   \n",
       "214571  9V9557  BOW DALIAN  2021   007  최종  외항  입항   6583  2021-06-30 22:25   \n",
       "214572   5VEH4    XINGHE 9  2021   001  최종  외항  입항   1495  2021-06-30 22:50   \n",
       "214573  130093          삼원  2021   041  최종  내항  입항    699  2021-06-30 23:05   \n",
       "214574  200013          유성  2021   074  최종  내항  입항   1998  2021-06-30 23:05   \n",
       "214575   LACQ6  BOW GEMINI  2021   001  최종  외항  입항  26364  2021-06-30 23:15   \n",
       "\n",
       "                    출항일시  ...        계선장소3          차항지               전출항지  \\\n",
       "0       2017-01-18 20:00  ...   현대미포의장안벽05          NaN                NaN   \n",
       "1       2017-01-11 03:50  ...        장생포호안           부산                 부산   \n",
       "2       2017-01-24 19:33  ...         매암부두           울산                기타항   \n",
       "3       2017-01-12 11:20  ...        용연물양장          기타항                기타항   \n",
       "4       2017-01-15 15:10  ...     현중해양의장안벽          기타항                기타항   \n",
       "...                  ...  ...          ...          ...                ...   \n",
       "214571  2021-07-01 16:54  ...       6부두 03     SHANGHAI                 여수   \n",
       "214572  2021-07-01 15:20  ...       정박지-E1  ZHOUSHAN PT                 부산   \n",
       "214573  2021-07-01 05:25  ...  현대오일터미널신항부두          기타항                기타항   \n",
       "214574  2021-07-01 06:45  ...     SK2부두 01           마산                 마산   \n",
       "214575  2021-07-04 07:00  ...       정박지-E3      AN PING  PANAMA, CIUDAD DE   \n",
       "\n",
       "            선박용도 승무원(한국인) 승무원(외국인) 승객 예선 도선 수리여부  \n",
       "0            신조선        0       21  2  N  N    0  \n",
       "1            급유선        2        1  3  N  N    1  \n",
       "2       이.접안용 예선        5        0  0  N  N    1  \n",
       "3          견인용예선        2        1  0  N  N    1  \n",
       "4          견인용예선        1        1  0  N  N    1  \n",
       "...          ...      ...      ... .. .. ..  ...  \n",
       "214571  석유제품 운반선        0       21  0  Y  Y    1  \n",
       "214572     일반화물선        0        9  0  Y  Y    1  \n",
       "214573  석유제품 운반선        4        4  0  N  N    1  \n",
       "214574  석유제품 운반선        7        5  0  Y  N    1  \n",
       "214575  석유제품 운반선        0       25  0  Y  Y    1  \n",
       "\n",
       "[214562 rows x 24 columns]"
      ],
      "text/html": "<div>\n<style scoped>\n    .dataframe tbody tr th:only-of-type {\n        vertical-align: middle;\n    }\n\n    .dataframe tbody tr th {\n        vertical-align: top;\n    }\n\n    .dataframe thead th {\n        text-align: right;\n    }\n</style>\n<table border=\"1\" class=\"dataframe\">\n  <thead>\n    <tr style=\"text-align: right;\">\n      <th></th>\n      <th>호출부호</th>\n      <th>선명</th>\n      <th>입항횟수1</th>\n      <th>입항횟수2</th>\n      <th>구분</th>\n      <th>외내</th>\n      <th>입출</th>\n      <th>총톤수</th>\n      <th>입항일시</th>\n      <th>출항일시</th>\n      <th>...</th>\n      <th>계선장소3</th>\n      <th>차항지</th>\n      <th>전출항지</th>\n      <th>선박용도</th>\n      <th>승무원(한국인)</th>\n      <th>승무원(외국인)</th>\n      <th>승객</th>\n      <th>예선</th>\n      <th>도선</th>\n      <th>수리여부</th>\n    </tr>\n  </thead>\n  <tbody>\n    <tr>\n      <th>0</th>\n      <td>V7RW2</td>\n      <td>AFRICA GAS</td>\n      <td>2017</td>\n      <td>001</td>\n      <td>최초</td>\n      <td>외항</td>\n      <td>출항</td>\n      <td>25098</td>\n      <td>1950-01-01 00:00</td>\n      <td>2017-01-18 20:00</td>\n      <td>...</td>\n      <td>현대미포의장안벽05</td>\n      <td>NaN</td>\n      <td>NaN</td>\n      <td>신조선</td>\n      <td>0</td>\n      <td>21</td>\n      <td>2</td>\n      <td>N</td>\n      <td>N</td>\n      <td>0</td>\n    </tr>\n    <tr>\n      <th>1</th>\n      <td>975652</td>\n      <td>97대광호</td>\n      <td>2015</td>\n      <td>001</td>\n      <td>최종</td>\n      <td>내항</td>\n      <td>출항</td>\n      <td>141</td>\n      <td>2015-02-06 12:35</td>\n      <td>2017-01-11 03:50</td>\n      <td>...</td>\n      <td>장생포호안</td>\n      <td>부산</td>\n      <td>부산</td>\n      <td>급유선</td>\n      <td>2</td>\n      <td>1</td>\n      <td>3</td>\n      <td>N</td>\n      <td>N</td>\n      <td>1</td>\n    </tr>\n    <tr>\n      <th>2</th>\n      <td>978218</td>\n      <td>유림5호</td>\n      <td>2016</td>\n      <td>001</td>\n      <td>최종</td>\n      <td>내항</td>\n      <td>출항</td>\n      <td>190</td>\n      <td>2016-03-29 09:00</td>\n      <td>2017-01-24 19:33</td>\n      <td>...</td>\n      <td>매암부두</td>\n      <td>울산</td>\n      <td>기타항</td>\n      <td>이.접안용 예선</td>\n      <td>5</td>\n      <td>0</td>\n      <td>0</td>\n      <td>N</td>\n      <td>N</td>\n      <td>1</td>\n    </tr>\n    <tr>\n      <th>3</th>\n      <td>114432</td>\n      <td>31 신흥호</td>\n      <td>2016</td>\n      <td>006</td>\n      <td>최종</td>\n      <td>내항</td>\n      <td>출항</td>\n      <td>119</td>\n      <td>2016-09-09 12:50</td>\n      <td>2017-01-12 11:20</td>\n      <td>...</td>\n      <td>용연물양장</td>\n      <td>기타항</td>\n      <td>기타항</td>\n      <td>견인용예선</td>\n      <td>2</td>\n      <td>1</td>\n      <td>0</td>\n      <td>N</td>\n      <td>N</td>\n      <td>1</td>\n    </tr>\n    <tr>\n      <th>4</th>\n      <td>698123</td>\n      <td>제5동방</td>\n      <td>2016</td>\n      <td>014</td>\n      <td>최종</td>\n      <td>내항</td>\n      <td>출항</td>\n      <td>44</td>\n      <td>2016-10-18 00:00</td>\n      <td>2017-01-15 15:10</td>\n      <td>...</td>\n      <td>현중해양의장안벽</td>\n      <td>기타항</td>\n      <td>기타항</td>\n      <td>견인용예선</td>\n      <td>1</td>\n      <td>1</td>\n      <td>0</td>\n      <td>N</td>\n      <td>N</td>\n      <td>1</td>\n    </tr>\n    <tr>\n      <th>...</th>\n      <td>...</td>\n      <td>...</td>\n      <td>...</td>\n      <td>...</td>\n      <td>...</td>\n      <td>...</td>\n      <td>...</td>\n      <td>...</td>\n      <td>...</td>\n      <td>...</td>\n      <td>...</td>\n      <td>...</td>\n      <td>...</td>\n      <td>...</td>\n      <td>...</td>\n      <td>...</td>\n      <td>...</td>\n      <td>...</td>\n      <td>...</td>\n      <td>...</td>\n      <td>...</td>\n    </tr>\n    <tr>\n      <th>214571</th>\n      <td>9V9557</td>\n      <td>BOW DALIAN</td>\n      <td>2021</td>\n      <td>007</td>\n      <td>최종</td>\n      <td>외항</td>\n      <td>입항</td>\n      <td>6583</td>\n      <td>2021-06-30 22:25</td>\n      <td>2021-07-01 16:54</td>\n      <td>...</td>\n      <td>6부두 03</td>\n      <td>SHANGHAI</td>\n      <td>여수</td>\n      <td>석유제품 운반선</td>\n      <td>0</td>\n      <td>21</td>\n      <td>0</td>\n      <td>Y</td>\n      <td>Y</td>\n      <td>1</td>\n    </tr>\n    <tr>\n      <th>214572</th>\n      <td>5VEH4</td>\n      <td>XINGHE 9</td>\n      <td>2021</td>\n      <td>001</td>\n      <td>최종</td>\n      <td>외항</td>\n      <td>입항</td>\n      <td>1495</td>\n      <td>2021-06-30 22:50</td>\n      <td>2021-07-01 15:20</td>\n      <td>...</td>\n      <td>정박지-E1</td>\n      <td>ZHOUSHAN PT</td>\n      <td>부산</td>\n      <td>일반화물선</td>\n      <td>0</td>\n      <td>9</td>\n      <td>0</td>\n      <td>Y</td>\n      <td>Y</td>\n      <td>1</td>\n    </tr>\n    <tr>\n      <th>214573</th>\n      <td>130093</td>\n      <td>삼원</td>\n      <td>2021</td>\n      <td>041</td>\n      <td>최종</td>\n      <td>내항</td>\n      <td>입항</td>\n      <td>699</td>\n      <td>2021-06-30 23:05</td>\n      <td>2021-07-01 05:25</td>\n      <td>...</td>\n      <td>현대오일터미널신항부두</td>\n      <td>기타항</td>\n      <td>기타항</td>\n      <td>석유제품 운반선</td>\n      <td>4</td>\n      <td>4</td>\n      <td>0</td>\n      <td>N</td>\n      <td>N</td>\n      <td>1</td>\n    </tr>\n    <tr>\n      <th>214574</th>\n      <td>200013</td>\n      <td>유성</td>\n      <td>2021</td>\n      <td>074</td>\n      <td>최종</td>\n      <td>내항</td>\n      <td>입항</td>\n      <td>1998</td>\n      <td>2021-06-30 23:05</td>\n      <td>2021-07-01 06:45</td>\n      <td>...</td>\n      <td>SK2부두 01</td>\n      <td>마산</td>\n      <td>마산</td>\n      <td>석유제품 운반선</td>\n      <td>7</td>\n      <td>5</td>\n      <td>0</td>\n      <td>Y</td>\n      <td>N</td>\n      <td>1</td>\n    </tr>\n    <tr>\n      <th>214575</th>\n      <td>LACQ6</td>\n      <td>BOW GEMINI</td>\n      <td>2021</td>\n      <td>001</td>\n      <td>최종</td>\n      <td>외항</td>\n      <td>입항</td>\n      <td>26364</td>\n      <td>2021-06-30 23:15</td>\n      <td>2021-07-04 07:00</td>\n      <td>...</td>\n      <td>정박지-E3</td>\n      <td>AN PING</td>\n      <td>PANAMA, CIUDAD DE</td>\n      <td>석유제품 운반선</td>\n      <td>0</td>\n      <td>25</td>\n      <td>0</td>\n      <td>Y</td>\n      <td>Y</td>\n      <td>1</td>\n    </tr>\n  </tbody>\n</table>\n<p>214562 rows × 24 columns</p>\n</div>"
     },
     "metadata": {},
     "execution_count": 18
    }
   ],
   "source": [
    "SADS_data"
   ]
  },
  {
   "cell_type": "code",
   "execution_count": 19,
   "metadata": {},
   "outputs": [
    {
     "output_type": "execute_result",
     "data": {
      "text/plain": [
       "           호출부호                 선명 입항횟수1 입항횟수2  구분  외내  입출  \\\n",
       "761       2IYF9     BRITISH NIMBUS  2017   001  최종  외항  입항   \n",
       "975       C6CW4      AMAZON FALCON  2017   001  최종  외항  입항   \n",
       "2197      VRQE6          DHT TIGER  2017   001  최종  외항  입항   \n",
       "2727      2IYH2    BRITISH CAPTAIN  2017   001  최종  외항  입항   \n",
       "2925      9MWF2  SERI CENDERAWASIH  2017   001  최종  외항  입항   \n",
       "...         ...                ...   ...   ...  ..  ..  ..   \n",
       "200750  V7A2854                상 펄  2021   001  최종  외항  입항   \n",
       "201724    3EBU9           GAS GALA  2021   001  최종  외항  입항   \n",
       "205848    3EPB5     GAS BARBAROSSA  2021   001  최종  내항  입항   \n",
       "208738  V7A4362    REDWOOD MARINER  2021   001  최종  외항  입항   \n",
       "212432    3FRB4         GLOBE IRIS  2021   001  최종  내항  입항   \n",
       "\n",
       "                                         총톤수              입항일시  \\\n",
       "761                                  28137.0  2017-01-05 22:10   \n",
       "975                                  44722.0  2017-01-07 13:30   \n",
       "2197         30836030836030835787808374784.0  2017-01-16 15:00   \n",
       "2727    4421187069013547594532496850550784.0  2017-01-19 15:48   \n",
       "2925                     44537377982711320.0  2017-01-21 10:00   \n",
       "...                                      ...               ...   \n",
       "200750                              172521.0  2021-03-15 14:10   \n",
       "201724                     162861628616286.0  2021-03-23 09:00   \n",
       "205848                     162861628616286.0  2021-04-24 09:00   \n",
       "208738                               29649.0  2021-05-15 09:00   \n",
       "212432                     162958296249629.0  2021-06-13 10:00   \n",
       "\n",
       "                    출항일시  ...     계선장소3  차항지 전출항지 선박용도 승무원(한국인) 승무원(외국인) 승객  \\\n",
       "761     2017-01-05 22:10  ...    6부두 05  NaN  NaN  NaN        0        0  0   \n",
       "975     2017-01-07 13:30  ...    정박지-E3  NaN  NaN  NaN        0        0  0   \n",
       "2197    2017-01-16 15:00  ...  현중해양의장안벽  NaN  NaN  NaN        0        0  0   \n",
       "2727    2017-01-19 15:48  ...    정박지-E3  NaN  NaN  NaN        0        0  0   \n",
       "2925    2017-01-21 10:00  ...  현중해양의장안벽  NaN  NaN  NaN        0        0  0   \n",
       "...                  ...  ...       ...  ...  ...  ...      ...      ... ..   \n",
       "200750  2021-03-15 14:12  ...       NaN  NaN  NaN  신조선        0        0  0   \n",
       "201724  2021-03-23 10:30  ...       NaN  NaN  NaN  신조선        0        0  0   \n",
       "205848  2021-04-24 10:15  ...       NaN  NaN  NaN  신조선        0        0  0   \n",
       "208738  2021-05-24 01:00  ...       NaN  NaN  NaN  신조선        0        0  0   \n",
       "212432  2021-06-15 14:00  ...       NaN  NaN  NaN  신조선        0        0  0   \n",
       "\n",
       "         예선   도선 수리여부  \n",
       "761     NaN  NaN    1  \n",
       "975     NaN  NaN    1  \n",
       "2197    NaN  NaN    1  \n",
       "2727    NaN  NaN    1  \n",
       "2925    NaN  NaN    1  \n",
       "...     ...  ...  ...  \n",
       "200750  NaN  NaN    1  \n",
       "201724  NaN  NaN    1  \n",
       "205848  NaN  NaN    1  \n",
       "208738  NaN  NaN    1  \n",
       "212432  NaN  NaN    1  \n",
       "\n",
       "[153 rows x 24 columns]"
      ],
      "text/html": "<div>\n<style scoped>\n    .dataframe tbody tr th:only-of-type {\n        vertical-align: middle;\n    }\n\n    .dataframe tbody tr th {\n        vertical-align: top;\n    }\n\n    .dataframe thead th {\n        text-align: right;\n    }\n</style>\n<table border=\"1\" class=\"dataframe\">\n  <thead>\n    <tr style=\"text-align: right;\">\n      <th></th>\n      <th>호출부호</th>\n      <th>선명</th>\n      <th>입항횟수1</th>\n      <th>입항횟수2</th>\n      <th>구분</th>\n      <th>외내</th>\n      <th>입출</th>\n      <th>총톤수</th>\n      <th>입항일시</th>\n      <th>출항일시</th>\n      <th>...</th>\n      <th>계선장소3</th>\n      <th>차항지</th>\n      <th>전출항지</th>\n      <th>선박용도</th>\n      <th>승무원(한국인)</th>\n      <th>승무원(외국인)</th>\n      <th>승객</th>\n      <th>예선</th>\n      <th>도선</th>\n      <th>수리여부</th>\n    </tr>\n  </thead>\n  <tbody>\n    <tr>\n      <th>761</th>\n      <td>2IYF9</td>\n      <td>BRITISH NIMBUS</td>\n      <td>2017</td>\n      <td>001</td>\n      <td>최종</td>\n      <td>외항</td>\n      <td>입항</td>\n      <td>28137.0</td>\n      <td>2017-01-05 22:10</td>\n      <td>2017-01-05 22:10</td>\n      <td>...</td>\n      <td>6부두 05</td>\n      <td>NaN</td>\n      <td>NaN</td>\n      <td>NaN</td>\n      <td>0</td>\n      <td>0</td>\n      <td>0</td>\n      <td>NaN</td>\n      <td>NaN</td>\n      <td>1</td>\n    </tr>\n    <tr>\n      <th>975</th>\n      <td>C6CW4</td>\n      <td>AMAZON FALCON</td>\n      <td>2017</td>\n      <td>001</td>\n      <td>최종</td>\n      <td>외항</td>\n      <td>입항</td>\n      <td>44722.0</td>\n      <td>2017-01-07 13:30</td>\n      <td>2017-01-07 13:30</td>\n      <td>...</td>\n      <td>정박지-E3</td>\n      <td>NaN</td>\n      <td>NaN</td>\n      <td>NaN</td>\n      <td>0</td>\n      <td>0</td>\n      <td>0</td>\n      <td>NaN</td>\n      <td>NaN</td>\n      <td>1</td>\n    </tr>\n    <tr>\n      <th>2197</th>\n      <td>VRQE6</td>\n      <td>DHT TIGER</td>\n      <td>2017</td>\n      <td>001</td>\n      <td>최종</td>\n      <td>외항</td>\n      <td>입항</td>\n      <td>30836030836030835787808374784.0</td>\n      <td>2017-01-16 15:00</td>\n      <td>2017-01-16 15:00</td>\n      <td>...</td>\n      <td>현중해양의장안벽</td>\n      <td>NaN</td>\n      <td>NaN</td>\n      <td>NaN</td>\n      <td>0</td>\n      <td>0</td>\n      <td>0</td>\n      <td>NaN</td>\n      <td>NaN</td>\n      <td>1</td>\n    </tr>\n    <tr>\n      <th>2727</th>\n      <td>2IYH2</td>\n      <td>BRITISH CAPTAIN</td>\n      <td>2017</td>\n      <td>001</td>\n      <td>최종</td>\n      <td>외항</td>\n      <td>입항</td>\n      <td>4421187069013547594532496850550784.0</td>\n      <td>2017-01-19 15:48</td>\n      <td>2017-01-19 15:48</td>\n      <td>...</td>\n      <td>정박지-E3</td>\n      <td>NaN</td>\n      <td>NaN</td>\n      <td>NaN</td>\n      <td>0</td>\n      <td>0</td>\n      <td>0</td>\n      <td>NaN</td>\n      <td>NaN</td>\n      <td>1</td>\n    </tr>\n    <tr>\n      <th>2925</th>\n      <td>9MWF2</td>\n      <td>SERI CENDERAWASIH</td>\n      <td>2017</td>\n      <td>001</td>\n      <td>최종</td>\n      <td>외항</td>\n      <td>입항</td>\n      <td>44537377982711320.0</td>\n      <td>2017-01-21 10:00</td>\n      <td>2017-01-21 10:00</td>\n      <td>...</td>\n      <td>현중해양의장안벽</td>\n      <td>NaN</td>\n      <td>NaN</td>\n      <td>NaN</td>\n      <td>0</td>\n      <td>0</td>\n      <td>0</td>\n      <td>NaN</td>\n      <td>NaN</td>\n      <td>1</td>\n    </tr>\n    <tr>\n      <th>...</th>\n      <td>...</td>\n      <td>...</td>\n      <td>...</td>\n      <td>...</td>\n      <td>...</td>\n      <td>...</td>\n      <td>...</td>\n      <td>...</td>\n      <td>...</td>\n      <td>...</td>\n      <td>...</td>\n      <td>...</td>\n      <td>...</td>\n      <td>...</td>\n      <td>...</td>\n      <td>...</td>\n      <td>...</td>\n      <td>...</td>\n      <td>...</td>\n      <td>...</td>\n      <td>...</td>\n    </tr>\n    <tr>\n      <th>200750</th>\n      <td>V7A2854</td>\n      <td>상 펄</td>\n      <td>2021</td>\n      <td>001</td>\n      <td>최종</td>\n      <td>외항</td>\n      <td>입항</td>\n      <td>172521.0</td>\n      <td>2021-03-15 14:10</td>\n      <td>2021-03-15 14:12</td>\n      <td>...</td>\n      <td>NaN</td>\n      <td>NaN</td>\n      <td>NaN</td>\n      <td>신조선</td>\n      <td>0</td>\n      <td>0</td>\n      <td>0</td>\n      <td>NaN</td>\n      <td>NaN</td>\n      <td>1</td>\n    </tr>\n    <tr>\n      <th>201724</th>\n      <td>3EBU9</td>\n      <td>GAS GALA</td>\n      <td>2021</td>\n      <td>001</td>\n      <td>최종</td>\n      <td>외항</td>\n      <td>입항</td>\n      <td>162861628616286.0</td>\n      <td>2021-03-23 09:00</td>\n      <td>2021-03-23 10:30</td>\n      <td>...</td>\n      <td>NaN</td>\n      <td>NaN</td>\n      <td>NaN</td>\n      <td>신조선</td>\n      <td>0</td>\n      <td>0</td>\n      <td>0</td>\n      <td>NaN</td>\n      <td>NaN</td>\n      <td>1</td>\n    </tr>\n    <tr>\n      <th>205848</th>\n      <td>3EPB5</td>\n      <td>GAS BARBAROSSA</td>\n      <td>2021</td>\n      <td>001</td>\n      <td>최종</td>\n      <td>내항</td>\n      <td>입항</td>\n      <td>162861628616286.0</td>\n      <td>2021-04-24 09:00</td>\n      <td>2021-04-24 10:15</td>\n      <td>...</td>\n      <td>NaN</td>\n      <td>NaN</td>\n      <td>NaN</td>\n      <td>신조선</td>\n      <td>0</td>\n      <td>0</td>\n      <td>0</td>\n      <td>NaN</td>\n      <td>NaN</td>\n      <td>1</td>\n    </tr>\n    <tr>\n      <th>208738</th>\n      <td>V7A4362</td>\n      <td>REDWOOD MARINER</td>\n      <td>2021</td>\n      <td>001</td>\n      <td>최종</td>\n      <td>외항</td>\n      <td>입항</td>\n      <td>29649.0</td>\n      <td>2021-05-15 09:00</td>\n      <td>2021-05-24 01:00</td>\n      <td>...</td>\n      <td>NaN</td>\n      <td>NaN</td>\n      <td>NaN</td>\n      <td>신조선</td>\n      <td>0</td>\n      <td>0</td>\n      <td>0</td>\n      <td>NaN</td>\n      <td>NaN</td>\n      <td>1</td>\n    </tr>\n    <tr>\n      <th>212432</th>\n      <td>3FRB4</td>\n      <td>GLOBE IRIS</td>\n      <td>2021</td>\n      <td>001</td>\n      <td>최종</td>\n      <td>내항</td>\n      <td>입항</td>\n      <td>162958296249629.0</td>\n      <td>2021-06-13 10:00</td>\n      <td>2021-06-15 14:00</td>\n      <td>...</td>\n      <td>NaN</td>\n      <td>NaN</td>\n      <td>NaN</td>\n      <td>신조선</td>\n      <td>0</td>\n      <td>0</td>\n      <td>0</td>\n      <td>NaN</td>\n      <td>NaN</td>\n      <td>1</td>\n    </tr>\n  </tbody>\n</table>\n<p>153 rows × 24 columns</p>\n</div>"
     },
     "metadata": {},
     "execution_count": 19
    }
   ],
   "source": [
    "SADS_data.loc[SADS_data['항해구분'].isnull()]"
   ]
  },
  {
   "cell_type": "code",
   "execution_count": 20,
   "metadata": {},
   "outputs": [
    {
     "output_type": "execute_result",
     "data": {
      "text/plain": [
       "        외내  입출                                   총톤수              입항일시  \\\n",
       "2727    외항  입항  4421187069013547594532496850550784.0  2017-01-19 15:48   \n",
       "2728    외항  출항                                 30948  2017-01-19 15:48   \n",
       "15097   외항  출항                                 30948  2017-04-21 13:54   \n",
       "15098   외항  입항                                 30948  2017-04-21 13:54   \n",
       "15739   외항  입항                                 30948  2017-04-26 04:16   \n",
       "16352   외항  출항                                 30948  2017-04-26 04:16   \n",
       "209801  외항  입항                                 30948  2021-05-23 23:30   \n",
       "209802  외항  출항                                 30948  2021-05-23 23:30   \n",
       "\n",
       "                    출항일시 항해구분  국적1 계선장소1 계선장소2   계선장소3          차항지    전출항지  \n",
       "2727    2017-01-19 15:48  NaN  NaN   WAE    03  정박지-E3          NaN     NaN  \n",
       "2728    2017-01-19 15:48  신조선   IM   WAE    03  정박지-E3          NaN     NaN  \n",
       "15097   2017-04-23 08:24   기타   IM   WAE    03  정박지-E3    SINGAPORE  DONGGI  \n",
       "15098   2017-04-23 08:24   기타   IM   WAE    03  정박지-E3    SINGAPORE  DONGGI  \n",
       "15739   2017-05-04 02:05   기타   IM   WAE    03  정박지-E3  TANJONG BIN      울산  \n",
       "16352   2017-05-04 02:05   기타   IM   MDU    08   SK8부두  TANJONG BIN      울산  \n",
       "209801  2021-05-28 09:00   기타   IM   WAE    03  정박지-E3  TANJONG BIN  LA PAZ  \n",
       "209802  2021-05-28 09:00   기타   IM   WAE    03  정박지-E3  TANJONG BIN  LA PAZ  "
      ],
      "text/html": "<div>\n<style scoped>\n    .dataframe tbody tr th:only-of-type {\n        vertical-align: middle;\n    }\n\n    .dataframe tbody tr th {\n        vertical-align: top;\n    }\n\n    .dataframe thead th {\n        text-align: right;\n    }\n</style>\n<table border=\"1\" class=\"dataframe\">\n  <thead>\n    <tr style=\"text-align: right;\">\n      <th></th>\n      <th>외내</th>\n      <th>입출</th>\n      <th>총톤수</th>\n      <th>입항일시</th>\n      <th>출항일시</th>\n      <th>항해구분</th>\n      <th>국적1</th>\n      <th>계선장소1</th>\n      <th>계선장소2</th>\n      <th>계선장소3</th>\n      <th>차항지</th>\n      <th>전출항지</th>\n    </tr>\n  </thead>\n  <tbody>\n    <tr>\n      <th>2727</th>\n      <td>외항</td>\n      <td>입항</td>\n      <td>4421187069013547594532496850550784.0</td>\n      <td>2017-01-19 15:48</td>\n      <td>2017-01-19 15:48</td>\n      <td>NaN</td>\n      <td>NaN</td>\n      <td>WAE</td>\n      <td>03</td>\n      <td>정박지-E3</td>\n      <td>NaN</td>\n      <td>NaN</td>\n    </tr>\n    <tr>\n      <th>2728</th>\n      <td>외항</td>\n      <td>출항</td>\n      <td>30948</td>\n      <td>2017-01-19 15:48</td>\n      <td>2017-01-19 15:48</td>\n      <td>신조선</td>\n      <td>IM</td>\n      <td>WAE</td>\n      <td>03</td>\n      <td>정박지-E3</td>\n      <td>NaN</td>\n      <td>NaN</td>\n    </tr>\n    <tr>\n      <th>15097</th>\n      <td>외항</td>\n      <td>출항</td>\n      <td>30948</td>\n      <td>2017-04-21 13:54</td>\n      <td>2017-04-23 08:24</td>\n      <td>기타</td>\n      <td>IM</td>\n      <td>WAE</td>\n      <td>03</td>\n      <td>정박지-E3</td>\n      <td>SINGAPORE</td>\n      <td>DONGGI</td>\n    </tr>\n    <tr>\n      <th>15098</th>\n      <td>외항</td>\n      <td>입항</td>\n      <td>30948</td>\n      <td>2017-04-21 13:54</td>\n      <td>2017-04-23 08:24</td>\n      <td>기타</td>\n      <td>IM</td>\n      <td>WAE</td>\n      <td>03</td>\n      <td>정박지-E3</td>\n      <td>SINGAPORE</td>\n      <td>DONGGI</td>\n    </tr>\n    <tr>\n      <th>15739</th>\n      <td>외항</td>\n      <td>입항</td>\n      <td>30948</td>\n      <td>2017-04-26 04:16</td>\n      <td>2017-05-04 02:05</td>\n      <td>기타</td>\n      <td>IM</td>\n      <td>WAE</td>\n      <td>03</td>\n      <td>정박지-E3</td>\n      <td>TANJONG BIN</td>\n      <td>울산</td>\n    </tr>\n    <tr>\n      <th>16352</th>\n      <td>외항</td>\n      <td>출항</td>\n      <td>30948</td>\n      <td>2017-04-26 04:16</td>\n      <td>2017-05-04 02:05</td>\n      <td>기타</td>\n      <td>IM</td>\n      <td>MDU</td>\n      <td>08</td>\n      <td>SK8부두</td>\n      <td>TANJONG BIN</td>\n      <td>울산</td>\n    </tr>\n    <tr>\n      <th>209801</th>\n      <td>외항</td>\n      <td>입항</td>\n      <td>30948</td>\n      <td>2021-05-23 23:30</td>\n      <td>2021-05-28 09:00</td>\n      <td>기타</td>\n      <td>IM</td>\n      <td>WAE</td>\n      <td>03</td>\n      <td>정박지-E3</td>\n      <td>TANJONG BIN</td>\n      <td>LA PAZ</td>\n    </tr>\n    <tr>\n      <th>209802</th>\n      <td>외항</td>\n      <td>출항</td>\n      <td>30948</td>\n      <td>2021-05-23 23:30</td>\n      <td>2021-05-28 09:00</td>\n      <td>기타</td>\n      <td>IM</td>\n      <td>WAE</td>\n      <td>03</td>\n      <td>정박지-E3</td>\n      <td>TANJONG BIN</td>\n      <td>LA PAZ</td>\n    </tr>\n  </tbody>\n</table>\n</div>"
     },
     "metadata": {},
     "execution_count": 20
    }
   ],
   "source": [
    "SADS_data.loc[SADS_data['호출부호']=='2IYH2', '외내':'전출항지']"
   ]
  },
  {
   "cell_type": "code",
   "execution_count": 21,
   "metadata": {},
   "outputs": [
    {
     "output_type": "execute_result",
     "data": {
      "text/plain": [
       "{nan,\n",
       " '기타',\n",
       " '내외항자격변경',\n",
       " '선명변경',\n",
       " '수출선박',\n",
       " '신조선',\n",
       " '실습선,관공선',\n",
       " '외국적 내항선',\n",
       " '원양조업선',\n",
       " '일시외항'}"
      ]
     },
     "metadata": {},
     "execution_count": 21
    }
   ],
   "source": [
    "set(SADS_data['항해구분'])"
   ]
  },
  {
   "cell_type": "code",
   "execution_count": 22,
   "metadata": {},
   "outputs": [
    {
     "output_type": "execute_result",
     "data": {
      "text/plain": [
       "           호출부호      선명   입항횟수1   입항횟수2      구분      외내      입출     총톤수  \\\n",
       "항해구분                                                                      \n",
       "기타       211781  211781  211781  211781  211781  211781  211781  211781   \n",
       "내외항자격변경    1896    1896    1896    1896    1896    1896    1896    1896   \n",
       "선명변경         10      10      10      10      10      10      10      10   \n",
       "수출선박          6       6       6       6       6       6       6       6   \n",
       "신조선         465     465     465     465     465     465     465     465   \n",
       "실습선,관공선      19      19      19      19      19      19      19      19   \n",
       "외국적 내항선     120     120     120     120     120     120     120     120   \n",
       "원양조업선         4       4       4       4       4       4       4       4   \n",
       "일시외항        108     108     108     108     108     108     108     108   \n",
       "\n",
       "           입항일시    출항일시  ...   계선장소3     차항지    전출항지    선박용도  승무원(한국인)  \\\n",
       "항해구분                     ...                                             \n",
       "기타       211781  211781  ...  211781  211763  211765  211781    211781   \n",
       "내외항자격변경    1896    1896  ...    1896    1896    1896    1896      1896   \n",
       "선명변경         10      10  ...      10      10      10      10        10   \n",
       "수출선박          6       6  ...       6       6       6       6         6   \n",
       "신조선         465     465  ...     430      21      21     465       465   \n",
       "실습선,관공선      19      19  ...      19      19      19      19        19   \n",
       "외국적 내항선     120     120  ...     120     120     120     120       120   \n",
       "원양조업선         4       4  ...       4       4       4       4         4   \n",
       "일시외항        108     108  ...     108     108     108     108       108   \n",
       "\n",
       "         승무원(외국인)      승객      예선      도선    수리여부  \n",
       "항해구분                                               \n",
       "기타         211781  211781  202950  211781  211781  \n",
       "내외항자격변경      1896    1896    1894    1896    1896  \n",
       "선명변경           10      10      10      10      10  \n",
       "수출선박            6       6       6       6       6  \n",
       "신조선           465     465     428     430     465  \n",
       "실습선,관공선        19      19      19      19      19  \n",
       "외국적 내항선       120     120     105     120     120  \n",
       "원양조업선           4       4       4       4       4  \n",
       "일시외항          108     108     108     108     108  \n",
       "\n",
       "[9 rows x 23 columns]"
      ],
      "text/html": "<div>\n<style scoped>\n    .dataframe tbody tr th:only-of-type {\n        vertical-align: middle;\n    }\n\n    .dataframe tbody tr th {\n        vertical-align: top;\n    }\n\n    .dataframe thead th {\n        text-align: right;\n    }\n</style>\n<table border=\"1\" class=\"dataframe\">\n  <thead>\n    <tr style=\"text-align: right;\">\n      <th></th>\n      <th>호출부호</th>\n      <th>선명</th>\n      <th>입항횟수1</th>\n      <th>입항횟수2</th>\n      <th>구분</th>\n      <th>외내</th>\n      <th>입출</th>\n      <th>총톤수</th>\n      <th>입항일시</th>\n      <th>출항일시</th>\n      <th>...</th>\n      <th>계선장소3</th>\n      <th>차항지</th>\n      <th>전출항지</th>\n      <th>선박용도</th>\n      <th>승무원(한국인)</th>\n      <th>승무원(외국인)</th>\n      <th>승객</th>\n      <th>예선</th>\n      <th>도선</th>\n      <th>수리여부</th>\n    </tr>\n    <tr>\n      <th>항해구분</th>\n      <th></th>\n      <th></th>\n      <th></th>\n      <th></th>\n      <th></th>\n      <th></th>\n      <th></th>\n      <th></th>\n      <th></th>\n      <th></th>\n      <th></th>\n      <th></th>\n      <th></th>\n      <th></th>\n      <th></th>\n      <th></th>\n      <th></th>\n      <th></th>\n      <th></th>\n      <th></th>\n      <th></th>\n    </tr>\n  </thead>\n  <tbody>\n    <tr>\n      <th>기타</th>\n      <td>211781</td>\n      <td>211781</td>\n      <td>211781</td>\n      <td>211781</td>\n      <td>211781</td>\n      <td>211781</td>\n      <td>211781</td>\n      <td>211781</td>\n      <td>211781</td>\n      <td>211781</td>\n      <td>...</td>\n      <td>211781</td>\n      <td>211763</td>\n      <td>211765</td>\n      <td>211781</td>\n      <td>211781</td>\n      <td>211781</td>\n      <td>211781</td>\n      <td>202950</td>\n      <td>211781</td>\n      <td>211781</td>\n    </tr>\n    <tr>\n      <th>내외항자격변경</th>\n      <td>1896</td>\n      <td>1896</td>\n      <td>1896</td>\n      <td>1896</td>\n      <td>1896</td>\n      <td>1896</td>\n      <td>1896</td>\n      <td>1896</td>\n      <td>1896</td>\n      <td>1896</td>\n      <td>...</td>\n      <td>1896</td>\n      <td>1896</td>\n      <td>1896</td>\n      <td>1896</td>\n      <td>1896</td>\n      <td>1896</td>\n      <td>1896</td>\n      <td>1894</td>\n      <td>1896</td>\n      <td>1896</td>\n    </tr>\n    <tr>\n      <th>선명변경</th>\n      <td>10</td>\n      <td>10</td>\n      <td>10</td>\n      <td>10</td>\n      <td>10</td>\n      <td>10</td>\n      <td>10</td>\n      <td>10</td>\n      <td>10</td>\n      <td>10</td>\n      <td>...</td>\n      <td>10</td>\n      <td>10</td>\n      <td>10</td>\n      <td>10</td>\n      <td>10</td>\n      <td>10</td>\n      <td>10</td>\n      <td>10</td>\n      <td>10</td>\n      <td>10</td>\n    </tr>\n    <tr>\n      <th>수출선박</th>\n      <td>6</td>\n      <td>6</td>\n      <td>6</td>\n      <td>6</td>\n      <td>6</td>\n      <td>6</td>\n      <td>6</td>\n      <td>6</td>\n      <td>6</td>\n      <td>6</td>\n      <td>...</td>\n      <td>6</td>\n      <td>6</td>\n      <td>6</td>\n      <td>6</td>\n      <td>6</td>\n      <td>6</td>\n      <td>6</td>\n      <td>6</td>\n      <td>6</td>\n      <td>6</td>\n    </tr>\n    <tr>\n      <th>신조선</th>\n      <td>465</td>\n      <td>465</td>\n      <td>465</td>\n      <td>465</td>\n      <td>465</td>\n      <td>465</td>\n      <td>465</td>\n      <td>465</td>\n      <td>465</td>\n      <td>465</td>\n      <td>...</td>\n      <td>430</td>\n      <td>21</td>\n      <td>21</td>\n      <td>465</td>\n      <td>465</td>\n      <td>465</td>\n      <td>465</td>\n      <td>428</td>\n      <td>430</td>\n      <td>465</td>\n    </tr>\n    <tr>\n      <th>실습선,관공선</th>\n      <td>19</td>\n      <td>19</td>\n      <td>19</td>\n      <td>19</td>\n      <td>19</td>\n      <td>19</td>\n      <td>19</td>\n      <td>19</td>\n      <td>19</td>\n      <td>19</td>\n      <td>...</td>\n      <td>19</td>\n      <td>19</td>\n      <td>19</td>\n      <td>19</td>\n      <td>19</td>\n      <td>19</td>\n      <td>19</td>\n      <td>19</td>\n      <td>19</td>\n      <td>19</td>\n    </tr>\n    <tr>\n      <th>외국적 내항선</th>\n      <td>120</td>\n      <td>120</td>\n      <td>120</td>\n      <td>120</td>\n      <td>120</td>\n      <td>120</td>\n      <td>120</td>\n      <td>120</td>\n      <td>120</td>\n      <td>120</td>\n      <td>...</td>\n      <td>120</td>\n      <td>120</td>\n      <td>120</td>\n      <td>120</td>\n      <td>120</td>\n      <td>120</td>\n      <td>120</td>\n      <td>105</td>\n      <td>120</td>\n      <td>120</td>\n    </tr>\n    <tr>\n      <th>원양조업선</th>\n      <td>4</td>\n      <td>4</td>\n      <td>4</td>\n      <td>4</td>\n      <td>4</td>\n      <td>4</td>\n      <td>4</td>\n      <td>4</td>\n      <td>4</td>\n      <td>4</td>\n      <td>...</td>\n      <td>4</td>\n      <td>4</td>\n      <td>4</td>\n      <td>4</td>\n      <td>4</td>\n      <td>4</td>\n      <td>4</td>\n      <td>4</td>\n      <td>4</td>\n      <td>4</td>\n    </tr>\n    <tr>\n      <th>일시외항</th>\n      <td>108</td>\n      <td>108</td>\n      <td>108</td>\n      <td>108</td>\n      <td>108</td>\n      <td>108</td>\n      <td>108</td>\n      <td>108</td>\n      <td>108</td>\n      <td>108</td>\n      <td>...</td>\n      <td>108</td>\n      <td>108</td>\n      <td>108</td>\n      <td>108</td>\n      <td>108</td>\n      <td>108</td>\n      <td>108</td>\n      <td>108</td>\n      <td>108</td>\n      <td>108</td>\n    </tr>\n  </tbody>\n</table>\n<p>9 rows × 23 columns</p>\n</div>"
     },
     "metadata": {},
     "execution_count": 22
    }
   ],
   "source": [
    "SADS_data.groupby(\"항해구분\").count()"
   ]
  },
  {
   "cell_type": "code",
   "execution_count": 23,
   "metadata": {},
   "outputs": [],
   "source": [
    "def func(x):\n",
    "    if x == \"기타\":\n",
    "        return 0\n",
    "    elif x == \"내외항자격변경\":\n",
    "        return 1\n",
    "    elif x == \"선명변경\":\n",
    "        return 2\n",
    "    elif x == \"수출선박\":\n",
    "        return 3\n",
    "    elif x == \"실습선,관공선\":\n",
    "        return 4\n",
    "    elif x == \"외국적 내항선선\":\n",
    "        return 5\n",
    "    elif x == \"원양조업선\":\n",
    "        return 6\n",
    "    elif x == \"일시외항\":\n",
    "        return 7\n",
    "    else:\n",
    "        return 0"
   ]
  },
  {
   "cell_type": "code",
   "execution_count": 24,
   "metadata": {},
   "outputs": [
    {
     "output_type": "stream",
     "name": "stderr",
     "text": [
      "/home/ubuntu/.local/lib/python3.8/site-packages/pandas/core/frame.py:3607: SettingWithCopyWarning: \nA value is trying to be set on a copy of a slice from a DataFrame.\nTry using .loc[row_indexer,col_indexer] = value instead\n\nSee the caveats in the documentation: https://pandas.pydata.org/pandas-docs/stable/user_guide/indexing.html#returning-a-view-versus-a-copy\n  self._set_item(key, value)\n"
     ]
    }
   ],
   "source": [
    "SADS_data['항해구분'] = SADS_data['항해구분'].apply(lambda x : func(x))"
   ]
  },
  {
   "cell_type": "code",
   "execution_count": 25,
   "metadata": {},
   "outputs": [
    {
     "output_type": "execute_result",
     "data": {
      "text/plain": [
       "     호출부호   선명  입항횟수1  입항횟수2   구분   외내   입출  총톤수  입항일시  출항일시  ...  계선장소3  차항지  \\\n",
       "국적1                                                           ...               \n",
       "AG    538  538    538    538  538  538  538  538   538   538  ...    538  538   \n",
       "AN      4    4      4      4    4    4    4    4     4     4  ...      4    4   \n",
       "AU      8    8      8      8    8    8    8    8     8     8  ...      8    8   \n",
       "BB     10   10     10     10   10   10   10   10    10    10  ...     10   10   \n",
       "BD      7    7      7      7    7    7    7    7     7     7  ...      7    7   \n",
       "..    ...  ...    ...    ...  ...  ...  ...  ...   ...   ...  ...    ...  ...   \n",
       "TZ      2    2      2      2    2    2    2    2     2     2  ...      2    2   \n",
       "US    230  230    230    230  230  230  230  230   230   230  ...    230  230   \n",
       "VC     16   16     16     16   16   16   16   16    16    16  ...     16   16   \n",
       "VN    474  474    474    474  474  474  474  474   474   474  ...    474  474   \n",
       "VU     59   59     59     59   59   59   59   59    59    59  ...     59   58   \n",
       "\n",
       "     전출항지  선박용도  승무원(한국인)  승무원(외국인)   승객   예선   도선  수리여부  \n",
       "국적1                                                       \n",
       "AG    538   538       538       538  538  538  538   538  \n",
       "AN      4     4         4         4    4    4    4     4  \n",
       "AU      8     8         8         8    8    8    8     8  \n",
       "BB     10    10        10        10   10   10   10    10  \n",
       "BD      7     7         7         7    7    7    7     7  \n",
       "..    ...   ...       ...       ...  ...  ...  ...   ...  \n",
       "TZ      2     2         2         2    2    2    2     2  \n",
       "US    230   230       230       230  230  230  230   230  \n",
       "VC     16    16        16        16   16   16   16    16  \n",
       "VN    474   474       474       474  474  474  474   474  \n",
       "VU     58    59        59        59   59   59   59    59  \n",
       "\n",
       "[77 rows x 23 columns]"
      ],
      "text/html": "<div>\n<style scoped>\n    .dataframe tbody tr th:only-of-type {\n        vertical-align: middle;\n    }\n\n    .dataframe tbody tr th {\n        vertical-align: top;\n    }\n\n    .dataframe thead th {\n        text-align: right;\n    }\n</style>\n<table border=\"1\" class=\"dataframe\">\n  <thead>\n    <tr style=\"text-align: right;\">\n      <th></th>\n      <th>호출부호</th>\n      <th>선명</th>\n      <th>입항횟수1</th>\n      <th>입항횟수2</th>\n      <th>구분</th>\n      <th>외내</th>\n      <th>입출</th>\n      <th>총톤수</th>\n      <th>입항일시</th>\n      <th>출항일시</th>\n      <th>...</th>\n      <th>계선장소3</th>\n      <th>차항지</th>\n      <th>전출항지</th>\n      <th>선박용도</th>\n      <th>승무원(한국인)</th>\n      <th>승무원(외국인)</th>\n      <th>승객</th>\n      <th>예선</th>\n      <th>도선</th>\n      <th>수리여부</th>\n    </tr>\n    <tr>\n      <th>국적1</th>\n      <th></th>\n      <th></th>\n      <th></th>\n      <th></th>\n      <th></th>\n      <th></th>\n      <th></th>\n      <th></th>\n      <th></th>\n      <th></th>\n      <th></th>\n      <th></th>\n      <th></th>\n      <th></th>\n      <th></th>\n      <th></th>\n      <th></th>\n      <th></th>\n      <th></th>\n      <th></th>\n      <th></th>\n    </tr>\n  </thead>\n  <tbody>\n    <tr>\n      <th>AG</th>\n      <td>538</td>\n      <td>538</td>\n      <td>538</td>\n      <td>538</td>\n      <td>538</td>\n      <td>538</td>\n      <td>538</td>\n      <td>538</td>\n      <td>538</td>\n      <td>538</td>\n      <td>...</td>\n      <td>538</td>\n      <td>538</td>\n      <td>538</td>\n      <td>538</td>\n      <td>538</td>\n      <td>538</td>\n      <td>538</td>\n      <td>538</td>\n      <td>538</td>\n      <td>538</td>\n    </tr>\n    <tr>\n      <th>AN</th>\n      <td>4</td>\n      <td>4</td>\n      <td>4</td>\n      <td>4</td>\n      <td>4</td>\n      <td>4</td>\n      <td>4</td>\n      <td>4</td>\n      <td>4</td>\n      <td>4</td>\n      <td>...</td>\n      <td>4</td>\n      <td>4</td>\n      <td>4</td>\n      <td>4</td>\n      <td>4</td>\n      <td>4</td>\n      <td>4</td>\n      <td>4</td>\n      <td>4</td>\n      <td>4</td>\n    </tr>\n    <tr>\n      <th>AU</th>\n      <td>8</td>\n      <td>8</td>\n      <td>8</td>\n      <td>8</td>\n      <td>8</td>\n      <td>8</td>\n      <td>8</td>\n      <td>8</td>\n      <td>8</td>\n      <td>8</td>\n      <td>...</td>\n      <td>8</td>\n      <td>8</td>\n      <td>8</td>\n      <td>8</td>\n      <td>8</td>\n      <td>8</td>\n      <td>8</td>\n      <td>8</td>\n      <td>8</td>\n      <td>8</td>\n    </tr>\n    <tr>\n      <th>BB</th>\n      <td>10</td>\n      <td>10</td>\n      <td>10</td>\n      <td>10</td>\n      <td>10</td>\n      <td>10</td>\n      <td>10</td>\n      <td>10</td>\n      <td>10</td>\n      <td>10</td>\n      <td>...</td>\n      <td>10</td>\n      <td>10</td>\n      <td>10</td>\n      <td>10</td>\n      <td>10</td>\n      <td>10</td>\n      <td>10</td>\n      <td>10</td>\n      <td>10</td>\n      <td>10</td>\n    </tr>\n    <tr>\n      <th>BD</th>\n      <td>7</td>\n      <td>7</td>\n      <td>7</td>\n      <td>7</td>\n      <td>7</td>\n      <td>7</td>\n      <td>7</td>\n      <td>7</td>\n      <td>7</td>\n      <td>7</td>\n      <td>...</td>\n      <td>7</td>\n      <td>7</td>\n      <td>7</td>\n      <td>7</td>\n      <td>7</td>\n      <td>7</td>\n      <td>7</td>\n      <td>7</td>\n      <td>7</td>\n      <td>7</td>\n    </tr>\n    <tr>\n      <th>...</th>\n      <td>...</td>\n      <td>...</td>\n      <td>...</td>\n      <td>...</td>\n      <td>...</td>\n      <td>...</td>\n      <td>...</td>\n      <td>...</td>\n      <td>...</td>\n      <td>...</td>\n      <td>...</td>\n      <td>...</td>\n      <td>...</td>\n      <td>...</td>\n      <td>...</td>\n      <td>...</td>\n      <td>...</td>\n      <td>...</td>\n      <td>...</td>\n      <td>...</td>\n      <td>...</td>\n    </tr>\n    <tr>\n      <th>TZ</th>\n      <td>2</td>\n      <td>2</td>\n      <td>2</td>\n      <td>2</td>\n      <td>2</td>\n      <td>2</td>\n      <td>2</td>\n      <td>2</td>\n      <td>2</td>\n      <td>2</td>\n      <td>...</td>\n      <td>2</td>\n      <td>2</td>\n      <td>2</td>\n      <td>2</td>\n      <td>2</td>\n      <td>2</td>\n      <td>2</td>\n      <td>2</td>\n      <td>2</td>\n      <td>2</td>\n    </tr>\n    <tr>\n      <th>US</th>\n      <td>230</td>\n      <td>230</td>\n      <td>230</td>\n      <td>230</td>\n      <td>230</td>\n      <td>230</td>\n      <td>230</td>\n      <td>230</td>\n      <td>230</td>\n      <td>230</td>\n      <td>...</td>\n      <td>230</td>\n      <td>230</td>\n      <td>230</td>\n      <td>230</td>\n      <td>230</td>\n      <td>230</td>\n      <td>230</td>\n      <td>230</td>\n      <td>230</td>\n      <td>230</td>\n    </tr>\n    <tr>\n      <th>VC</th>\n      <td>16</td>\n      <td>16</td>\n      <td>16</td>\n      <td>16</td>\n      <td>16</td>\n      <td>16</td>\n      <td>16</td>\n      <td>16</td>\n      <td>16</td>\n      <td>16</td>\n      <td>...</td>\n      <td>16</td>\n      <td>16</td>\n      <td>16</td>\n      <td>16</td>\n      <td>16</td>\n      <td>16</td>\n      <td>16</td>\n      <td>16</td>\n      <td>16</td>\n      <td>16</td>\n    </tr>\n    <tr>\n      <th>VN</th>\n      <td>474</td>\n      <td>474</td>\n      <td>474</td>\n      <td>474</td>\n      <td>474</td>\n      <td>474</td>\n      <td>474</td>\n      <td>474</td>\n      <td>474</td>\n      <td>474</td>\n      <td>...</td>\n      <td>474</td>\n      <td>474</td>\n      <td>474</td>\n      <td>474</td>\n      <td>474</td>\n      <td>474</td>\n      <td>474</td>\n      <td>474</td>\n      <td>474</td>\n      <td>474</td>\n    </tr>\n    <tr>\n      <th>VU</th>\n      <td>59</td>\n      <td>59</td>\n      <td>59</td>\n      <td>59</td>\n      <td>59</td>\n      <td>59</td>\n      <td>59</td>\n      <td>59</td>\n      <td>59</td>\n      <td>59</td>\n      <td>...</td>\n      <td>59</td>\n      <td>58</td>\n      <td>58</td>\n      <td>59</td>\n      <td>59</td>\n      <td>59</td>\n      <td>59</td>\n      <td>59</td>\n      <td>59</td>\n      <td>59</td>\n    </tr>\n  </tbody>\n</table>\n<p>77 rows × 23 columns</p>\n</div>"
     },
     "metadata": {},
     "execution_count": 25
    }
   ],
   "source": [
    "SADS_data.groupby(\"국적1\").count()"
   ]
  },
  {
   "cell_type": "code",
   "execution_count": 26,
   "metadata": {},
   "outputs": [
    {
     "output_type": "execute_result",
     "data": {
      "text/plain": [
       "           호출부호                 선명 입항횟수1 입항횟수2  구분  외내  입출  \\\n",
       "761       2IYF9     BRITISH NIMBUS  2017   001  최종  외항  입항   \n",
       "975       C6CW4      AMAZON FALCON  2017   001  최종  외항  입항   \n",
       "2197      VRQE6          DHT TIGER  2017   001  최종  외항  입항   \n",
       "2727      2IYH2    BRITISH CAPTAIN  2017   001  최종  외항  입항   \n",
       "2925      9MWF2  SERI CENDERAWASIH  2017   001  최종  외항  입항   \n",
       "...         ...                ...   ...   ...  ..  ..  ..   \n",
       "213374  9HA5357             LEGACY  2021   001  최종  내항  입항   \n",
       "213376    D5YW6        SOLAR NAAMA  2021   001  최종  외항  입항   \n",
       "213901    5LAM7          HMM HANUL  2021   001  최종  외항  입항   \n",
       "214045  V7A2804    PELICAN MARINER  2021   001  최종  외항  입항   \n",
       "214270     BKNB          EVER COZY  2021   001  최종  외항  입항   \n",
       "\n",
       "                                         총톤수              입항일시  \\\n",
       "761                                  28137.0  2017-01-05 22:10   \n",
       "975                                  44722.0  2017-01-07 13:30   \n",
       "2197         30836030836030835787808374784.0  2017-01-16 15:00   \n",
       "2727    4421187069013547594532496850550784.0  2017-01-19 15:48   \n",
       "2925                     44537377982711320.0  2017-01-21 10:00   \n",
       "...                                      ...               ...   \n",
       "213374                          1250012555.0  2021-06-21 00:00   \n",
       "213376                               18335.0  2021-06-21 00:00   \n",
       "213901                              152003.0  2021-06-25 00:00   \n",
       "214045                               29649.0  2021-06-26 00:00   \n",
       "214270                               17970.0  2021-06-28 00:00   \n",
       "\n",
       "                    출항일시  ...     계선장소3  차항지 전출항지    선박용도 승무원(한국인) 승무원(외국인)  \\\n",
       "761     2017-01-05 22:10  ...    6부두 05  NaN  NaN     NaN        0        0   \n",
       "975     2017-01-07 13:30  ...    정박지-E3  NaN  NaN     NaN        0        0   \n",
       "2197    2017-01-16 15:00  ...  현중해양의장안벽  NaN  NaN     NaN        0        0   \n",
       "2727    2017-01-19 15:48  ...    정박지-E3  NaN  NaN     NaN        0        0   \n",
       "2925    2017-01-21 10:00  ...  현중해양의장안벽  NaN  NaN     NaN        0        0   \n",
       "...                  ...  ...       ...  ...  ...     ...      ...      ...   \n",
       "213374  2021-06-21 15:00  ...       NaN  NaN  NaN     신조선        0        0   \n",
       "213376  2021-06-22 23:00  ...       NaN  NaN  NaN     신조선        0        0   \n",
       "213901  2021-06-25 14:05  ...       NaN  NaN  NaN  풀컨테이너선        0        0   \n",
       "214045  2021-06-26 15:45  ...       NaN  NaN  NaN     신조선        0        0   \n",
       "214270  2021-06-28 11:00  ...       NaN  NaN  NaN  풀컨테이너선        0        0   \n",
       "\n",
       "       승객   예선   도선 수리여부  \n",
       "761     0  NaN  NaN    1  \n",
       "975     0  NaN  NaN    1  \n",
       "2197    0  NaN  NaN    1  \n",
       "2727    0  NaN  NaN    1  \n",
       "2925    0  NaN  NaN    1  \n",
       "...    ..  ...  ...  ...  \n",
       "213374  0  NaN  NaN    1  \n",
       "213376  0  NaN  NaN    1  \n",
       "213901  0  NaN  NaN    1  \n",
       "214045  0  NaN  NaN    1  \n",
       "214270  0  NaN  NaN    1  \n",
       "\n",
       "[184 rows x 24 columns]"
      ],
      "text/html": "<div>\n<style scoped>\n    .dataframe tbody tr th:only-of-type {\n        vertical-align: middle;\n    }\n\n    .dataframe tbody tr th {\n        vertical-align: top;\n    }\n\n    .dataframe thead th {\n        text-align: right;\n    }\n</style>\n<table border=\"1\" class=\"dataframe\">\n  <thead>\n    <tr style=\"text-align: right;\">\n      <th></th>\n      <th>호출부호</th>\n      <th>선명</th>\n      <th>입항횟수1</th>\n      <th>입항횟수2</th>\n      <th>구분</th>\n      <th>외내</th>\n      <th>입출</th>\n      <th>총톤수</th>\n      <th>입항일시</th>\n      <th>출항일시</th>\n      <th>...</th>\n      <th>계선장소3</th>\n      <th>차항지</th>\n      <th>전출항지</th>\n      <th>선박용도</th>\n      <th>승무원(한국인)</th>\n      <th>승무원(외국인)</th>\n      <th>승객</th>\n      <th>예선</th>\n      <th>도선</th>\n      <th>수리여부</th>\n    </tr>\n  </thead>\n  <tbody>\n    <tr>\n      <th>761</th>\n      <td>2IYF9</td>\n      <td>BRITISH NIMBUS</td>\n      <td>2017</td>\n      <td>001</td>\n      <td>최종</td>\n      <td>외항</td>\n      <td>입항</td>\n      <td>28137.0</td>\n      <td>2017-01-05 22:10</td>\n      <td>2017-01-05 22:10</td>\n      <td>...</td>\n      <td>6부두 05</td>\n      <td>NaN</td>\n      <td>NaN</td>\n      <td>NaN</td>\n      <td>0</td>\n      <td>0</td>\n      <td>0</td>\n      <td>NaN</td>\n      <td>NaN</td>\n      <td>1</td>\n    </tr>\n    <tr>\n      <th>975</th>\n      <td>C6CW4</td>\n      <td>AMAZON FALCON</td>\n      <td>2017</td>\n      <td>001</td>\n      <td>최종</td>\n      <td>외항</td>\n      <td>입항</td>\n      <td>44722.0</td>\n      <td>2017-01-07 13:30</td>\n      <td>2017-01-07 13:30</td>\n      <td>...</td>\n      <td>정박지-E3</td>\n      <td>NaN</td>\n      <td>NaN</td>\n      <td>NaN</td>\n      <td>0</td>\n      <td>0</td>\n      <td>0</td>\n      <td>NaN</td>\n      <td>NaN</td>\n      <td>1</td>\n    </tr>\n    <tr>\n      <th>2197</th>\n      <td>VRQE6</td>\n      <td>DHT TIGER</td>\n      <td>2017</td>\n      <td>001</td>\n      <td>최종</td>\n      <td>외항</td>\n      <td>입항</td>\n      <td>30836030836030835787808374784.0</td>\n      <td>2017-01-16 15:00</td>\n      <td>2017-01-16 15:00</td>\n      <td>...</td>\n      <td>현중해양의장안벽</td>\n      <td>NaN</td>\n      <td>NaN</td>\n      <td>NaN</td>\n      <td>0</td>\n      <td>0</td>\n      <td>0</td>\n      <td>NaN</td>\n      <td>NaN</td>\n      <td>1</td>\n    </tr>\n    <tr>\n      <th>2727</th>\n      <td>2IYH2</td>\n      <td>BRITISH CAPTAIN</td>\n      <td>2017</td>\n      <td>001</td>\n      <td>최종</td>\n      <td>외항</td>\n      <td>입항</td>\n      <td>4421187069013547594532496850550784.0</td>\n      <td>2017-01-19 15:48</td>\n      <td>2017-01-19 15:48</td>\n      <td>...</td>\n      <td>정박지-E3</td>\n      <td>NaN</td>\n      <td>NaN</td>\n      <td>NaN</td>\n      <td>0</td>\n      <td>0</td>\n      <td>0</td>\n      <td>NaN</td>\n      <td>NaN</td>\n      <td>1</td>\n    </tr>\n    <tr>\n      <th>2925</th>\n      <td>9MWF2</td>\n      <td>SERI CENDERAWASIH</td>\n      <td>2017</td>\n      <td>001</td>\n      <td>최종</td>\n      <td>외항</td>\n      <td>입항</td>\n      <td>44537377982711320.0</td>\n      <td>2017-01-21 10:00</td>\n      <td>2017-01-21 10:00</td>\n      <td>...</td>\n      <td>현중해양의장안벽</td>\n      <td>NaN</td>\n      <td>NaN</td>\n      <td>NaN</td>\n      <td>0</td>\n      <td>0</td>\n      <td>0</td>\n      <td>NaN</td>\n      <td>NaN</td>\n      <td>1</td>\n    </tr>\n    <tr>\n      <th>...</th>\n      <td>...</td>\n      <td>...</td>\n      <td>...</td>\n      <td>...</td>\n      <td>...</td>\n      <td>...</td>\n      <td>...</td>\n      <td>...</td>\n      <td>...</td>\n      <td>...</td>\n      <td>...</td>\n      <td>...</td>\n      <td>...</td>\n      <td>...</td>\n      <td>...</td>\n      <td>...</td>\n      <td>...</td>\n      <td>...</td>\n      <td>...</td>\n      <td>...</td>\n      <td>...</td>\n    </tr>\n    <tr>\n      <th>213374</th>\n      <td>9HA5357</td>\n      <td>LEGACY</td>\n      <td>2021</td>\n      <td>001</td>\n      <td>최종</td>\n      <td>내항</td>\n      <td>입항</td>\n      <td>1250012555.0</td>\n      <td>2021-06-21 00:00</td>\n      <td>2021-06-21 15:00</td>\n      <td>...</td>\n      <td>NaN</td>\n      <td>NaN</td>\n      <td>NaN</td>\n      <td>신조선</td>\n      <td>0</td>\n      <td>0</td>\n      <td>0</td>\n      <td>NaN</td>\n      <td>NaN</td>\n      <td>1</td>\n    </tr>\n    <tr>\n      <th>213376</th>\n      <td>D5YW6</td>\n      <td>SOLAR NAAMA</td>\n      <td>2021</td>\n      <td>001</td>\n      <td>최종</td>\n      <td>외항</td>\n      <td>입항</td>\n      <td>18335.0</td>\n      <td>2021-06-21 00:00</td>\n      <td>2021-06-22 23:00</td>\n      <td>...</td>\n      <td>NaN</td>\n      <td>NaN</td>\n      <td>NaN</td>\n      <td>신조선</td>\n      <td>0</td>\n      <td>0</td>\n      <td>0</td>\n      <td>NaN</td>\n      <td>NaN</td>\n      <td>1</td>\n    </tr>\n    <tr>\n      <th>213901</th>\n      <td>5LAM7</td>\n      <td>HMM HANUL</td>\n      <td>2021</td>\n      <td>001</td>\n      <td>최종</td>\n      <td>외항</td>\n      <td>입항</td>\n      <td>152003.0</td>\n      <td>2021-06-25 00:00</td>\n      <td>2021-06-25 14:05</td>\n      <td>...</td>\n      <td>NaN</td>\n      <td>NaN</td>\n      <td>NaN</td>\n      <td>풀컨테이너선</td>\n      <td>0</td>\n      <td>0</td>\n      <td>0</td>\n      <td>NaN</td>\n      <td>NaN</td>\n      <td>1</td>\n    </tr>\n    <tr>\n      <th>214045</th>\n      <td>V7A2804</td>\n      <td>PELICAN MARINER</td>\n      <td>2021</td>\n      <td>001</td>\n      <td>최종</td>\n      <td>외항</td>\n      <td>입항</td>\n      <td>29649.0</td>\n      <td>2021-06-26 00:00</td>\n      <td>2021-06-26 15:45</td>\n      <td>...</td>\n      <td>NaN</td>\n      <td>NaN</td>\n      <td>NaN</td>\n      <td>신조선</td>\n      <td>0</td>\n      <td>0</td>\n      <td>0</td>\n      <td>NaN</td>\n      <td>NaN</td>\n      <td>1</td>\n    </tr>\n    <tr>\n      <th>214270</th>\n      <td>BKNB</td>\n      <td>EVER COZY</td>\n      <td>2021</td>\n      <td>001</td>\n      <td>최종</td>\n      <td>외항</td>\n      <td>입항</td>\n      <td>17970.0</td>\n      <td>2021-06-28 00:00</td>\n      <td>2021-06-28 11:00</td>\n      <td>...</td>\n      <td>NaN</td>\n      <td>NaN</td>\n      <td>NaN</td>\n      <td>풀컨테이너선</td>\n      <td>0</td>\n      <td>0</td>\n      <td>0</td>\n      <td>NaN</td>\n      <td>NaN</td>\n      <td>1</td>\n    </tr>\n  </tbody>\n</table>\n<p>184 rows × 24 columns</p>\n</div>"
     },
     "metadata": {},
     "execution_count": 26
    }
   ],
   "source": [
    "SADS_data.loc[SADS_data['국적1'].isnull()]"
   ]
  },
  {
   "cell_type": "code",
   "execution_count": 27,
   "metadata": {},
   "outputs": [
    {
     "output_type": "execute_result",
     "data": {
      "text/plain": [
       "        외내  입출           총톤수              입항일시              출항일시  항해구분  국적1  \\\n",
       "213373  내항  출항         25000  2021-06-21 00:00  2021-06-21 15:00     0   KR   \n",
       "213374  내항  입항  1250012555.0  2021-06-21 00:00  2021-06-21 15:00     0  NaN   \n",
       "214417  내항  입항         25110  2021-06-29 08:00  2021-07-05 13:00     0   MT   \n",
       "\n",
       "       계선장소1 계선장소2       계선장소3        차항지 전출항지     선박용도  \n",
       "213373   MQM    04  현대미포의장안벽04        NaN  NaN  LPG 운반선  \n",
       "213374   NaN   NaN         NaN        NaN  NaN      신조선  \n",
       "214417   WAE    02      정박지-E2  SINGAPORE   여수  LPG 운반선  "
      ],
      "text/html": "<div>\n<style scoped>\n    .dataframe tbody tr th:only-of-type {\n        vertical-align: middle;\n    }\n\n    .dataframe tbody tr th {\n        vertical-align: top;\n    }\n\n    .dataframe thead th {\n        text-align: right;\n    }\n</style>\n<table border=\"1\" class=\"dataframe\">\n  <thead>\n    <tr style=\"text-align: right;\">\n      <th></th>\n      <th>외내</th>\n      <th>입출</th>\n      <th>총톤수</th>\n      <th>입항일시</th>\n      <th>출항일시</th>\n      <th>항해구분</th>\n      <th>국적1</th>\n      <th>계선장소1</th>\n      <th>계선장소2</th>\n      <th>계선장소3</th>\n      <th>차항지</th>\n      <th>전출항지</th>\n      <th>선박용도</th>\n    </tr>\n  </thead>\n  <tbody>\n    <tr>\n      <th>213373</th>\n      <td>내항</td>\n      <td>출항</td>\n      <td>25000</td>\n      <td>2021-06-21 00:00</td>\n      <td>2021-06-21 15:00</td>\n      <td>0</td>\n      <td>KR</td>\n      <td>MQM</td>\n      <td>04</td>\n      <td>현대미포의장안벽04</td>\n      <td>NaN</td>\n      <td>NaN</td>\n      <td>LPG 운반선</td>\n    </tr>\n    <tr>\n      <th>213374</th>\n      <td>내항</td>\n      <td>입항</td>\n      <td>1250012555.0</td>\n      <td>2021-06-21 00:00</td>\n      <td>2021-06-21 15:00</td>\n      <td>0</td>\n      <td>NaN</td>\n      <td>NaN</td>\n      <td>NaN</td>\n      <td>NaN</td>\n      <td>NaN</td>\n      <td>NaN</td>\n      <td>신조선</td>\n    </tr>\n    <tr>\n      <th>214417</th>\n      <td>내항</td>\n      <td>입항</td>\n      <td>25110</td>\n      <td>2021-06-29 08:00</td>\n      <td>2021-07-05 13:00</td>\n      <td>0</td>\n      <td>MT</td>\n      <td>WAE</td>\n      <td>02</td>\n      <td>정박지-E2</td>\n      <td>SINGAPORE</td>\n      <td>여수</td>\n      <td>LPG 운반선</td>\n    </tr>\n  </tbody>\n</table>\n</div>"
     },
     "metadata": {},
     "execution_count": 27
    }
   ],
   "source": [
    "SADS_data.loc[SADS_data['호출부호']=='9HA5357', '외내':'선박용도']"
   ]
  },
  {
   "cell_type": "code",
   "execution_count": 28,
   "metadata": {},
   "outputs": [
    {
     "output_type": "execute_result",
     "data": {
      "text/plain": [
       "          호출부호          선명 입항횟수1 입항횟수2  구분  외내  입출    총톤수              입항일시  \\\n",
       "0        V7RW2  AFRICA GAS  2017   001  최초  외항  출항  25098  1950-01-01 00:00   \n",
       "1       975652       97대광호  2015   001  최종  내항  출항    141  2015-02-06 12:35   \n",
       "2       978218        유림5호  2016   001  최종  내항  출항    190  2016-03-29 09:00   \n",
       "3       114432      31 신흥호  2016   006  최종  내항  출항    119  2016-09-09 12:50   \n",
       "4       698123        제5동방  2016   014  최종  내항  출항     44  2016-10-18 00:00   \n",
       "...        ...         ...   ...   ...  ..  ..  ..    ...               ...   \n",
       "214571  9V9557  BOW DALIAN  2021   007  최종  외항  입항   6583  2021-06-30 22:25   \n",
       "214572   5VEH4    XINGHE 9  2021   001  최종  외항  입항   1495  2021-06-30 22:50   \n",
       "214573  130093          삼원  2021   041  최종  내항  입항    699  2021-06-30 23:05   \n",
       "214574  200013          유성  2021   074  최종  내항  입항   1998  2021-06-30 23:05   \n",
       "214575   LACQ6  BOW GEMINI  2021   001  최종  외항  입항  26364  2021-06-30 23:15   \n",
       "\n",
       "                    출항일시  ...        계선장소3          차항지               전출항지  \\\n",
       "0       2017-01-18 20:00  ...   현대미포의장안벽05          NaN                NaN   \n",
       "1       2017-01-11 03:50  ...        장생포호안           부산                 부산   \n",
       "2       2017-01-24 19:33  ...         매암부두           울산                기타항   \n",
       "3       2017-01-12 11:20  ...        용연물양장          기타항                기타항   \n",
       "4       2017-01-15 15:10  ...     현중해양의장안벽          기타항                기타항   \n",
       "...                  ...  ...          ...          ...                ...   \n",
       "214571  2021-07-01 16:54  ...       6부두 03     SHANGHAI                 여수   \n",
       "214572  2021-07-01 15:20  ...       정박지-E1  ZHOUSHAN PT                 부산   \n",
       "214573  2021-07-01 05:25  ...  현대오일터미널신항부두          기타항                기타항   \n",
       "214574  2021-07-01 06:45  ...     SK2부두 01           마산                 마산   \n",
       "214575  2021-07-04 07:00  ...       정박지-E3      AN PING  PANAMA, CIUDAD DE   \n",
       "\n",
       "            선박용도 승무원(한국인) 승무원(외국인) 승객 예선 도선 수리여부  \n",
       "0            신조선        0       21  2  N  N    0  \n",
       "1            급유선        2        1  3  N  N    1  \n",
       "2       이.접안용 예선        5        0  0  N  N    1  \n",
       "3          견인용예선        2        1  0  N  N    1  \n",
       "4          견인용예선        1        1  0  N  N    1  \n",
       "...          ...      ...      ... .. .. ..  ...  \n",
       "214571  석유제품 운반선        0       21  0  Y  Y    1  \n",
       "214572     일반화물선        0        9  0  Y  Y    1  \n",
       "214573  석유제품 운반선        4        4  0  N  N    1  \n",
       "214574  석유제품 운반선        7        5  0  Y  N    1  \n",
       "214575  석유제품 운반선        0       25  0  Y  Y    1  \n",
       "\n",
       "[214378 rows x 24 columns]"
      ],
      "text/html": "<div>\n<style scoped>\n    .dataframe tbody tr th:only-of-type {\n        vertical-align: middle;\n    }\n\n    .dataframe tbody tr th {\n        vertical-align: top;\n    }\n\n    .dataframe thead th {\n        text-align: right;\n    }\n</style>\n<table border=\"1\" class=\"dataframe\">\n  <thead>\n    <tr style=\"text-align: right;\">\n      <th></th>\n      <th>호출부호</th>\n      <th>선명</th>\n      <th>입항횟수1</th>\n      <th>입항횟수2</th>\n      <th>구분</th>\n      <th>외내</th>\n      <th>입출</th>\n      <th>총톤수</th>\n      <th>입항일시</th>\n      <th>출항일시</th>\n      <th>...</th>\n      <th>계선장소3</th>\n      <th>차항지</th>\n      <th>전출항지</th>\n      <th>선박용도</th>\n      <th>승무원(한국인)</th>\n      <th>승무원(외국인)</th>\n      <th>승객</th>\n      <th>예선</th>\n      <th>도선</th>\n      <th>수리여부</th>\n    </tr>\n  </thead>\n  <tbody>\n    <tr>\n      <th>0</th>\n      <td>V7RW2</td>\n      <td>AFRICA GAS</td>\n      <td>2017</td>\n      <td>001</td>\n      <td>최초</td>\n      <td>외항</td>\n      <td>출항</td>\n      <td>25098</td>\n      <td>1950-01-01 00:00</td>\n      <td>2017-01-18 20:00</td>\n      <td>...</td>\n      <td>현대미포의장안벽05</td>\n      <td>NaN</td>\n      <td>NaN</td>\n      <td>신조선</td>\n      <td>0</td>\n      <td>21</td>\n      <td>2</td>\n      <td>N</td>\n      <td>N</td>\n      <td>0</td>\n    </tr>\n    <tr>\n      <th>1</th>\n      <td>975652</td>\n      <td>97대광호</td>\n      <td>2015</td>\n      <td>001</td>\n      <td>최종</td>\n      <td>내항</td>\n      <td>출항</td>\n      <td>141</td>\n      <td>2015-02-06 12:35</td>\n      <td>2017-01-11 03:50</td>\n      <td>...</td>\n      <td>장생포호안</td>\n      <td>부산</td>\n      <td>부산</td>\n      <td>급유선</td>\n      <td>2</td>\n      <td>1</td>\n      <td>3</td>\n      <td>N</td>\n      <td>N</td>\n      <td>1</td>\n    </tr>\n    <tr>\n      <th>2</th>\n      <td>978218</td>\n      <td>유림5호</td>\n      <td>2016</td>\n      <td>001</td>\n      <td>최종</td>\n      <td>내항</td>\n      <td>출항</td>\n      <td>190</td>\n      <td>2016-03-29 09:00</td>\n      <td>2017-01-24 19:33</td>\n      <td>...</td>\n      <td>매암부두</td>\n      <td>울산</td>\n      <td>기타항</td>\n      <td>이.접안용 예선</td>\n      <td>5</td>\n      <td>0</td>\n      <td>0</td>\n      <td>N</td>\n      <td>N</td>\n      <td>1</td>\n    </tr>\n    <tr>\n      <th>3</th>\n      <td>114432</td>\n      <td>31 신흥호</td>\n      <td>2016</td>\n      <td>006</td>\n      <td>최종</td>\n      <td>내항</td>\n      <td>출항</td>\n      <td>119</td>\n      <td>2016-09-09 12:50</td>\n      <td>2017-01-12 11:20</td>\n      <td>...</td>\n      <td>용연물양장</td>\n      <td>기타항</td>\n      <td>기타항</td>\n      <td>견인용예선</td>\n      <td>2</td>\n      <td>1</td>\n      <td>0</td>\n      <td>N</td>\n      <td>N</td>\n      <td>1</td>\n    </tr>\n    <tr>\n      <th>4</th>\n      <td>698123</td>\n      <td>제5동방</td>\n      <td>2016</td>\n      <td>014</td>\n      <td>최종</td>\n      <td>내항</td>\n      <td>출항</td>\n      <td>44</td>\n      <td>2016-10-18 00:00</td>\n      <td>2017-01-15 15:10</td>\n      <td>...</td>\n      <td>현중해양의장안벽</td>\n      <td>기타항</td>\n      <td>기타항</td>\n      <td>견인용예선</td>\n      <td>1</td>\n      <td>1</td>\n      <td>0</td>\n      <td>N</td>\n      <td>N</td>\n      <td>1</td>\n    </tr>\n    <tr>\n      <th>...</th>\n      <td>...</td>\n      <td>...</td>\n      <td>...</td>\n      <td>...</td>\n      <td>...</td>\n      <td>...</td>\n      <td>...</td>\n      <td>...</td>\n      <td>...</td>\n      <td>...</td>\n      <td>...</td>\n      <td>...</td>\n      <td>...</td>\n      <td>...</td>\n      <td>...</td>\n      <td>...</td>\n      <td>...</td>\n      <td>...</td>\n      <td>...</td>\n      <td>...</td>\n      <td>...</td>\n    </tr>\n    <tr>\n      <th>214571</th>\n      <td>9V9557</td>\n      <td>BOW DALIAN</td>\n      <td>2021</td>\n      <td>007</td>\n      <td>최종</td>\n      <td>외항</td>\n      <td>입항</td>\n      <td>6583</td>\n      <td>2021-06-30 22:25</td>\n      <td>2021-07-01 16:54</td>\n      <td>...</td>\n      <td>6부두 03</td>\n      <td>SHANGHAI</td>\n      <td>여수</td>\n      <td>석유제품 운반선</td>\n      <td>0</td>\n      <td>21</td>\n      <td>0</td>\n      <td>Y</td>\n      <td>Y</td>\n      <td>1</td>\n    </tr>\n    <tr>\n      <th>214572</th>\n      <td>5VEH4</td>\n      <td>XINGHE 9</td>\n      <td>2021</td>\n      <td>001</td>\n      <td>최종</td>\n      <td>외항</td>\n      <td>입항</td>\n      <td>1495</td>\n      <td>2021-06-30 22:50</td>\n      <td>2021-07-01 15:20</td>\n      <td>...</td>\n      <td>정박지-E1</td>\n      <td>ZHOUSHAN PT</td>\n      <td>부산</td>\n      <td>일반화물선</td>\n      <td>0</td>\n      <td>9</td>\n      <td>0</td>\n      <td>Y</td>\n      <td>Y</td>\n      <td>1</td>\n    </tr>\n    <tr>\n      <th>214573</th>\n      <td>130093</td>\n      <td>삼원</td>\n      <td>2021</td>\n      <td>041</td>\n      <td>최종</td>\n      <td>내항</td>\n      <td>입항</td>\n      <td>699</td>\n      <td>2021-06-30 23:05</td>\n      <td>2021-07-01 05:25</td>\n      <td>...</td>\n      <td>현대오일터미널신항부두</td>\n      <td>기타항</td>\n      <td>기타항</td>\n      <td>석유제품 운반선</td>\n      <td>4</td>\n      <td>4</td>\n      <td>0</td>\n      <td>N</td>\n      <td>N</td>\n      <td>1</td>\n    </tr>\n    <tr>\n      <th>214574</th>\n      <td>200013</td>\n      <td>유성</td>\n      <td>2021</td>\n      <td>074</td>\n      <td>최종</td>\n      <td>내항</td>\n      <td>입항</td>\n      <td>1998</td>\n      <td>2021-06-30 23:05</td>\n      <td>2021-07-01 06:45</td>\n      <td>...</td>\n      <td>SK2부두 01</td>\n      <td>마산</td>\n      <td>마산</td>\n      <td>석유제품 운반선</td>\n      <td>7</td>\n      <td>5</td>\n      <td>0</td>\n      <td>Y</td>\n      <td>N</td>\n      <td>1</td>\n    </tr>\n    <tr>\n      <th>214575</th>\n      <td>LACQ6</td>\n      <td>BOW GEMINI</td>\n      <td>2021</td>\n      <td>001</td>\n      <td>최종</td>\n      <td>외항</td>\n      <td>입항</td>\n      <td>26364</td>\n      <td>2021-06-30 23:15</td>\n      <td>2021-07-04 07:00</td>\n      <td>...</td>\n      <td>정박지-E3</td>\n      <td>AN PING</td>\n      <td>PANAMA, CIUDAD DE</td>\n      <td>석유제품 운반선</td>\n      <td>0</td>\n      <td>25</td>\n      <td>0</td>\n      <td>Y</td>\n      <td>Y</td>\n      <td>1</td>\n    </tr>\n  </tbody>\n</table>\n<p>214378 rows × 24 columns</p>\n</div>"
     },
     "metadata": {},
     "execution_count": 28
    }
   ],
   "source": [
    "SADS_data = SADS_data.dropna(axis=0, subset=['국적1'])\n",
    "SADS_data"
   ]
  },
  {
   "cell_type": "code",
   "execution_count": 29,
   "metadata": {},
   "outputs": [
    {
     "output_type": "execute_result",
     "data": {
      "text/plain": [
       "           호출부호                 선명 입항횟수1 입항횟수2  구분  외내  입출     총톤수  \\\n",
       "0         V7RW2         AFRICA GAS  2017   001  최초  외항  출항   25098   \n",
       "762       2IYF9     BRITISH NIMBUS  2017   001  최종  외항  출항   28137   \n",
       "970       BFAN5  LAN HAI SHENG HUI  2017   001  최종  외항  출항   32962   \n",
       "971       BFAN5  LAN HAI SHENG HUI  2017   001  최종  외항  입항   32962   \n",
       "974       C6CW4      AMAZON FALCON  2017   001  최종  외항  출항   44722   \n",
       "...         ...                ...   ...   ...  ..  ..  ..     ...   \n",
       "213373  9HA5357             LEGACY  2021   001  최종  내항  출항   25000   \n",
       "213375    D5YW6        SOLAR NAAMA  2021   001  최종  외항  출항   18335   \n",
       "213902    5LAM7          HMM HANUL  2021   001  최종  외항  출항  152003   \n",
       "214046  V7A2804    PELICAN MARINER  2021   001  최종  외항  출항   29649   \n",
       "214269     BKNB          EVER COZY  2021   001  최종  외항  출항   17970   \n",
       "\n",
       "                    입항일시              출항일시  ...        계선장소3  차항지     전출항지  \\\n",
       "0       1950-01-01 00:00  2017-01-18 20:00  ...   현대미포의장안벽05  NaN      NaN   \n",
       "762     2017-01-05 22:10  2017-01-05 22:10  ...       6부두 05  NaN      NaN   \n",
       "970     2017-01-07 13:15  2017-01-07 18:05  ...       정박지-E3  NaN  NEVELSK   \n",
       "971     2017-01-07 13:15  2017-01-07 18:05  ...       정박지-E3  NaN  NEVELSK   \n",
       "974     2017-01-07 13:30  2017-01-07 13:30  ...       정박지-E3  NaN      NaN   \n",
       "...                  ...               ...  ...          ...  ...      ...   \n",
       "213373  2021-06-21 00:00  2021-06-21 15:00  ...   현대미포의장안벽04  NaN      NaN   \n",
       "213375  2021-06-21 00:00  2021-06-22 23:00  ...  벙커링전용정박지 E2  NaN      NaN   \n",
       "213902  2021-06-25 00:00  2021-06-25 14:05  ...     현중해양의장안벽  NaN      NaN   \n",
       "214046  2021-06-26 00:00  2021-06-26 15:45  ...       정박지-E2  NaN      NaN   \n",
       "214269  2021-06-28 00:00  2021-06-28 11:00  ...   현대미포의장안벽03  NaN      NaN   \n",
       "\n",
       "            선박용도 승무원(한국인) 승무원(외국인)  승객 예선 도선 수리여부  \n",
       "0            신조선        0       21   2  N  N    0  \n",
       "762          신조선        0       25   1  N  N    1  \n",
       "970        일반화물선        0       23   0  N  N    1  \n",
       "971        일반화물선        0       23   0  N  N    1  \n",
       "974          신조선        0       24   1  Y  Y    1  \n",
       "...          ...      ...      ...  .. .. ..  ...  \n",
       "213373   LPG 운반선        8        3  53  Y  Y    1  \n",
       "213375       신조선        0       16   0  Y  Y    1  \n",
       "213902    풀컨테이너선       14        8   2  Y  Y    1  \n",
       "214046  석유제품 운반선        2       14   0  Y  Y    1  \n",
       "214269       신조선        0       17   0  Y  Y    1  \n",
       "\n",
       "[430 rows x 24 columns]"
      ],
      "text/html": "<div>\n<style scoped>\n    .dataframe tbody tr th:only-of-type {\n        vertical-align: middle;\n    }\n\n    .dataframe tbody tr th {\n        vertical-align: top;\n    }\n\n    .dataframe thead th {\n        text-align: right;\n    }\n</style>\n<table border=\"1\" class=\"dataframe\">\n  <thead>\n    <tr style=\"text-align: right;\">\n      <th></th>\n      <th>호출부호</th>\n      <th>선명</th>\n      <th>입항횟수1</th>\n      <th>입항횟수2</th>\n      <th>구분</th>\n      <th>외내</th>\n      <th>입출</th>\n      <th>총톤수</th>\n      <th>입항일시</th>\n      <th>출항일시</th>\n      <th>...</th>\n      <th>계선장소3</th>\n      <th>차항지</th>\n      <th>전출항지</th>\n      <th>선박용도</th>\n      <th>승무원(한국인)</th>\n      <th>승무원(외국인)</th>\n      <th>승객</th>\n      <th>예선</th>\n      <th>도선</th>\n      <th>수리여부</th>\n    </tr>\n  </thead>\n  <tbody>\n    <tr>\n      <th>0</th>\n      <td>V7RW2</td>\n      <td>AFRICA GAS</td>\n      <td>2017</td>\n      <td>001</td>\n      <td>최초</td>\n      <td>외항</td>\n      <td>출항</td>\n      <td>25098</td>\n      <td>1950-01-01 00:00</td>\n      <td>2017-01-18 20:00</td>\n      <td>...</td>\n      <td>현대미포의장안벽05</td>\n      <td>NaN</td>\n      <td>NaN</td>\n      <td>신조선</td>\n      <td>0</td>\n      <td>21</td>\n      <td>2</td>\n      <td>N</td>\n      <td>N</td>\n      <td>0</td>\n    </tr>\n    <tr>\n      <th>762</th>\n      <td>2IYF9</td>\n      <td>BRITISH NIMBUS</td>\n      <td>2017</td>\n      <td>001</td>\n      <td>최종</td>\n      <td>외항</td>\n      <td>출항</td>\n      <td>28137</td>\n      <td>2017-01-05 22:10</td>\n      <td>2017-01-05 22:10</td>\n      <td>...</td>\n      <td>6부두 05</td>\n      <td>NaN</td>\n      <td>NaN</td>\n      <td>신조선</td>\n      <td>0</td>\n      <td>25</td>\n      <td>1</td>\n      <td>N</td>\n      <td>N</td>\n      <td>1</td>\n    </tr>\n    <tr>\n      <th>970</th>\n      <td>BFAN5</td>\n      <td>LAN HAI SHENG HUI</td>\n      <td>2017</td>\n      <td>001</td>\n      <td>최종</td>\n      <td>외항</td>\n      <td>출항</td>\n      <td>32962</td>\n      <td>2017-01-07 13:15</td>\n      <td>2017-01-07 18:05</td>\n      <td>...</td>\n      <td>정박지-E3</td>\n      <td>NaN</td>\n      <td>NEVELSK</td>\n      <td>일반화물선</td>\n      <td>0</td>\n      <td>23</td>\n      <td>0</td>\n      <td>N</td>\n      <td>N</td>\n      <td>1</td>\n    </tr>\n    <tr>\n      <th>971</th>\n      <td>BFAN5</td>\n      <td>LAN HAI SHENG HUI</td>\n      <td>2017</td>\n      <td>001</td>\n      <td>최종</td>\n      <td>외항</td>\n      <td>입항</td>\n      <td>32962</td>\n      <td>2017-01-07 13:15</td>\n      <td>2017-01-07 18:05</td>\n      <td>...</td>\n      <td>정박지-E3</td>\n      <td>NaN</td>\n      <td>NEVELSK</td>\n      <td>일반화물선</td>\n      <td>0</td>\n      <td>23</td>\n      <td>0</td>\n      <td>N</td>\n      <td>N</td>\n      <td>1</td>\n    </tr>\n    <tr>\n      <th>974</th>\n      <td>C6CW4</td>\n      <td>AMAZON FALCON</td>\n      <td>2017</td>\n      <td>001</td>\n      <td>최종</td>\n      <td>외항</td>\n      <td>출항</td>\n      <td>44722</td>\n      <td>2017-01-07 13:30</td>\n      <td>2017-01-07 13:30</td>\n      <td>...</td>\n      <td>정박지-E3</td>\n      <td>NaN</td>\n      <td>NaN</td>\n      <td>신조선</td>\n      <td>0</td>\n      <td>24</td>\n      <td>1</td>\n      <td>Y</td>\n      <td>Y</td>\n      <td>1</td>\n    </tr>\n    <tr>\n      <th>...</th>\n      <td>...</td>\n      <td>...</td>\n      <td>...</td>\n      <td>...</td>\n      <td>...</td>\n      <td>...</td>\n      <td>...</td>\n      <td>...</td>\n      <td>...</td>\n      <td>...</td>\n      <td>...</td>\n      <td>...</td>\n      <td>...</td>\n      <td>...</td>\n      <td>...</td>\n      <td>...</td>\n      <td>...</td>\n      <td>...</td>\n      <td>...</td>\n      <td>...</td>\n      <td>...</td>\n    </tr>\n    <tr>\n      <th>213373</th>\n      <td>9HA5357</td>\n      <td>LEGACY</td>\n      <td>2021</td>\n      <td>001</td>\n      <td>최종</td>\n      <td>내항</td>\n      <td>출항</td>\n      <td>25000</td>\n      <td>2021-06-21 00:00</td>\n      <td>2021-06-21 15:00</td>\n      <td>...</td>\n      <td>현대미포의장안벽04</td>\n      <td>NaN</td>\n      <td>NaN</td>\n      <td>LPG 운반선</td>\n      <td>8</td>\n      <td>3</td>\n      <td>53</td>\n      <td>Y</td>\n      <td>Y</td>\n      <td>1</td>\n    </tr>\n    <tr>\n      <th>213375</th>\n      <td>D5YW6</td>\n      <td>SOLAR NAAMA</td>\n      <td>2021</td>\n      <td>001</td>\n      <td>최종</td>\n      <td>외항</td>\n      <td>출항</td>\n      <td>18335</td>\n      <td>2021-06-21 00:00</td>\n      <td>2021-06-22 23:00</td>\n      <td>...</td>\n      <td>벙커링전용정박지 E2</td>\n      <td>NaN</td>\n      <td>NaN</td>\n      <td>신조선</td>\n      <td>0</td>\n      <td>16</td>\n      <td>0</td>\n      <td>Y</td>\n      <td>Y</td>\n      <td>1</td>\n    </tr>\n    <tr>\n      <th>213902</th>\n      <td>5LAM7</td>\n      <td>HMM HANUL</td>\n      <td>2021</td>\n      <td>001</td>\n      <td>최종</td>\n      <td>외항</td>\n      <td>출항</td>\n      <td>152003</td>\n      <td>2021-06-25 00:00</td>\n      <td>2021-06-25 14:05</td>\n      <td>...</td>\n      <td>현중해양의장안벽</td>\n      <td>NaN</td>\n      <td>NaN</td>\n      <td>풀컨테이너선</td>\n      <td>14</td>\n      <td>8</td>\n      <td>2</td>\n      <td>Y</td>\n      <td>Y</td>\n      <td>1</td>\n    </tr>\n    <tr>\n      <th>214046</th>\n      <td>V7A2804</td>\n      <td>PELICAN MARINER</td>\n      <td>2021</td>\n      <td>001</td>\n      <td>최종</td>\n      <td>외항</td>\n      <td>출항</td>\n      <td>29649</td>\n      <td>2021-06-26 00:00</td>\n      <td>2021-06-26 15:45</td>\n      <td>...</td>\n      <td>정박지-E2</td>\n      <td>NaN</td>\n      <td>NaN</td>\n      <td>석유제품 운반선</td>\n      <td>2</td>\n      <td>14</td>\n      <td>0</td>\n      <td>Y</td>\n      <td>Y</td>\n      <td>1</td>\n    </tr>\n    <tr>\n      <th>214269</th>\n      <td>BKNB</td>\n      <td>EVER COZY</td>\n      <td>2021</td>\n      <td>001</td>\n      <td>최종</td>\n      <td>외항</td>\n      <td>출항</td>\n      <td>17970</td>\n      <td>2021-06-28 00:00</td>\n      <td>2021-06-28 11:00</td>\n      <td>...</td>\n      <td>현대미포의장안벽03</td>\n      <td>NaN</td>\n      <td>NaN</td>\n      <td>신조선</td>\n      <td>0</td>\n      <td>17</td>\n      <td>0</td>\n      <td>Y</td>\n      <td>Y</td>\n      <td>1</td>\n    </tr>\n  </tbody>\n</table>\n<p>430 rows × 24 columns</p>\n</div>"
     },
     "metadata": {},
     "execution_count": 29
    }
   ],
   "source": [
    "SADS_data.loc[SADS_data['차항지'].isnull()]"
   ]
  },
  {
   "cell_type": "code",
   "execution_count": 30,
   "metadata": {},
   "outputs": [
    {
     "output_type": "execute_result",
     "data": {
      "text/plain": [
       "        외내  입출    총톤수              입항일시              출항일시  항해구분 국적1 계선장소1  \\\n",
       "213373  내항  출항  25000  2021-06-21 00:00  2021-06-21 15:00     0  KR   MQM   \n",
       "214417  내항  입항  25110  2021-06-29 08:00  2021-07-05 13:00     0  MT   WAE   \n",
       "\n",
       "       계선장소2       계선장소3        차항지 전출항지     선박용도  \n",
       "213373    04  현대미포의장안벽04        NaN  NaN  LPG 운반선  \n",
       "214417    02      정박지-E2  SINGAPORE   여수  LPG 운반선  "
      ],
      "text/html": "<div>\n<style scoped>\n    .dataframe tbody tr th:only-of-type {\n        vertical-align: middle;\n    }\n\n    .dataframe tbody tr th {\n        vertical-align: top;\n    }\n\n    .dataframe thead th {\n        text-align: right;\n    }\n</style>\n<table border=\"1\" class=\"dataframe\">\n  <thead>\n    <tr style=\"text-align: right;\">\n      <th></th>\n      <th>외내</th>\n      <th>입출</th>\n      <th>총톤수</th>\n      <th>입항일시</th>\n      <th>출항일시</th>\n      <th>항해구분</th>\n      <th>국적1</th>\n      <th>계선장소1</th>\n      <th>계선장소2</th>\n      <th>계선장소3</th>\n      <th>차항지</th>\n      <th>전출항지</th>\n      <th>선박용도</th>\n    </tr>\n  </thead>\n  <tbody>\n    <tr>\n      <th>213373</th>\n      <td>내항</td>\n      <td>출항</td>\n      <td>25000</td>\n      <td>2021-06-21 00:00</td>\n      <td>2021-06-21 15:00</td>\n      <td>0</td>\n      <td>KR</td>\n      <td>MQM</td>\n      <td>04</td>\n      <td>현대미포의장안벽04</td>\n      <td>NaN</td>\n      <td>NaN</td>\n      <td>LPG 운반선</td>\n    </tr>\n    <tr>\n      <th>214417</th>\n      <td>내항</td>\n      <td>입항</td>\n      <td>25110</td>\n      <td>2021-06-29 08:00</td>\n      <td>2021-07-05 13:00</td>\n      <td>0</td>\n      <td>MT</td>\n      <td>WAE</td>\n      <td>02</td>\n      <td>정박지-E2</td>\n      <td>SINGAPORE</td>\n      <td>여수</td>\n      <td>LPG 운반선</td>\n    </tr>\n  </tbody>\n</table>\n</div>"
     },
     "metadata": {},
     "execution_count": 30
    }
   ],
   "source": [
    "SADS_data.loc[SADS_data['호출부호']=='9HA5357', '외내':'선박용도']"
   ]
  },
  {
   "source": [
    "전출항지, 차항지, 예선, 도선은 나중에 모델링 때 군집화"
   ],
   "cell_type": "markdown",
   "metadata": {}
  },
  {
   "cell_type": "code",
   "execution_count": 31,
   "metadata": {},
   "outputs": [
    {
     "output_type": "execute_result",
     "data": {
      "text/plain": [
       "          호출부호             선명 입항횟수1 입항횟수2  구분  외내  입출    총톤수  \\\n",
       "7632     2IYH6  BRITISH CHIEF  2017   001  최종  외항  입항  30948   \n",
       "12235    DSEB5          201금용  2015   003  최종  내항  출항     57   \n",
       "14839   9V3700      ST. PAULI  2017   001  최종  외항  입항  29365   \n",
       "54913     3FVS       G. DOLCE  2018   001  최종  내항  입항  47287   \n",
       "67826   048246         울산703호  2017   024  최종  내항  출항    107   \n",
       "...        ...            ...   ...   ...  ..  ..  ..    ...   \n",
       "138908  120039            삼성호  2019   048  최종  내항  출항    223   \n",
       "138921  120059          부양에이스  2019   081  최종  내항  출항    415   \n",
       "138950  130095          스카이로얄  2019   066  최종  내항  출항   1716   \n",
       "138963  190008            부광호  2019   059  최종  내항  출항    499   \n",
       "139051  091116            현중호  2019   013  최종  내항  출항    149   \n",
       "\n",
       "                    입항일시              출항일시  ...       계선장소3  차항지 전출항지  \\\n",
       "7632    2017-02-26 13:40  2017-02-26 13:40  ...       SK8부두  NaN  NaN   \n",
       "12235   2015-09-03 00:50  2017-04-13 13:35  ...       이진물양장  기타항  기타항   \n",
       "14839   2017-04-19 17:10  2017-04-19 17:10  ...       OTK부두  NaN  NaN   \n",
       "54913   2018-02-20 09:35  2018-02-20 09:35  ...    현중해양의장안벽  NaN  NaN   \n",
       "67826   2017-10-20 11:45  2018-06-04 12:55  ...   용연부두(1선석)  기타항  기타항   \n",
       "...                  ...               ...  ...         ...  ...  ...   \n",
       "138908  2019-12-02 15:40  2019-12-03 02:40  ...  신항컨테이너부두04   부산   여수   \n",
       "138921  2019-12-02 18:55  2019-12-03 00:45  ...    SK2부두 01  기타항  기타항   \n",
       "138950  2019-12-02 22:20  2019-12-03 13:55  ...    SK2부두 02   부산   마산   \n",
       "138963  2019-12-02 23:45  2019-12-03 01:10  ...  신항컨테이너부두04   부산   부산   \n",
       "139051  2019-12-03 17:15  2019-12-03 20:10  ...       온산2부두   부산   부산   \n",
       "\n",
       "            선박용도 승무원(한국인) 승무원(외국인) 승객   예선   도선 수리여부  \n",
       "7632         신조선        0        0  0  NaN  NaN    1  \n",
       "12235      견인용예선        1        0  0  NaN    N    1  \n",
       "14839        신조선        0        0  0  NaN  NaN    1  \n",
       "54913        신조선        0        0  0  NaN  NaN    1  \n",
       "67826      견인용예선        1        0  0  NaN    N    1  \n",
       "...          ...      ...      ... ..  ...  ...  ...  \n",
       "138908       급유선        3        1  0  NaN    N    1  \n",
       "138921  석유제품 운반선        4        2  0  NaN    N    1  \n",
       "138950  석유제품 운반선        6        6  0  NaN    N    1  \n",
       "138963  석유제품 운반선        4        2  0  NaN    N    1  \n",
       "139051  석유제품 운반선        2        1  0  NaN    N    1  \n",
       "\n",
       "[8853 rows x 24 columns]"
      ],
      "text/html": "<div>\n<style scoped>\n    .dataframe tbody tr th:only-of-type {\n        vertical-align: middle;\n    }\n\n    .dataframe tbody tr th {\n        vertical-align: top;\n    }\n\n    .dataframe thead th {\n        text-align: right;\n    }\n</style>\n<table border=\"1\" class=\"dataframe\">\n  <thead>\n    <tr style=\"text-align: right;\">\n      <th></th>\n      <th>호출부호</th>\n      <th>선명</th>\n      <th>입항횟수1</th>\n      <th>입항횟수2</th>\n      <th>구분</th>\n      <th>외내</th>\n      <th>입출</th>\n      <th>총톤수</th>\n      <th>입항일시</th>\n      <th>출항일시</th>\n      <th>...</th>\n      <th>계선장소3</th>\n      <th>차항지</th>\n      <th>전출항지</th>\n      <th>선박용도</th>\n      <th>승무원(한국인)</th>\n      <th>승무원(외국인)</th>\n      <th>승객</th>\n      <th>예선</th>\n      <th>도선</th>\n      <th>수리여부</th>\n    </tr>\n  </thead>\n  <tbody>\n    <tr>\n      <th>7632</th>\n      <td>2IYH6</td>\n      <td>BRITISH CHIEF</td>\n      <td>2017</td>\n      <td>001</td>\n      <td>최종</td>\n      <td>외항</td>\n      <td>입항</td>\n      <td>30948</td>\n      <td>2017-02-26 13:40</td>\n      <td>2017-02-26 13:40</td>\n      <td>...</td>\n      <td>SK8부두</td>\n      <td>NaN</td>\n      <td>NaN</td>\n      <td>신조선</td>\n      <td>0</td>\n      <td>0</td>\n      <td>0</td>\n      <td>NaN</td>\n      <td>NaN</td>\n      <td>1</td>\n    </tr>\n    <tr>\n      <th>12235</th>\n      <td>DSEB5</td>\n      <td>201금용</td>\n      <td>2015</td>\n      <td>003</td>\n      <td>최종</td>\n      <td>내항</td>\n      <td>출항</td>\n      <td>57</td>\n      <td>2015-09-03 00:50</td>\n      <td>2017-04-13 13:35</td>\n      <td>...</td>\n      <td>이진물양장</td>\n      <td>기타항</td>\n      <td>기타항</td>\n      <td>견인용예선</td>\n      <td>1</td>\n      <td>0</td>\n      <td>0</td>\n      <td>NaN</td>\n      <td>N</td>\n      <td>1</td>\n    </tr>\n    <tr>\n      <th>14839</th>\n      <td>9V3700</td>\n      <td>ST. PAULI</td>\n      <td>2017</td>\n      <td>001</td>\n      <td>최종</td>\n      <td>외항</td>\n      <td>입항</td>\n      <td>29365</td>\n      <td>2017-04-19 17:10</td>\n      <td>2017-04-19 17:10</td>\n      <td>...</td>\n      <td>OTK부두</td>\n      <td>NaN</td>\n      <td>NaN</td>\n      <td>신조선</td>\n      <td>0</td>\n      <td>0</td>\n      <td>0</td>\n      <td>NaN</td>\n      <td>NaN</td>\n      <td>1</td>\n    </tr>\n    <tr>\n      <th>54913</th>\n      <td>3FVS</td>\n      <td>G. DOLCE</td>\n      <td>2018</td>\n      <td>001</td>\n      <td>최종</td>\n      <td>내항</td>\n      <td>입항</td>\n      <td>47287</td>\n      <td>2018-02-20 09:35</td>\n      <td>2018-02-20 09:35</td>\n      <td>...</td>\n      <td>현중해양의장안벽</td>\n      <td>NaN</td>\n      <td>NaN</td>\n      <td>신조선</td>\n      <td>0</td>\n      <td>0</td>\n      <td>0</td>\n      <td>NaN</td>\n      <td>NaN</td>\n      <td>1</td>\n    </tr>\n    <tr>\n      <th>67826</th>\n      <td>048246</td>\n      <td>울산703호</td>\n      <td>2017</td>\n      <td>024</td>\n      <td>최종</td>\n      <td>내항</td>\n      <td>출항</td>\n      <td>107</td>\n      <td>2017-10-20 11:45</td>\n      <td>2018-06-04 12:55</td>\n      <td>...</td>\n      <td>용연부두(1선석)</td>\n      <td>기타항</td>\n      <td>기타항</td>\n      <td>견인용예선</td>\n      <td>1</td>\n      <td>0</td>\n      <td>0</td>\n      <td>NaN</td>\n      <td>N</td>\n      <td>1</td>\n    </tr>\n    <tr>\n      <th>...</th>\n      <td>...</td>\n      <td>...</td>\n      <td>...</td>\n      <td>...</td>\n      <td>...</td>\n      <td>...</td>\n      <td>...</td>\n      <td>...</td>\n      <td>...</td>\n      <td>...</td>\n      <td>...</td>\n      <td>...</td>\n      <td>...</td>\n      <td>...</td>\n      <td>...</td>\n      <td>...</td>\n      <td>...</td>\n      <td>...</td>\n      <td>...</td>\n      <td>...</td>\n      <td>...</td>\n    </tr>\n    <tr>\n      <th>138908</th>\n      <td>120039</td>\n      <td>삼성호</td>\n      <td>2019</td>\n      <td>048</td>\n      <td>최종</td>\n      <td>내항</td>\n      <td>출항</td>\n      <td>223</td>\n      <td>2019-12-02 15:40</td>\n      <td>2019-12-03 02:40</td>\n      <td>...</td>\n      <td>신항컨테이너부두04</td>\n      <td>부산</td>\n      <td>여수</td>\n      <td>급유선</td>\n      <td>3</td>\n      <td>1</td>\n      <td>0</td>\n      <td>NaN</td>\n      <td>N</td>\n      <td>1</td>\n    </tr>\n    <tr>\n      <th>138921</th>\n      <td>120059</td>\n      <td>부양에이스</td>\n      <td>2019</td>\n      <td>081</td>\n      <td>최종</td>\n      <td>내항</td>\n      <td>출항</td>\n      <td>415</td>\n      <td>2019-12-02 18:55</td>\n      <td>2019-12-03 00:45</td>\n      <td>...</td>\n      <td>SK2부두 01</td>\n      <td>기타항</td>\n      <td>기타항</td>\n      <td>석유제품 운반선</td>\n      <td>4</td>\n      <td>2</td>\n      <td>0</td>\n      <td>NaN</td>\n      <td>N</td>\n      <td>1</td>\n    </tr>\n    <tr>\n      <th>138950</th>\n      <td>130095</td>\n      <td>스카이로얄</td>\n      <td>2019</td>\n      <td>066</td>\n      <td>최종</td>\n      <td>내항</td>\n      <td>출항</td>\n      <td>1716</td>\n      <td>2019-12-02 22:20</td>\n      <td>2019-12-03 13:55</td>\n      <td>...</td>\n      <td>SK2부두 02</td>\n      <td>부산</td>\n      <td>마산</td>\n      <td>석유제품 운반선</td>\n      <td>6</td>\n      <td>6</td>\n      <td>0</td>\n      <td>NaN</td>\n      <td>N</td>\n      <td>1</td>\n    </tr>\n    <tr>\n      <th>138963</th>\n      <td>190008</td>\n      <td>부광호</td>\n      <td>2019</td>\n      <td>059</td>\n      <td>최종</td>\n      <td>내항</td>\n      <td>출항</td>\n      <td>499</td>\n      <td>2019-12-02 23:45</td>\n      <td>2019-12-03 01:10</td>\n      <td>...</td>\n      <td>신항컨테이너부두04</td>\n      <td>부산</td>\n      <td>부산</td>\n      <td>석유제품 운반선</td>\n      <td>4</td>\n      <td>2</td>\n      <td>0</td>\n      <td>NaN</td>\n      <td>N</td>\n      <td>1</td>\n    </tr>\n    <tr>\n      <th>139051</th>\n      <td>091116</td>\n      <td>현중호</td>\n      <td>2019</td>\n      <td>013</td>\n      <td>최종</td>\n      <td>내항</td>\n      <td>출항</td>\n      <td>149</td>\n      <td>2019-12-03 17:15</td>\n      <td>2019-12-03 20:10</td>\n      <td>...</td>\n      <td>온산2부두</td>\n      <td>부산</td>\n      <td>부산</td>\n      <td>석유제품 운반선</td>\n      <td>2</td>\n      <td>1</td>\n      <td>0</td>\n      <td>NaN</td>\n      <td>N</td>\n      <td>1</td>\n    </tr>\n  </tbody>\n</table>\n<p>8853 rows × 24 columns</p>\n</div>"
     },
     "metadata": {},
     "execution_count": 31
    }
   ],
   "source": [
    "SADS_data.loc[SADS_data['예선'].isnull()]"
   ]
  },
  {
   "cell_type": "code",
   "execution_count": 32,
   "metadata": {},
   "outputs": [
    {
     "output_type": "execute_result",
     "data": {
      "text/plain": [
       "        외내  입출  총톤수              입항일시              출항일시  항해구분 국적1 계선장소1 계선장소2  \\\n",
       "648     내항  입항  415  2017-01-04 19:55  2017-01-05 08:10     0  KR   WAM    01   \n",
       "649     내항  출항  415  2017-01-04 19:55  2017-01-05 08:10     0  KR   MBU    01   \n",
       "763     내항  출항  415  2017-01-05 22:50  2017-01-06 04:35     0  KR   MBU    02   \n",
       "764     내항  입항  415  2017-01-05 22:50  2017-01-06 04:35     0  KR   WAM    02   \n",
       "926     내항  입항  415  2017-01-07 07:30  2017-01-07 13:10     0  KR   WAM    01   \n",
       "...     ..  ..  ...               ...               ...   ...  ..   ...   ...   \n",
       "213451  내항  입항  415  2021-06-21 14:45  2021-06-22 00:40     0  KR   WAM    01   \n",
       "214022  내항  입항  415  2021-06-25 19:12  2021-06-26 01:05     0  KR   MBN    12   \n",
       "214023  내항  출항  415  2021-06-25 19:12  2021-06-26 01:05     0  KR   MBN    12   \n",
       "214438  내항  입항  415  2021-06-29 14:15  2021-06-29 18:40     0  KR   MBU    02   \n",
       "214439  내항  출항  415  2021-06-29 14:15  2021-06-29 18:40     0  KR   MBU    02   \n",
       "\n",
       "              계선장소3  차항지 전출항지      선박용도 승무원(한국인) 승무원(외국인) 승객 예선 도선  \n",
       "648          정박지 01  기타항   부산  석유제품 운반선        4        2  0  N  N  \n",
       "649        SK2부두 01  기타항   부산  석유제품 운반선        4        2  0  N  N  \n",
       "763        SK2부두 02  기타항  기타항  석유제품 운반선        4        2  0  N  N  \n",
       "764          정박지 02  기타항  기타항  석유제품 운반선        4        2  0  N  N  \n",
       "926          정박지 01  기타항  기타항  석유제품 운반선        4        2  0  N  N  \n",
       "...             ...  ...  ...       ...      ...      ... .. .. ..  \n",
       "213451       정박지 01  기타항   부산  석유제품 운반선        4        2  0  N  N  \n",
       "214022  현대오일터미널신항부두  기타항   부산  석유제품 운반선        4        2  0  N  N  \n",
       "214023  현대오일터미널신항부두  기타항   부산  석유제품 운반선        4        2  0  N  N  \n",
       "214438     SK2부두 02  기타항   부산  석유제품 운반선        4        2  0  N  N  \n",
       "214439     SK2부두 02  기타항   부산  석유제품 운반선        4        2  0  N  N  \n",
       "\n",
       "[680 rows x 18 columns]"
      ],
      "text/html": "<div>\n<style scoped>\n    .dataframe tbody tr th:only-of-type {\n        vertical-align: middle;\n    }\n\n    .dataframe tbody tr th {\n        vertical-align: top;\n    }\n\n    .dataframe thead th {\n        text-align: right;\n    }\n</style>\n<table border=\"1\" class=\"dataframe\">\n  <thead>\n    <tr style=\"text-align: right;\">\n      <th></th>\n      <th>외내</th>\n      <th>입출</th>\n      <th>총톤수</th>\n      <th>입항일시</th>\n      <th>출항일시</th>\n      <th>항해구분</th>\n      <th>국적1</th>\n      <th>계선장소1</th>\n      <th>계선장소2</th>\n      <th>계선장소3</th>\n      <th>차항지</th>\n      <th>전출항지</th>\n      <th>선박용도</th>\n      <th>승무원(한국인)</th>\n      <th>승무원(외국인)</th>\n      <th>승객</th>\n      <th>예선</th>\n      <th>도선</th>\n    </tr>\n  </thead>\n  <tbody>\n    <tr>\n      <th>648</th>\n      <td>내항</td>\n      <td>입항</td>\n      <td>415</td>\n      <td>2017-01-04 19:55</td>\n      <td>2017-01-05 08:10</td>\n      <td>0</td>\n      <td>KR</td>\n      <td>WAM</td>\n      <td>01</td>\n      <td>정박지 01</td>\n      <td>기타항</td>\n      <td>부산</td>\n      <td>석유제품 운반선</td>\n      <td>4</td>\n      <td>2</td>\n      <td>0</td>\n      <td>N</td>\n      <td>N</td>\n    </tr>\n    <tr>\n      <th>649</th>\n      <td>내항</td>\n      <td>출항</td>\n      <td>415</td>\n      <td>2017-01-04 19:55</td>\n      <td>2017-01-05 08:10</td>\n      <td>0</td>\n      <td>KR</td>\n      <td>MBU</td>\n      <td>01</td>\n      <td>SK2부두 01</td>\n      <td>기타항</td>\n      <td>부산</td>\n      <td>석유제품 운반선</td>\n      <td>4</td>\n      <td>2</td>\n      <td>0</td>\n      <td>N</td>\n      <td>N</td>\n    </tr>\n    <tr>\n      <th>763</th>\n      <td>내항</td>\n      <td>출항</td>\n      <td>415</td>\n      <td>2017-01-05 22:50</td>\n      <td>2017-01-06 04:35</td>\n      <td>0</td>\n      <td>KR</td>\n      <td>MBU</td>\n      <td>02</td>\n      <td>SK2부두 02</td>\n      <td>기타항</td>\n      <td>기타항</td>\n      <td>석유제품 운반선</td>\n      <td>4</td>\n      <td>2</td>\n      <td>0</td>\n      <td>N</td>\n      <td>N</td>\n    </tr>\n    <tr>\n      <th>764</th>\n      <td>내항</td>\n      <td>입항</td>\n      <td>415</td>\n      <td>2017-01-05 22:50</td>\n      <td>2017-01-06 04:35</td>\n      <td>0</td>\n      <td>KR</td>\n      <td>WAM</td>\n      <td>02</td>\n      <td>정박지 02</td>\n      <td>기타항</td>\n      <td>기타항</td>\n      <td>석유제품 운반선</td>\n      <td>4</td>\n      <td>2</td>\n      <td>0</td>\n      <td>N</td>\n      <td>N</td>\n    </tr>\n    <tr>\n      <th>926</th>\n      <td>내항</td>\n      <td>입항</td>\n      <td>415</td>\n      <td>2017-01-07 07:30</td>\n      <td>2017-01-07 13:10</td>\n      <td>0</td>\n      <td>KR</td>\n      <td>WAM</td>\n      <td>01</td>\n      <td>정박지 01</td>\n      <td>기타항</td>\n      <td>기타항</td>\n      <td>석유제품 운반선</td>\n      <td>4</td>\n      <td>2</td>\n      <td>0</td>\n      <td>N</td>\n      <td>N</td>\n    </tr>\n    <tr>\n      <th>...</th>\n      <td>...</td>\n      <td>...</td>\n      <td>...</td>\n      <td>...</td>\n      <td>...</td>\n      <td>...</td>\n      <td>...</td>\n      <td>...</td>\n      <td>...</td>\n      <td>...</td>\n      <td>...</td>\n      <td>...</td>\n      <td>...</td>\n      <td>...</td>\n      <td>...</td>\n      <td>...</td>\n      <td>...</td>\n      <td>...</td>\n    </tr>\n    <tr>\n      <th>213451</th>\n      <td>내항</td>\n      <td>입항</td>\n      <td>415</td>\n      <td>2021-06-21 14:45</td>\n      <td>2021-06-22 00:40</td>\n      <td>0</td>\n      <td>KR</td>\n      <td>WAM</td>\n      <td>01</td>\n      <td>정박지 01</td>\n      <td>기타항</td>\n      <td>부산</td>\n      <td>석유제품 운반선</td>\n      <td>4</td>\n      <td>2</td>\n      <td>0</td>\n      <td>N</td>\n      <td>N</td>\n    </tr>\n    <tr>\n      <th>214022</th>\n      <td>내항</td>\n      <td>입항</td>\n      <td>415</td>\n      <td>2021-06-25 19:12</td>\n      <td>2021-06-26 01:05</td>\n      <td>0</td>\n      <td>KR</td>\n      <td>MBN</td>\n      <td>12</td>\n      <td>현대오일터미널신항부두</td>\n      <td>기타항</td>\n      <td>부산</td>\n      <td>석유제품 운반선</td>\n      <td>4</td>\n      <td>2</td>\n      <td>0</td>\n      <td>N</td>\n      <td>N</td>\n    </tr>\n    <tr>\n      <th>214023</th>\n      <td>내항</td>\n      <td>출항</td>\n      <td>415</td>\n      <td>2021-06-25 19:12</td>\n      <td>2021-06-26 01:05</td>\n      <td>0</td>\n      <td>KR</td>\n      <td>MBN</td>\n      <td>12</td>\n      <td>현대오일터미널신항부두</td>\n      <td>기타항</td>\n      <td>부산</td>\n      <td>석유제품 운반선</td>\n      <td>4</td>\n      <td>2</td>\n      <td>0</td>\n      <td>N</td>\n      <td>N</td>\n    </tr>\n    <tr>\n      <th>214438</th>\n      <td>내항</td>\n      <td>입항</td>\n      <td>415</td>\n      <td>2021-06-29 14:15</td>\n      <td>2021-06-29 18:40</td>\n      <td>0</td>\n      <td>KR</td>\n      <td>MBU</td>\n      <td>02</td>\n      <td>SK2부두 02</td>\n      <td>기타항</td>\n      <td>부산</td>\n      <td>석유제품 운반선</td>\n      <td>4</td>\n      <td>2</td>\n      <td>0</td>\n      <td>N</td>\n      <td>N</td>\n    </tr>\n    <tr>\n      <th>214439</th>\n      <td>내항</td>\n      <td>출항</td>\n      <td>415</td>\n      <td>2021-06-29 14:15</td>\n      <td>2021-06-29 18:40</td>\n      <td>0</td>\n      <td>KR</td>\n      <td>MBU</td>\n      <td>02</td>\n      <td>SK2부두 02</td>\n      <td>기타항</td>\n      <td>부산</td>\n      <td>석유제품 운반선</td>\n      <td>4</td>\n      <td>2</td>\n      <td>0</td>\n      <td>N</td>\n      <td>N</td>\n    </tr>\n  </tbody>\n</table>\n<p>680 rows × 18 columns</p>\n</div>"
     },
     "metadata": {},
     "execution_count": 32
    }
   ],
   "source": [
    "SADS_data.loc[SADS_data['호출부호']=='120059', '외내':'도선']"
   ]
  },
  {
   "source": [
    "## 시설사용허가 데이터"
   ],
   "cell_type": "markdown",
   "metadata": {}
  },
  {
   "cell_type": "code",
   "execution_count": 33,
   "metadata": {},
   "outputs": [
    {
     "output_type": "execute_result",
     "data": {
      "text/plain": [
       "          순번    호출부호 입항횟수1 입항횟수2 입항횟수3   신고톤수           선박명  선사/대리점1  \\\n",
       "0          1    D7BN  2016   019   001  8.581            우동  OST0212   \n",
       "1          2    D7BN  2016   019   002  8.581            우동  OST0212   \n",
       "2          3    D7BN  2016   019   003  8.581            우동  OST0212   \n",
       "3          4    D7BN  2016   019   004  8.581            우동  OST0212   \n",
       "4          5  075682  2017   001   001  5.946           NaN  YSK0018   \n",
       "...      ...     ...   ...   ...   ...    ...           ...      ...   \n",
       "223278  4145    D7RI  2021   003   001  6.843         라용 케미  YSZ2381   \n",
       "223279  4146   3EIT4  2021   001   001  4.301  MORNING HOPE  USC2025   \n",
       "223280  4147  200035  2021   029   001    497           우원호  BSZ3327   \n",
       "223281  4148  088238  2021   084   001    700           3동주  USK0074   \n",
       "223282  4149  HO5909  2021   016   001  1.433          켐 하나  BSK2514   \n",
       "\n",
       "          선사/대리점2 신청시설1  ...  신청일시1(FROM ~ TO)  신청일시2(FROM ~ TO) 지정시설1 지정시설2  \\\n",
       "0         우민해운(주)   WAE  ...  2016-12-28 06:15  2016-12-28 07:45   WAE    03   \n",
       "1         우민해운(주)   MBA  ...  2016-12-28 08:45  2016-12-29 01:45   MBA    01   \n",
       "2         우민해운(주)   WAE  ...  2016-12-29 06:45  2016-12-30 06:40   WAE    01   \n",
       "3         우민해운(주)   MDS  ...  2016-12-30 07:45  2016-12-31 19:30   MDS    01   \n",
       "4         한선해운(주)   MBR  ...  2017-01-01 23:00  2017-01-02 12:00   MBR    01   \n",
       "...           ...   ...  ...               ...               ...   ...   ...   \n",
       "223278  선우탱커 주식회사   WAB  ...  2021-06-27 14:35  2021-06-27 21:05   WAB    02   \n",
       "223279   제이엠쉬핑(주)   WAE  ...  2021-06-25 10:30  2021-06-28 12:30   NaN   NaN   \n",
       "223280  우원마린 주식회사   MLJ  ...  2021-07-03 06:00  2021-07-03 20:00   NaN   NaN   \n",
       "223281    영우해운(주)   MBU  ...  2021-07-01 07:00  2021-07-01 16:00   NaN   NaN   \n",
       "223282    하나마린(주)   MB4  ...  2021-06-29 23:05  2021-06-30 08:10   NaN   NaN   \n",
       "\n",
       "              지정시설3  지정일시1(FROM ~ TO)  지정일시2(FROM ~ TO) 사용목적명        예보일시  \\\n",
       "0            정박지-E3  2016-12-28 06:15  2016-12-28 07:45  접안대기  2017-01-01   \n",
       "1              양곡부두  2016-12-28 08:45  2016-12-29 01:45    양하  2017-01-01   \n",
       "2            정박지-E1  2016-12-29 06:45  2016-12-30 06:40  접안대기  2017-01-01   \n",
       "3          S-OIL1부두  2016-12-30 07:45  2016-12-31 19:30    적하  2017-01-01   \n",
       "4             UTK부두  2017-01-02 04:25  2017-01-02 18:05    양하  2017-01-01   \n",
       "...             ...               ...               ...   ...         ...   \n",
       "223278  벙커링전용정박지 E2  2021-06-27 14:35  2021-06-27 21:05  접안대기  2021-06-30   \n",
       "223279          NaN               NaN               NaN  접안대기  2021-06-30   \n",
       "223280          NaN               NaN               NaN  접안대기  2021-06-30   \n",
       "223281          NaN               NaN               NaN    적하  2021-06-30   \n",
       "223282          NaN               NaN               NaN    양하  2021-06-30   \n",
       "\n",
       "        허가유무  \n",
       "0       허가완료  \n",
       "1       허가완료  \n",
       "2       허가완료  \n",
       "3       허가완료  \n",
       "4       허가완료  \n",
       "...      ...  \n",
       "223278  허가완료  \n",
       "223279   미허가  \n",
       "223280   미허가  \n",
       "223281   미허가  \n",
       "223282   미허가  \n",
       "\n",
       "[223283 rows x 22 columns]"
      ],
      "text/html": "<div>\n<style scoped>\n    .dataframe tbody tr th:only-of-type {\n        vertical-align: middle;\n    }\n\n    .dataframe tbody tr th {\n        vertical-align: top;\n    }\n\n    .dataframe thead th {\n        text-align: right;\n    }\n</style>\n<table border=\"1\" class=\"dataframe\">\n  <thead>\n    <tr style=\"text-align: right;\">\n      <th></th>\n      <th>순번</th>\n      <th>호출부호</th>\n      <th>입항횟수1</th>\n      <th>입항횟수2</th>\n      <th>입항횟수3</th>\n      <th>신고톤수</th>\n      <th>선박명</th>\n      <th>선사/대리점1</th>\n      <th>선사/대리점2</th>\n      <th>신청시설1</th>\n      <th>...</th>\n      <th>신청일시1(FROM ~ TO)</th>\n      <th>신청일시2(FROM ~ TO)</th>\n      <th>지정시설1</th>\n      <th>지정시설2</th>\n      <th>지정시설3</th>\n      <th>지정일시1(FROM ~ TO)</th>\n      <th>지정일시2(FROM ~ TO)</th>\n      <th>사용목적명</th>\n      <th>예보일시</th>\n      <th>허가유무</th>\n    </tr>\n  </thead>\n  <tbody>\n    <tr>\n      <th>0</th>\n      <td>1</td>\n      <td>D7BN</td>\n      <td>2016</td>\n      <td>019</td>\n      <td>001</td>\n      <td>8.581</td>\n      <td>우동</td>\n      <td>OST0212</td>\n      <td>우민해운(주)</td>\n      <td>WAE</td>\n      <td>...</td>\n      <td>2016-12-28 06:15</td>\n      <td>2016-12-28 07:45</td>\n      <td>WAE</td>\n      <td>03</td>\n      <td>정박지-E3</td>\n      <td>2016-12-28 06:15</td>\n      <td>2016-12-28 07:45</td>\n      <td>접안대기</td>\n      <td>2017-01-01</td>\n      <td>허가완료</td>\n    </tr>\n    <tr>\n      <th>1</th>\n      <td>2</td>\n      <td>D7BN</td>\n      <td>2016</td>\n      <td>019</td>\n      <td>002</td>\n      <td>8.581</td>\n      <td>우동</td>\n      <td>OST0212</td>\n      <td>우민해운(주)</td>\n      <td>MBA</td>\n      <td>...</td>\n      <td>2016-12-28 08:45</td>\n      <td>2016-12-29 01:45</td>\n      <td>MBA</td>\n      <td>01</td>\n      <td>양곡부두</td>\n      <td>2016-12-28 08:45</td>\n      <td>2016-12-29 01:45</td>\n      <td>양하</td>\n      <td>2017-01-01</td>\n      <td>허가완료</td>\n    </tr>\n    <tr>\n      <th>2</th>\n      <td>3</td>\n      <td>D7BN</td>\n      <td>2016</td>\n      <td>019</td>\n      <td>003</td>\n      <td>8.581</td>\n      <td>우동</td>\n      <td>OST0212</td>\n      <td>우민해운(주)</td>\n      <td>WAE</td>\n      <td>...</td>\n      <td>2016-12-29 06:45</td>\n      <td>2016-12-30 06:40</td>\n      <td>WAE</td>\n      <td>01</td>\n      <td>정박지-E1</td>\n      <td>2016-12-29 06:45</td>\n      <td>2016-12-30 06:40</td>\n      <td>접안대기</td>\n      <td>2017-01-01</td>\n      <td>허가완료</td>\n    </tr>\n    <tr>\n      <th>3</th>\n      <td>4</td>\n      <td>D7BN</td>\n      <td>2016</td>\n      <td>019</td>\n      <td>004</td>\n      <td>8.581</td>\n      <td>우동</td>\n      <td>OST0212</td>\n      <td>우민해운(주)</td>\n      <td>MDS</td>\n      <td>...</td>\n      <td>2016-12-30 07:45</td>\n      <td>2016-12-31 19:30</td>\n      <td>MDS</td>\n      <td>01</td>\n      <td>S-OIL1부두</td>\n      <td>2016-12-30 07:45</td>\n      <td>2016-12-31 19:30</td>\n      <td>적하</td>\n      <td>2017-01-01</td>\n      <td>허가완료</td>\n    </tr>\n    <tr>\n      <th>4</th>\n      <td>5</td>\n      <td>075682</td>\n      <td>2017</td>\n      <td>001</td>\n      <td>001</td>\n      <td>5.946</td>\n      <td>NaN</td>\n      <td>YSK0018</td>\n      <td>한선해운(주)</td>\n      <td>MBR</td>\n      <td>...</td>\n      <td>2017-01-01 23:00</td>\n      <td>2017-01-02 12:00</td>\n      <td>MBR</td>\n      <td>01</td>\n      <td>UTK부두</td>\n      <td>2017-01-02 04:25</td>\n      <td>2017-01-02 18:05</td>\n      <td>양하</td>\n      <td>2017-01-01</td>\n      <td>허가완료</td>\n    </tr>\n    <tr>\n      <th>...</th>\n      <td>...</td>\n      <td>...</td>\n      <td>...</td>\n      <td>...</td>\n      <td>...</td>\n      <td>...</td>\n      <td>...</td>\n      <td>...</td>\n      <td>...</td>\n      <td>...</td>\n      <td>...</td>\n      <td>...</td>\n      <td>...</td>\n      <td>...</td>\n      <td>...</td>\n      <td>...</td>\n      <td>...</td>\n      <td>...</td>\n      <td>...</td>\n      <td>...</td>\n      <td>...</td>\n    </tr>\n    <tr>\n      <th>223278</th>\n      <td>4145</td>\n      <td>D7RI</td>\n      <td>2021</td>\n      <td>003</td>\n      <td>001</td>\n      <td>6.843</td>\n      <td>라용 케미</td>\n      <td>YSZ2381</td>\n      <td>선우탱커 주식회사</td>\n      <td>WAB</td>\n      <td>...</td>\n      <td>2021-06-27 14:35</td>\n      <td>2021-06-27 21:05</td>\n      <td>WAB</td>\n      <td>02</td>\n      <td>벙커링전용정박지 E2</td>\n      <td>2021-06-27 14:35</td>\n      <td>2021-06-27 21:05</td>\n      <td>접안대기</td>\n      <td>2021-06-30</td>\n      <td>허가완료</td>\n    </tr>\n    <tr>\n      <th>223279</th>\n      <td>4146</td>\n      <td>3EIT4</td>\n      <td>2021</td>\n      <td>001</td>\n      <td>001</td>\n      <td>4.301</td>\n      <td>MORNING HOPE</td>\n      <td>USC2025</td>\n      <td>제이엠쉬핑(주)</td>\n      <td>WAE</td>\n      <td>...</td>\n      <td>2021-06-25 10:30</td>\n      <td>2021-06-28 12:30</td>\n      <td>NaN</td>\n      <td>NaN</td>\n      <td>NaN</td>\n      <td>NaN</td>\n      <td>NaN</td>\n      <td>접안대기</td>\n      <td>2021-06-30</td>\n      <td>미허가</td>\n    </tr>\n    <tr>\n      <th>223280</th>\n      <td>4147</td>\n      <td>200035</td>\n      <td>2021</td>\n      <td>029</td>\n      <td>001</td>\n      <td>497</td>\n      <td>우원호</td>\n      <td>BSZ3327</td>\n      <td>우원마린 주식회사</td>\n      <td>MLJ</td>\n      <td>...</td>\n      <td>2021-07-03 06:00</td>\n      <td>2021-07-03 20:00</td>\n      <td>NaN</td>\n      <td>NaN</td>\n      <td>NaN</td>\n      <td>NaN</td>\n      <td>NaN</td>\n      <td>접안대기</td>\n      <td>2021-06-30</td>\n      <td>미허가</td>\n    </tr>\n    <tr>\n      <th>223281</th>\n      <td>4148</td>\n      <td>088238</td>\n      <td>2021</td>\n      <td>084</td>\n      <td>001</td>\n      <td>700</td>\n      <td>3동주</td>\n      <td>USK0074</td>\n      <td>영우해운(주)</td>\n      <td>MBU</td>\n      <td>...</td>\n      <td>2021-07-01 07:00</td>\n      <td>2021-07-01 16:00</td>\n      <td>NaN</td>\n      <td>NaN</td>\n      <td>NaN</td>\n      <td>NaN</td>\n      <td>NaN</td>\n      <td>적하</td>\n      <td>2021-06-30</td>\n      <td>미허가</td>\n    </tr>\n    <tr>\n      <th>223282</th>\n      <td>4149</td>\n      <td>HO5909</td>\n      <td>2021</td>\n      <td>016</td>\n      <td>001</td>\n      <td>1.433</td>\n      <td>켐 하나</td>\n      <td>BSK2514</td>\n      <td>하나마린(주)</td>\n      <td>MB4</td>\n      <td>...</td>\n      <td>2021-06-29 23:05</td>\n      <td>2021-06-30 08:10</td>\n      <td>NaN</td>\n      <td>NaN</td>\n      <td>NaN</td>\n      <td>NaN</td>\n      <td>NaN</td>\n      <td>양하</td>\n      <td>2021-06-30</td>\n      <td>미허가</td>\n    </tr>\n  </tbody>\n</table>\n<p>223283 rows × 22 columns</p>\n</div>"
     },
     "metadata": {},
     "execution_count": 33
    }
   ],
   "source": [
    "FUPS_data"
   ]
  },
  {
   "cell_type": "code",
   "execution_count": 34,
   "metadata": {},
   "outputs": [
    {
     "output_type": "execute_result",
     "data": {
      "text/plain": [
       "          호출부호 입항횟수1 입항횟수2 입항횟수3   신고톤수  선사/대리점1    선사/대리점2 신청시설1 신청시설2  \\\n",
       "0         D7BN  2016   019   001  8.581  OST0212    우민해운(주)   WAE    03   \n",
       "1         D7BN  2016   019   002  8.581  OST0212    우민해운(주)   MBA    01   \n",
       "2         D7BN  2016   019   003  8.581  OST0212    우민해운(주)   WAE    01   \n",
       "3         D7BN  2016   019   004  8.581  OST0212    우민해운(주)   MDS    01   \n",
       "4       075682  2017   001   001  5.946  YSK0018    한선해운(주)   MBR    01   \n",
       "...        ...   ...   ...   ...    ...      ...        ...   ...   ...   \n",
       "223278    D7RI  2021   003   001  6.843  YSZ2381  선우탱커 주식회사   WAB    02   \n",
       "223279   3EIT4  2021   001   001  4.301  USC2025   제이엠쉬핑(주)   WAE    01   \n",
       "223280  200035  2021   029   001    497  BSZ3327  우원마린 주식회사   MLJ    01   \n",
       "223281  088238  2021   084   001    700  USK0074    영우해운(주)   MBU    01   \n",
       "223282  HO5909  2021   016   001  1.433  BSK2514    하나마린(주)   MB4    01   \n",
       "\n",
       "        신청일시1(FROM ~ TO)  신청일시2(FROM ~ TO) 지정시설1 지정시설2  지정일시1(FROM ~ TO)  \\\n",
       "0       2016-12-28 06:15  2016-12-28 07:45   WAE    03  2016-12-28 06:15   \n",
       "1       2016-12-28 08:45  2016-12-29 01:45   MBA    01  2016-12-28 08:45   \n",
       "2       2016-12-29 06:45  2016-12-30 06:40   WAE    01  2016-12-29 06:45   \n",
       "3       2016-12-30 07:45  2016-12-31 19:30   MDS    01  2016-12-30 07:45   \n",
       "4       2017-01-01 23:00  2017-01-02 12:00   MBR    01  2017-01-02 04:25   \n",
       "...                  ...               ...   ...   ...               ...   \n",
       "223278  2021-06-27 14:35  2021-06-27 21:05   WAB    02  2021-06-27 14:35   \n",
       "223279  2021-06-25 10:30  2021-06-28 12:30   NaN   NaN               NaN   \n",
       "223280  2021-07-03 06:00  2021-07-03 20:00   NaN   NaN               NaN   \n",
       "223281  2021-07-01 07:00  2021-07-01 16:00   NaN   NaN               NaN   \n",
       "223282  2021-06-29 23:05  2021-06-30 08:10   NaN   NaN               NaN   \n",
       "\n",
       "        지정일시2(FROM ~ TO) 사용목적명  허가유무  \n",
       "0       2016-12-28 07:45  접안대기  허가완료  \n",
       "1       2016-12-29 01:45    양하  허가완료  \n",
       "2       2016-12-30 06:40  접안대기  허가완료  \n",
       "3       2016-12-31 19:30    적하  허가완료  \n",
       "4       2017-01-02 18:05    양하  허가완료  \n",
       "...                  ...   ...   ...  \n",
       "223278  2021-06-27 21:05  접안대기  허가완료  \n",
       "223279               NaN  접안대기   미허가  \n",
       "223280               NaN  접안대기   미허가  \n",
       "223281               NaN    적하   미허가  \n",
       "223282               NaN    양하   미허가  \n",
       "\n",
       "[223283 rows x 17 columns]"
      ],
      "text/html": "<div>\n<style scoped>\n    .dataframe tbody tr th:only-of-type {\n        vertical-align: middle;\n    }\n\n    .dataframe tbody tr th {\n        vertical-align: top;\n    }\n\n    .dataframe thead th {\n        text-align: right;\n    }\n</style>\n<table border=\"1\" class=\"dataframe\">\n  <thead>\n    <tr style=\"text-align: right;\">\n      <th></th>\n      <th>호출부호</th>\n      <th>입항횟수1</th>\n      <th>입항횟수2</th>\n      <th>입항횟수3</th>\n      <th>신고톤수</th>\n      <th>선사/대리점1</th>\n      <th>선사/대리점2</th>\n      <th>신청시설1</th>\n      <th>신청시설2</th>\n      <th>신청일시1(FROM ~ TO)</th>\n      <th>신청일시2(FROM ~ TO)</th>\n      <th>지정시설1</th>\n      <th>지정시설2</th>\n      <th>지정일시1(FROM ~ TO)</th>\n      <th>지정일시2(FROM ~ TO)</th>\n      <th>사용목적명</th>\n      <th>허가유무</th>\n    </tr>\n  </thead>\n  <tbody>\n    <tr>\n      <th>0</th>\n      <td>D7BN</td>\n      <td>2016</td>\n      <td>019</td>\n      <td>001</td>\n      <td>8.581</td>\n      <td>OST0212</td>\n      <td>우민해운(주)</td>\n      <td>WAE</td>\n      <td>03</td>\n      <td>2016-12-28 06:15</td>\n      <td>2016-12-28 07:45</td>\n      <td>WAE</td>\n      <td>03</td>\n      <td>2016-12-28 06:15</td>\n      <td>2016-12-28 07:45</td>\n      <td>접안대기</td>\n      <td>허가완료</td>\n    </tr>\n    <tr>\n      <th>1</th>\n      <td>D7BN</td>\n      <td>2016</td>\n      <td>019</td>\n      <td>002</td>\n      <td>8.581</td>\n      <td>OST0212</td>\n      <td>우민해운(주)</td>\n      <td>MBA</td>\n      <td>01</td>\n      <td>2016-12-28 08:45</td>\n      <td>2016-12-29 01:45</td>\n      <td>MBA</td>\n      <td>01</td>\n      <td>2016-12-28 08:45</td>\n      <td>2016-12-29 01:45</td>\n      <td>양하</td>\n      <td>허가완료</td>\n    </tr>\n    <tr>\n      <th>2</th>\n      <td>D7BN</td>\n      <td>2016</td>\n      <td>019</td>\n      <td>003</td>\n      <td>8.581</td>\n      <td>OST0212</td>\n      <td>우민해운(주)</td>\n      <td>WAE</td>\n      <td>01</td>\n      <td>2016-12-29 06:45</td>\n      <td>2016-12-30 06:40</td>\n      <td>WAE</td>\n      <td>01</td>\n      <td>2016-12-29 06:45</td>\n      <td>2016-12-30 06:40</td>\n      <td>접안대기</td>\n      <td>허가완료</td>\n    </tr>\n    <tr>\n      <th>3</th>\n      <td>D7BN</td>\n      <td>2016</td>\n      <td>019</td>\n      <td>004</td>\n      <td>8.581</td>\n      <td>OST0212</td>\n      <td>우민해운(주)</td>\n      <td>MDS</td>\n      <td>01</td>\n      <td>2016-12-30 07:45</td>\n      <td>2016-12-31 19:30</td>\n      <td>MDS</td>\n      <td>01</td>\n      <td>2016-12-30 07:45</td>\n      <td>2016-12-31 19:30</td>\n      <td>적하</td>\n      <td>허가완료</td>\n    </tr>\n    <tr>\n      <th>4</th>\n      <td>075682</td>\n      <td>2017</td>\n      <td>001</td>\n      <td>001</td>\n      <td>5.946</td>\n      <td>YSK0018</td>\n      <td>한선해운(주)</td>\n      <td>MBR</td>\n      <td>01</td>\n      <td>2017-01-01 23:00</td>\n      <td>2017-01-02 12:00</td>\n      <td>MBR</td>\n      <td>01</td>\n      <td>2017-01-02 04:25</td>\n      <td>2017-01-02 18:05</td>\n      <td>양하</td>\n      <td>허가완료</td>\n    </tr>\n    <tr>\n      <th>...</th>\n      <td>...</td>\n      <td>...</td>\n      <td>...</td>\n      <td>...</td>\n      <td>...</td>\n      <td>...</td>\n      <td>...</td>\n      <td>...</td>\n      <td>...</td>\n      <td>...</td>\n      <td>...</td>\n      <td>...</td>\n      <td>...</td>\n      <td>...</td>\n      <td>...</td>\n      <td>...</td>\n      <td>...</td>\n    </tr>\n    <tr>\n      <th>223278</th>\n      <td>D7RI</td>\n      <td>2021</td>\n      <td>003</td>\n      <td>001</td>\n      <td>6.843</td>\n      <td>YSZ2381</td>\n      <td>선우탱커 주식회사</td>\n      <td>WAB</td>\n      <td>02</td>\n      <td>2021-06-27 14:35</td>\n      <td>2021-06-27 21:05</td>\n      <td>WAB</td>\n      <td>02</td>\n      <td>2021-06-27 14:35</td>\n      <td>2021-06-27 21:05</td>\n      <td>접안대기</td>\n      <td>허가완료</td>\n    </tr>\n    <tr>\n      <th>223279</th>\n      <td>3EIT4</td>\n      <td>2021</td>\n      <td>001</td>\n      <td>001</td>\n      <td>4.301</td>\n      <td>USC2025</td>\n      <td>제이엠쉬핑(주)</td>\n      <td>WAE</td>\n      <td>01</td>\n      <td>2021-06-25 10:30</td>\n      <td>2021-06-28 12:30</td>\n      <td>NaN</td>\n      <td>NaN</td>\n      <td>NaN</td>\n      <td>NaN</td>\n      <td>접안대기</td>\n      <td>미허가</td>\n    </tr>\n    <tr>\n      <th>223280</th>\n      <td>200035</td>\n      <td>2021</td>\n      <td>029</td>\n      <td>001</td>\n      <td>497</td>\n      <td>BSZ3327</td>\n      <td>우원마린 주식회사</td>\n      <td>MLJ</td>\n      <td>01</td>\n      <td>2021-07-03 06:00</td>\n      <td>2021-07-03 20:00</td>\n      <td>NaN</td>\n      <td>NaN</td>\n      <td>NaN</td>\n      <td>NaN</td>\n      <td>접안대기</td>\n      <td>미허가</td>\n    </tr>\n    <tr>\n      <th>223281</th>\n      <td>088238</td>\n      <td>2021</td>\n      <td>084</td>\n      <td>001</td>\n      <td>700</td>\n      <td>USK0074</td>\n      <td>영우해운(주)</td>\n      <td>MBU</td>\n      <td>01</td>\n      <td>2021-07-01 07:00</td>\n      <td>2021-07-01 16:00</td>\n      <td>NaN</td>\n      <td>NaN</td>\n      <td>NaN</td>\n      <td>NaN</td>\n      <td>적하</td>\n      <td>미허가</td>\n    </tr>\n    <tr>\n      <th>223282</th>\n      <td>HO5909</td>\n      <td>2021</td>\n      <td>016</td>\n      <td>001</td>\n      <td>1.433</td>\n      <td>BSK2514</td>\n      <td>하나마린(주)</td>\n      <td>MB4</td>\n      <td>01</td>\n      <td>2021-06-29 23:05</td>\n      <td>2021-06-30 08:10</td>\n      <td>NaN</td>\n      <td>NaN</td>\n      <td>NaN</td>\n      <td>NaN</td>\n      <td>양하</td>\n      <td>미허가</td>\n    </tr>\n  </tbody>\n</table>\n<p>223283 rows × 17 columns</p>\n</div>"
     },
     "metadata": {},
     "execution_count": 34
    }
   ],
   "source": [
    "cols = ['선박명', '순번', '신청시설3', '지정시설3', '예보일시']\n",
    "FUPS_data.drop(labels=cols, axis = \"columns\", inplace = True)\n",
    "FUPS_data"
   ]
  },
  {
   "cell_type": "code",
   "execution_count": 35,
   "metadata": {},
   "outputs": [
    {
     "output_type": "execute_result",
     "data": {
      "text/plain": [
       "          호출부호 입항횟수1 입항횟수2 입항횟수3    신고톤수  선사/대리점1      선사/대리점2 신청시설1 신청시설2  \\\n",
       "0         D7BN  2016   019   001   8.581  OST0212      우민해운(주)   WAE    03   \n",
       "1         D7BN  2016   019   002   8.581  OST0212      우민해운(주)   MBA    01   \n",
       "2         D7BN  2016   019   003   8.581  OST0212      우민해운(주)   WAE    01   \n",
       "3         D7BN  2016   019   004   8.581  OST0212      우민해운(주)   MDS    01   \n",
       "4       075682  2017   001   001   5.946  YSK0018      한선해운(주)   MBR    01   \n",
       "...        ...   ...   ...   ...     ...      ...          ...   ...   ...   \n",
       "223266  105351  2021   042   002     575  BSZ7237      봉은해운(주)   MBU    01   \n",
       "223267   D5XS2  2021   001   001  39.738  OST0011     팬오션 주식회사   MBA    01   \n",
       "223270   VRRQ3  2021   001   002  28.794  ICC2121  주식회사 굳파트너쉬핑   MDS    03   \n",
       "223272    HOJK  2021   022   003   2.690  USC2011      우일해운(주)   WAE    01   \n",
       "223278    D7RI  2021   003   001   6.843  YSZ2381    선우탱커 주식회사   WAB    02   \n",
       "\n",
       "        신청일시1(FROM ~ TO)  신청일시2(FROM ~ TO) 지정시설1 지정시설2  지정일시1(FROM ~ TO)  \\\n",
       "0       2016-12-28 06:15  2016-12-28 07:45   WAE    03  2016-12-28 06:15   \n",
       "1       2016-12-28 08:45  2016-12-29 01:45   MBA    01  2016-12-28 08:45   \n",
       "2       2016-12-29 06:45  2016-12-30 06:40   WAE    01  2016-12-29 06:45   \n",
       "3       2016-12-30 07:45  2016-12-31 19:30   MDS    01  2016-12-30 07:45   \n",
       "4       2017-01-01 23:00  2017-01-02 12:00   MBR    01  2017-01-02 04:25   \n",
       "...                  ...               ...   ...   ...               ...   \n",
       "223266  2021-06-23 01:30  2021-06-23 05:35   MBU    01  2021-06-23 01:30   \n",
       "223267  2021-06-24 14:50  2021-06-29 10:00   MBA    01  2021-06-24 14:50   \n",
       "223270  2021-06-28 12:40  2021-06-29 21:05   MDS    03  2021-06-28 12:40   \n",
       "223272  2021-06-29 13:20  2021-06-29 21:05   WAE    01  2021-06-29 13:20   \n",
       "223278  2021-06-27 14:35  2021-06-27 21:05   WAB    02  2021-06-27 14:35   \n",
       "\n",
       "        지정일시2(FROM ~ TO) 사용목적명  허가유무  \n",
       "0       2016-12-28 07:45  접안대기  허가완료  \n",
       "1       2016-12-29 01:45    양하  허가완료  \n",
       "2       2016-12-30 06:40  접안대기  허가완료  \n",
       "3       2016-12-31 19:30    적하  허가완료  \n",
       "4       2017-01-02 18:05    양하  허가완료  \n",
       "...                  ...   ...   ...  \n",
       "223266  2021-06-23 05:35    적하  허가완료  \n",
       "223267  2021-06-29 10:00    양하  허가완료  \n",
       "223270  2021-06-29 21:05    적하  허가완료  \n",
       "223272  2021-06-29 21:05  접안대기  허가완료  \n",
       "223278  2021-06-27 21:05  접안대기  허가완료  \n",
       "\n",
       "[222720 rows x 17 columns]"
      ],
      "text/html": "<div>\n<style scoped>\n    .dataframe tbody tr th:only-of-type {\n        vertical-align: middle;\n    }\n\n    .dataframe tbody tr th {\n        vertical-align: top;\n    }\n\n    .dataframe thead th {\n        text-align: right;\n    }\n</style>\n<table border=\"1\" class=\"dataframe\">\n  <thead>\n    <tr style=\"text-align: right;\">\n      <th></th>\n      <th>호출부호</th>\n      <th>입항횟수1</th>\n      <th>입항횟수2</th>\n      <th>입항횟수3</th>\n      <th>신고톤수</th>\n      <th>선사/대리점1</th>\n      <th>선사/대리점2</th>\n      <th>신청시설1</th>\n      <th>신청시설2</th>\n      <th>신청일시1(FROM ~ TO)</th>\n      <th>신청일시2(FROM ~ TO)</th>\n      <th>지정시설1</th>\n      <th>지정시설2</th>\n      <th>지정일시1(FROM ~ TO)</th>\n      <th>지정일시2(FROM ~ TO)</th>\n      <th>사용목적명</th>\n      <th>허가유무</th>\n    </tr>\n  </thead>\n  <tbody>\n    <tr>\n      <th>0</th>\n      <td>D7BN</td>\n      <td>2016</td>\n      <td>019</td>\n      <td>001</td>\n      <td>8.581</td>\n      <td>OST0212</td>\n      <td>우민해운(주)</td>\n      <td>WAE</td>\n      <td>03</td>\n      <td>2016-12-28 06:15</td>\n      <td>2016-12-28 07:45</td>\n      <td>WAE</td>\n      <td>03</td>\n      <td>2016-12-28 06:15</td>\n      <td>2016-12-28 07:45</td>\n      <td>접안대기</td>\n      <td>허가완료</td>\n    </tr>\n    <tr>\n      <th>1</th>\n      <td>D7BN</td>\n      <td>2016</td>\n      <td>019</td>\n      <td>002</td>\n      <td>8.581</td>\n      <td>OST0212</td>\n      <td>우민해운(주)</td>\n      <td>MBA</td>\n      <td>01</td>\n      <td>2016-12-28 08:45</td>\n      <td>2016-12-29 01:45</td>\n      <td>MBA</td>\n      <td>01</td>\n      <td>2016-12-28 08:45</td>\n      <td>2016-12-29 01:45</td>\n      <td>양하</td>\n      <td>허가완료</td>\n    </tr>\n    <tr>\n      <th>2</th>\n      <td>D7BN</td>\n      <td>2016</td>\n      <td>019</td>\n      <td>003</td>\n      <td>8.581</td>\n      <td>OST0212</td>\n      <td>우민해운(주)</td>\n      <td>WAE</td>\n      <td>01</td>\n      <td>2016-12-29 06:45</td>\n      <td>2016-12-30 06:40</td>\n      <td>WAE</td>\n      <td>01</td>\n      <td>2016-12-29 06:45</td>\n      <td>2016-12-30 06:40</td>\n      <td>접안대기</td>\n      <td>허가완료</td>\n    </tr>\n    <tr>\n      <th>3</th>\n      <td>D7BN</td>\n      <td>2016</td>\n      <td>019</td>\n      <td>004</td>\n      <td>8.581</td>\n      <td>OST0212</td>\n      <td>우민해운(주)</td>\n      <td>MDS</td>\n      <td>01</td>\n      <td>2016-12-30 07:45</td>\n      <td>2016-12-31 19:30</td>\n      <td>MDS</td>\n      <td>01</td>\n      <td>2016-12-30 07:45</td>\n      <td>2016-12-31 19:30</td>\n      <td>적하</td>\n      <td>허가완료</td>\n    </tr>\n    <tr>\n      <th>4</th>\n      <td>075682</td>\n      <td>2017</td>\n      <td>001</td>\n      <td>001</td>\n      <td>5.946</td>\n      <td>YSK0018</td>\n      <td>한선해운(주)</td>\n      <td>MBR</td>\n      <td>01</td>\n      <td>2017-01-01 23:00</td>\n      <td>2017-01-02 12:00</td>\n      <td>MBR</td>\n      <td>01</td>\n      <td>2017-01-02 04:25</td>\n      <td>2017-01-02 18:05</td>\n      <td>양하</td>\n      <td>허가완료</td>\n    </tr>\n    <tr>\n      <th>...</th>\n      <td>...</td>\n      <td>...</td>\n      <td>...</td>\n      <td>...</td>\n      <td>...</td>\n      <td>...</td>\n      <td>...</td>\n      <td>...</td>\n      <td>...</td>\n      <td>...</td>\n      <td>...</td>\n      <td>...</td>\n      <td>...</td>\n      <td>...</td>\n      <td>...</td>\n      <td>...</td>\n      <td>...</td>\n    </tr>\n    <tr>\n      <th>223266</th>\n      <td>105351</td>\n      <td>2021</td>\n      <td>042</td>\n      <td>002</td>\n      <td>575</td>\n      <td>BSZ7237</td>\n      <td>봉은해운(주)</td>\n      <td>MBU</td>\n      <td>01</td>\n      <td>2021-06-23 01:30</td>\n      <td>2021-06-23 05:35</td>\n      <td>MBU</td>\n      <td>01</td>\n      <td>2021-06-23 01:30</td>\n      <td>2021-06-23 05:35</td>\n      <td>적하</td>\n      <td>허가완료</td>\n    </tr>\n    <tr>\n      <th>223267</th>\n      <td>D5XS2</td>\n      <td>2021</td>\n      <td>001</td>\n      <td>001</td>\n      <td>39.738</td>\n      <td>OST0011</td>\n      <td>팬오션 주식회사</td>\n      <td>MBA</td>\n      <td>01</td>\n      <td>2021-06-24 14:50</td>\n      <td>2021-06-29 10:00</td>\n      <td>MBA</td>\n      <td>01</td>\n      <td>2021-06-24 14:50</td>\n      <td>2021-06-29 10:00</td>\n      <td>양하</td>\n      <td>허가완료</td>\n    </tr>\n    <tr>\n      <th>223270</th>\n      <td>VRRQ3</td>\n      <td>2021</td>\n      <td>001</td>\n      <td>002</td>\n      <td>28.794</td>\n      <td>ICC2121</td>\n      <td>주식회사 굳파트너쉬핑</td>\n      <td>MDS</td>\n      <td>03</td>\n      <td>2021-06-28 12:40</td>\n      <td>2021-06-29 21:05</td>\n      <td>MDS</td>\n      <td>03</td>\n      <td>2021-06-28 12:40</td>\n      <td>2021-06-29 21:05</td>\n      <td>적하</td>\n      <td>허가완료</td>\n    </tr>\n    <tr>\n      <th>223272</th>\n      <td>HOJK</td>\n      <td>2021</td>\n      <td>022</td>\n      <td>003</td>\n      <td>2.690</td>\n      <td>USC2011</td>\n      <td>우일해운(주)</td>\n      <td>WAE</td>\n      <td>01</td>\n      <td>2021-06-29 13:20</td>\n      <td>2021-06-29 21:05</td>\n      <td>WAE</td>\n      <td>01</td>\n      <td>2021-06-29 13:20</td>\n      <td>2021-06-29 21:05</td>\n      <td>접안대기</td>\n      <td>허가완료</td>\n    </tr>\n    <tr>\n      <th>223278</th>\n      <td>D7RI</td>\n      <td>2021</td>\n      <td>003</td>\n      <td>001</td>\n      <td>6.843</td>\n      <td>YSZ2381</td>\n      <td>선우탱커 주식회사</td>\n      <td>WAB</td>\n      <td>02</td>\n      <td>2021-06-27 14:35</td>\n      <td>2021-06-27 21:05</td>\n      <td>WAB</td>\n      <td>02</td>\n      <td>2021-06-27 14:35</td>\n      <td>2021-06-27 21:05</td>\n      <td>접안대기</td>\n      <td>허가완료</td>\n    </tr>\n  </tbody>\n</table>\n<p>222720 rows × 17 columns</p>\n</div>"
     },
     "metadata": {},
     "execution_count": 35
    }
   ],
   "source": [
    "FUPS_data = FUPS_data.dropna(axis=0, subset=['지정시설1'])\n",
    "FUPS_data"
   ]
  },
  {
   "cell_type": "code",
   "execution_count": 36,
   "metadata": {},
   "outputs": [
    {
     "output_type": "stream",
     "name": "stdout",
     "text": [
      "FUPS(시설사용현황) :  호출부호                    0\n입항횟수1                   0\n입항횟수2                   0\n입항횟수3                   0\n신고톤수                    0\n선사/대리점1                 0\n선사/대리점2                 0\n신청시설1                   0\n신청시설2                   0\n신청일시1(FROM ~ TO)        0\n신청일시2(FROM ~ TO)        0\n지정시설1                   0\n지정시설2                   0\n지정일시1(FROM ~ TO)        0\n지정일시2(FROM ~ TO)        0\n사용목적명               11598\n허가유무                    0\ndtype: int64\n"
     ]
    }
   ],
   "source": [
    "print('FUPS(시설사용현황) : ', FUPS_data.isnull().sum())"
   ]
  },
  {
   "cell_type": "code",
   "execution_count": 37,
   "metadata": {},
   "outputs": [
    {
     "output_type": "execute_result",
     "data": {
      "text/plain": [
       "          호출부호 입항횟수1 입항횟수2 입항횟수3    신고톤수  선사/대리점1    선사/대리점2 신청시설1 신청시설2  \\\n",
       "16      134809  2016   129   001     699  BSZ9782    금양마린(주)   MBN    14   \n",
       "20      130047  2017   001   001     460  BSZ7248   (주)에우스마린   MDS    01   \n",
       "25      071381  2016   066   001     549  BSZ9626   동대해운주식회사   MLJ    01   \n",
       "26      071381  2016   066   002     549  BSZ9626   동대해운주식회사   MBU    01   \n",
       "39      091116  2016   074   001     149  BSZ9165       일해마린   MLJ    01   \n",
       "...        ...   ...   ...   ...     ...      ...        ...   ...   ...   \n",
       "221990  9V6096  2021   005   004   7.912  USC2033  한국오드펠유한회사   MB6    05   \n",
       "222666   V7VB9  2021   002   001  29.760  BSZ7514   (주)라이언쉬핑   WAE    03   \n",
       "222929  HO9294  2021   014   001   1.395  BSK2625    거영해운(주)   WAM    01   \n",
       "222939  HO9294  2021   014   003   1.395  BSK2625    거영해운(주)   WAM    04   \n",
       "223200    D8SD  2021   017   001   4.688  ICK0006    우림해운(주)   WAE    01   \n",
       "\n",
       "        신청일시1(FROM ~ TO)  신청일시2(FROM ~ TO) 지정시설1 지정시설2  지정일시1(FROM ~ TO)  \\\n",
       "16      2016-12-29 01:30  2016-12-29 06:20   MBN    14  2016-12-29 01:30   \n",
       "20      2017-01-01 02:30  2017-01-01 08:10   MDS    01  2017-01-01 02:30   \n",
       "25      2016-12-31 18:45  2017-01-01 06:25   MLJ    01  2016-12-31 18:45   \n",
       "26      2017-01-01 06:35  2017-01-01 12:50   MBU    01  2017-01-01 06:35   \n",
       "39      2016-12-31 15:00  2016-12-31 17:00   MLJ    01  2016-12-31 15:50   \n",
       "...                  ...               ...   ...   ...               ...   \n",
       "221990  2021-06-23 01:42  2021-06-23 07:15   MB6    05  2021-06-23 01:42   \n",
       "222666  2021-06-20 08:48  2021-06-22 20:00   WAE    02  2021-06-20 08:48   \n",
       "222929  2021-06-18 21:10  2021-06-18 23:50   WAM    01  2021-06-18 21:10   \n",
       "222939  2021-06-19 18:05  2021-06-20 17:15   WAM    04  2021-06-19 18:05   \n",
       "223200  2021-06-22 16:20  2021-06-23 18:13   WAE    01  2021-06-22 16:20   \n",
       "\n",
       "        지정일시2(FROM ~ TO) 사용목적명  허가유무  \n",
       "16      2016-12-29 06:20   NaN  허가완료  \n",
       "20      2017-01-01 08:10   NaN  허가완료  \n",
       "25      2017-01-01 06:25   NaN  허가완료  \n",
       "26      2017-01-01 12:50   NaN  허가완료  \n",
       "39      2016-12-31 17:00   NaN  허가완료  \n",
       "...                  ...   ...   ...  \n",
       "221990  2021-06-23 07:15   NaN  허가완료  \n",
       "222666  2021-06-22 20:00   NaN  허가완료  \n",
       "222929  2021-06-18 23:50   NaN  허가완료  \n",
       "222939  2021-06-20 17:15   NaN  허가완료  \n",
       "223200  2021-06-23 18:13   NaN  허가완료  \n",
       "\n",
       "[11598 rows x 17 columns]"
      ],
      "text/html": "<div>\n<style scoped>\n    .dataframe tbody tr th:only-of-type {\n        vertical-align: middle;\n    }\n\n    .dataframe tbody tr th {\n        vertical-align: top;\n    }\n\n    .dataframe thead th {\n        text-align: right;\n    }\n</style>\n<table border=\"1\" class=\"dataframe\">\n  <thead>\n    <tr style=\"text-align: right;\">\n      <th></th>\n      <th>호출부호</th>\n      <th>입항횟수1</th>\n      <th>입항횟수2</th>\n      <th>입항횟수3</th>\n      <th>신고톤수</th>\n      <th>선사/대리점1</th>\n      <th>선사/대리점2</th>\n      <th>신청시설1</th>\n      <th>신청시설2</th>\n      <th>신청일시1(FROM ~ TO)</th>\n      <th>신청일시2(FROM ~ TO)</th>\n      <th>지정시설1</th>\n      <th>지정시설2</th>\n      <th>지정일시1(FROM ~ TO)</th>\n      <th>지정일시2(FROM ~ TO)</th>\n      <th>사용목적명</th>\n      <th>허가유무</th>\n    </tr>\n  </thead>\n  <tbody>\n    <tr>\n      <th>16</th>\n      <td>134809</td>\n      <td>2016</td>\n      <td>129</td>\n      <td>001</td>\n      <td>699</td>\n      <td>BSZ9782</td>\n      <td>금양마린(주)</td>\n      <td>MBN</td>\n      <td>14</td>\n      <td>2016-12-29 01:30</td>\n      <td>2016-12-29 06:20</td>\n      <td>MBN</td>\n      <td>14</td>\n      <td>2016-12-29 01:30</td>\n      <td>2016-12-29 06:20</td>\n      <td>NaN</td>\n      <td>허가완료</td>\n    </tr>\n    <tr>\n      <th>20</th>\n      <td>130047</td>\n      <td>2017</td>\n      <td>001</td>\n      <td>001</td>\n      <td>460</td>\n      <td>BSZ7248</td>\n      <td>(주)에우스마린</td>\n      <td>MDS</td>\n      <td>01</td>\n      <td>2017-01-01 02:30</td>\n      <td>2017-01-01 08:10</td>\n      <td>MDS</td>\n      <td>01</td>\n      <td>2017-01-01 02:30</td>\n      <td>2017-01-01 08:10</td>\n      <td>NaN</td>\n      <td>허가완료</td>\n    </tr>\n    <tr>\n      <th>25</th>\n      <td>071381</td>\n      <td>2016</td>\n      <td>066</td>\n      <td>001</td>\n      <td>549</td>\n      <td>BSZ9626</td>\n      <td>동대해운주식회사</td>\n      <td>MLJ</td>\n      <td>01</td>\n      <td>2016-12-31 18:45</td>\n      <td>2017-01-01 06:25</td>\n      <td>MLJ</td>\n      <td>01</td>\n      <td>2016-12-31 18:45</td>\n      <td>2017-01-01 06:25</td>\n      <td>NaN</td>\n      <td>허가완료</td>\n    </tr>\n    <tr>\n      <th>26</th>\n      <td>071381</td>\n      <td>2016</td>\n      <td>066</td>\n      <td>002</td>\n      <td>549</td>\n      <td>BSZ9626</td>\n      <td>동대해운주식회사</td>\n      <td>MBU</td>\n      <td>01</td>\n      <td>2017-01-01 06:35</td>\n      <td>2017-01-01 12:50</td>\n      <td>MBU</td>\n      <td>01</td>\n      <td>2017-01-01 06:35</td>\n      <td>2017-01-01 12:50</td>\n      <td>NaN</td>\n      <td>허가완료</td>\n    </tr>\n    <tr>\n      <th>39</th>\n      <td>091116</td>\n      <td>2016</td>\n      <td>074</td>\n      <td>001</td>\n      <td>149</td>\n      <td>BSZ9165</td>\n      <td>일해마린</td>\n      <td>MLJ</td>\n      <td>01</td>\n      <td>2016-12-31 15:00</td>\n      <td>2016-12-31 17:00</td>\n      <td>MLJ</td>\n      <td>01</td>\n      <td>2016-12-31 15:50</td>\n      <td>2016-12-31 17:00</td>\n      <td>NaN</td>\n      <td>허가완료</td>\n    </tr>\n    <tr>\n      <th>...</th>\n      <td>...</td>\n      <td>...</td>\n      <td>...</td>\n      <td>...</td>\n      <td>...</td>\n      <td>...</td>\n      <td>...</td>\n      <td>...</td>\n      <td>...</td>\n      <td>...</td>\n      <td>...</td>\n      <td>...</td>\n      <td>...</td>\n      <td>...</td>\n      <td>...</td>\n      <td>...</td>\n      <td>...</td>\n    </tr>\n    <tr>\n      <th>221990</th>\n      <td>9V6096</td>\n      <td>2021</td>\n      <td>005</td>\n      <td>004</td>\n      <td>7.912</td>\n      <td>USC2033</td>\n      <td>한국오드펠유한회사</td>\n      <td>MB6</td>\n      <td>05</td>\n      <td>2021-06-23 01:42</td>\n      <td>2021-06-23 07:15</td>\n      <td>MB6</td>\n      <td>05</td>\n      <td>2021-06-23 01:42</td>\n      <td>2021-06-23 07:15</td>\n      <td>NaN</td>\n      <td>허가완료</td>\n    </tr>\n    <tr>\n      <th>222666</th>\n      <td>V7VB9</td>\n      <td>2021</td>\n      <td>002</td>\n      <td>001</td>\n      <td>29.760</td>\n      <td>BSZ7514</td>\n      <td>(주)라이언쉬핑</td>\n      <td>WAE</td>\n      <td>03</td>\n      <td>2021-06-20 08:48</td>\n      <td>2021-06-22 20:00</td>\n      <td>WAE</td>\n      <td>02</td>\n      <td>2021-06-20 08:48</td>\n      <td>2021-06-22 20:00</td>\n      <td>NaN</td>\n      <td>허가완료</td>\n    </tr>\n    <tr>\n      <th>222929</th>\n      <td>HO9294</td>\n      <td>2021</td>\n      <td>014</td>\n      <td>001</td>\n      <td>1.395</td>\n      <td>BSK2625</td>\n      <td>거영해운(주)</td>\n      <td>WAM</td>\n      <td>01</td>\n      <td>2021-06-18 21:10</td>\n      <td>2021-06-18 23:50</td>\n      <td>WAM</td>\n      <td>01</td>\n      <td>2021-06-18 21:10</td>\n      <td>2021-06-18 23:50</td>\n      <td>NaN</td>\n      <td>허가완료</td>\n    </tr>\n    <tr>\n      <th>222939</th>\n      <td>HO9294</td>\n      <td>2021</td>\n      <td>014</td>\n      <td>003</td>\n      <td>1.395</td>\n      <td>BSK2625</td>\n      <td>거영해운(주)</td>\n      <td>WAM</td>\n      <td>04</td>\n      <td>2021-06-19 18:05</td>\n      <td>2021-06-20 17:15</td>\n      <td>WAM</td>\n      <td>04</td>\n      <td>2021-06-19 18:05</td>\n      <td>2021-06-20 17:15</td>\n      <td>NaN</td>\n      <td>허가완료</td>\n    </tr>\n    <tr>\n      <th>223200</th>\n      <td>D8SD</td>\n      <td>2021</td>\n      <td>017</td>\n      <td>001</td>\n      <td>4.688</td>\n      <td>ICK0006</td>\n      <td>우림해운(주)</td>\n      <td>WAE</td>\n      <td>01</td>\n      <td>2021-06-22 16:20</td>\n      <td>2021-06-23 18:13</td>\n      <td>WAE</td>\n      <td>01</td>\n      <td>2021-06-22 16:20</td>\n      <td>2021-06-23 18:13</td>\n      <td>NaN</td>\n      <td>허가완료</td>\n    </tr>\n  </tbody>\n</table>\n<p>11598 rows × 17 columns</p>\n</div>"
     },
     "metadata": {},
     "execution_count": 37
    }
   ],
   "source": [
    "FUPS_data.loc[FUPS_data['사용목적명'].isnull()]"
   ]
  },
  {
   "cell_type": "code",
   "execution_count": 38,
   "metadata": {},
   "outputs": [
    {
     "output_type": "execute_result",
     "data": {
      "text/plain": [
       "{nan,\n",
       " '갑문통과',\n",
       " '계선',\n",
       " '급유',\n",
       " '기타',\n",
       " '상가대기',\n",
       " '수리',\n",
       " '수입화물장치',\n",
       " '양적하',\n",
       " '양하',\n",
       " '적하',\n",
       " '접안대기',\n",
       " '출항대기',\n",
       " '통과선박',\n",
       " '해난',\n",
       " '해상하역',\n",
       " '화물대기'}"
      ]
     },
     "metadata": {},
     "execution_count": 38
    }
   ],
   "source": [
    "set(FUPS_data['사용목적명'])"
   ]
  },
  {
   "cell_type": "code",
   "execution_count": 39,
   "metadata": {},
   "outputs": [
    {
     "output_type": "execute_result",
     "data": {
      "text/plain": [
       "          호출부호 입항횟수1 입항횟수2 입항횟수3   신고톤수  선사/대리점1    선사/대리점2 신청시설1 신청시설2  \\\n",
       "0         D7BN  2016   019   001  8.581  OST0212    우민해운(주)   WAE    03   \n",
       "2         D7BN  2016   019   003  8.581  OST0212    우민해운(주)   WAE    01   \n",
       "5        DSRN9  2017   001   001    997  BSK2678    영산해운(주)   WAM    06   \n",
       "8        DSPR5  2016   017   001  2.517  BSK2514    하나마린(주)   WAE    01   \n",
       "10       DSPR5  2016   018   001  2.517  BSK2514    하나마린(주)   WAE    01   \n",
       "...        ...   ...   ...   ...    ...      ...        ...   ...   ...   \n",
       "223255   DSDD6  2021   009   002  1.598  BSK2457    동보해운(주)   WAM    03   \n",
       "223258  150040  2021   037   001    999  YSK0017    태하해운(주)   WAM    03   \n",
       "223262   BUSA6  2021   004   001  5.408  USC1002    아성마린(주)   WAE    01   \n",
       "223272    HOJK  2021   022   003  2.690  USC2011    우일해운(주)   WAE    01   \n",
       "223278    D7RI  2021   003   001  6.843  YSZ2381  선우탱커 주식회사   WAB    02   \n",
       "\n",
       "        신청일시1(FROM ~ TO)  신청일시2(FROM ~ TO) 지정시설1 지정시설2  지정일시1(FROM ~ TO)  \\\n",
       "0       2016-12-28 06:15  2016-12-28 07:45   WAE    03  2016-12-28 06:15   \n",
       "2       2016-12-29 06:45  2016-12-30 06:40   WAE    01  2016-12-29 06:45   \n",
       "5       2017-01-01 12:00  2017-01-03 00:00   WAM    06  2017-01-01 11:45   \n",
       "8       2016-12-29 03:40  2016-12-29 12:40   WAE    01  2016-12-29 03:40   \n",
       "10      2016-12-30 11:35  2016-12-31 10:10   WAE    01  2016-12-30 11:35   \n",
       "...                  ...               ...   ...   ...               ...   \n",
       "223255  2021-06-26 06:20  2021-06-27 10:00   WAM    03  2021-06-26 06:20   \n",
       "223258  2021-06-28 03:20  2021-06-28 08:27   WAM    01  2021-06-28 03:20   \n",
       "223262  2021-06-27 08:30  2021-06-27 20:45   WAE    01  2021-06-27 08:30   \n",
       "223272  2021-06-29 13:20  2021-06-29 21:05   WAE    01  2021-06-29 13:20   \n",
       "223278  2021-06-27 14:35  2021-06-27 21:05   WAB    02  2021-06-27 14:35   \n",
       "\n",
       "        지정일시2(FROM ~ TO) 사용목적명  허가유무  \n",
       "0       2016-12-28 07:45  접안대기  허가완료  \n",
       "2       2016-12-30 06:40  접안대기  허가완료  \n",
       "5       2017-01-02 15:00  접안대기  허가완료  \n",
       "8       2016-12-29 12:40  접안대기  허가완료  \n",
       "10      2016-12-31 10:10  접안대기  허가완료  \n",
       "...                  ...   ...   ...  \n",
       "223255  2021-06-27 10:00  접안대기  허가완료  \n",
       "223258  2021-06-28 08:27  접안대기  허가완료  \n",
       "223262  2021-06-27 20:45  접안대기  허가완료  \n",
       "223272  2021-06-29 21:05  접안대기  허가완료  \n",
       "223278  2021-06-27 21:05  접안대기  허가완료  \n",
       "\n",
       "[35099 rows x 17 columns]"
      ],
      "text/html": "<div>\n<style scoped>\n    .dataframe tbody tr th:only-of-type {\n        vertical-align: middle;\n    }\n\n    .dataframe tbody tr th {\n        vertical-align: top;\n    }\n\n    .dataframe thead th {\n        text-align: right;\n    }\n</style>\n<table border=\"1\" class=\"dataframe\">\n  <thead>\n    <tr style=\"text-align: right;\">\n      <th></th>\n      <th>호출부호</th>\n      <th>입항횟수1</th>\n      <th>입항횟수2</th>\n      <th>입항횟수3</th>\n      <th>신고톤수</th>\n      <th>선사/대리점1</th>\n      <th>선사/대리점2</th>\n      <th>신청시설1</th>\n      <th>신청시설2</th>\n      <th>신청일시1(FROM ~ TO)</th>\n      <th>신청일시2(FROM ~ TO)</th>\n      <th>지정시설1</th>\n      <th>지정시설2</th>\n      <th>지정일시1(FROM ~ TO)</th>\n      <th>지정일시2(FROM ~ TO)</th>\n      <th>사용목적명</th>\n      <th>허가유무</th>\n    </tr>\n  </thead>\n  <tbody>\n    <tr>\n      <th>0</th>\n      <td>D7BN</td>\n      <td>2016</td>\n      <td>019</td>\n      <td>001</td>\n      <td>8.581</td>\n      <td>OST0212</td>\n      <td>우민해운(주)</td>\n      <td>WAE</td>\n      <td>03</td>\n      <td>2016-12-28 06:15</td>\n      <td>2016-12-28 07:45</td>\n      <td>WAE</td>\n      <td>03</td>\n      <td>2016-12-28 06:15</td>\n      <td>2016-12-28 07:45</td>\n      <td>접안대기</td>\n      <td>허가완료</td>\n    </tr>\n    <tr>\n      <th>2</th>\n      <td>D7BN</td>\n      <td>2016</td>\n      <td>019</td>\n      <td>003</td>\n      <td>8.581</td>\n      <td>OST0212</td>\n      <td>우민해운(주)</td>\n      <td>WAE</td>\n      <td>01</td>\n      <td>2016-12-29 06:45</td>\n      <td>2016-12-30 06:40</td>\n      <td>WAE</td>\n      <td>01</td>\n      <td>2016-12-29 06:45</td>\n      <td>2016-12-30 06:40</td>\n      <td>접안대기</td>\n      <td>허가완료</td>\n    </tr>\n    <tr>\n      <th>5</th>\n      <td>DSRN9</td>\n      <td>2017</td>\n      <td>001</td>\n      <td>001</td>\n      <td>997</td>\n      <td>BSK2678</td>\n      <td>영산해운(주)</td>\n      <td>WAM</td>\n      <td>06</td>\n      <td>2017-01-01 12:00</td>\n      <td>2017-01-03 00:00</td>\n      <td>WAM</td>\n      <td>06</td>\n      <td>2017-01-01 11:45</td>\n      <td>2017-01-02 15:00</td>\n      <td>접안대기</td>\n      <td>허가완료</td>\n    </tr>\n    <tr>\n      <th>8</th>\n      <td>DSPR5</td>\n      <td>2016</td>\n      <td>017</td>\n      <td>001</td>\n      <td>2.517</td>\n      <td>BSK2514</td>\n      <td>하나마린(주)</td>\n      <td>WAE</td>\n      <td>01</td>\n      <td>2016-12-29 03:40</td>\n      <td>2016-12-29 12:40</td>\n      <td>WAE</td>\n      <td>01</td>\n      <td>2016-12-29 03:40</td>\n      <td>2016-12-29 12:40</td>\n      <td>접안대기</td>\n      <td>허가완료</td>\n    </tr>\n    <tr>\n      <th>10</th>\n      <td>DSPR5</td>\n      <td>2016</td>\n      <td>018</td>\n      <td>001</td>\n      <td>2.517</td>\n      <td>BSK2514</td>\n      <td>하나마린(주)</td>\n      <td>WAE</td>\n      <td>01</td>\n      <td>2016-12-30 11:35</td>\n      <td>2016-12-31 10:10</td>\n      <td>WAE</td>\n      <td>01</td>\n      <td>2016-12-30 11:35</td>\n      <td>2016-12-31 10:10</td>\n      <td>접안대기</td>\n      <td>허가완료</td>\n    </tr>\n    <tr>\n      <th>...</th>\n      <td>...</td>\n      <td>...</td>\n      <td>...</td>\n      <td>...</td>\n      <td>...</td>\n      <td>...</td>\n      <td>...</td>\n      <td>...</td>\n      <td>...</td>\n      <td>...</td>\n      <td>...</td>\n      <td>...</td>\n      <td>...</td>\n      <td>...</td>\n      <td>...</td>\n      <td>...</td>\n      <td>...</td>\n    </tr>\n    <tr>\n      <th>223255</th>\n      <td>DSDD6</td>\n      <td>2021</td>\n      <td>009</td>\n      <td>002</td>\n      <td>1.598</td>\n      <td>BSK2457</td>\n      <td>동보해운(주)</td>\n      <td>WAM</td>\n      <td>03</td>\n      <td>2021-06-26 06:20</td>\n      <td>2021-06-27 10:00</td>\n      <td>WAM</td>\n      <td>03</td>\n      <td>2021-06-26 06:20</td>\n      <td>2021-06-27 10:00</td>\n      <td>접안대기</td>\n      <td>허가완료</td>\n    </tr>\n    <tr>\n      <th>223258</th>\n      <td>150040</td>\n      <td>2021</td>\n      <td>037</td>\n      <td>001</td>\n      <td>999</td>\n      <td>YSK0017</td>\n      <td>태하해운(주)</td>\n      <td>WAM</td>\n      <td>03</td>\n      <td>2021-06-28 03:20</td>\n      <td>2021-06-28 08:27</td>\n      <td>WAM</td>\n      <td>01</td>\n      <td>2021-06-28 03:20</td>\n      <td>2021-06-28 08:27</td>\n      <td>접안대기</td>\n      <td>허가완료</td>\n    </tr>\n    <tr>\n      <th>223262</th>\n      <td>BUSA6</td>\n      <td>2021</td>\n      <td>004</td>\n      <td>001</td>\n      <td>5.408</td>\n      <td>USC1002</td>\n      <td>아성마린(주)</td>\n      <td>WAE</td>\n      <td>01</td>\n      <td>2021-06-27 08:30</td>\n      <td>2021-06-27 20:45</td>\n      <td>WAE</td>\n      <td>01</td>\n      <td>2021-06-27 08:30</td>\n      <td>2021-06-27 20:45</td>\n      <td>접안대기</td>\n      <td>허가완료</td>\n    </tr>\n    <tr>\n      <th>223272</th>\n      <td>HOJK</td>\n      <td>2021</td>\n      <td>022</td>\n      <td>003</td>\n      <td>2.690</td>\n      <td>USC2011</td>\n      <td>우일해운(주)</td>\n      <td>WAE</td>\n      <td>01</td>\n      <td>2021-06-29 13:20</td>\n      <td>2021-06-29 21:05</td>\n      <td>WAE</td>\n      <td>01</td>\n      <td>2021-06-29 13:20</td>\n      <td>2021-06-29 21:05</td>\n      <td>접안대기</td>\n      <td>허가완료</td>\n    </tr>\n    <tr>\n      <th>223278</th>\n      <td>D7RI</td>\n      <td>2021</td>\n      <td>003</td>\n      <td>001</td>\n      <td>6.843</td>\n      <td>YSZ2381</td>\n      <td>선우탱커 주식회사</td>\n      <td>WAB</td>\n      <td>02</td>\n      <td>2021-06-27 14:35</td>\n      <td>2021-06-27 21:05</td>\n      <td>WAB</td>\n      <td>02</td>\n      <td>2021-06-27 14:35</td>\n      <td>2021-06-27 21:05</td>\n      <td>접안대기</td>\n      <td>허가완료</td>\n    </tr>\n  </tbody>\n</table>\n<p>35099 rows × 17 columns</p>\n</div>"
     },
     "metadata": {},
     "execution_count": 39
    }
   ],
   "source": [
    "FUPS_data[FUPS_data['사용목적명']==\"접안대기\"]"
   ]
  },
  {
   "cell_type": "code",
   "execution_count": 40,
   "metadata": {},
   "outputs": [
    {
     "output_type": "stream",
     "name": "stderr",
     "text": [
      "/home/ubuntu/.local/lib/python3.8/site-packages/pandas/core/frame.py:3607: SettingWithCopyWarning: \nA value is trying to be set on a copy of a slice from a DataFrame.\nTry using .loc[row_indexer,col_indexer] = value instead\n\nSee the caveats in the documentation: https://pandas.pydata.org/pandas-docs/stable/user_guide/indexing.html#returning-a-view-versus-a-copy\n  self._set_item(key, value)\n"
     ]
    },
    {
     "output_type": "execute_result",
     "data": {
      "text/plain": [
       "          호출부호          선명 입항횟수1 입항횟수2  구분  외내  입출    총톤수              입항일시  \\\n",
       "0        V7RW2  AFRICA GAS  2017   001  최초  외항  출항  25098  1950-01-01 00:00   \n",
       "1       975652       97대광호  2015   001  최종  내항  출항    141  2015-02-06 12:35   \n",
       "2       978218        유림5호  2016   001  최종  내항  출항    190  2016-03-29 09:00   \n",
       "3       114432      31 신흥호  2016   006  최종  내항  출항    119  2016-09-09 12:50   \n",
       "4       698123        제5동방  2016   014  최종  내항  출항     44  2016-10-18 00:00   \n",
       "...        ...         ...   ...   ...  ..  ..  ..    ...               ...   \n",
       "214571  9V9557  BOW DALIAN  2021   007  최종  외항  입항   6583  2021-06-30 22:25   \n",
       "214572   5VEH4    XINGHE 9  2021   001  최종  외항  입항   1495  2021-06-30 22:50   \n",
       "214573  130093          삼원  2021   041  최종  내항  입항    699  2021-06-30 23:05   \n",
       "214574  200013          유성  2021   074  최종  내항  입항   1998  2021-06-30 23:05   \n",
       "214575   LACQ6  BOW GEMINI  2021   001  최종  외항  입항  26364  2021-06-30 23:15   \n",
       "\n",
       "                    출항일시  ...          차항지               전출항지      선박용도  \\\n",
       "0       2017-01-18 20:00  ...          NaN                NaN       신조선   \n",
       "1       2017-01-11 03:50  ...           부산                 부산       급유선   \n",
       "2       2017-01-24 19:33  ...           울산                기타항  이.접안용 예선   \n",
       "3       2017-01-12 11:20  ...          기타항                기타항     견인용예선   \n",
       "4       2017-01-15 15:10  ...          기타항                기타항     견인용예선   \n",
       "...                  ...  ...          ...                ...       ...   \n",
       "214571  2021-07-01 16:54  ...     SHANGHAI                 여수  석유제품 운반선   \n",
       "214572  2021-07-01 15:20  ...  ZHOUSHAN PT                 부산     일반화물선   \n",
       "214573  2021-07-01 05:25  ...          기타항                기타항  석유제품 운반선   \n",
       "214574  2021-07-01 06:45  ...           마산                 마산  석유제품 운반선   \n",
       "214575  2021-07-04 07:00  ...      AN PING  PANAMA, CIUDAD DE  석유제품 운반선   \n",
       "\n",
       "       승무원(한국인) 승무원(외국인) 승객 예선 도선 수리여부               id  \n",
       "0             0       21  2  N  N    0   2017_001_V7RW2  \n",
       "1             2        1  3  N  N    1  2015_001_975652  \n",
       "2             5        0  0  N  N    1  2016_001_978218  \n",
       "3             2        1  0  N  N    1  2016_006_114432  \n",
       "4             1        1  0  N  N    1  2016_014_698123  \n",
       "...         ...      ... .. .. ..  ...              ...  \n",
       "214571        0       21  0  Y  Y    1  2021_007_9V9557  \n",
       "214572        0        9  0  Y  Y    1   2021_001_5VEH4  \n",
       "214573        4        4  0  N  N    1  2021_041_130093  \n",
       "214574        7        5  0  Y  N    1  2021_074_200013  \n",
       "214575        0       25  0  Y  Y    1   2021_001_LACQ6  \n",
       "\n",
       "[214378 rows x 25 columns]"
      ],
      "text/html": "<div>\n<style scoped>\n    .dataframe tbody tr th:only-of-type {\n        vertical-align: middle;\n    }\n\n    .dataframe tbody tr th {\n        vertical-align: top;\n    }\n\n    .dataframe thead th {\n        text-align: right;\n    }\n</style>\n<table border=\"1\" class=\"dataframe\">\n  <thead>\n    <tr style=\"text-align: right;\">\n      <th></th>\n      <th>호출부호</th>\n      <th>선명</th>\n      <th>입항횟수1</th>\n      <th>입항횟수2</th>\n      <th>구분</th>\n      <th>외내</th>\n      <th>입출</th>\n      <th>총톤수</th>\n      <th>입항일시</th>\n      <th>출항일시</th>\n      <th>...</th>\n      <th>차항지</th>\n      <th>전출항지</th>\n      <th>선박용도</th>\n      <th>승무원(한국인)</th>\n      <th>승무원(외국인)</th>\n      <th>승객</th>\n      <th>예선</th>\n      <th>도선</th>\n      <th>수리여부</th>\n      <th>id</th>\n    </tr>\n  </thead>\n  <tbody>\n    <tr>\n      <th>0</th>\n      <td>V7RW2</td>\n      <td>AFRICA GAS</td>\n      <td>2017</td>\n      <td>001</td>\n      <td>최초</td>\n      <td>외항</td>\n      <td>출항</td>\n      <td>25098</td>\n      <td>1950-01-01 00:00</td>\n      <td>2017-01-18 20:00</td>\n      <td>...</td>\n      <td>NaN</td>\n      <td>NaN</td>\n      <td>신조선</td>\n      <td>0</td>\n      <td>21</td>\n      <td>2</td>\n      <td>N</td>\n      <td>N</td>\n      <td>0</td>\n      <td>2017_001_V7RW2</td>\n    </tr>\n    <tr>\n      <th>1</th>\n      <td>975652</td>\n      <td>97대광호</td>\n      <td>2015</td>\n      <td>001</td>\n      <td>최종</td>\n      <td>내항</td>\n      <td>출항</td>\n      <td>141</td>\n      <td>2015-02-06 12:35</td>\n      <td>2017-01-11 03:50</td>\n      <td>...</td>\n      <td>부산</td>\n      <td>부산</td>\n      <td>급유선</td>\n      <td>2</td>\n      <td>1</td>\n      <td>3</td>\n      <td>N</td>\n      <td>N</td>\n      <td>1</td>\n      <td>2015_001_975652</td>\n    </tr>\n    <tr>\n      <th>2</th>\n      <td>978218</td>\n      <td>유림5호</td>\n      <td>2016</td>\n      <td>001</td>\n      <td>최종</td>\n      <td>내항</td>\n      <td>출항</td>\n      <td>190</td>\n      <td>2016-03-29 09:00</td>\n      <td>2017-01-24 19:33</td>\n      <td>...</td>\n      <td>울산</td>\n      <td>기타항</td>\n      <td>이.접안용 예선</td>\n      <td>5</td>\n      <td>0</td>\n      <td>0</td>\n      <td>N</td>\n      <td>N</td>\n      <td>1</td>\n      <td>2016_001_978218</td>\n    </tr>\n    <tr>\n      <th>3</th>\n      <td>114432</td>\n      <td>31 신흥호</td>\n      <td>2016</td>\n      <td>006</td>\n      <td>최종</td>\n      <td>내항</td>\n      <td>출항</td>\n      <td>119</td>\n      <td>2016-09-09 12:50</td>\n      <td>2017-01-12 11:20</td>\n      <td>...</td>\n      <td>기타항</td>\n      <td>기타항</td>\n      <td>견인용예선</td>\n      <td>2</td>\n      <td>1</td>\n      <td>0</td>\n      <td>N</td>\n      <td>N</td>\n      <td>1</td>\n      <td>2016_006_114432</td>\n    </tr>\n    <tr>\n      <th>4</th>\n      <td>698123</td>\n      <td>제5동방</td>\n      <td>2016</td>\n      <td>014</td>\n      <td>최종</td>\n      <td>내항</td>\n      <td>출항</td>\n      <td>44</td>\n      <td>2016-10-18 00:00</td>\n      <td>2017-01-15 15:10</td>\n      <td>...</td>\n      <td>기타항</td>\n      <td>기타항</td>\n      <td>견인용예선</td>\n      <td>1</td>\n      <td>1</td>\n      <td>0</td>\n      <td>N</td>\n      <td>N</td>\n      <td>1</td>\n      <td>2016_014_698123</td>\n    </tr>\n    <tr>\n      <th>...</th>\n      <td>...</td>\n      <td>...</td>\n      <td>...</td>\n      <td>...</td>\n      <td>...</td>\n      <td>...</td>\n      <td>...</td>\n      <td>...</td>\n      <td>...</td>\n      <td>...</td>\n      <td>...</td>\n      <td>...</td>\n      <td>...</td>\n      <td>...</td>\n      <td>...</td>\n      <td>...</td>\n      <td>...</td>\n      <td>...</td>\n      <td>...</td>\n      <td>...</td>\n      <td>...</td>\n    </tr>\n    <tr>\n      <th>214571</th>\n      <td>9V9557</td>\n      <td>BOW DALIAN</td>\n      <td>2021</td>\n      <td>007</td>\n      <td>최종</td>\n      <td>외항</td>\n      <td>입항</td>\n      <td>6583</td>\n      <td>2021-06-30 22:25</td>\n      <td>2021-07-01 16:54</td>\n      <td>...</td>\n      <td>SHANGHAI</td>\n      <td>여수</td>\n      <td>석유제품 운반선</td>\n      <td>0</td>\n      <td>21</td>\n      <td>0</td>\n      <td>Y</td>\n      <td>Y</td>\n      <td>1</td>\n      <td>2021_007_9V9557</td>\n    </tr>\n    <tr>\n      <th>214572</th>\n      <td>5VEH4</td>\n      <td>XINGHE 9</td>\n      <td>2021</td>\n      <td>001</td>\n      <td>최종</td>\n      <td>외항</td>\n      <td>입항</td>\n      <td>1495</td>\n      <td>2021-06-30 22:50</td>\n      <td>2021-07-01 15:20</td>\n      <td>...</td>\n      <td>ZHOUSHAN PT</td>\n      <td>부산</td>\n      <td>일반화물선</td>\n      <td>0</td>\n      <td>9</td>\n      <td>0</td>\n      <td>Y</td>\n      <td>Y</td>\n      <td>1</td>\n      <td>2021_001_5VEH4</td>\n    </tr>\n    <tr>\n      <th>214573</th>\n      <td>130093</td>\n      <td>삼원</td>\n      <td>2021</td>\n      <td>041</td>\n      <td>최종</td>\n      <td>내항</td>\n      <td>입항</td>\n      <td>699</td>\n      <td>2021-06-30 23:05</td>\n      <td>2021-07-01 05:25</td>\n      <td>...</td>\n      <td>기타항</td>\n      <td>기타항</td>\n      <td>석유제품 운반선</td>\n      <td>4</td>\n      <td>4</td>\n      <td>0</td>\n      <td>N</td>\n      <td>N</td>\n      <td>1</td>\n      <td>2021_041_130093</td>\n    </tr>\n    <tr>\n      <th>214574</th>\n      <td>200013</td>\n      <td>유성</td>\n      <td>2021</td>\n      <td>074</td>\n      <td>최종</td>\n      <td>내항</td>\n      <td>입항</td>\n      <td>1998</td>\n      <td>2021-06-30 23:05</td>\n      <td>2021-07-01 06:45</td>\n      <td>...</td>\n      <td>마산</td>\n      <td>마산</td>\n      <td>석유제품 운반선</td>\n      <td>7</td>\n      <td>5</td>\n      <td>0</td>\n      <td>Y</td>\n      <td>N</td>\n      <td>1</td>\n      <td>2021_074_200013</td>\n    </tr>\n    <tr>\n      <th>214575</th>\n      <td>LACQ6</td>\n      <td>BOW GEMINI</td>\n      <td>2021</td>\n      <td>001</td>\n      <td>최종</td>\n      <td>외항</td>\n      <td>입항</td>\n      <td>26364</td>\n      <td>2021-06-30 23:15</td>\n      <td>2021-07-04 07:00</td>\n      <td>...</td>\n      <td>AN PING</td>\n      <td>PANAMA, CIUDAD DE</td>\n      <td>석유제품 운반선</td>\n      <td>0</td>\n      <td>25</td>\n      <td>0</td>\n      <td>Y</td>\n      <td>Y</td>\n      <td>1</td>\n      <td>2021_001_LACQ6</td>\n    </tr>\n  </tbody>\n</table>\n<p>214378 rows × 25 columns</p>\n</div>"
     },
     "metadata": {},
     "execution_count": 40
    }
   ],
   "source": [
    "SADS_data['id'] = SADS_data[['입항횟수1', '입항횟수2', '호출부호']].apply(lambda x:'_'.join(x), axis = 1)\n",
    "SADS_data"
   ]
  },
  {
   "cell_type": "code",
   "execution_count": 41,
   "metadata": {},
   "outputs": [
    {
     "output_type": "stream",
     "name": "stderr",
     "text": [
      "/home/ubuntu/.local/lib/python3.8/site-packages/pandas/core/frame.py:3607: SettingWithCopyWarning: \nA value is trying to be set on a copy of a slice from a DataFrame.\nTry using .loc[row_indexer,col_indexer] = value instead\n\nSee the caveats in the documentation: https://pandas.pydata.org/pandas-docs/stable/user_guide/indexing.html#returning-a-view-versus-a-copy\n  self._set_item(key, value)\n"
     ]
    },
    {
     "output_type": "execute_result",
     "data": {
      "text/plain": [
       "          호출부호 입항횟수1 입항횟수2 입항횟수3    신고톤수  선사/대리점1      선사/대리점2 신청시설1 신청시설2  \\\n",
       "0         D7BN  2016   019   001   8.581  OST0212      우민해운(주)   WAE    03   \n",
       "1         D7BN  2016   019   002   8.581  OST0212      우민해운(주)   MBA    01   \n",
       "2         D7BN  2016   019   003   8.581  OST0212      우민해운(주)   WAE    01   \n",
       "3         D7BN  2016   019   004   8.581  OST0212      우민해운(주)   MDS    01   \n",
       "4       075682  2017   001   001   5.946  YSK0018      한선해운(주)   MBR    01   \n",
       "...        ...   ...   ...   ...     ...      ...          ...   ...   ...   \n",
       "223266  105351  2021   042   002     575  BSZ7237      봉은해운(주)   MBU    01   \n",
       "223267   D5XS2  2021   001   001  39.738  OST0011     팬오션 주식회사   MBA    01   \n",
       "223270   VRRQ3  2021   001   002  28.794  ICC2121  주식회사 굳파트너쉬핑   MDS    03   \n",
       "223272    HOJK  2021   022   003   2.690  USC2011      우일해운(주)   WAE    01   \n",
       "223278    D7RI  2021   003   001   6.843  YSZ2381    선우탱커 주식회사   WAB    02   \n",
       "\n",
       "        신청일시1(FROM ~ TO)  신청일시2(FROM ~ TO) 지정시설1 지정시설2  지정일시1(FROM ~ TO)  \\\n",
       "0       2016-12-28 06:15  2016-12-28 07:45   WAE    03  2016-12-28 06:15   \n",
       "1       2016-12-28 08:45  2016-12-29 01:45   MBA    01  2016-12-28 08:45   \n",
       "2       2016-12-29 06:45  2016-12-30 06:40   WAE    01  2016-12-29 06:45   \n",
       "3       2016-12-30 07:45  2016-12-31 19:30   MDS    01  2016-12-30 07:45   \n",
       "4       2017-01-01 23:00  2017-01-02 12:00   MBR    01  2017-01-02 04:25   \n",
       "...                  ...               ...   ...   ...               ...   \n",
       "223266  2021-06-23 01:30  2021-06-23 05:35   MBU    01  2021-06-23 01:30   \n",
       "223267  2021-06-24 14:50  2021-06-29 10:00   MBA    01  2021-06-24 14:50   \n",
       "223270  2021-06-28 12:40  2021-06-29 21:05   MDS    03  2021-06-28 12:40   \n",
       "223272  2021-06-29 13:20  2021-06-29 21:05   WAE    01  2021-06-29 13:20   \n",
       "223278  2021-06-27 14:35  2021-06-27 21:05   WAB    02  2021-06-27 14:35   \n",
       "\n",
       "        지정일시2(FROM ~ TO) 사용목적명  허가유무               id  \n",
       "0       2016-12-28 07:45  접안대기  허가완료    2016_019_D7BN  \n",
       "1       2016-12-29 01:45    양하  허가완료    2016_019_D7BN  \n",
       "2       2016-12-30 06:40  접안대기  허가완료    2016_019_D7BN  \n",
       "3       2016-12-31 19:30    적하  허가완료    2016_019_D7BN  \n",
       "4       2017-01-02 18:05    양하  허가완료  2017_001_075682  \n",
       "...                  ...   ...   ...              ...  \n",
       "223266  2021-06-23 05:35    적하  허가완료  2021_042_105351  \n",
       "223267  2021-06-29 10:00    양하  허가완료   2021_001_D5XS2  \n",
       "223270  2021-06-29 21:05    적하  허가완료   2021_001_VRRQ3  \n",
       "223272  2021-06-29 21:05  접안대기  허가완료    2021_022_HOJK  \n",
       "223278  2021-06-27 21:05  접안대기  허가완료    2021_003_D7RI  \n",
       "\n",
       "[222720 rows x 18 columns]"
      ],
      "text/html": "<div>\n<style scoped>\n    .dataframe tbody tr th:only-of-type {\n        vertical-align: middle;\n    }\n\n    .dataframe tbody tr th {\n        vertical-align: top;\n    }\n\n    .dataframe thead th {\n        text-align: right;\n    }\n</style>\n<table border=\"1\" class=\"dataframe\">\n  <thead>\n    <tr style=\"text-align: right;\">\n      <th></th>\n      <th>호출부호</th>\n      <th>입항횟수1</th>\n      <th>입항횟수2</th>\n      <th>입항횟수3</th>\n      <th>신고톤수</th>\n      <th>선사/대리점1</th>\n      <th>선사/대리점2</th>\n      <th>신청시설1</th>\n      <th>신청시설2</th>\n      <th>신청일시1(FROM ~ TO)</th>\n      <th>신청일시2(FROM ~ TO)</th>\n      <th>지정시설1</th>\n      <th>지정시설2</th>\n      <th>지정일시1(FROM ~ TO)</th>\n      <th>지정일시2(FROM ~ TO)</th>\n      <th>사용목적명</th>\n      <th>허가유무</th>\n      <th>id</th>\n    </tr>\n  </thead>\n  <tbody>\n    <tr>\n      <th>0</th>\n      <td>D7BN</td>\n      <td>2016</td>\n      <td>019</td>\n      <td>001</td>\n      <td>8.581</td>\n      <td>OST0212</td>\n      <td>우민해운(주)</td>\n      <td>WAE</td>\n      <td>03</td>\n      <td>2016-12-28 06:15</td>\n      <td>2016-12-28 07:45</td>\n      <td>WAE</td>\n      <td>03</td>\n      <td>2016-12-28 06:15</td>\n      <td>2016-12-28 07:45</td>\n      <td>접안대기</td>\n      <td>허가완료</td>\n      <td>2016_019_D7BN</td>\n    </tr>\n    <tr>\n      <th>1</th>\n      <td>D7BN</td>\n      <td>2016</td>\n      <td>019</td>\n      <td>002</td>\n      <td>8.581</td>\n      <td>OST0212</td>\n      <td>우민해운(주)</td>\n      <td>MBA</td>\n      <td>01</td>\n      <td>2016-12-28 08:45</td>\n      <td>2016-12-29 01:45</td>\n      <td>MBA</td>\n      <td>01</td>\n      <td>2016-12-28 08:45</td>\n      <td>2016-12-29 01:45</td>\n      <td>양하</td>\n      <td>허가완료</td>\n      <td>2016_019_D7BN</td>\n    </tr>\n    <tr>\n      <th>2</th>\n      <td>D7BN</td>\n      <td>2016</td>\n      <td>019</td>\n      <td>003</td>\n      <td>8.581</td>\n      <td>OST0212</td>\n      <td>우민해운(주)</td>\n      <td>WAE</td>\n      <td>01</td>\n      <td>2016-12-29 06:45</td>\n      <td>2016-12-30 06:40</td>\n      <td>WAE</td>\n      <td>01</td>\n      <td>2016-12-29 06:45</td>\n      <td>2016-12-30 06:40</td>\n      <td>접안대기</td>\n      <td>허가완료</td>\n      <td>2016_019_D7BN</td>\n    </tr>\n    <tr>\n      <th>3</th>\n      <td>D7BN</td>\n      <td>2016</td>\n      <td>019</td>\n      <td>004</td>\n      <td>8.581</td>\n      <td>OST0212</td>\n      <td>우민해운(주)</td>\n      <td>MDS</td>\n      <td>01</td>\n      <td>2016-12-30 07:45</td>\n      <td>2016-12-31 19:30</td>\n      <td>MDS</td>\n      <td>01</td>\n      <td>2016-12-30 07:45</td>\n      <td>2016-12-31 19:30</td>\n      <td>적하</td>\n      <td>허가완료</td>\n      <td>2016_019_D7BN</td>\n    </tr>\n    <tr>\n      <th>4</th>\n      <td>075682</td>\n      <td>2017</td>\n      <td>001</td>\n      <td>001</td>\n      <td>5.946</td>\n      <td>YSK0018</td>\n      <td>한선해운(주)</td>\n      <td>MBR</td>\n      <td>01</td>\n      <td>2017-01-01 23:00</td>\n      <td>2017-01-02 12:00</td>\n      <td>MBR</td>\n      <td>01</td>\n      <td>2017-01-02 04:25</td>\n      <td>2017-01-02 18:05</td>\n      <td>양하</td>\n      <td>허가완료</td>\n      <td>2017_001_075682</td>\n    </tr>\n    <tr>\n      <th>...</th>\n      <td>...</td>\n      <td>...</td>\n      <td>...</td>\n      <td>...</td>\n      <td>...</td>\n      <td>...</td>\n      <td>...</td>\n      <td>...</td>\n      <td>...</td>\n      <td>...</td>\n      <td>...</td>\n      <td>...</td>\n      <td>...</td>\n      <td>...</td>\n      <td>...</td>\n      <td>...</td>\n      <td>...</td>\n      <td>...</td>\n    </tr>\n    <tr>\n      <th>223266</th>\n      <td>105351</td>\n      <td>2021</td>\n      <td>042</td>\n      <td>002</td>\n      <td>575</td>\n      <td>BSZ7237</td>\n      <td>봉은해운(주)</td>\n      <td>MBU</td>\n      <td>01</td>\n      <td>2021-06-23 01:30</td>\n      <td>2021-06-23 05:35</td>\n      <td>MBU</td>\n      <td>01</td>\n      <td>2021-06-23 01:30</td>\n      <td>2021-06-23 05:35</td>\n      <td>적하</td>\n      <td>허가완료</td>\n      <td>2021_042_105351</td>\n    </tr>\n    <tr>\n      <th>223267</th>\n      <td>D5XS2</td>\n      <td>2021</td>\n      <td>001</td>\n      <td>001</td>\n      <td>39.738</td>\n      <td>OST0011</td>\n      <td>팬오션 주식회사</td>\n      <td>MBA</td>\n      <td>01</td>\n      <td>2021-06-24 14:50</td>\n      <td>2021-06-29 10:00</td>\n      <td>MBA</td>\n      <td>01</td>\n      <td>2021-06-24 14:50</td>\n      <td>2021-06-29 10:00</td>\n      <td>양하</td>\n      <td>허가완료</td>\n      <td>2021_001_D5XS2</td>\n    </tr>\n    <tr>\n      <th>223270</th>\n      <td>VRRQ3</td>\n      <td>2021</td>\n      <td>001</td>\n      <td>002</td>\n      <td>28.794</td>\n      <td>ICC2121</td>\n      <td>주식회사 굳파트너쉬핑</td>\n      <td>MDS</td>\n      <td>03</td>\n      <td>2021-06-28 12:40</td>\n      <td>2021-06-29 21:05</td>\n      <td>MDS</td>\n      <td>03</td>\n      <td>2021-06-28 12:40</td>\n      <td>2021-06-29 21:05</td>\n      <td>적하</td>\n      <td>허가완료</td>\n      <td>2021_001_VRRQ3</td>\n    </tr>\n    <tr>\n      <th>223272</th>\n      <td>HOJK</td>\n      <td>2021</td>\n      <td>022</td>\n      <td>003</td>\n      <td>2.690</td>\n      <td>USC2011</td>\n      <td>우일해운(주)</td>\n      <td>WAE</td>\n      <td>01</td>\n      <td>2021-06-29 13:20</td>\n      <td>2021-06-29 21:05</td>\n      <td>WAE</td>\n      <td>01</td>\n      <td>2021-06-29 13:20</td>\n      <td>2021-06-29 21:05</td>\n      <td>접안대기</td>\n      <td>허가완료</td>\n      <td>2021_022_HOJK</td>\n    </tr>\n    <tr>\n      <th>223278</th>\n      <td>D7RI</td>\n      <td>2021</td>\n      <td>003</td>\n      <td>001</td>\n      <td>6.843</td>\n      <td>YSZ2381</td>\n      <td>선우탱커 주식회사</td>\n      <td>WAB</td>\n      <td>02</td>\n      <td>2021-06-27 14:35</td>\n      <td>2021-06-27 21:05</td>\n      <td>WAB</td>\n      <td>02</td>\n      <td>2021-06-27 14:35</td>\n      <td>2021-06-27 21:05</td>\n      <td>접안대기</td>\n      <td>허가완료</td>\n      <td>2021_003_D7RI</td>\n    </tr>\n  </tbody>\n</table>\n<p>222720 rows × 18 columns</p>\n</div>"
     },
     "metadata": {},
     "execution_count": 41
    }
   ],
   "source": [
    "FUPS_data['id'] = FUPS_data[['입항횟수1', '입항횟수2', '호출부호',]].apply(lambda x:'_'.join(x), axis = 1)\n",
    "FUPS_data"
   ]
  },
  {
   "cell_type": "code",
   "execution_count": 42,
   "metadata": {},
   "outputs": [
    {
     "output_type": "execute_result",
     "data": {
      "text/plain": [
       "      호출부호 입항횟수1 입항횟수2 입항횟수3   신고톤수  선사/대리점1  선사/대리점2 신청시설1 신청시설2  \\\n",
       "0     D7BN  2016   019   001  8.581  OST0212  우민해운(주)   WAE    03   \n",
       "1     D7BN  2016   019   002  8.581  OST0212  우민해운(주)   MBA    01   \n",
       "2     D7BN  2016   019   003  8.581  OST0212  우민해운(주)   WAE    01   \n",
       "3     D7BN  2016   019   004  8.581  OST0212  우민해운(주)   MDS    01   \n",
       "4   075682  2017   001   001  5.946  YSK0018  한선해운(주)   MBR    01   \n",
       "5    DSRN9  2017   001   001    997  BSK2678  영산해운(주)   WAM    06   \n",
       "6    DSRN9  2017   001   002    997  BSK2678  영산해운(주)   MDS    01   \n",
       "7    DSRP3  2016   042   001  1.790  USC0004  가나해운(주)   MBN    01   \n",
       "8    DSPR5  2016   017   001  2.517  BSK2514  하나마린(주)   WAE    01   \n",
       "9    DSPR5  2016   017   002  2.517  BSK2514  하나마린(주)   MDY    02   \n",
       "10   DSPR5  2016   018   001  2.517  BSK2514  하나마린(주)   WAE    01   \n",
       "11   DSPR5  2016   018   002  2.517  BSK2514  하나마린(주)   MDG    02   \n",
       "12   DSDZ5  2016   061   001    998  USC0004  가나해운(주)   MBY    03   \n",
       "13   DSDZ5  2016   061   002    998  USC0004  가나해운(주)   WAM    04   \n",
       "14   DSDZ5  2016   061   003    998  USC0004  가나해운(주)   MDS    01   \n",
       "15   DSRL7  2017   001   001  1.464  BSK2514  하나마린(주)   MDG    01   \n",
       "16  134809  2016   129   001    699  BSZ9782  금양마린(주)   MBN    14   \n",
       "17  134809  2016   129   002    699  BSZ9782  금양마린(주)   MLJ    01   \n",
       "18  134809  2016   129   003    699  BSZ9782  금양마린(주)   MB7    01   \n",
       "19  134809  2016   129   005    699  BSZ9782  금양마린(주)   MBO    01   \n",
       "\n",
       "    신청일시1(FROM ~ TO)  신청일시2(FROM ~ TO) 지정시설1 지정시설2  지정일시1(FROM ~ TO)  \\\n",
       "0   2016-12-28 06:15  2016-12-28 07:45   WAE    03  2016-12-28 06:15   \n",
       "1   2016-12-28 08:45  2016-12-29 01:45   MBA    01  2016-12-28 08:45   \n",
       "2   2016-12-29 06:45  2016-12-30 06:40   WAE    01  2016-12-29 06:45   \n",
       "3   2016-12-30 07:45  2016-12-31 19:30   MDS    01  2016-12-30 07:45   \n",
       "4   2017-01-01 23:00  2017-01-02 12:00   MBR    01  2017-01-02 04:25   \n",
       "5   2017-01-01 12:00  2017-01-03 00:00   WAM    06  2017-01-01 11:45   \n",
       "6   2017-01-02 00:00  2017-01-03 23:00   MDS    01  2017-01-02 16:00   \n",
       "7   2016-12-30 11:10  2016-12-30 17:25   MBN    01  2016-12-30 11:10   \n",
       "8   2016-12-29 03:40  2016-12-29 12:40   WAE    01  2016-12-29 03:40   \n",
       "9   2016-12-29 13:35  2016-12-30 07:00   MDY    02  2016-12-29 13:35   \n",
       "10  2016-12-30 11:35  2016-12-31 10:10   WAE    01  2016-12-30 11:35   \n",
       "11  2016-12-31 10:55  2017-01-01 01:15   MDG    02  2016-12-31 10:55   \n",
       "12  2016-12-30 08:25  2016-12-30 19:50   MBY    03  2016-12-30 08:25   \n",
       "13  2016-12-30 20:10  2016-12-30 21:50   WAM    04  2016-12-30 20:10   \n",
       "14  2016-12-30 22:40  2016-12-31 10:15   MDS    01  2016-12-30 22:40   \n",
       "15  2017-01-01 00:20  2017-01-01 05:20   MDG    01  2017-01-01 00:20   \n",
       "16  2016-12-29 01:30  2016-12-29 06:20   MBN    14  2016-12-29 01:30   \n",
       "17  2016-12-29 07:40  2016-12-30 07:30   MLJ    01  2016-12-29 07:40   \n",
       "18  2016-12-30 08:00  2016-12-30 16:15   MB7    01  2016-12-30 08:00   \n",
       "19  2016-12-31 04:50  2016-12-31 08:50   MBO    01  2016-12-31 04:50   \n",
       "\n",
       "    지정일시2(FROM ~ TO) 사용목적명  허가유무               id  \n",
       "0   2016-12-28 07:45  접안대기  허가완료    2016_019_D7BN  \n",
       "1   2016-12-29 01:45    양하  허가완료    2016_019_D7BN  \n",
       "2   2016-12-30 06:40  접안대기  허가완료    2016_019_D7BN  \n",
       "3   2016-12-31 19:30    적하  허가완료    2016_019_D7BN  \n",
       "4   2017-01-02 18:05    양하  허가완료  2017_001_075682  \n",
       "5   2017-01-02 15:00  접안대기  허가완료   2017_001_DSRN9  \n",
       "6   2017-01-03 01:50    적하  허가완료   2017_001_DSRN9  \n",
       "7   2016-12-30 17:25    양하  허가완료   2016_042_DSRP3  \n",
       "8   2016-12-29 12:40  접안대기  허가완료   2016_017_DSPR5  \n",
       "9   2016-12-30 07:00    양하  허가완료   2016_017_DSPR5  \n",
       "10  2016-12-31 10:10  접안대기  허가완료   2016_018_DSPR5  \n",
       "11  2017-01-01 01:15    적하  허가완료   2016_018_DSPR5  \n",
       "12  2016-12-30 19:50    적하  허가완료   2016_061_DSDZ5  \n",
       "13  2016-12-30 21:50  접안대기  허가완료   2016_061_DSDZ5  \n",
       "14  2016-12-31 10:15    양하  허가완료   2016_061_DSDZ5  \n",
       "15  2017-01-01 05:20    양하  허가완료   2017_001_DSRL7  \n",
       "16  2016-12-29 06:20   NaN  허가완료  2016_129_134809  \n",
       "17  2016-12-30 07:30    기타  허가완료  2016_129_134809  \n",
       "18  2016-12-30 16:15    양하  허가완료  2016_129_134809  \n",
       "19  2016-12-31 08:50    적하  허가완료  2016_129_134809  "
      ],
      "text/html": "<div>\n<style scoped>\n    .dataframe tbody tr th:only-of-type {\n        vertical-align: middle;\n    }\n\n    .dataframe tbody tr th {\n        vertical-align: top;\n    }\n\n    .dataframe thead th {\n        text-align: right;\n    }\n</style>\n<table border=\"1\" class=\"dataframe\">\n  <thead>\n    <tr style=\"text-align: right;\">\n      <th></th>\n      <th>호출부호</th>\n      <th>입항횟수1</th>\n      <th>입항횟수2</th>\n      <th>입항횟수3</th>\n      <th>신고톤수</th>\n      <th>선사/대리점1</th>\n      <th>선사/대리점2</th>\n      <th>신청시설1</th>\n      <th>신청시설2</th>\n      <th>신청일시1(FROM ~ TO)</th>\n      <th>신청일시2(FROM ~ TO)</th>\n      <th>지정시설1</th>\n      <th>지정시설2</th>\n      <th>지정일시1(FROM ~ TO)</th>\n      <th>지정일시2(FROM ~ TO)</th>\n      <th>사용목적명</th>\n      <th>허가유무</th>\n      <th>id</th>\n    </tr>\n  </thead>\n  <tbody>\n    <tr>\n      <th>0</th>\n      <td>D7BN</td>\n      <td>2016</td>\n      <td>019</td>\n      <td>001</td>\n      <td>8.581</td>\n      <td>OST0212</td>\n      <td>우민해운(주)</td>\n      <td>WAE</td>\n      <td>03</td>\n      <td>2016-12-28 06:15</td>\n      <td>2016-12-28 07:45</td>\n      <td>WAE</td>\n      <td>03</td>\n      <td>2016-12-28 06:15</td>\n      <td>2016-12-28 07:45</td>\n      <td>접안대기</td>\n      <td>허가완료</td>\n      <td>2016_019_D7BN</td>\n    </tr>\n    <tr>\n      <th>1</th>\n      <td>D7BN</td>\n      <td>2016</td>\n      <td>019</td>\n      <td>002</td>\n      <td>8.581</td>\n      <td>OST0212</td>\n      <td>우민해운(주)</td>\n      <td>MBA</td>\n      <td>01</td>\n      <td>2016-12-28 08:45</td>\n      <td>2016-12-29 01:45</td>\n      <td>MBA</td>\n      <td>01</td>\n      <td>2016-12-28 08:45</td>\n      <td>2016-12-29 01:45</td>\n      <td>양하</td>\n      <td>허가완료</td>\n      <td>2016_019_D7BN</td>\n    </tr>\n    <tr>\n      <th>2</th>\n      <td>D7BN</td>\n      <td>2016</td>\n      <td>019</td>\n      <td>003</td>\n      <td>8.581</td>\n      <td>OST0212</td>\n      <td>우민해운(주)</td>\n      <td>WAE</td>\n      <td>01</td>\n      <td>2016-12-29 06:45</td>\n      <td>2016-12-30 06:40</td>\n      <td>WAE</td>\n      <td>01</td>\n      <td>2016-12-29 06:45</td>\n      <td>2016-12-30 06:40</td>\n      <td>접안대기</td>\n      <td>허가완료</td>\n      <td>2016_019_D7BN</td>\n    </tr>\n    <tr>\n      <th>3</th>\n      <td>D7BN</td>\n      <td>2016</td>\n      <td>019</td>\n      <td>004</td>\n      <td>8.581</td>\n      <td>OST0212</td>\n      <td>우민해운(주)</td>\n      <td>MDS</td>\n      <td>01</td>\n      <td>2016-12-30 07:45</td>\n      <td>2016-12-31 19:30</td>\n      <td>MDS</td>\n      <td>01</td>\n      <td>2016-12-30 07:45</td>\n      <td>2016-12-31 19:30</td>\n      <td>적하</td>\n      <td>허가완료</td>\n      <td>2016_019_D7BN</td>\n    </tr>\n    <tr>\n      <th>4</th>\n      <td>075682</td>\n      <td>2017</td>\n      <td>001</td>\n      <td>001</td>\n      <td>5.946</td>\n      <td>YSK0018</td>\n      <td>한선해운(주)</td>\n      <td>MBR</td>\n      <td>01</td>\n      <td>2017-01-01 23:00</td>\n      <td>2017-01-02 12:00</td>\n      <td>MBR</td>\n      <td>01</td>\n      <td>2017-01-02 04:25</td>\n      <td>2017-01-02 18:05</td>\n      <td>양하</td>\n      <td>허가완료</td>\n      <td>2017_001_075682</td>\n    </tr>\n    <tr>\n      <th>5</th>\n      <td>DSRN9</td>\n      <td>2017</td>\n      <td>001</td>\n      <td>001</td>\n      <td>997</td>\n      <td>BSK2678</td>\n      <td>영산해운(주)</td>\n      <td>WAM</td>\n      <td>06</td>\n      <td>2017-01-01 12:00</td>\n      <td>2017-01-03 00:00</td>\n      <td>WAM</td>\n      <td>06</td>\n      <td>2017-01-01 11:45</td>\n      <td>2017-01-02 15:00</td>\n      <td>접안대기</td>\n      <td>허가완료</td>\n      <td>2017_001_DSRN9</td>\n    </tr>\n    <tr>\n      <th>6</th>\n      <td>DSRN9</td>\n      <td>2017</td>\n      <td>001</td>\n      <td>002</td>\n      <td>997</td>\n      <td>BSK2678</td>\n      <td>영산해운(주)</td>\n      <td>MDS</td>\n      <td>01</td>\n      <td>2017-01-02 00:00</td>\n      <td>2017-01-03 23:00</td>\n      <td>MDS</td>\n      <td>01</td>\n      <td>2017-01-02 16:00</td>\n      <td>2017-01-03 01:50</td>\n      <td>적하</td>\n      <td>허가완료</td>\n      <td>2017_001_DSRN9</td>\n    </tr>\n    <tr>\n      <th>7</th>\n      <td>DSRP3</td>\n      <td>2016</td>\n      <td>042</td>\n      <td>001</td>\n      <td>1.790</td>\n      <td>USC0004</td>\n      <td>가나해운(주)</td>\n      <td>MBN</td>\n      <td>01</td>\n      <td>2016-12-30 11:10</td>\n      <td>2016-12-30 17:25</td>\n      <td>MBN</td>\n      <td>01</td>\n      <td>2016-12-30 11:10</td>\n      <td>2016-12-30 17:25</td>\n      <td>양하</td>\n      <td>허가완료</td>\n      <td>2016_042_DSRP3</td>\n    </tr>\n    <tr>\n      <th>8</th>\n      <td>DSPR5</td>\n      <td>2016</td>\n      <td>017</td>\n      <td>001</td>\n      <td>2.517</td>\n      <td>BSK2514</td>\n      <td>하나마린(주)</td>\n      <td>WAE</td>\n      <td>01</td>\n      <td>2016-12-29 03:40</td>\n      <td>2016-12-29 12:40</td>\n      <td>WAE</td>\n      <td>01</td>\n      <td>2016-12-29 03:40</td>\n      <td>2016-12-29 12:40</td>\n      <td>접안대기</td>\n      <td>허가완료</td>\n      <td>2016_017_DSPR5</td>\n    </tr>\n    <tr>\n      <th>9</th>\n      <td>DSPR5</td>\n      <td>2016</td>\n      <td>017</td>\n      <td>002</td>\n      <td>2.517</td>\n      <td>BSK2514</td>\n      <td>하나마린(주)</td>\n      <td>MDY</td>\n      <td>02</td>\n      <td>2016-12-29 13:35</td>\n      <td>2016-12-30 07:00</td>\n      <td>MDY</td>\n      <td>02</td>\n      <td>2016-12-29 13:35</td>\n      <td>2016-12-30 07:00</td>\n      <td>양하</td>\n      <td>허가완료</td>\n      <td>2016_017_DSPR5</td>\n    </tr>\n    <tr>\n      <th>10</th>\n      <td>DSPR5</td>\n      <td>2016</td>\n      <td>018</td>\n      <td>001</td>\n      <td>2.517</td>\n      <td>BSK2514</td>\n      <td>하나마린(주)</td>\n      <td>WAE</td>\n      <td>01</td>\n      <td>2016-12-30 11:35</td>\n      <td>2016-12-31 10:10</td>\n      <td>WAE</td>\n      <td>01</td>\n      <td>2016-12-30 11:35</td>\n      <td>2016-12-31 10:10</td>\n      <td>접안대기</td>\n      <td>허가완료</td>\n      <td>2016_018_DSPR5</td>\n    </tr>\n    <tr>\n      <th>11</th>\n      <td>DSPR5</td>\n      <td>2016</td>\n      <td>018</td>\n      <td>002</td>\n      <td>2.517</td>\n      <td>BSK2514</td>\n      <td>하나마린(주)</td>\n      <td>MDG</td>\n      <td>02</td>\n      <td>2016-12-31 10:55</td>\n      <td>2017-01-01 01:15</td>\n      <td>MDG</td>\n      <td>02</td>\n      <td>2016-12-31 10:55</td>\n      <td>2017-01-01 01:15</td>\n      <td>적하</td>\n      <td>허가완료</td>\n      <td>2016_018_DSPR5</td>\n    </tr>\n    <tr>\n      <th>12</th>\n      <td>DSDZ5</td>\n      <td>2016</td>\n      <td>061</td>\n      <td>001</td>\n      <td>998</td>\n      <td>USC0004</td>\n      <td>가나해운(주)</td>\n      <td>MBY</td>\n      <td>03</td>\n      <td>2016-12-30 08:25</td>\n      <td>2016-12-30 19:50</td>\n      <td>MBY</td>\n      <td>03</td>\n      <td>2016-12-30 08:25</td>\n      <td>2016-12-30 19:50</td>\n      <td>적하</td>\n      <td>허가완료</td>\n      <td>2016_061_DSDZ5</td>\n    </tr>\n    <tr>\n      <th>13</th>\n      <td>DSDZ5</td>\n      <td>2016</td>\n      <td>061</td>\n      <td>002</td>\n      <td>998</td>\n      <td>USC0004</td>\n      <td>가나해운(주)</td>\n      <td>WAM</td>\n      <td>04</td>\n      <td>2016-12-30 20:10</td>\n      <td>2016-12-30 21:50</td>\n      <td>WAM</td>\n      <td>04</td>\n      <td>2016-12-30 20:10</td>\n      <td>2016-12-30 21:50</td>\n      <td>접안대기</td>\n      <td>허가완료</td>\n      <td>2016_061_DSDZ5</td>\n    </tr>\n    <tr>\n      <th>14</th>\n      <td>DSDZ5</td>\n      <td>2016</td>\n      <td>061</td>\n      <td>003</td>\n      <td>998</td>\n      <td>USC0004</td>\n      <td>가나해운(주)</td>\n      <td>MDS</td>\n      <td>01</td>\n      <td>2016-12-30 22:40</td>\n      <td>2016-12-31 10:15</td>\n      <td>MDS</td>\n      <td>01</td>\n      <td>2016-12-30 22:40</td>\n      <td>2016-12-31 10:15</td>\n      <td>양하</td>\n      <td>허가완료</td>\n      <td>2016_061_DSDZ5</td>\n    </tr>\n    <tr>\n      <th>15</th>\n      <td>DSRL7</td>\n      <td>2017</td>\n      <td>001</td>\n      <td>001</td>\n      <td>1.464</td>\n      <td>BSK2514</td>\n      <td>하나마린(주)</td>\n      <td>MDG</td>\n      <td>01</td>\n      <td>2017-01-01 00:20</td>\n      <td>2017-01-01 05:20</td>\n      <td>MDG</td>\n      <td>01</td>\n      <td>2017-01-01 00:20</td>\n      <td>2017-01-01 05:20</td>\n      <td>양하</td>\n      <td>허가완료</td>\n      <td>2017_001_DSRL7</td>\n    </tr>\n    <tr>\n      <th>16</th>\n      <td>134809</td>\n      <td>2016</td>\n      <td>129</td>\n      <td>001</td>\n      <td>699</td>\n      <td>BSZ9782</td>\n      <td>금양마린(주)</td>\n      <td>MBN</td>\n      <td>14</td>\n      <td>2016-12-29 01:30</td>\n      <td>2016-12-29 06:20</td>\n      <td>MBN</td>\n      <td>14</td>\n      <td>2016-12-29 01:30</td>\n      <td>2016-12-29 06:20</td>\n      <td>NaN</td>\n      <td>허가완료</td>\n      <td>2016_129_134809</td>\n    </tr>\n    <tr>\n      <th>17</th>\n      <td>134809</td>\n      <td>2016</td>\n      <td>129</td>\n      <td>002</td>\n      <td>699</td>\n      <td>BSZ9782</td>\n      <td>금양마린(주)</td>\n      <td>MLJ</td>\n      <td>01</td>\n      <td>2016-12-29 07:40</td>\n      <td>2016-12-30 07:30</td>\n      <td>MLJ</td>\n      <td>01</td>\n      <td>2016-12-29 07:40</td>\n      <td>2016-12-30 07:30</td>\n      <td>기타</td>\n      <td>허가완료</td>\n      <td>2016_129_134809</td>\n    </tr>\n    <tr>\n      <th>18</th>\n      <td>134809</td>\n      <td>2016</td>\n      <td>129</td>\n      <td>003</td>\n      <td>699</td>\n      <td>BSZ9782</td>\n      <td>금양마린(주)</td>\n      <td>MB7</td>\n      <td>01</td>\n      <td>2016-12-30 08:00</td>\n      <td>2016-12-30 16:15</td>\n      <td>MB7</td>\n      <td>01</td>\n      <td>2016-12-30 08:00</td>\n      <td>2016-12-30 16:15</td>\n      <td>양하</td>\n      <td>허가완료</td>\n      <td>2016_129_134809</td>\n    </tr>\n    <tr>\n      <th>19</th>\n      <td>134809</td>\n      <td>2016</td>\n      <td>129</td>\n      <td>005</td>\n      <td>699</td>\n      <td>BSZ9782</td>\n      <td>금양마린(주)</td>\n      <td>MBO</td>\n      <td>01</td>\n      <td>2016-12-31 04:50</td>\n      <td>2016-12-31 08:50</td>\n      <td>MBO</td>\n      <td>01</td>\n      <td>2016-12-31 04:50</td>\n      <td>2016-12-31 08:50</td>\n      <td>적하</td>\n      <td>허가완료</td>\n      <td>2016_129_134809</td>\n    </tr>\n  </tbody>\n</table>\n</div>"
     },
     "metadata": {},
     "execution_count": 42
    }
   ],
   "source": [
    "FUPS_data.head(20)"
   ]
  },
  {
   "cell_type": "code",
   "execution_count": 43,
   "metadata": {},
   "outputs": [],
   "source": [
    "def func1(x, y):\n",
    "    for i in range(1, 100):\n",
    "        if x == x + 1 and y == y + 1:\n",
    "            return i\n",
    "        elif x != x + 1:\n",
    "            return i\n",
    "            i = 0"
   ]
  },
  {
   "cell_type": "code",
   "execution_count": 44,
   "metadata": {},
   "outputs": [
    {
     "output_type": "stream",
     "name": "stderr",
     "text": [
      "/home/ubuntu/.local/lib/python3.8/site-packages/pandas/core/frame.py:3607: SettingWithCopyWarning: \nA value is trying to be set on a copy of a slice from a DataFrame.\nTry using .loc[row_indexer,col_indexer] = value instead\n\nSee the caveats in the documentation: https://pandas.pydata.org/pandas-docs/stable/user_guide/indexing.html#returning-a-view-versus-a-copy\n  self._set_item(key, value)\n"
     ]
    }
   ],
   "source": [
    "FUPS_data['입항횟수1'] = pd.to_numeric(FUPS_data['입항횟수1'])\n",
    "FUPS_data['입항횟수2'] = pd.to_numeric(FUPS_data['입항횟수2'])"
   ]
  },
  {
   "cell_type": "code",
   "execution_count": 45,
   "metadata": {},
   "outputs": [
    {
     "output_type": "stream",
     "name": "stdout",
     "text": [
      "<class 'pandas.core.frame.DataFrame'>\nInt64Index: 222720 entries, 0 to 223278\nData columns (total 18 columns):\n #   Column            Non-Null Count   Dtype \n---  ------            --------------   ----- \n 0   호출부호              222720 non-null  object\n 1   입항횟수1             222720 non-null  int64 \n 2   입항횟수2             222720 non-null  int64 \n 3   입항횟수3             222720 non-null  object\n 4   신고톤수              222720 non-null  object\n 5   선사/대리점1           222720 non-null  object\n 6   선사/대리점2           222720 non-null  object\n 7   신청시설1             222720 non-null  object\n 8   신청시설2             222720 non-null  object\n 9   신청일시1(FROM ~ TO)  222720 non-null  object\n 10  신청일시2(FROM ~ TO)  222720 non-null  object\n 11  지정시설1             222720 non-null  object\n 12  지정시설2             222720 non-null  object\n 13  지정일시1(FROM ~ TO)  222720 non-null  object\n 14  지정일시2(FROM ~ TO)  222720 non-null  object\n 15  사용목적명             211122 non-null  object\n 16  허가유무              222720 non-null  object\n 17  id                222720 non-null  object\ndtypes: int64(2), object(16)\nmemory usage: 32.3+ MB\n"
     ]
    }
   ],
   "source": [
    "FUPS_data.info()"
   ]
  },
  {
   "cell_type": "code",
   "execution_count": 46,
   "metadata": {},
   "outputs": [
    {
     "output_type": "execute_result",
     "data": {
      "text/plain": [
       "        호출부호  선명 입항횟수1 입항횟수2  구분  외내  입출   총톤수              입항일시  \\\n",
       "1008    D7BN  우동  2017   001  최종  외항  입항  8581  2017-01-07 18:00   \n",
       "1009    D7BN  우동  2017   001  최종  내항  출항  8581  2017-01-07 18:00   \n",
       "3189    D7BN  우동  2017   002  최종  외항  입항  8581  2017-01-23 10:40   \n",
       "3190    D7BN  우동  2017   002  최종  내항  출항  8581  2017-01-23 10:40   \n",
       "3944    D7BN  우동  2017   003  최종  내항  출항  8581  2017-01-28 14:00   \n",
       "...      ...  ..   ...   ...  ..  ..  ..   ...               ...   \n",
       "206272  D7BN  우동  2021   007  최종  외항  출항  8581  2021-04-27 11:40   \n",
       "208831  D7BN  우동  2021   008  최종  내항  출항  8581  2021-05-16 00:50   \n",
       "208832  D7BN  우동  2021   008  최종  외항  입항  8581  2021-05-16 00:50   \n",
       "213799  D7BN  우동  2021   009  최종  내항  입항  8581  2021-06-24 01:10   \n",
       "213800  D7BN  우동  2021   009  최종  내항  출항  8581  2021-06-24 01:10   \n",
       "\n",
       "                    출항일시  항해구분 국적1 계선장소1 계선장소2        계선장소3      차항지  \n",
       "1008    2017-01-10 10:45     0  KR   WAE    01       정박지-E1       인천  \n",
       "1009    2017-01-10 10:45     0  KR   MDS    02     S-OIL2부두       인천  \n",
       "3189    2017-01-24 20:35     0  KR   WAE    02       정박지-E2       인천  \n",
       "3190    2017-01-24 20:35     0  KR   MDS    01     S-OIL1부두       인천  \n",
       "3944    2017-01-30 04:40     0  KR   MDS    03     S-OIL3부두       인천  \n",
       "...                  ...   ...  ..   ...   ...          ...      ...  \n",
       "206272  2021-04-29 13:58     0  KR   WAB    01  벙커링전용정박지 E1  CAOJING  \n",
       "208831  2021-05-20 08:40     1  KR   MDS    02     S-OIL2부두       부산  \n",
       "208832  2021-05-20 08:40     1  KR   WAE    01       정박지-E1       부산  \n",
       "213799  2021-06-26 23:20     0  KR   WAE    01       정박지-E1       부산  \n",
       "213800  2021-06-26 23:20     0  KR   MDS    02     S-OIL2부두       부산  \n",
       "\n",
       "[190 rows x 16 columns]"
      ],
      "text/html": "<div>\n<style scoped>\n    .dataframe tbody tr th:only-of-type {\n        vertical-align: middle;\n    }\n\n    .dataframe tbody tr th {\n        vertical-align: top;\n    }\n\n    .dataframe thead th {\n        text-align: right;\n    }\n</style>\n<table border=\"1\" class=\"dataframe\">\n  <thead>\n    <tr style=\"text-align: right;\">\n      <th></th>\n      <th>호출부호</th>\n      <th>선명</th>\n      <th>입항횟수1</th>\n      <th>입항횟수2</th>\n      <th>구분</th>\n      <th>외내</th>\n      <th>입출</th>\n      <th>총톤수</th>\n      <th>입항일시</th>\n      <th>출항일시</th>\n      <th>항해구분</th>\n      <th>국적1</th>\n      <th>계선장소1</th>\n      <th>계선장소2</th>\n      <th>계선장소3</th>\n      <th>차항지</th>\n    </tr>\n  </thead>\n  <tbody>\n    <tr>\n      <th>1008</th>\n      <td>D7BN</td>\n      <td>우동</td>\n      <td>2017</td>\n      <td>001</td>\n      <td>최종</td>\n      <td>외항</td>\n      <td>입항</td>\n      <td>8581</td>\n      <td>2017-01-07 18:00</td>\n      <td>2017-01-10 10:45</td>\n      <td>0</td>\n      <td>KR</td>\n      <td>WAE</td>\n      <td>01</td>\n      <td>정박지-E1</td>\n      <td>인천</td>\n    </tr>\n    <tr>\n      <th>1009</th>\n      <td>D7BN</td>\n      <td>우동</td>\n      <td>2017</td>\n      <td>001</td>\n      <td>최종</td>\n      <td>내항</td>\n      <td>출항</td>\n      <td>8581</td>\n      <td>2017-01-07 18:00</td>\n      <td>2017-01-10 10:45</td>\n      <td>0</td>\n      <td>KR</td>\n      <td>MDS</td>\n      <td>02</td>\n      <td>S-OIL2부두</td>\n      <td>인천</td>\n    </tr>\n    <tr>\n      <th>3189</th>\n      <td>D7BN</td>\n      <td>우동</td>\n      <td>2017</td>\n      <td>002</td>\n      <td>최종</td>\n      <td>외항</td>\n      <td>입항</td>\n      <td>8581</td>\n      <td>2017-01-23 10:40</td>\n      <td>2017-01-24 20:35</td>\n      <td>0</td>\n      <td>KR</td>\n      <td>WAE</td>\n      <td>02</td>\n      <td>정박지-E2</td>\n      <td>인천</td>\n    </tr>\n    <tr>\n      <th>3190</th>\n      <td>D7BN</td>\n      <td>우동</td>\n      <td>2017</td>\n      <td>002</td>\n      <td>최종</td>\n      <td>내항</td>\n      <td>출항</td>\n      <td>8581</td>\n      <td>2017-01-23 10:40</td>\n      <td>2017-01-24 20:35</td>\n      <td>0</td>\n      <td>KR</td>\n      <td>MDS</td>\n      <td>01</td>\n      <td>S-OIL1부두</td>\n      <td>인천</td>\n    </tr>\n    <tr>\n      <th>3944</th>\n      <td>D7BN</td>\n      <td>우동</td>\n      <td>2017</td>\n      <td>003</td>\n      <td>최종</td>\n      <td>내항</td>\n      <td>출항</td>\n      <td>8581</td>\n      <td>2017-01-28 14:00</td>\n      <td>2017-01-30 04:40</td>\n      <td>0</td>\n      <td>KR</td>\n      <td>MDS</td>\n      <td>03</td>\n      <td>S-OIL3부두</td>\n      <td>인천</td>\n    </tr>\n    <tr>\n      <th>...</th>\n      <td>...</td>\n      <td>...</td>\n      <td>...</td>\n      <td>...</td>\n      <td>...</td>\n      <td>...</td>\n      <td>...</td>\n      <td>...</td>\n      <td>...</td>\n      <td>...</td>\n      <td>...</td>\n      <td>...</td>\n      <td>...</td>\n      <td>...</td>\n      <td>...</td>\n      <td>...</td>\n    </tr>\n    <tr>\n      <th>206272</th>\n      <td>D7BN</td>\n      <td>우동</td>\n      <td>2021</td>\n      <td>007</td>\n      <td>최종</td>\n      <td>외항</td>\n      <td>출항</td>\n      <td>8581</td>\n      <td>2021-04-27 11:40</td>\n      <td>2021-04-29 13:58</td>\n      <td>0</td>\n      <td>KR</td>\n      <td>WAB</td>\n      <td>01</td>\n      <td>벙커링전용정박지 E1</td>\n      <td>CAOJING</td>\n    </tr>\n    <tr>\n      <th>208831</th>\n      <td>D7BN</td>\n      <td>우동</td>\n      <td>2021</td>\n      <td>008</td>\n      <td>최종</td>\n      <td>내항</td>\n      <td>출항</td>\n      <td>8581</td>\n      <td>2021-05-16 00:50</td>\n      <td>2021-05-20 08:40</td>\n      <td>1</td>\n      <td>KR</td>\n      <td>MDS</td>\n      <td>02</td>\n      <td>S-OIL2부두</td>\n      <td>부산</td>\n    </tr>\n    <tr>\n      <th>208832</th>\n      <td>D7BN</td>\n      <td>우동</td>\n      <td>2021</td>\n      <td>008</td>\n      <td>최종</td>\n      <td>외항</td>\n      <td>입항</td>\n      <td>8581</td>\n      <td>2021-05-16 00:50</td>\n      <td>2021-05-20 08:40</td>\n      <td>1</td>\n      <td>KR</td>\n      <td>WAE</td>\n      <td>01</td>\n      <td>정박지-E1</td>\n      <td>부산</td>\n    </tr>\n    <tr>\n      <th>213799</th>\n      <td>D7BN</td>\n      <td>우동</td>\n      <td>2021</td>\n      <td>009</td>\n      <td>최종</td>\n      <td>내항</td>\n      <td>입항</td>\n      <td>8581</td>\n      <td>2021-06-24 01:10</td>\n      <td>2021-06-26 23:20</td>\n      <td>0</td>\n      <td>KR</td>\n      <td>WAE</td>\n      <td>01</td>\n      <td>정박지-E1</td>\n      <td>부산</td>\n    </tr>\n    <tr>\n      <th>213800</th>\n      <td>D7BN</td>\n      <td>우동</td>\n      <td>2021</td>\n      <td>009</td>\n      <td>최종</td>\n      <td>내항</td>\n      <td>출항</td>\n      <td>8581</td>\n      <td>2021-06-24 01:10</td>\n      <td>2021-06-26 23:20</td>\n      <td>0</td>\n      <td>KR</td>\n      <td>MDS</td>\n      <td>02</td>\n      <td>S-OIL2부두</td>\n      <td>부산</td>\n    </tr>\n  </tbody>\n</table>\n<p>190 rows × 16 columns</p>\n</div>"
     },
     "metadata": {},
     "execution_count": 46
    }
   ],
   "source": [
    "SADS_data.loc[SADS_data['호출부호']=='D7BN', '호출부호':'차항지']"
   ]
  },
  {
   "cell_type": "code",
   "execution_count": 47,
   "metadata": {},
   "outputs": [],
   "source": [
    "FUPS_data_a = FUPS_data[FUPS_data['사용목적명']=='접안대기']"
   ]
  },
  {
   "cell_type": "code",
   "execution_count": 48,
   "metadata": {},
   "outputs": [],
   "source": [
    "SADS_data_a = SADS_data[SADS_data['입출']=='입항']"
   ]
  },
  {
   "cell_type": "code",
   "execution_count": 49,
   "metadata": {},
   "outputs": [
    {
     "output_type": "execute_result",
     "data": {
      "text/plain": [
       "        호출부호  입항횟수1  입항횟수2 입항횟수3   신고톤수  선사/대리점1  선사/대리점2 신청시설1 신청시설2  \\\n",
       "0       D7BN   2016     19   001  8.581  OST0212  우민해운(주)   WAE    03   \n",
       "1       D7BN   2016     19   002  8.581  OST0212  우민해운(주)   MBA    01   \n",
       "2       D7BN   2016     19   003  8.581  OST0212  우민해운(주)   WAE    01   \n",
       "3       D7BN   2016     19   004  8.581  OST0212  우민해운(주)   MDS    01   \n",
       "1552    D7BN   2017      1   001  8.581  OST0212  우민해운(주)   WAE    01   \n",
       "...      ...    ...    ...   ...    ...      ...      ...   ...   ...   \n",
       "214723  D7BN   2021      7   002  8.581  OST0212  우민해운(주)   WAB    01   \n",
       "217436  D7BN   2021      8   001  8.581  OST0212  우민해운(주)   WAE    01   \n",
       "217636  D7BN   2021      8   002  8.581  OST0212  우민해운(주)   MDS    02   \n",
       "222635  D7BN   2021      9   001  8.581  OST0212  우민해운(주)   WAE    01   \n",
       "222636  D7BN   2021      9   002  8.581  OST0212  우민해운(주)   MDS    02   \n",
       "\n",
       "        신청일시1(FROM ~ TO)  신청일시2(FROM ~ TO) 지정시설1 지정시설2  지정일시1(FROM ~ TO)  \\\n",
       "0       2016-12-28 06:15  2016-12-28 07:45   WAE    03  2016-12-28 06:15   \n",
       "1       2016-12-28 08:45  2016-12-29 01:45   MBA    01  2016-12-28 08:45   \n",
       "2       2016-12-29 06:45  2016-12-30 06:40   WAE    01  2016-12-29 06:45   \n",
       "3       2016-12-30 07:45  2016-12-31 19:30   MDS    01  2016-12-30 07:45   \n",
       "1552    2017-01-07 18:00  2017-01-09 08:45   WAE    01  2017-01-07 18:00   \n",
       "...                  ...               ...   ...   ...               ...   \n",
       "214723  2021-04-29 12:00  2021-04-29 13:58   WAB    01  2021-04-29 12:00   \n",
       "217436  2021-05-16 00:50  2021-05-18 16:40   WAE    01  2021-05-16 00:50   \n",
       "217636  2021-05-18 17:30  2021-05-20 08:40   MDS    02  2021-05-18 17:30   \n",
       "222635  2021-06-24 01:10  2021-06-25 13:30   WAE    01  2021-06-24 01:10   \n",
       "222636  2021-06-25 14:35  2021-06-26 23:20   MDS    02  2021-06-25 14:35   \n",
       "\n",
       "        지정일시2(FROM ~ TO) 사용목적명  \n",
       "0       2016-12-28 07:45  접안대기  \n",
       "1       2016-12-29 01:45    양하  \n",
       "2       2016-12-30 06:40  접안대기  \n",
       "3       2016-12-31 19:30    적하  \n",
       "1552    2017-01-09 08:45  접안대기  \n",
       "...                  ...   ...  \n",
       "214723  2021-04-29 13:58    급유  \n",
       "217436  2021-05-18 16:40  접안대기  \n",
       "217636  2021-05-20 08:40    적하  \n",
       "222635  2021-06-25 13:30  접안대기  \n",
       "222636  2021-06-26 23:20    적하  \n",
       "\n",
       "[249 rows x 16 columns]"
      ],
      "text/html": "<div>\n<style scoped>\n    .dataframe tbody tr th:only-of-type {\n        vertical-align: middle;\n    }\n\n    .dataframe tbody tr th {\n        vertical-align: top;\n    }\n\n    .dataframe thead th {\n        text-align: right;\n    }\n</style>\n<table border=\"1\" class=\"dataframe\">\n  <thead>\n    <tr style=\"text-align: right;\">\n      <th></th>\n      <th>호출부호</th>\n      <th>입항횟수1</th>\n      <th>입항횟수2</th>\n      <th>입항횟수3</th>\n      <th>신고톤수</th>\n      <th>선사/대리점1</th>\n      <th>선사/대리점2</th>\n      <th>신청시설1</th>\n      <th>신청시설2</th>\n      <th>신청일시1(FROM ~ TO)</th>\n      <th>신청일시2(FROM ~ TO)</th>\n      <th>지정시설1</th>\n      <th>지정시설2</th>\n      <th>지정일시1(FROM ~ TO)</th>\n      <th>지정일시2(FROM ~ TO)</th>\n      <th>사용목적명</th>\n    </tr>\n  </thead>\n  <tbody>\n    <tr>\n      <th>0</th>\n      <td>D7BN</td>\n      <td>2016</td>\n      <td>19</td>\n      <td>001</td>\n      <td>8.581</td>\n      <td>OST0212</td>\n      <td>우민해운(주)</td>\n      <td>WAE</td>\n      <td>03</td>\n      <td>2016-12-28 06:15</td>\n      <td>2016-12-28 07:45</td>\n      <td>WAE</td>\n      <td>03</td>\n      <td>2016-12-28 06:15</td>\n      <td>2016-12-28 07:45</td>\n      <td>접안대기</td>\n    </tr>\n    <tr>\n      <th>1</th>\n      <td>D7BN</td>\n      <td>2016</td>\n      <td>19</td>\n      <td>002</td>\n      <td>8.581</td>\n      <td>OST0212</td>\n      <td>우민해운(주)</td>\n      <td>MBA</td>\n      <td>01</td>\n      <td>2016-12-28 08:45</td>\n      <td>2016-12-29 01:45</td>\n      <td>MBA</td>\n      <td>01</td>\n      <td>2016-12-28 08:45</td>\n      <td>2016-12-29 01:45</td>\n      <td>양하</td>\n    </tr>\n    <tr>\n      <th>2</th>\n      <td>D7BN</td>\n      <td>2016</td>\n      <td>19</td>\n      <td>003</td>\n      <td>8.581</td>\n      <td>OST0212</td>\n      <td>우민해운(주)</td>\n      <td>WAE</td>\n      <td>01</td>\n      <td>2016-12-29 06:45</td>\n      <td>2016-12-30 06:40</td>\n      <td>WAE</td>\n      <td>01</td>\n      <td>2016-12-29 06:45</td>\n      <td>2016-12-30 06:40</td>\n      <td>접안대기</td>\n    </tr>\n    <tr>\n      <th>3</th>\n      <td>D7BN</td>\n      <td>2016</td>\n      <td>19</td>\n      <td>004</td>\n      <td>8.581</td>\n      <td>OST0212</td>\n      <td>우민해운(주)</td>\n      <td>MDS</td>\n      <td>01</td>\n      <td>2016-12-30 07:45</td>\n      <td>2016-12-31 19:30</td>\n      <td>MDS</td>\n      <td>01</td>\n      <td>2016-12-30 07:45</td>\n      <td>2016-12-31 19:30</td>\n      <td>적하</td>\n    </tr>\n    <tr>\n      <th>1552</th>\n      <td>D7BN</td>\n      <td>2017</td>\n      <td>1</td>\n      <td>001</td>\n      <td>8.581</td>\n      <td>OST0212</td>\n      <td>우민해운(주)</td>\n      <td>WAE</td>\n      <td>01</td>\n      <td>2017-01-07 18:00</td>\n      <td>2017-01-09 08:45</td>\n      <td>WAE</td>\n      <td>01</td>\n      <td>2017-01-07 18:00</td>\n      <td>2017-01-09 08:45</td>\n      <td>접안대기</td>\n    </tr>\n    <tr>\n      <th>...</th>\n      <td>...</td>\n      <td>...</td>\n      <td>...</td>\n      <td>...</td>\n      <td>...</td>\n      <td>...</td>\n      <td>...</td>\n      <td>...</td>\n      <td>...</td>\n      <td>...</td>\n      <td>...</td>\n      <td>...</td>\n      <td>...</td>\n      <td>...</td>\n      <td>...</td>\n      <td>...</td>\n    </tr>\n    <tr>\n      <th>214723</th>\n      <td>D7BN</td>\n      <td>2021</td>\n      <td>7</td>\n      <td>002</td>\n      <td>8.581</td>\n      <td>OST0212</td>\n      <td>우민해운(주)</td>\n      <td>WAB</td>\n      <td>01</td>\n      <td>2021-04-29 12:00</td>\n      <td>2021-04-29 13:58</td>\n      <td>WAB</td>\n      <td>01</td>\n      <td>2021-04-29 12:00</td>\n      <td>2021-04-29 13:58</td>\n      <td>급유</td>\n    </tr>\n    <tr>\n      <th>217436</th>\n      <td>D7BN</td>\n      <td>2021</td>\n      <td>8</td>\n      <td>001</td>\n      <td>8.581</td>\n      <td>OST0212</td>\n      <td>우민해운(주)</td>\n      <td>WAE</td>\n      <td>01</td>\n      <td>2021-05-16 00:50</td>\n      <td>2021-05-18 16:40</td>\n      <td>WAE</td>\n      <td>01</td>\n      <td>2021-05-16 00:50</td>\n      <td>2021-05-18 16:40</td>\n      <td>접안대기</td>\n    </tr>\n    <tr>\n      <th>217636</th>\n      <td>D7BN</td>\n      <td>2021</td>\n      <td>8</td>\n      <td>002</td>\n      <td>8.581</td>\n      <td>OST0212</td>\n      <td>우민해운(주)</td>\n      <td>MDS</td>\n      <td>02</td>\n      <td>2021-05-18 17:30</td>\n      <td>2021-05-20 08:40</td>\n      <td>MDS</td>\n      <td>02</td>\n      <td>2021-05-18 17:30</td>\n      <td>2021-05-20 08:40</td>\n      <td>적하</td>\n    </tr>\n    <tr>\n      <th>222635</th>\n      <td>D7BN</td>\n      <td>2021</td>\n      <td>9</td>\n      <td>001</td>\n      <td>8.581</td>\n      <td>OST0212</td>\n      <td>우민해운(주)</td>\n      <td>WAE</td>\n      <td>01</td>\n      <td>2021-06-24 01:10</td>\n      <td>2021-06-25 13:30</td>\n      <td>WAE</td>\n      <td>01</td>\n      <td>2021-06-24 01:10</td>\n      <td>2021-06-25 13:30</td>\n      <td>접안대기</td>\n    </tr>\n    <tr>\n      <th>222636</th>\n      <td>D7BN</td>\n      <td>2021</td>\n      <td>9</td>\n      <td>002</td>\n      <td>8.581</td>\n      <td>OST0212</td>\n      <td>우민해운(주)</td>\n      <td>MDS</td>\n      <td>02</td>\n      <td>2021-06-25 14:35</td>\n      <td>2021-06-26 23:20</td>\n      <td>MDS</td>\n      <td>02</td>\n      <td>2021-06-25 14:35</td>\n      <td>2021-06-26 23:20</td>\n      <td>적하</td>\n    </tr>\n  </tbody>\n</table>\n<p>249 rows × 16 columns</p>\n</div>"
     },
     "metadata": {},
     "execution_count": 49
    }
   ],
   "source": [
    "FUPS_data.loc[FUPS_data['호출부호']=='D7BN', '호출부호':'사용목적명']"
   ]
  },
  {
   "cell_type": "code",
   "execution_count": 50,
   "metadata": {},
   "outputs": [
    {
     "output_type": "execute_result",
     "data": {
      "text/plain": [
       "        호출부호  선명 입항횟수1 입항횟수2  구분  외내  입출   총톤수              입항일시  \\\n",
       "1008    D7BN  우동  2017   001  최종  외항  입항  8581  2017-01-07 18:00   \n",
       "3189    D7BN  우동  2017   002  최종  외항  입항  8581  2017-01-23 10:40   \n",
       "3945    D7BN  우동  2017   003  최종  내항  입항  8581  2017-01-28 14:00   \n",
       "4637    D7BN  우동  2017   004  최종  내항  입항  8581  2017-02-02 18:25   \n",
       "5616    D7BN  우동  2017   005  최종  내항  입항  8581  2017-02-10 07:15   \n",
       "...      ...  ..   ...   ...  ..  ..  ..   ...               ...   \n",
       "197301  D7BN  우동  2021   005  최종  외항  입항  8581  2021-02-15 09:30   \n",
       "203181  D7BN  우동  2021   006  최종  내항  입항  8581  2021-04-03 09:40   \n",
       "206271  D7BN  우동  2021   007  최종  외항  입항  8581  2021-04-27 11:40   \n",
       "208832  D7BN  우동  2021   008  최종  외항  입항  8581  2021-05-16 00:50   \n",
       "213799  D7BN  우동  2021   009  최종  내항  입항  8581  2021-06-24 01:10   \n",
       "\n",
       "                    출항일시  항해구분 국적1 계선장소1 계선장소2         계선장소3      차항지  \n",
       "1008    2017-01-10 10:45     0  KR   WAE    01        정박지-E1       인천  \n",
       "3189    2017-01-24 20:35     0  KR   WAE    02        정박지-E2       인천  \n",
       "3945    2017-01-30 04:40     0  KR   WAE    02        정박지-E2       인천  \n",
       "4637    2017-02-04 17:30     0  KR   WAE    01        정박지-E1       인천  \n",
       "5616    2017-02-13 01:05     0  KR   WAE    01        정박지-E1       인천  \n",
       "...                  ...   ...  ..   ...   ...           ...      ...  \n",
       "197301  2021-02-17 05:15     1  KR   WAE    01        정박지-E1    SAKAI  \n",
       "203181  2021-04-04 13:55     0  KR   MB4    02        4부두 02       부산  \n",
       "206271  2021-04-29 13:58     0  KR   MBD    03  S-OIL 4부두 03  CAOJING  \n",
       "208832  2021-05-20 08:40     1  KR   WAE    01        정박지-E1       부산  \n",
       "213799  2021-06-26 23:20     0  KR   WAE    01        정박지-E1       부산  \n",
       "\n",
       "[95 rows x 16 columns]"
      ],
      "text/html": "<div>\n<style scoped>\n    .dataframe tbody tr th:only-of-type {\n        vertical-align: middle;\n    }\n\n    .dataframe tbody tr th {\n        vertical-align: top;\n    }\n\n    .dataframe thead th {\n        text-align: right;\n    }\n</style>\n<table border=\"1\" class=\"dataframe\">\n  <thead>\n    <tr style=\"text-align: right;\">\n      <th></th>\n      <th>호출부호</th>\n      <th>선명</th>\n      <th>입항횟수1</th>\n      <th>입항횟수2</th>\n      <th>구분</th>\n      <th>외내</th>\n      <th>입출</th>\n      <th>총톤수</th>\n      <th>입항일시</th>\n      <th>출항일시</th>\n      <th>항해구분</th>\n      <th>국적1</th>\n      <th>계선장소1</th>\n      <th>계선장소2</th>\n      <th>계선장소3</th>\n      <th>차항지</th>\n    </tr>\n  </thead>\n  <tbody>\n    <tr>\n      <th>1008</th>\n      <td>D7BN</td>\n      <td>우동</td>\n      <td>2017</td>\n      <td>001</td>\n      <td>최종</td>\n      <td>외항</td>\n      <td>입항</td>\n      <td>8581</td>\n      <td>2017-01-07 18:00</td>\n      <td>2017-01-10 10:45</td>\n      <td>0</td>\n      <td>KR</td>\n      <td>WAE</td>\n      <td>01</td>\n      <td>정박지-E1</td>\n      <td>인천</td>\n    </tr>\n    <tr>\n      <th>3189</th>\n      <td>D7BN</td>\n      <td>우동</td>\n      <td>2017</td>\n      <td>002</td>\n      <td>최종</td>\n      <td>외항</td>\n      <td>입항</td>\n      <td>8581</td>\n      <td>2017-01-23 10:40</td>\n      <td>2017-01-24 20:35</td>\n      <td>0</td>\n      <td>KR</td>\n      <td>WAE</td>\n      <td>02</td>\n      <td>정박지-E2</td>\n      <td>인천</td>\n    </tr>\n    <tr>\n      <th>3945</th>\n      <td>D7BN</td>\n      <td>우동</td>\n      <td>2017</td>\n      <td>003</td>\n      <td>최종</td>\n      <td>내항</td>\n      <td>입항</td>\n      <td>8581</td>\n      <td>2017-01-28 14:00</td>\n      <td>2017-01-30 04:40</td>\n      <td>0</td>\n      <td>KR</td>\n      <td>WAE</td>\n      <td>02</td>\n      <td>정박지-E2</td>\n      <td>인천</td>\n    </tr>\n    <tr>\n      <th>4637</th>\n      <td>D7BN</td>\n      <td>우동</td>\n      <td>2017</td>\n      <td>004</td>\n      <td>최종</td>\n      <td>내항</td>\n      <td>입항</td>\n      <td>8581</td>\n      <td>2017-02-02 18:25</td>\n      <td>2017-02-04 17:30</td>\n      <td>0</td>\n      <td>KR</td>\n      <td>WAE</td>\n      <td>01</td>\n      <td>정박지-E1</td>\n      <td>인천</td>\n    </tr>\n    <tr>\n      <th>5616</th>\n      <td>D7BN</td>\n      <td>우동</td>\n      <td>2017</td>\n      <td>005</td>\n      <td>최종</td>\n      <td>내항</td>\n      <td>입항</td>\n      <td>8581</td>\n      <td>2017-02-10 07:15</td>\n      <td>2017-02-13 01:05</td>\n      <td>0</td>\n      <td>KR</td>\n      <td>WAE</td>\n      <td>01</td>\n      <td>정박지-E1</td>\n      <td>인천</td>\n    </tr>\n    <tr>\n      <th>...</th>\n      <td>...</td>\n      <td>...</td>\n      <td>...</td>\n      <td>...</td>\n      <td>...</td>\n      <td>...</td>\n      <td>...</td>\n      <td>...</td>\n      <td>...</td>\n      <td>...</td>\n      <td>...</td>\n      <td>...</td>\n      <td>...</td>\n      <td>...</td>\n      <td>...</td>\n      <td>...</td>\n    </tr>\n    <tr>\n      <th>197301</th>\n      <td>D7BN</td>\n      <td>우동</td>\n      <td>2021</td>\n      <td>005</td>\n      <td>최종</td>\n      <td>외항</td>\n      <td>입항</td>\n      <td>8581</td>\n      <td>2021-02-15 09:30</td>\n      <td>2021-02-17 05:15</td>\n      <td>1</td>\n      <td>KR</td>\n      <td>WAE</td>\n      <td>01</td>\n      <td>정박지-E1</td>\n      <td>SAKAI</td>\n    </tr>\n    <tr>\n      <th>203181</th>\n      <td>D7BN</td>\n      <td>우동</td>\n      <td>2021</td>\n      <td>006</td>\n      <td>최종</td>\n      <td>내항</td>\n      <td>입항</td>\n      <td>8581</td>\n      <td>2021-04-03 09:40</td>\n      <td>2021-04-04 13:55</td>\n      <td>0</td>\n      <td>KR</td>\n      <td>MB4</td>\n      <td>02</td>\n      <td>4부두 02</td>\n      <td>부산</td>\n    </tr>\n    <tr>\n      <th>206271</th>\n      <td>D7BN</td>\n      <td>우동</td>\n      <td>2021</td>\n      <td>007</td>\n      <td>최종</td>\n      <td>외항</td>\n      <td>입항</td>\n      <td>8581</td>\n      <td>2021-04-27 11:40</td>\n      <td>2021-04-29 13:58</td>\n      <td>0</td>\n      <td>KR</td>\n      <td>MBD</td>\n      <td>03</td>\n      <td>S-OIL 4부두 03</td>\n      <td>CAOJING</td>\n    </tr>\n    <tr>\n      <th>208832</th>\n      <td>D7BN</td>\n      <td>우동</td>\n      <td>2021</td>\n      <td>008</td>\n      <td>최종</td>\n      <td>외항</td>\n      <td>입항</td>\n      <td>8581</td>\n      <td>2021-05-16 00:50</td>\n      <td>2021-05-20 08:40</td>\n      <td>1</td>\n      <td>KR</td>\n      <td>WAE</td>\n      <td>01</td>\n      <td>정박지-E1</td>\n      <td>부산</td>\n    </tr>\n    <tr>\n      <th>213799</th>\n      <td>D7BN</td>\n      <td>우동</td>\n      <td>2021</td>\n      <td>009</td>\n      <td>최종</td>\n      <td>내항</td>\n      <td>입항</td>\n      <td>8581</td>\n      <td>2021-06-24 01:10</td>\n      <td>2021-06-26 23:20</td>\n      <td>0</td>\n      <td>KR</td>\n      <td>WAE</td>\n      <td>01</td>\n      <td>정박지-E1</td>\n      <td>부산</td>\n    </tr>\n  </tbody>\n</table>\n<p>95 rows × 16 columns</p>\n</div>"
     },
     "metadata": {},
     "execution_count": 50
    }
   ],
   "source": [
    "SADS_data_a.loc[SADS_data_a['호출부호']=='D7BN', '호출부호':'차항지']"
   ]
  },
  {
   "cell_type": "code",
   "execution_count": 51,
   "metadata": {},
   "outputs": [
    {
     "output_type": "execute_result",
     "data": {
      "text/plain": [
       "        호출부호  입항횟수1  입항횟수2 입항횟수3   신고톤수  선사/대리점1  선사/대리점2 신청시설1 신청시설2  \\\n",
       "0       D7BN   2016     19   001  8.581  OST0212  우민해운(주)   WAE    03   \n",
       "2       D7BN   2016     19   003  8.581  OST0212  우민해운(주)   WAE    01   \n",
       "1552    D7BN   2017      1   001  8.581  OST0212  우민해운(주)   WAE    01   \n",
       "3810    D7BN   2017      2   001  8.581  OST0212  우민해운(주)   WAE    02   \n",
       "4185    D7BN   2017      3   001  8.581  OST0212  우민해운(주)   WAE    02   \n",
       "...      ...    ...    ...   ...    ...      ...      ...   ...   ...   \n",
       "199481  D7BN   2021      2   001  8.581  OST0212  우민해운(주)   WAE    01   \n",
       "201371  D7BN   2021      3   002  8.581  OST0212  우민해운(주)   WAE    01   \n",
       "204960  D7BN   2021      5   001  8.581  OST0212  우민해운(주)   WAE    01   \n",
       "217436  D7BN   2021      8   001  8.581  OST0212  우민해운(주)   WAE    01   \n",
       "222635  D7BN   2021      9   001  8.581  OST0212  우민해운(주)   WAE    01   \n",
       "\n",
       "        신청일시1(FROM ~ TO)  신청일시2(FROM ~ TO) 지정시설1 지정시설2  지정일시1(FROM ~ TO)  \\\n",
       "0       2016-12-28 06:15  2016-12-28 07:45   WAE    03  2016-12-28 06:15   \n",
       "2       2016-12-29 06:45  2016-12-30 06:40   WAE    01  2016-12-29 06:45   \n",
       "1552    2017-01-07 18:00  2017-01-09 08:45   WAE    01  2017-01-07 18:00   \n",
       "3810    2017-01-23 10:40  2017-01-23 14:40   WAE    02  2017-01-23 10:40   \n",
       "4185    2017-01-28 14:00  2017-01-29 02:15   WAE    02  2017-01-28 14:00   \n",
       "...                  ...               ...   ...   ...               ...   \n",
       "199481  2021-01-06 17:10  2021-01-07 07:40   WAE    01  2021-01-06 17:10   \n",
       "201371  2021-01-17 13:30  2021-01-18 08:30   WAE    01  2021-01-17 13:30   \n",
       "204960  2021-02-15 09:30  2021-02-16 07:10   WAE    01  2021-02-15 09:30   \n",
       "217436  2021-05-16 00:50  2021-05-18 16:40   WAE    01  2021-05-16 00:50   \n",
       "222635  2021-06-24 01:10  2021-06-25 13:30   WAE    01  2021-06-24 01:10   \n",
       "\n",
       "        지정일시2(FROM ~ TO) 사용목적명  \n",
       "0       2016-12-28 07:45  접안대기  \n",
       "2       2016-12-30 06:40  접안대기  \n",
       "1552    2017-01-09 08:45  접안대기  \n",
       "3810    2017-01-23 14:40  접안대기  \n",
       "4185    2017-01-29 02:15  접안대기  \n",
       "...                  ...   ...  \n",
       "199481  2021-01-07 07:40  접안대기  \n",
       "201371  2021-01-18 08:30  접안대기  \n",
       "204960  2021-02-16 07:10  접안대기  \n",
       "217436  2021-05-18 16:40  접안대기  \n",
       "222635  2021-06-25 13:30  접안대기  \n",
       "\n",
       "[104 rows x 16 columns]"
      ],
      "text/html": "<div>\n<style scoped>\n    .dataframe tbody tr th:only-of-type {\n        vertical-align: middle;\n    }\n\n    .dataframe tbody tr th {\n        vertical-align: top;\n    }\n\n    .dataframe thead th {\n        text-align: right;\n    }\n</style>\n<table border=\"1\" class=\"dataframe\">\n  <thead>\n    <tr style=\"text-align: right;\">\n      <th></th>\n      <th>호출부호</th>\n      <th>입항횟수1</th>\n      <th>입항횟수2</th>\n      <th>입항횟수3</th>\n      <th>신고톤수</th>\n      <th>선사/대리점1</th>\n      <th>선사/대리점2</th>\n      <th>신청시설1</th>\n      <th>신청시설2</th>\n      <th>신청일시1(FROM ~ TO)</th>\n      <th>신청일시2(FROM ~ TO)</th>\n      <th>지정시설1</th>\n      <th>지정시설2</th>\n      <th>지정일시1(FROM ~ TO)</th>\n      <th>지정일시2(FROM ~ TO)</th>\n      <th>사용목적명</th>\n    </tr>\n  </thead>\n  <tbody>\n    <tr>\n      <th>0</th>\n      <td>D7BN</td>\n      <td>2016</td>\n      <td>19</td>\n      <td>001</td>\n      <td>8.581</td>\n      <td>OST0212</td>\n      <td>우민해운(주)</td>\n      <td>WAE</td>\n      <td>03</td>\n      <td>2016-12-28 06:15</td>\n      <td>2016-12-28 07:45</td>\n      <td>WAE</td>\n      <td>03</td>\n      <td>2016-12-28 06:15</td>\n      <td>2016-12-28 07:45</td>\n      <td>접안대기</td>\n    </tr>\n    <tr>\n      <th>2</th>\n      <td>D7BN</td>\n      <td>2016</td>\n      <td>19</td>\n      <td>003</td>\n      <td>8.581</td>\n      <td>OST0212</td>\n      <td>우민해운(주)</td>\n      <td>WAE</td>\n      <td>01</td>\n      <td>2016-12-29 06:45</td>\n      <td>2016-12-30 06:40</td>\n      <td>WAE</td>\n      <td>01</td>\n      <td>2016-12-29 06:45</td>\n      <td>2016-12-30 06:40</td>\n      <td>접안대기</td>\n    </tr>\n    <tr>\n      <th>1552</th>\n      <td>D7BN</td>\n      <td>2017</td>\n      <td>1</td>\n      <td>001</td>\n      <td>8.581</td>\n      <td>OST0212</td>\n      <td>우민해운(주)</td>\n      <td>WAE</td>\n      <td>01</td>\n      <td>2017-01-07 18:00</td>\n      <td>2017-01-09 08:45</td>\n      <td>WAE</td>\n      <td>01</td>\n      <td>2017-01-07 18:00</td>\n      <td>2017-01-09 08:45</td>\n      <td>접안대기</td>\n    </tr>\n    <tr>\n      <th>3810</th>\n      <td>D7BN</td>\n      <td>2017</td>\n      <td>2</td>\n      <td>001</td>\n      <td>8.581</td>\n      <td>OST0212</td>\n      <td>우민해운(주)</td>\n      <td>WAE</td>\n      <td>02</td>\n      <td>2017-01-23 10:40</td>\n      <td>2017-01-23 14:40</td>\n      <td>WAE</td>\n      <td>02</td>\n      <td>2017-01-23 10:40</td>\n      <td>2017-01-23 14:40</td>\n      <td>접안대기</td>\n    </tr>\n    <tr>\n      <th>4185</th>\n      <td>D7BN</td>\n      <td>2017</td>\n      <td>3</td>\n      <td>001</td>\n      <td>8.581</td>\n      <td>OST0212</td>\n      <td>우민해운(주)</td>\n      <td>WAE</td>\n      <td>02</td>\n      <td>2017-01-28 14:00</td>\n      <td>2017-01-29 02:15</td>\n      <td>WAE</td>\n      <td>02</td>\n      <td>2017-01-28 14:00</td>\n      <td>2017-01-29 02:15</td>\n      <td>접안대기</td>\n    </tr>\n    <tr>\n      <th>...</th>\n      <td>...</td>\n      <td>...</td>\n      <td>...</td>\n      <td>...</td>\n      <td>...</td>\n      <td>...</td>\n      <td>...</td>\n      <td>...</td>\n      <td>...</td>\n      <td>...</td>\n      <td>...</td>\n      <td>...</td>\n      <td>...</td>\n      <td>...</td>\n      <td>...</td>\n      <td>...</td>\n    </tr>\n    <tr>\n      <th>199481</th>\n      <td>D7BN</td>\n      <td>2021</td>\n      <td>2</td>\n      <td>001</td>\n      <td>8.581</td>\n      <td>OST0212</td>\n      <td>우민해운(주)</td>\n      <td>WAE</td>\n      <td>01</td>\n      <td>2021-01-06 17:10</td>\n      <td>2021-01-07 07:40</td>\n      <td>WAE</td>\n      <td>01</td>\n      <td>2021-01-06 17:10</td>\n      <td>2021-01-07 07:40</td>\n      <td>접안대기</td>\n    </tr>\n    <tr>\n      <th>201371</th>\n      <td>D7BN</td>\n      <td>2021</td>\n      <td>3</td>\n      <td>002</td>\n      <td>8.581</td>\n      <td>OST0212</td>\n      <td>우민해운(주)</td>\n      <td>WAE</td>\n      <td>01</td>\n      <td>2021-01-17 13:30</td>\n      <td>2021-01-18 08:30</td>\n      <td>WAE</td>\n      <td>01</td>\n      <td>2021-01-17 13:30</td>\n      <td>2021-01-18 08:30</td>\n      <td>접안대기</td>\n    </tr>\n    <tr>\n      <th>204960</th>\n      <td>D7BN</td>\n      <td>2021</td>\n      <td>5</td>\n      <td>001</td>\n      <td>8.581</td>\n      <td>OST0212</td>\n      <td>우민해운(주)</td>\n      <td>WAE</td>\n      <td>01</td>\n      <td>2021-02-15 09:30</td>\n      <td>2021-02-16 07:10</td>\n      <td>WAE</td>\n      <td>01</td>\n      <td>2021-02-15 09:30</td>\n      <td>2021-02-16 07:10</td>\n      <td>접안대기</td>\n    </tr>\n    <tr>\n      <th>217436</th>\n      <td>D7BN</td>\n      <td>2021</td>\n      <td>8</td>\n      <td>001</td>\n      <td>8.581</td>\n      <td>OST0212</td>\n      <td>우민해운(주)</td>\n      <td>WAE</td>\n      <td>01</td>\n      <td>2021-05-16 00:50</td>\n      <td>2021-05-18 16:40</td>\n      <td>WAE</td>\n      <td>01</td>\n      <td>2021-05-16 00:50</td>\n      <td>2021-05-18 16:40</td>\n      <td>접안대기</td>\n    </tr>\n    <tr>\n      <th>222635</th>\n      <td>D7BN</td>\n      <td>2021</td>\n      <td>9</td>\n      <td>001</td>\n      <td>8.581</td>\n      <td>OST0212</td>\n      <td>우민해운(주)</td>\n      <td>WAE</td>\n      <td>01</td>\n      <td>2021-06-24 01:10</td>\n      <td>2021-06-25 13:30</td>\n      <td>WAE</td>\n      <td>01</td>\n      <td>2021-06-24 01:10</td>\n      <td>2021-06-25 13:30</td>\n      <td>접안대기</td>\n    </tr>\n  </tbody>\n</table>\n<p>104 rows × 16 columns</p>\n</div>"
     },
     "metadata": {},
     "execution_count": 51
    }
   ],
   "source": [
    "FUPS_data_a.loc[FUPS_data_a['호출부호']=='D7BN', '호출부호':'사용목적명']"
   ]
  },
  {
   "cell_type": "code",
   "execution_count": 52,
   "metadata": {},
   "outputs": [
    {
     "output_type": "execute_result",
     "data": {
      "text/plain": [
       "          호출부호  입항횟수1  입항횟수2 입항횟수3    신고톤수  선사/대리점1      선사/대리점2 신청시설1 신청시설2  \\\n",
       "0         D7BN   2016     19   001   8.581  OST0212      우민해운(주)   WAE    03   \n",
       "1         D7BN   2016     19   002   8.581  OST0212      우민해운(주)   MBA    01   \n",
       "2         D7BN   2016     19   003   8.581  OST0212      우민해운(주)   WAE    01   \n",
       "3         D7BN   2016     19   004   8.581  OST0212      우민해운(주)   MDS    01   \n",
       "4       075682   2017      1   001   5.946  YSK0018      한선해운(주)   MBR    01   \n",
       "...        ...    ...    ...   ...     ...      ...          ...   ...   ...   \n",
       "223266  105351   2021     42   002     575  BSZ7237      봉은해운(주)   MBU    01   \n",
       "223267   D5XS2   2021      1   001  39.738  OST0011     팬오션 주식회사   MBA    01   \n",
       "223270   VRRQ3   2021      1   002  28.794  ICC2121  주식회사 굳파트너쉬핑   MDS    03   \n",
       "223272    HOJK   2021     22   003   2.690  USC2011      우일해운(주)   WAE    01   \n",
       "223278    D7RI   2021      3   001   6.843  YSZ2381    선우탱커 주식회사   WAB    02   \n",
       "\n",
       "        신청일시1(FROM ~ TO)  신청일시2(FROM ~ TO) 지정시설1 지정시설2  지정일시1(FROM ~ TO)  \\\n",
       "0       2016-12-28 06:15  2016-12-28 07:45   WAE    03  2016-12-28 06:15   \n",
       "1       2016-12-28 08:45  2016-12-29 01:45   MBA    01  2016-12-28 08:45   \n",
       "2       2016-12-29 06:45  2016-12-30 06:40   WAE    01  2016-12-29 06:45   \n",
       "3       2016-12-30 07:45  2016-12-31 19:30   MDS    01  2016-12-30 07:45   \n",
       "4       2017-01-01 23:00  2017-01-02 12:00   MBR    01  2017-01-02 04:25   \n",
       "...                  ...               ...   ...   ...               ...   \n",
       "223266  2021-06-23 01:30  2021-06-23 05:35   MBU    01  2021-06-23 01:30   \n",
       "223267  2021-06-24 14:50  2021-06-29 10:00   MBA    01  2021-06-24 14:50   \n",
       "223270  2021-06-28 12:40  2021-06-29 21:05   MDS    03  2021-06-28 12:40   \n",
       "223272  2021-06-29 13:20  2021-06-29 21:05   WAE    01  2021-06-29 13:20   \n",
       "223278  2021-06-27 14:35  2021-06-27 21:05   WAB    02  2021-06-27 14:35   \n",
       "\n",
       "        지정일시2(FROM ~ TO) 사용목적명  허가유무               id  \n",
       "0       2016-12-28 07:45  접안대기  허가완료    2016_019_D7BN  \n",
       "1       2016-12-29 01:45    양하  허가완료    2016_019_D7BN  \n",
       "2       2016-12-30 06:40  접안대기  허가완료    2016_019_D7BN  \n",
       "3       2016-12-31 19:30    적하  허가완료    2016_019_D7BN  \n",
       "4       2017-01-02 18:05    양하  허가완료  2017_001_075682  \n",
       "...                  ...   ...   ...              ...  \n",
       "223266  2021-06-23 05:35    적하  허가완료  2021_042_105351  \n",
       "223267  2021-06-29 10:00    양하  허가완료   2021_001_D5XS2  \n",
       "223270  2021-06-29 21:05    적하  허가완료   2021_001_VRRQ3  \n",
       "223272  2021-06-29 21:05  접안대기  허가완료    2021_022_HOJK  \n",
       "223278  2021-06-27 21:05  접안대기  허가완료    2021_003_D7RI  \n",
       "\n",
       "[222720 rows x 18 columns]"
      ],
      "text/html": "<div>\n<style scoped>\n    .dataframe tbody tr th:only-of-type {\n        vertical-align: middle;\n    }\n\n    .dataframe tbody tr th {\n        vertical-align: top;\n    }\n\n    .dataframe thead th {\n        text-align: right;\n    }\n</style>\n<table border=\"1\" class=\"dataframe\">\n  <thead>\n    <tr style=\"text-align: right;\">\n      <th></th>\n      <th>호출부호</th>\n      <th>입항횟수1</th>\n      <th>입항횟수2</th>\n      <th>입항횟수3</th>\n      <th>신고톤수</th>\n      <th>선사/대리점1</th>\n      <th>선사/대리점2</th>\n      <th>신청시설1</th>\n      <th>신청시설2</th>\n      <th>신청일시1(FROM ~ TO)</th>\n      <th>신청일시2(FROM ~ TO)</th>\n      <th>지정시설1</th>\n      <th>지정시설2</th>\n      <th>지정일시1(FROM ~ TO)</th>\n      <th>지정일시2(FROM ~ TO)</th>\n      <th>사용목적명</th>\n      <th>허가유무</th>\n      <th>id</th>\n    </tr>\n  </thead>\n  <tbody>\n    <tr>\n      <th>0</th>\n      <td>D7BN</td>\n      <td>2016</td>\n      <td>19</td>\n      <td>001</td>\n      <td>8.581</td>\n      <td>OST0212</td>\n      <td>우민해운(주)</td>\n      <td>WAE</td>\n      <td>03</td>\n      <td>2016-12-28 06:15</td>\n      <td>2016-12-28 07:45</td>\n      <td>WAE</td>\n      <td>03</td>\n      <td>2016-12-28 06:15</td>\n      <td>2016-12-28 07:45</td>\n      <td>접안대기</td>\n      <td>허가완료</td>\n      <td>2016_019_D7BN</td>\n    </tr>\n    <tr>\n      <th>1</th>\n      <td>D7BN</td>\n      <td>2016</td>\n      <td>19</td>\n      <td>002</td>\n      <td>8.581</td>\n      <td>OST0212</td>\n      <td>우민해운(주)</td>\n      <td>MBA</td>\n      <td>01</td>\n      <td>2016-12-28 08:45</td>\n      <td>2016-12-29 01:45</td>\n      <td>MBA</td>\n      <td>01</td>\n      <td>2016-12-28 08:45</td>\n      <td>2016-12-29 01:45</td>\n      <td>양하</td>\n      <td>허가완료</td>\n      <td>2016_019_D7BN</td>\n    </tr>\n    <tr>\n      <th>2</th>\n      <td>D7BN</td>\n      <td>2016</td>\n      <td>19</td>\n      <td>003</td>\n      <td>8.581</td>\n      <td>OST0212</td>\n      <td>우민해운(주)</td>\n      <td>WAE</td>\n      <td>01</td>\n      <td>2016-12-29 06:45</td>\n      <td>2016-12-30 06:40</td>\n      <td>WAE</td>\n      <td>01</td>\n      <td>2016-12-29 06:45</td>\n      <td>2016-12-30 06:40</td>\n      <td>접안대기</td>\n      <td>허가완료</td>\n      <td>2016_019_D7BN</td>\n    </tr>\n    <tr>\n      <th>3</th>\n      <td>D7BN</td>\n      <td>2016</td>\n      <td>19</td>\n      <td>004</td>\n      <td>8.581</td>\n      <td>OST0212</td>\n      <td>우민해운(주)</td>\n      <td>MDS</td>\n      <td>01</td>\n      <td>2016-12-30 07:45</td>\n      <td>2016-12-31 19:30</td>\n      <td>MDS</td>\n      <td>01</td>\n      <td>2016-12-30 07:45</td>\n      <td>2016-12-31 19:30</td>\n      <td>적하</td>\n      <td>허가완료</td>\n      <td>2016_019_D7BN</td>\n    </tr>\n    <tr>\n      <th>4</th>\n      <td>075682</td>\n      <td>2017</td>\n      <td>1</td>\n      <td>001</td>\n      <td>5.946</td>\n      <td>YSK0018</td>\n      <td>한선해운(주)</td>\n      <td>MBR</td>\n      <td>01</td>\n      <td>2017-01-01 23:00</td>\n      <td>2017-01-02 12:00</td>\n      <td>MBR</td>\n      <td>01</td>\n      <td>2017-01-02 04:25</td>\n      <td>2017-01-02 18:05</td>\n      <td>양하</td>\n      <td>허가완료</td>\n      <td>2017_001_075682</td>\n    </tr>\n    <tr>\n      <th>...</th>\n      <td>...</td>\n      <td>...</td>\n      <td>...</td>\n      <td>...</td>\n      <td>...</td>\n      <td>...</td>\n      <td>...</td>\n      <td>...</td>\n      <td>...</td>\n      <td>...</td>\n      <td>...</td>\n      <td>...</td>\n      <td>...</td>\n      <td>...</td>\n      <td>...</td>\n      <td>...</td>\n      <td>...</td>\n      <td>...</td>\n    </tr>\n    <tr>\n      <th>223266</th>\n      <td>105351</td>\n      <td>2021</td>\n      <td>42</td>\n      <td>002</td>\n      <td>575</td>\n      <td>BSZ7237</td>\n      <td>봉은해운(주)</td>\n      <td>MBU</td>\n      <td>01</td>\n      <td>2021-06-23 01:30</td>\n      <td>2021-06-23 05:35</td>\n      <td>MBU</td>\n      <td>01</td>\n      <td>2021-06-23 01:30</td>\n      <td>2021-06-23 05:35</td>\n      <td>적하</td>\n      <td>허가완료</td>\n      <td>2021_042_105351</td>\n    </tr>\n    <tr>\n      <th>223267</th>\n      <td>D5XS2</td>\n      <td>2021</td>\n      <td>1</td>\n      <td>001</td>\n      <td>39.738</td>\n      <td>OST0011</td>\n      <td>팬오션 주식회사</td>\n      <td>MBA</td>\n      <td>01</td>\n      <td>2021-06-24 14:50</td>\n      <td>2021-06-29 10:00</td>\n      <td>MBA</td>\n      <td>01</td>\n      <td>2021-06-24 14:50</td>\n      <td>2021-06-29 10:00</td>\n      <td>양하</td>\n      <td>허가완료</td>\n      <td>2021_001_D5XS2</td>\n    </tr>\n    <tr>\n      <th>223270</th>\n      <td>VRRQ3</td>\n      <td>2021</td>\n      <td>1</td>\n      <td>002</td>\n      <td>28.794</td>\n      <td>ICC2121</td>\n      <td>주식회사 굳파트너쉬핑</td>\n      <td>MDS</td>\n      <td>03</td>\n      <td>2021-06-28 12:40</td>\n      <td>2021-06-29 21:05</td>\n      <td>MDS</td>\n      <td>03</td>\n      <td>2021-06-28 12:40</td>\n      <td>2021-06-29 21:05</td>\n      <td>적하</td>\n      <td>허가완료</td>\n      <td>2021_001_VRRQ3</td>\n    </tr>\n    <tr>\n      <th>223272</th>\n      <td>HOJK</td>\n      <td>2021</td>\n      <td>22</td>\n      <td>003</td>\n      <td>2.690</td>\n      <td>USC2011</td>\n      <td>우일해운(주)</td>\n      <td>WAE</td>\n      <td>01</td>\n      <td>2021-06-29 13:20</td>\n      <td>2021-06-29 21:05</td>\n      <td>WAE</td>\n      <td>01</td>\n      <td>2021-06-29 13:20</td>\n      <td>2021-06-29 21:05</td>\n      <td>접안대기</td>\n      <td>허가완료</td>\n      <td>2021_022_HOJK</td>\n    </tr>\n    <tr>\n      <th>223278</th>\n      <td>D7RI</td>\n      <td>2021</td>\n      <td>3</td>\n      <td>001</td>\n      <td>6.843</td>\n      <td>YSZ2381</td>\n      <td>선우탱커 주식회사</td>\n      <td>WAB</td>\n      <td>02</td>\n      <td>2021-06-27 14:35</td>\n      <td>2021-06-27 21:05</td>\n      <td>WAB</td>\n      <td>02</td>\n      <td>2021-06-27 14:35</td>\n      <td>2021-06-27 21:05</td>\n      <td>접안대기</td>\n      <td>허가완료</td>\n      <td>2021_003_D7RI</td>\n    </tr>\n  </tbody>\n</table>\n<p>222720 rows × 18 columns</p>\n</div>"
     },
     "metadata": {},
     "execution_count": 52
    }
   ],
   "source": [
    "FUPS_data"
   ]
  },
  {
   "cell_type": "code",
   "execution_count": 53,
   "metadata": {},
   "outputs": [
    {
     "output_type": "execute_result",
     "data": {
      "text/plain": [
       "          호출부호  입항횟수1  입항횟수2 입항횟수3   신고톤수  선사/대리점1    선사/대리점2 신청시설1 신청시설2  \\\n",
       "0         D7BN   2016     19   001  8.581  OST0212    우민해운(주)   WAE    03   \n",
       "2         D7BN   2016     19   003  8.581  OST0212    우민해운(주)   WAE    01   \n",
       "5        DSRN9   2017      1   001    997  BSK2678    영산해운(주)   WAM    06   \n",
       "8        DSPR5   2016     17   001  2.517  BSK2514    하나마린(주)   WAE    01   \n",
       "10       DSPR5   2016     18   001  2.517  BSK2514    하나마린(주)   WAE    01   \n",
       "...        ...    ...    ...   ...    ...      ...        ...   ...   ...   \n",
       "223255   DSDD6   2021      9   002  1.598  BSK2457    동보해운(주)   WAM    03   \n",
       "223258  150040   2021     37   001    999  YSK0017    태하해운(주)   WAM    03   \n",
       "223262   BUSA6   2021      4   001  5.408  USC1002    아성마린(주)   WAE    01   \n",
       "223272    HOJK   2021     22   003  2.690  USC2011    우일해운(주)   WAE    01   \n",
       "223278    D7RI   2021      3   001  6.843  YSZ2381  선우탱커 주식회사   WAB    02   \n",
       "\n",
       "        신청일시1(FROM ~ TO)  신청일시2(FROM ~ TO) 지정시설1 지정시설2  지정일시1(FROM ~ TO)  \\\n",
       "0       2016-12-28 06:15  2016-12-28 07:45   WAE    03  2016-12-28 06:15   \n",
       "2       2016-12-29 06:45  2016-12-30 06:40   WAE    01  2016-12-29 06:45   \n",
       "5       2017-01-01 12:00  2017-01-03 00:00   WAM    06  2017-01-01 11:45   \n",
       "8       2016-12-29 03:40  2016-12-29 12:40   WAE    01  2016-12-29 03:40   \n",
       "10      2016-12-30 11:35  2016-12-31 10:10   WAE    01  2016-12-30 11:35   \n",
       "...                  ...               ...   ...   ...               ...   \n",
       "223255  2021-06-26 06:20  2021-06-27 10:00   WAM    03  2021-06-26 06:20   \n",
       "223258  2021-06-28 03:20  2021-06-28 08:27   WAM    01  2021-06-28 03:20   \n",
       "223262  2021-06-27 08:30  2021-06-27 20:45   WAE    01  2021-06-27 08:30   \n",
       "223272  2021-06-29 13:20  2021-06-29 21:05   WAE    01  2021-06-29 13:20   \n",
       "223278  2021-06-27 14:35  2021-06-27 21:05   WAB    02  2021-06-27 14:35   \n",
       "\n",
       "        지정일시2(FROM ~ TO) 사용목적명  허가유무               id  \n",
       "0       2016-12-28 07:45  접안대기  허가완료    2016_019_D7BN  \n",
       "2       2016-12-30 06:40  접안대기  허가완료    2016_019_D7BN  \n",
       "5       2017-01-02 15:00  접안대기  허가완료   2017_001_DSRN9  \n",
       "8       2016-12-29 12:40  접안대기  허가완료   2016_017_DSPR5  \n",
       "10      2016-12-31 10:10  접안대기  허가완료   2016_018_DSPR5  \n",
       "...                  ...   ...   ...              ...  \n",
       "223255  2021-06-27 10:00  접안대기  허가완료   2021_009_DSDD6  \n",
       "223258  2021-06-28 08:27  접안대기  허가완료  2021_037_150040  \n",
       "223262  2021-06-27 20:45  접안대기  허가완료   2021_004_BUSA6  \n",
       "223272  2021-06-29 21:05  접안대기  허가완료    2021_022_HOJK  \n",
       "223278  2021-06-27 21:05  접안대기  허가완료    2021_003_D7RI  \n",
       "\n",
       "[35099 rows x 18 columns]"
      ],
      "text/html": "<div>\n<style scoped>\n    .dataframe tbody tr th:only-of-type {\n        vertical-align: middle;\n    }\n\n    .dataframe tbody tr th {\n        vertical-align: top;\n    }\n\n    .dataframe thead th {\n        text-align: right;\n    }\n</style>\n<table border=\"1\" class=\"dataframe\">\n  <thead>\n    <tr style=\"text-align: right;\">\n      <th></th>\n      <th>호출부호</th>\n      <th>입항횟수1</th>\n      <th>입항횟수2</th>\n      <th>입항횟수3</th>\n      <th>신고톤수</th>\n      <th>선사/대리점1</th>\n      <th>선사/대리점2</th>\n      <th>신청시설1</th>\n      <th>신청시설2</th>\n      <th>신청일시1(FROM ~ TO)</th>\n      <th>신청일시2(FROM ~ TO)</th>\n      <th>지정시설1</th>\n      <th>지정시설2</th>\n      <th>지정일시1(FROM ~ TO)</th>\n      <th>지정일시2(FROM ~ TO)</th>\n      <th>사용목적명</th>\n      <th>허가유무</th>\n      <th>id</th>\n    </tr>\n  </thead>\n  <tbody>\n    <tr>\n      <th>0</th>\n      <td>D7BN</td>\n      <td>2016</td>\n      <td>19</td>\n      <td>001</td>\n      <td>8.581</td>\n      <td>OST0212</td>\n      <td>우민해운(주)</td>\n      <td>WAE</td>\n      <td>03</td>\n      <td>2016-12-28 06:15</td>\n      <td>2016-12-28 07:45</td>\n      <td>WAE</td>\n      <td>03</td>\n      <td>2016-12-28 06:15</td>\n      <td>2016-12-28 07:45</td>\n      <td>접안대기</td>\n      <td>허가완료</td>\n      <td>2016_019_D7BN</td>\n    </tr>\n    <tr>\n      <th>2</th>\n      <td>D7BN</td>\n      <td>2016</td>\n      <td>19</td>\n      <td>003</td>\n      <td>8.581</td>\n      <td>OST0212</td>\n      <td>우민해운(주)</td>\n      <td>WAE</td>\n      <td>01</td>\n      <td>2016-12-29 06:45</td>\n      <td>2016-12-30 06:40</td>\n      <td>WAE</td>\n      <td>01</td>\n      <td>2016-12-29 06:45</td>\n      <td>2016-12-30 06:40</td>\n      <td>접안대기</td>\n      <td>허가완료</td>\n      <td>2016_019_D7BN</td>\n    </tr>\n    <tr>\n      <th>5</th>\n      <td>DSRN9</td>\n      <td>2017</td>\n      <td>1</td>\n      <td>001</td>\n      <td>997</td>\n      <td>BSK2678</td>\n      <td>영산해운(주)</td>\n      <td>WAM</td>\n      <td>06</td>\n      <td>2017-01-01 12:00</td>\n      <td>2017-01-03 00:00</td>\n      <td>WAM</td>\n      <td>06</td>\n      <td>2017-01-01 11:45</td>\n      <td>2017-01-02 15:00</td>\n      <td>접안대기</td>\n      <td>허가완료</td>\n      <td>2017_001_DSRN9</td>\n    </tr>\n    <tr>\n      <th>8</th>\n      <td>DSPR5</td>\n      <td>2016</td>\n      <td>17</td>\n      <td>001</td>\n      <td>2.517</td>\n      <td>BSK2514</td>\n      <td>하나마린(주)</td>\n      <td>WAE</td>\n      <td>01</td>\n      <td>2016-12-29 03:40</td>\n      <td>2016-12-29 12:40</td>\n      <td>WAE</td>\n      <td>01</td>\n      <td>2016-12-29 03:40</td>\n      <td>2016-12-29 12:40</td>\n      <td>접안대기</td>\n      <td>허가완료</td>\n      <td>2016_017_DSPR5</td>\n    </tr>\n    <tr>\n      <th>10</th>\n      <td>DSPR5</td>\n      <td>2016</td>\n      <td>18</td>\n      <td>001</td>\n      <td>2.517</td>\n      <td>BSK2514</td>\n      <td>하나마린(주)</td>\n      <td>WAE</td>\n      <td>01</td>\n      <td>2016-12-30 11:35</td>\n      <td>2016-12-31 10:10</td>\n      <td>WAE</td>\n      <td>01</td>\n      <td>2016-12-30 11:35</td>\n      <td>2016-12-31 10:10</td>\n      <td>접안대기</td>\n      <td>허가완료</td>\n      <td>2016_018_DSPR5</td>\n    </tr>\n    <tr>\n      <th>...</th>\n      <td>...</td>\n      <td>...</td>\n      <td>...</td>\n      <td>...</td>\n      <td>...</td>\n      <td>...</td>\n      <td>...</td>\n      <td>...</td>\n      <td>...</td>\n      <td>...</td>\n      <td>...</td>\n      <td>...</td>\n      <td>...</td>\n      <td>...</td>\n      <td>...</td>\n      <td>...</td>\n      <td>...</td>\n      <td>...</td>\n    </tr>\n    <tr>\n      <th>223255</th>\n      <td>DSDD6</td>\n      <td>2021</td>\n      <td>9</td>\n      <td>002</td>\n      <td>1.598</td>\n      <td>BSK2457</td>\n      <td>동보해운(주)</td>\n      <td>WAM</td>\n      <td>03</td>\n      <td>2021-06-26 06:20</td>\n      <td>2021-06-27 10:00</td>\n      <td>WAM</td>\n      <td>03</td>\n      <td>2021-06-26 06:20</td>\n      <td>2021-06-27 10:00</td>\n      <td>접안대기</td>\n      <td>허가완료</td>\n      <td>2021_009_DSDD6</td>\n    </tr>\n    <tr>\n      <th>223258</th>\n      <td>150040</td>\n      <td>2021</td>\n      <td>37</td>\n      <td>001</td>\n      <td>999</td>\n      <td>YSK0017</td>\n      <td>태하해운(주)</td>\n      <td>WAM</td>\n      <td>03</td>\n      <td>2021-06-28 03:20</td>\n      <td>2021-06-28 08:27</td>\n      <td>WAM</td>\n      <td>01</td>\n      <td>2021-06-28 03:20</td>\n      <td>2021-06-28 08:27</td>\n      <td>접안대기</td>\n      <td>허가완료</td>\n      <td>2021_037_150040</td>\n    </tr>\n    <tr>\n      <th>223262</th>\n      <td>BUSA6</td>\n      <td>2021</td>\n      <td>4</td>\n      <td>001</td>\n      <td>5.408</td>\n      <td>USC1002</td>\n      <td>아성마린(주)</td>\n      <td>WAE</td>\n      <td>01</td>\n      <td>2021-06-27 08:30</td>\n      <td>2021-06-27 20:45</td>\n      <td>WAE</td>\n      <td>01</td>\n      <td>2021-06-27 08:30</td>\n      <td>2021-06-27 20:45</td>\n      <td>접안대기</td>\n      <td>허가완료</td>\n      <td>2021_004_BUSA6</td>\n    </tr>\n    <tr>\n      <th>223272</th>\n      <td>HOJK</td>\n      <td>2021</td>\n      <td>22</td>\n      <td>003</td>\n      <td>2.690</td>\n      <td>USC2011</td>\n      <td>우일해운(주)</td>\n      <td>WAE</td>\n      <td>01</td>\n      <td>2021-06-29 13:20</td>\n      <td>2021-06-29 21:05</td>\n      <td>WAE</td>\n      <td>01</td>\n      <td>2021-06-29 13:20</td>\n      <td>2021-06-29 21:05</td>\n      <td>접안대기</td>\n      <td>허가완료</td>\n      <td>2021_022_HOJK</td>\n    </tr>\n    <tr>\n      <th>223278</th>\n      <td>D7RI</td>\n      <td>2021</td>\n      <td>3</td>\n      <td>001</td>\n      <td>6.843</td>\n      <td>YSZ2381</td>\n      <td>선우탱커 주식회사</td>\n      <td>WAB</td>\n      <td>02</td>\n      <td>2021-06-27 14:35</td>\n      <td>2021-06-27 21:05</td>\n      <td>WAB</td>\n      <td>02</td>\n      <td>2021-06-27 14:35</td>\n      <td>2021-06-27 21:05</td>\n      <td>접안대기</td>\n      <td>허가완료</td>\n      <td>2021_003_D7RI</td>\n    </tr>\n  </tbody>\n</table>\n<p>35099 rows × 18 columns</p>\n</div>"
     },
     "metadata": {},
     "execution_count": 53
    }
   ],
   "source": [
    "FUPS_data[FUPS_data['사용목적명']=='접안대기']"
   ]
  },
  {
   "cell_type": "code",
   "execution_count": 54,
   "metadata": {},
   "outputs": [
    {
     "output_type": "execute_result",
     "data": {
      "text/plain": [
       "       호출부호_x  입항횟수1_x  입항횟수2_x 입항횟수3   신고톤수  선사/대리점1    선사/대리점2 신청시설1 신청시설2  \\\n",
       "0        D7BN     2016       19   001  8.581  OST0212    우민해운(주)   WAE    03   \n",
       "1        D7BN     2016       19   003  8.581  OST0212    우민해운(주)   WAE    01   \n",
       "2       DSRN9     2017        1   001    997  BSK2678    영산해운(주)   WAM    06   \n",
       "3       DSPR5     2016       17   001  2.517  BSK2514    하나마린(주)   WAE    01   \n",
       "4       DSPR5     2016       18   001  2.517  BSK2514    하나마린(주)   WAE    01   \n",
       "...       ...      ...      ...   ...    ...      ...        ...   ...   ...   \n",
       "36342   DSDD6     2021        9   002  1.598  BSK2457    동보해운(주)   WAM    03   \n",
       "36343  150040     2021       37   001    999  YSK0017    태하해운(주)   WAM    03   \n",
       "36344   BUSA6     2021        4   001  5.408  USC1002    아성마린(주)   WAE    01   \n",
       "36345    HOJK     2021       22   003  2.690  USC2011    우일해운(주)   WAE    01   \n",
       "36346    D7RI     2021        3   001  6.843  YSZ2381  선우탱커 주식회사   WAB    02   \n",
       "\n",
       "       신청일시1(FROM ~ TO)  ...        계선장소3             차항지           전출항지  \\\n",
       "0      2016-12-28 06:15  ...          NaN             NaN            NaN   \n",
       "1      2016-12-29 06:45  ...          NaN             NaN            NaN   \n",
       "2      2017-01-01 12:00  ...          NaN             NaN            NaN   \n",
       "3      2016-12-29 03:40  ...          NaN             NaN            NaN   \n",
       "4      2016-12-30 11:35  ...          NaN             NaN            NaN   \n",
       "...                 ...  ...          ...             ...            ...   \n",
       "36342  2021-06-26 06:20  ...     SK1부두 12         NIIGATA        NIIGATA   \n",
       "36343  2021-06-28 03:20  ...       정박지 01              부산             대산   \n",
       "36344  2021-06-27 08:30  ...       정박지-E1  OCEAN DISTRICT         NINGBO   \n",
       "36345  2021-06-29 13:20  ...       정박지-E1        MITAJIRI  NAGOYA, AICHI   \n",
       "36346  2021-06-27 14:35  ...  벙커링전용정박지 E2  OCEAN DISTRICT         NINGBO   \n",
       "\n",
       "           선박용도 승무원(한국인) 승무원(외국인)   승객   예선   도선 수리여부  \n",
       "0           NaN      NaN      NaN  NaN  NaN  NaN  NaN  \n",
       "1           NaN      NaN      NaN  NaN  NaN  NaN  NaN  \n",
       "2           NaN      NaN      NaN  NaN  NaN  NaN  NaN  \n",
       "3           NaN      NaN      NaN  NaN  NaN  NaN  NaN  \n",
       "4           NaN      NaN      NaN  NaN  NaN  NaN  NaN  \n",
       "...         ...      ...      ...  ...  ...  ...  ...  \n",
       "36342   케미칼 운반선        9        4    0    Y    N  1.0  \n",
       "36343  석유제품 운반선        5        5    0    Y    Y  1.0  \n",
       "36344  석유제품 운반선        0       18    0    Y    Y  1.0  \n",
       "36345   케미칼 운반선        2       12    0    Y    Y  1.0  \n",
       "36346   케미칼 운반선        3       18    0    Y    Y  1.0  \n",
       "\n",
       "[36347 rows x 42 columns]"
      ],
      "text/html": "<div>\n<style scoped>\n    .dataframe tbody tr th:only-of-type {\n        vertical-align: middle;\n    }\n\n    .dataframe tbody tr th {\n        vertical-align: top;\n    }\n\n    .dataframe thead th {\n        text-align: right;\n    }\n</style>\n<table border=\"1\" class=\"dataframe\">\n  <thead>\n    <tr style=\"text-align: right;\">\n      <th></th>\n      <th>호출부호_x</th>\n      <th>입항횟수1_x</th>\n      <th>입항횟수2_x</th>\n      <th>입항횟수3</th>\n      <th>신고톤수</th>\n      <th>선사/대리점1</th>\n      <th>선사/대리점2</th>\n      <th>신청시설1</th>\n      <th>신청시설2</th>\n      <th>신청일시1(FROM ~ TO)</th>\n      <th>...</th>\n      <th>계선장소3</th>\n      <th>차항지</th>\n      <th>전출항지</th>\n      <th>선박용도</th>\n      <th>승무원(한국인)</th>\n      <th>승무원(외국인)</th>\n      <th>승객</th>\n      <th>예선</th>\n      <th>도선</th>\n      <th>수리여부</th>\n    </tr>\n  </thead>\n  <tbody>\n    <tr>\n      <th>0</th>\n      <td>D7BN</td>\n      <td>2016</td>\n      <td>19</td>\n      <td>001</td>\n      <td>8.581</td>\n      <td>OST0212</td>\n      <td>우민해운(주)</td>\n      <td>WAE</td>\n      <td>03</td>\n      <td>2016-12-28 06:15</td>\n      <td>...</td>\n      <td>NaN</td>\n      <td>NaN</td>\n      <td>NaN</td>\n      <td>NaN</td>\n      <td>NaN</td>\n      <td>NaN</td>\n      <td>NaN</td>\n      <td>NaN</td>\n      <td>NaN</td>\n      <td>NaN</td>\n    </tr>\n    <tr>\n      <th>1</th>\n      <td>D7BN</td>\n      <td>2016</td>\n      <td>19</td>\n      <td>003</td>\n      <td>8.581</td>\n      <td>OST0212</td>\n      <td>우민해운(주)</td>\n      <td>WAE</td>\n      <td>01</td>\n      <td>2016-12-29 06:45</td>\n      <td>...</td>\n      <td>NaN</td>\n      <td>NaN</td>\n      <td>NaN</td>\n      <td>NaN</td>\n      <td>NaN</td>\n      <td>NaN</td>\n      <td>NaN</td>\n      <td>NaN</td>\n      <td>NaN</td>\n      <td>NaN</td>\n    </tr>\n    <tr>\n      <th>2</th>\n      <td>DSRN9</td>\n      <td>2017</td>\n      <td>1</td>\n      <td>001</td>\n      <td>997</td>\n      <td>BSK2678</td>\n      <td>영산해운(주)</td>\n      <td>WAM</td>\n      <td>06</td>\n      <td>2017-01-01 12:00</td>\n      <td>...</td>\n      <td>NaN</td>\n      <td>NaN</td>\n      <td>NaN</td>\n      <td>NaN</td>\n      <td>NaN</td>\n      <td>NaN</td>\n      <td>NaN</td>\n      <td>NaN</td>\n      <td>NaN</td>\n      <td>NaN</td>\n    </tr>\n    <tr>\n      <th>3</th>\n      <td>DSPR5</td>\n      <td>2016</td>\n      <td>17</td>\n      <td>001</td>\n      <td>2.517</td>\n      <td>BSK2514</td>\n      <td>하나마린(주)</td>\n      <td>WAE</td>\n      <td>01</td>\n      <td>2016-12-29 03:40</td>\n      <td>...</td>\n      <td>NaN</td>\n      <td>NaN</td>\n      <td>NaN</td>\n      <td>NaN</td>\n      <td>NaN</td>\n      <td>NaN</td>\n      <td>NaN</td>\n      <td>NaN</td>\n      <td>NaN</td>\n      <td>NaN</td>\n    </tr>\n    <tr>\n      <th>4</th>\n      <td>DSPR5</td>\n      <td>2016</td>\n      <td>18</td>\n      <td>001</td>\n      <td>2.517</td>\n      <td>BSK2514</td>\n      <td>하나마린(주)</td>\n      <td>WAE</td>\n      <td>01</td>\n      <td>2016-12-30 11:35</td>\n      <td>...</td>\n      <td>NaN</td>\n      <td>NaN</td>\n      <td>NaN</td>\n      <td>NaN</td>\n      <td>NaN</td>\n      <td>NaN</td>\n      <td>NaN</td>\n      <td>NaN</td>\n      <td>NaN</td>\n      <td>NaN</td>\n    </tr>\n    <tr>\n      <th>...</th>\n      <td>...</td>\n      <td>...</td>\n      <td>...</td>\n      <td>...</td>\n      <td>...</td>\n      <td>...</td>\n      <td>...</td>\n      <td>...</td>\n      <td>...</td>\n      <td>...</td>\n      <td>...</td>\n      <td>...</td>\n      <td>...</td>\n      <td>...</td>\n      <td>...</td>\n      <td>...</td>\n      <td>...</td>\n      <td>...</td>\n      <td>...</td>\n      <td>...</td>\n      <td>...</td>\n    </tr>\n    <tr>\n      <th>36342</th>\n      <td>DSDD6</td>\n      <td>2021</td>\n      <td>9</td>\n      <td>002</td>\n      <td>1.598</td>\n      <td>BSK2457</td>\n      <td>동보해운(주)</td>\n      <td>WAM</td>\n      <td>03</td>\n      <td>2021-06-26 06:20</td>\n      <td>...</td>\n      <td>SK1부두 12</td>\n      <td>NIIGATA</td>\n      <td>NIIGATA</td>\n      <td>케미칼 운반선</td>\n      <td>9</td>\n      <td>4</td>\n      <td>0</td>\n      <td>Y</td>\n      <td>N</td>\n      <td>1.0</td>\n    </tr>\n    <tr>\n      <th>36343</th>\n      <td>150040</td>\n      <td>2021</td>\n      <td>37</td>\n      <td>001</td>\n      <td>999</td>\n      <td>YSK0017</td>\n      <td>태하해운(주)</td>\n      <td>WAM</td>\n      <td>03</td>\n      <td>2021-06-28 03:20</td>\n      <td>...</td>\n      <td>정박지 01</td>\n      <td>부산</td>\n      <td>대산</td>\n      <td>석유제품 운반선</td>\n      <td>5</td>\n      <td>5</td>\n      <td>0</td>\n      <td>Y</td>\n      <td>Y</td>\n      <td>1.0</td>\n    </tr>\n    <tr>\n      <th>36344</th>\n      <td>BUSA6</td>\n      <td>2021</td>\n      <td>4</td>\n      <td>001</td>\n      <td>5.408</td>\n      <td>USC1002</td>\n      <td>아성마린(주)</td>\n      <td>WAE</td>\n      <td>01</td>\n      <td>2021-06-27 08:30</td>\n      <td>...</td>\n      <td>정박지-E1</td>\n      <td>OCEAN DISTRICT</td>\n      <td>NINGBO</td>\n      <td>석유제품 운반선</td>\n      <td>0</td>\n      <td>18</td>\n      <td>0</td>\n      <td>Y</td>\n      <td>Y</td>\n      <td>1.0</td>\n    </tr>\n    <tr>\n      <th>36345</th>\n      <td>HOJK</td>\n      <td>2021</td>\n      <td>22</td>\n      <td>003</td>\n      <td>2.690</td>\n      <td>USC2011</td>\n      <td>우일해운(주)</td>\n      <td>WAE</td>\n      <td>01</td>\n      <td>2021-06-29 13:20</td>\n      <td>...</td>\n      <td>정박지-E1</td>\n      <td>MITAJIRI</td>\n      <td>NAGOYA, AICHI</td>\n      <td>케미칼 운반선</td>\n      <td>2</td>\n      <td>12</td>\n      <td>0</td>\n      <td>Y</td>\n      <td>Y</td>\n      <td>1.0</td>\n    </tr>\n    <tr>\n      <th>36346</th>\n      <td>D7RI</td>\n      <td>2021</td>\n      <td>3</td>\n      <td>001</td>\n      <td>6.843</td>\n      <td>YSZ2381</td>\n      <td>선우탱커 주식회사</td>\n      <td>WAB</td>\n      <td>02</td>\n      <td>2021-06-27 14:35</td>\n      <td>...</td>\n      <td>벙커링전용정박지 E2</td>\n      <td>OCEAN DISTRICT</td>\n      <td>NINGBO</td>\n      <td>케미칼 운반선</td>\n      <td>3</td>\n      <td>18</td>\n      <td>0</td>\n      <td>Y</td>\n      <td>Y</td>\n      <td>1.0</td>\n    </tr>\n  </tbody>\n</table>\n<p>36347 rows × 42 columns</p>\n</div>"
     },
     "metadata": {},
     "execution_count": 54
    }
   ],
   "source": [
    "data = pd.merge(FUPS_data_a, SADS_data_a, on = \"id\", how = \"left\")\n",
    "data"
   ]
  },
  {
   "cell_type": "code",
   "execution_count": 55,
   "metadata": {},
   "outputs": [
    {
     "output_type": "stream",
     "name": "stdout",
     "text": [
      "data :  호출부호_x                 0\n입항횟수1_x                0\n입항횟수2_x                0\n입항횟수3                  0\n신고톤수                   0\n선사/대리점1                0\n선사/대리점2                0\n신청시설1                  0\n신청시설2                  0\n신청일시1(FROM ~ TO)       0\n신청일시2(FROM ~ TO)       0\n지정시설1                  0\n지정시설2                  0\n지정일시1(FROM ~ TO)       0\n지정일시2(FROM ~ TO)       0\n사용목적명                  0\n허가유무                   0\nid                     0\n호출부호_y              5669\n선명                  5669\n입항횟수1_y             5669\n입항횟수2_y             5669\n구분                  5669\n외내                  5669\n입출                  5669\n총톤수                 5669\n입항일시                5669\n출항일시                5669\n항해구분                5669\n국적1                 5669\n계선장소1               5669\n계선장소2               5669\n계선장소3               5669\n차항지                 5671\n전출항지                5672\n선박용도                5669\n승무원(한국인)            5669\n승무원(외국인)            5669\n승객                  5669\n예선                  6098\n도선                  5671\n수리여부                5669\ndtype: int64\n"
     ]
    }
   ],
   "source": [
    "# 결측치 확인\n",
    "print('data : ', data.isnull().sum())"
   ]
  },
  {
   "cell_type": "code",
   "execution_count": 56,
   "metadata": {},
   "outputs": [
    {
     "output_type": "execute_result",
     "data": {
      "text/plain": [
       "Index(['호출부호_x', '입항횟수1_x', '입항횟수2_x', '입항횟수3', '신고톤수', '선사/대리점1', '선사/대리점2',\n",
       "       '신청시설1', '신청시설2', '신청일시1(FROM ~ TO)', '신청일시2(FROM ~ TO)', '지정시설1',\n",
       "       '지정시설2', '지정일시1(FROM ~ TO)', '지정일시2(FROM ~ TO)', '사용목적명', '허가유무', 'id',\n",
       "       '호출부호_y', '선명', '입항횟수1_y', '입항횟수2_y', '구분', '외내', '입출', '총톤수', '입항일시',\n",
       "       '출항일시', '항해구분', '국적1', '계선장소1', '계선장소2', '계선장소3', '차항지', '전출항지', '선박용도',\n",
       "       '승무원(한국인)', '승무원(외국인)', '승객', '예선', '도선', '수리여부'],\n",
       "      dtype='object')"
      ]
     },
     "metadata": {},
     "execution_count": 56
    }
   ],
   "source": [
    "data.columns"
   ]
  },
  {
   "cell_type": "code",
   "execution_count": 57,
   "metadata": {},
   "outputs": [
    {
     "output_type": "execute_result",
     "data": {
      "text/plain": [
       "       호출부호_x  입항횟수1_x  입항횟수2_x 입항횟수3  선사/대리점1 신청시설1 신청시설2  신청일시1(FROM ~ TO)  \\\n",
       "0        D7BN     2016       19   001  OST0212   WAE    03  2016-12-28 06:15   \n",
       "1        D7BN     2016       19   003  OST0212   WAE    01  2016-12-29 06:45   \n",
       "2       DSRN9     2017        1   001  BSK2678   WAM    06  2017-01-01 12:00   \n",
       "3       DSPR5     2016       17   001  BSK2514   WAE    01  2016-12-29 03:40   \n",
       "4       DSPR5     2016       18   001  BSK2514   WAE    01  2016-12-30 11:35   \n",
       "...       ...      ...      ...   ...      ...   ...   ...               ...   \n",
       "36342   DSDD6     2021        9   002  BSK2457   WAM    03  2021-06-26 06:20   \n",
       "36343  150040     2021       37   001  YSK0017   WAM    03  2021-06-28 03:20   \n",
       "36344   BUSA6     2021        4   001  USC1002   WAE    01  2021-06-27 08:30   \n",
       "36345    HOJK     2021       22   003  USC2011   WAE    01  2021-06-29 13:20   \n",
       "36346    D7RI     2021        3   001  YSZ2381   WAB    02  2021-06-27 14:35   \n",
       "\n",
       "       신청일시2(FROM ~ TO) 지정시설1  ... 계선장소2             차항지           전출항지  \\\n",
       "0      2016-12-28 07:45   WAE  ...   NaN             NaN            NaN   \n",
       "1      2016-12-30 06:40   WAE  ...   NaN             NaN            NaN   \n",
       "2      2017-01-03 00:00   WAM  ...   NaN             NaN            NaN   \n",
       "3      2016-12-29 12:40   WAE  ...   NaN             NaN            NaN   \n",
       "4      2016-12-31 10:10   WAE  ...   NaN             NaN            NaN   \n",
       "...                 ...   ...  ...   ...             ...            ...   \n",
       "36342  2021-06-27 10:00   WAM  ...    12         NIIGATA        NIIGATA   \n",
       "36343  2021-06-28 08:27   WAM  ...    01              부산             대산   \n",
       "36344  2021-06-27 20:45   WAE  ...    01  OCEAN DISTRICT         NINGBO   \n",
       "36345  2021-06-29 21:05   WAE  ...    01        MITAJIRI  NAGOYA, AICHI   \n",
       "36346  2021-06-27 21:05   WAB  ...    02  OCEAN DISTRICT         NINGBO   \n",
       "\n",
       "           선박용도 승무원(한국인) 승무원(외국인)   승객   예선   도선 수리여부  \n",
       "0           NaN      NaN      NaN  NaN  NaN  NaN  NaN  \n",
       "1           NaN      NaN      NaN  NaN  NaN  NaN  NaN  \n",
       "2           NaN      NaN      NaN  NaN  NaN  NaN  NaN  \n",
       "3           NaN      NaN      NaN  NaN  NaN  NaN  NaN  \n",
       "4           NaN      NaN      NaN  NaN  NaN  NaN  NaN  \n",
       "...         ...      ...      ...  ...  ...  ...  ...  \n",
       "36342   케미칼 운반선        9        4    0    Y    N  1.0  \n",
       "36343  석유제품 운반선        5        5    0    Y    Y  1.0  \n",
       "36344  석유제품 운반선        0       18    0    Y    Y  1.0  \n",
       "36345   케미칼 운반선        2       12    0    Y    Y  1.0  \n",
       "36346   케미칼 운반선        3       18    0    Y    Y  1.0  \n",
       "\n",
       "[36347 rows x 36 columns]"
      ],
      "text/html": "<div>\n<style scoped>\n    .dataframe tbody tr th:only-of-type {\n        vertical-align: middle;\n    }\n\n    .dataframe tbody tr th {\n        vertical-align: top;\n    }\n\n    .dataframe thead th {\n        text-align: right;\n    }\n</style>\n<table border=\"1\" class=\"dataframe\">\n  <thead>\n    <tr style=\"text-align: right;\">\n      <th></th>\n      <th>호출부호_x</th>\n      <th>입항횟수1_x</th>\n      <th>입항횟수2_x</th>\n      <th>입항횟수3</th>\n      <th>선사/대리점1</th>\n      <th>신청시설1</th>\n      <th>신청시설2</th>\n      <th>신청일시1(FROM ~ TO)</th>\n      <th>신청일시2(FROM ~ TO)</th>\n      <th>지정시설1</th>\n      <th>...</th>\n      <th>계선장소2</th>\n      <th>차항지</th>\n      <th>전출항지</th>\n      <th>선박용도</th>\n      <th>승무원(한국인)</th>\n      <th>승무원(외국인)</th>\n      <th>승객</th>\n      <th>예선</th>\n      <th>도선</th>\n      <th>수리여부</th>\n    </tr>\n  </thead>\n  <tbody>\n    <tr>\n      <th>0</th>\n      <td>D7BN</td>\n      <td>2016</td>\n      <td>19</td>\n      <td>001</td>\n      <td>OST0212</td>\n      <td>WAE</td>\n      <td>03</td>\n      <td>2016-12-28 06:15</td>\n      <td>2016-12-28 07:45</td>\n      <td>WAE</td>\n      <td>...</td>\n      <td>NaN</td>\n      <td>NaN</td>\n      <td>NaN</td>\n      <td>NaN</td>\n      <td>NaN</td>\n      <td>NaN</td>\n      <td>NaN</td>\n      <td>NaN</td>\n      <td>NaN</td>\n      <td>NaN</td>\n    </tr>\n    <tr>\n      <th>1</th>\n      <td>D7BN</td>\n      <td>2016</td>\n      <td>19</td>\n      <td>003</td>\n      <td>OST0212</td>\n      <td>WAE</td>\n      <td>01</td>\n      <td>2016-12-29 06:45</td>\n      <td>2016-12-30 06:40</td>\n      <td>WAE</td>\n      <td>...</td>\n      <td>NaN</td>\n      <td>NaN</td>\n      <td>NaN</td>\n      <td>NaN</td>\n      <td>NaN</td>\n      <td>NaN</td>\n      <td>NaN</td>\n      <td>NaN</td>\n      <td>NaN</td>\n      <td>NaN</td>\n    </tr>\n    <tr>\n      <th>2</th>\n      <td>DSRN9</td>\n      <td>2017</td>\n      <td>1</td>\n      <td>001</td>\n      <td>BSK2678</td>\n      <td>WAM</td>\n      <td>06</td>\n      <td>2017-01-01 12:00</td>\n      <td>2017-01-03 00:00</td>\n      <td>WAM</td>\n      <td>...</td>\n      <td>NaN</td>\n      <td>NaN</td>\n      <td>NaN</td>\n      <td>NaN</td>\n      <td>NaN</td>\n      <td>NaN</td>\n      <td>NaN</td>\n      <td>NaN</td>\n      <td>NaN</td>\n      <td>NaN</td>\n    </tr>\n    <tr>\n      <th>3</th>\n      <td>DSPR5</td>\n      <td>2016</td>\n      <td>17</td>\n      <td>001</td>\n      <td>BSK2514</td>\n      <td>WAE</td>\n      <td>01</td>\n      <td>2016-12-29 03:40</td>\n      <td>2016-12-29 12:40</td>\n      <td>WAE</td>\n      <td>...</td>\n      <td>NaN</td>\n      <td>NaN</td>\n      <td>NaN</td>\n      <td>NaN</td>\n      <td>NaN</td>\n      <td>NaN</td>\n      <td>NaN</td>\n      <td>NaN</td>\n      <td>NaN</td>\n      <td>NaN</td>\n    </tr>\n    <tr>\n      <th>4</th>\n      <td>DSPR5</td>\n      <td>2016</td>\n      <td>18</td>\n      <td>001</td>\n      <td>BSK2514</td>\n      <td>WAE</td>\n      <td>01</td>\n      <td>2016-12-30 11:35</td>\n      <td>2016-12-31 10:10</td>\n      <td>WAE</td>\n      <td>...</td>\n      <td>NaN</td>\n      <td>NaN</td>\n      <td>NaN</td>\n      <td>NaN</td>\n      <td>NaN</td>\n      <td>NaN</td>\n      <td>NaN</td>\n      <td>NaN</td>\n      <td>NaN</td>\n      <td>NaN</td>\n    </tr>\n    <tr>\n      <th>...</th>\n      <td>...</td>\n      <td>...</td>\n      <td>...</td>\n      <td>...</td>\n      <td>...</td>\n      <td>...</td>\n      <td>...</td>\n      <td>...</td>\n      <td>...</td>\n      <td>...</td>\n      <td>...</td>\n      <td>...</td>\n      <td>...</td>\n      <td>...</td>\n      <td>...</td>\n      <td>...</td>\n      <td>...</td>\n      <td>...</td>\n      <td>...</td>\n      <td>...</td>\n      <td>...</td>\n    </tr>\n    <tr>\n      <th>36342</th>\n      <td>DSDD6</td>\n      <td>2021</td>\n      <td>9</td>\n      <td>002</td>\n      <td>BSK2457</td>\n      <td>WAM</td>\n      <td>03</td>\n      <td>2021-06-26 06:20</td>\n      <td>2021-06-27 10:00</td>\n      <td>WAM</td>\n      <td>...</td>\n      <td>12</td>\n      <td>NIIGATA</td>\n      <td>NIIGATA</td>\n      <td>케미칼 운반선</td>\n      <td>9</td>\n      <td>4</td>\n      <td>0</td>\n      <td>Y</td>\n      <td>N</td>\n      <td>1.0</td>\n    </tr>\n    <tr>\n      <th>36343</th>\n      <td>150040</td>\n      <td>2021</td>\n      <td>37</td>\n      <td>001</td>\n      <td>YSK0017</td>\n      <td>WAM</td>\n      <td>03</td>\n      <td>2021-06-28 03:20</td>\n      <td>2021-06-28 08:27</td>\n      <td>WAM</td>\n      <td>...</td>\n      <td>01</td>\n      <td>부산</td>\n      <td>대산</td>\n      <td>석유제품 운반선</td>\n      <td>5</td>\n      <td>5</td>\n      <td>0</td>\n      <td>Y</td>\n      <td>Y</td>\n      <td>1.0</td>\n    </tr>\n    <tr>\n      <th>36344</th>\n      <td>BUSA6</td>\n      <td>2021</td>\n      <td>4</td>\n      <td>001</td>\n      <td>USC1002</td>\n      <td>WAE</td>\n      <td>01</td>\n      <td>2021-06-27 08:30</td>\n      <td>2021-06-27 20:45</td>\n      <td>WAE</td>\n      <td>...</td>\n      <td>01</td>\n      <td>OCEAN DISTRICT</td>\n      <td>NINGBO</td>\n      <td>석유제품 운반선</td>\n      <td>0</td>\n      <td>18</td>\n      <td>0</td>\n      <td>Y</td>\n      <td>Y</td>\n      <td>1.0</td>\n    </tr>\n    <tr>\n      <th>36345</th>\n      <td>HOJK</td>\n      <td>2021</td>\n      <td>22</td>\n      <td>003</td>\n      <td>USC2011</td>\n      <td>WAE</td>\n      <td>01</td>\n      <td>2021-06-29 13:20</td>\n      <td>2021-06-29 21:05</td>\n      <td>WAE</td>\n      <td>...</td>\n      <td>01</td>\n      <td>MITAJIRI</td>\n      <td>NAGOYA, AICHI</td>\n      <td>케미칼 운반선</td>\n      <td>2</td>\n      <td>12</td>\n      <td>0</td>\n      <td>Y</td>\n      <td>Y</td>\n      <td>1.0</td>\n    </tr>\n    <tr>\n      <th>36346</th>\n      <td>D7RI</td>\n      <td>2021</td>\n      <td>3</td>\n      <td>001</td>\n      <td>YSZ2381</td>\n      <td>WAB</td>\n      <td>02</td>\n      <td>2021-06-27 14:35</td>\n      <td>2021-06-27 21:05</td>\n      <td>WAB</td>\n      <td>...</td>\n      <td>02</td>\n      <td>OCEAN DISTRICT</td>\n      <td>NINGBO</td>\n      <td>케미칼 운반선</td>\n      <td>3</td>\n      <td>18</td>\n      <td>0</td>\n      <td>Y</td>\n      <td>Y</td>\n      <td>1.0</td>\n    </tr>\n  </tbody>\n</table>\n<p>36347 rows × 36 columns</p>\n</div>"
     },
     "metadata": {},
     "execution_count": 57
    }
   ],
   "source": [
    "cols = ['호출부호_y', '입항횟수1_y', '입항횟수2_y', '신고톤수', '선사/대리점2', '계선장소3']\n",
    "data.drop(labels=cols, axis = \"columns\", inplace = True)\n",
    "data"
   ]
  },
  {
   "cell_type": "code",
   "execution_count": 58,
   "metadata": {},
   "outputs": [],
   "source": [
    "data.rename(columns = {'호출부호_x': '호출부호'}, inplace = True)\n",
    "data.rename(columns = {'입항횟수1_x': '입항횟수1'}, inplace = True)\n",
    "data.rename(columns = {'입항횟수2_x': '입항횟수2'}, inplace = True)"
   ]
  },
  {
   "cell_type": "code",
   "execution_count": 59,
   "metadata": {},
   "outputs": [
    {
     "output_type": "stream",
     "name": "stdout",
     "text": [
      "<class 'pandas.core.frame.DataFrame'>\nInt64Index: 36347 entries, 0 to 36346\nData columns (total 36 columns):\n #   Column            Non-Null Count  Dtype  \n---  ------            --------------  -----  \n 0   호출부호              36347 non-null  object \n 1   입항횟수1             36347 non-null  int64  \n 2   입항횟수2             36347 non-null  int64  \n 3   입항횟수3             36347 non-null  object \n 4   선사/대리점1           36347 non-null  object \n 5   신청시설1             36347 non-null  object \n 6   신청시설2             36347 non-null  object \n 7   신청일시1(FROM ~ TO)  36347 non-null  object \n 8   신청일시2(FROM ~ TO)  36347 non-null  object \n 9   지정시설1             36347 non-null  object \n 10  지정시설2             36347 non-null  object \n 11  지정일시1(FROM ~ TO)  36347 non-null  object \n 12  지정일시2(FROM ~ TO)  36347 non-null  object \n 13  사용목적명             36347 non-null  object \n 14  허가유무              36347 non-null  object \n 15  id                36347 non-null  object \n 16  선명                30678 non-null  object \n 17  구분                30678 non-null  object \n 18  외내                30678 non-null  object \n 19  입출                30678 non-null  object \n 20  총톤수               30678 non-null  object \n 21  입항일시              30678 non-null  object \n 22  출항일시              30678 non-null  object \n 23  항해구분              30678 non-null  float64\n 24  국적1               30678 non-null  object \n 25  계선장소1             30678 non-null  object \n 26  계선장소2             30678 non-null  object \n 27  차항지               30676 non-null  object \n 28  전출항지              30675 non-null  object \n 29  선박용도              30678 non-null  object \n 30  승무원(한국인)          30678 non-null  object \n 31  승무원(외국인)          30678 non-null  object \n 32  승객                30678 non-null  object \n 33  예선                30249 non-null  object \n 34  도선                30676 non-null  object \n 35  수리여부              30678 non-null  float64\ndtypes: float64(2), int64(2), object(32)\nmemory usage: 10.3+ MB\n"
     ]
    }
   ],
   "source": [
    "data.info()"
   ]
  },
  {
   "cell_type": "code",
   "execution_count": 60,
   "metadata": {},
   "outputs": [
    {
     "output_type": "stream",
     "name": "stderr",
     "text": [
      "/home/ubuntu/.local/lib/python3.8/site-packages/pandas/core/indexing.py:1732: SettingWithCopyWarning: \n",
      "A value is trying to be set on a copy of a slice from a DataFrame\n",
      "\n",
      "See the caveats in the documentation: https://pandas.pydata.org/pandas-docs/stable/user_guide/indexing.html#returning-a-view-versus-a-copy\n",
      "  self._setitem_single_block(indexer, value, name)\n",
      "총톤수값이 null인 선박수: 5669\n"
     ]
    }
   ],
   "source": [
    "#SADS_data['계선장소'] = SADS_data['계선장소'].str.replace(\",\", \"\")\n",
    "data['계선장소2'] = pd.to_numeric(data['계선장소2'])\n",
    "data['입항횟수1'] = pd.to_numeric(data['입항횟수1'])\n",
    "data['입항횟수2'] = pd.to_numeric(data['입항횟수2'])\n",
    "data['항해구분'] = pd.to_numeric(data['항해구분'])\n",
    "data['승무원(한국인)'] = pd.to_numeric(data['승무원(한국인)'])\n",
    "data['승무원(외국인)'] = pd.to_numeric(data['승무원(외국인)'])\n",
    "data['승객'] = pd.to_numeric(data['승객'])\n",
    "\n",
    "#총톤수가 null인 선박 63개중 한개빼고 국제톤수와 징수톤수도 null이었음 -> 총톤수가 null인 호출부호를 보고 총톤수를 찾아서 평균값을 넣어준다.\n",
    "flg_is_null = data['계선장소2'].isnull()\n",
    "\n",
    "for trg in list(data.loc[flg_is_null, 'id'].unique()):\n",
    "    weight = data.loc[(~flg_is_null) & (data['id'] == trg), '계선장소2'].mean()\n",
    "    data['계선장소2'].loc[(flg_is_null) & (data['id'] == trg)] = weight\n",
    "\n",
    "print('총톤수값이 null인 선박수:', data['계선장소2'].isnull().sum())"
   ]
  },
  {
   "cell_type": "code",
   "execution_count": 61,
   "metadata": {},
   "outputs": [
    {
     "output_type": "execute_result",
     "data": {
      "text/plain": [
       "array(['2016_019_D7BN', '2017_001_DSRN9', '2016_017_DSPR5', ...,\n",
       "       '2021_001_V7OT6', '2021_003_V7OH5', '2021_001_V7A4362'],\n",
       "      dtype=object)"
      ]
     },
     "metadata": {},
     "execution_count": 61
    }
   ],
   "source": [
    "data.loc[flg_is_null, 'id'].unique()"
   ]
  },
  {
   "cell_type": "code",
   "execution_count": 62,
   "metadata": {},
   "outputs": [
    {
     "output_type": "execute_result",
     "data": {
      "text/plain": [
       "         호출부호  입항횟수1  입항횟수2 입항횟수3  선사/대리점1 신청시설1 신청시설2  신청일시1(FROM ~ TO)  \\\n",
       "2       DSRN9   2017      1   001  BSK2678   WAM    06  2017-01-01 12:00   \n",
       "10       D7NP   2017      1   001  BSK2514   WAM    01  2017-01-01 21:15   \n",
       "25      DSRL9   2017      1   001  BSK2514   WAE    01  2017-01-01 20:40   \n",
       "32     130004   2017      1   001  BSK2548   WAM    04  2017-01-01 06:40   \n",
       "39     010511   2017      1   002  BSZ7247   WAW    01  2017-01-01 16:10   \n",
       "...       ...    ...    ...   ...      ...   ...   ...               ...   \n",
       "36342   DSDD6   2021      9   002  BSK2457   WAM    03  2021-06-26 06:20   \n",
       "36343  150040   2021     37   001  YSK0017   WAM    03  2021-06-28 03:20   \n",
       "36344   BUSA6   2021      4   001  USC1002   WAE    01  2021-06-27 08:30   \n",
       "36345    HOJK   2021     22   003  USC2011   WAE    01  2021-06-29 13:20   \n",
       "36346    D7RI   2021      3   001  YSZ2381   WAB    02  2021-06-27 14:35   \n",
       "\n",
       "       신청일시2(FROM ~ TO) 지정시설1  ... 계선장소2             차항지           전출항지  \\\n",
       "2      2017-01-03 00:00   WAM  ...   NaN             NaN            NaN   \n",
       "10     2017-01-01 22:45   WAM  ...   1.0           CHIBA       ICHIHARA   \n",
       "25     2017-01-02 01:05   WAE  ...   1.0       YOKKAICHI             군산   \n",
       "32     2017-01-01 07:40   WAM  ...   4.0              여수             여수   \n",
       "39     2017-01-01 17:45   WAW  ...   1.0              부산             부산   \n",
       "...                 ...   ...  ...   ...             ...            ...   \n",
       "36342  2021-06-27 10:00   WAM  ...  12.0         NIIGATA        NIIGATA   \n",
       "36343  2021-06-28 08:27   WAM  ...   1.0              부산             대산   \n",
       "36344  2021-06-27 20:45   WAE  ...   1.0  OCEAN DISTRICT         NINGBO   \n",
       "36345  2021-06-29 21:05   WAE  ...   1.0        MITAJIRI  NAGOYA, AICHI   \n",
       "36346  2021-06-27 21:05   WAB  ...   2.0  OCEAN DISTRICT         NINGBO   \n",
       "\n",
       "           선박용도 승무원(한국인) 승무원(외국인)   승객   예선   도선 수리여부  \n",
       "2           NaN      NaN      NaN  NaN  NaN  NaN  NaN  \n",
       "10      케미칼 운반선      4.0      7.0  0.0    N    N  1.0  \n",
       "25      케미칼 운반선      9.0      4.0  0.0    N    N  1.0  \n",
       "32     석유제품 운반선      5.0      6.0  0.0    N    N  1.0  \n",
       "39     석유제품 운반선      4.0      4.0  0.0    N    N  1.0  \n",
       "...         ...      ...      ...  ...  ...  ...  ...  \n",
       "36342   케미칼 운반선      9.0      4.0  0.0    Y    N  1.0  \n",
       "36343  석유제품 운반선      5.0      5.0  0.0    Y    Y  1.0  \n",
       "36344  석유제품 운반선      0.0     18.0  0.0    Y    Y  1.0  \n",
       "36345   케미칼 운반선      2.0     12.0  0.0    Y    Y  1.0  \n",
       "36346   케미칼 운반선      3.0     18.0  0.0    Y    Y  1.0  \n",
       "\n",
       "[36243 rows x 36 columns]"
      ],
      "text/html": "<div>\n<style scoped>\n    .dataframe tbody tr th:only-of-type {\n        vertical-align: middle;\n    }\n\n    .dataframe tbody tr th {\n        vertical-align: top;\n    }\n\n    .dataframe thead th {\n        text-align: right;\n    }\n</style>\n<table border=\"1\" class=\"dataframe\">\n  <thead>\n    <tr style=\"text-align: right;\">\n      <th></th>\n      <th>호출부호</th>\n      <th>입항횟수1</th>\n      <th>입항횟수2</th>\n      <th>입항횟수3</th>\n      <th>선사/대리점1</th>\n      <th>신청시설1</th>\n      <th>신청시설2</th>\n      <th>신청일시1(FROM ~ TO)</th>\n      <th>신청일시2(FROM ~ TO)</th>\n      <th>지정시설1</th>\n      <th>...</th>\n      <th>계선장소2</th>\n      <th>차항지</th>\n      <th>전출항지</th>\n      <th>선박용도</th>\n      <th>승무원(한국인)</th>\n      <th>승무원(외국인)</th>\n      <th>승객</th>\n      <th>예선</th>\n      <th>도선</th>\n      <th>수리여부</th>\n    </tr>\n  </thead>\n  <tbody>\n    <tr>\n      <th>2</th>\n      <td>DSRN9</td>\n      <td>2017</td>\n      <td>1</td>\n      <td>001</td>\n      <td>BSK2678</td>\n      <td>WAM</td>\n      <td>06</td>\n      <td>2017-01-01 12:00</td>\n      <td>2017-01-03 00:00</td>\n      <td>WAM</td>\n      <td>...</td>\n      <td>NaN</td>\n      <td>NaN</td>\n      <td>NaN</td>\n      <td>NaN</td>\n      <td>NaN</td>\n      <td>NaN</td>\n      <td>NaN</td>\n      <td>NaN</td>\n      <td>NaN</td>\n      <td>NaN</td>\n    </tr>\n    <tr>\n      <th>10</th>\n      <td>D7NP</td>\n      <td>2017</td>\n      <td>1</td>\n      <td>001</td>\n      <td>BSK2514</td>\n      <td>WAM</td>\n      <td>01</td>\n      <td>2017-01-01 21:15</td>\n      <td>2017-01-01 22:45</td>\n      <td>WAM</td>\n      <td>...</td>\n      <td>1.0</td>\n      <td>CHIBA</td>\n      <td>ICHIHARA</td>\n      <td>케미칼 운반선</td>\n      <td>4.0</td>\n      <td>7.0</td>\n      <td>0.0</td>\n      <td>N</td>\n      <td>N</td>\n      <td>1.0</td>\n    </tr>\n    <tr>\n      <th>25</th>\n      <td>DSRL9</td>\n      <td>2017</td>\n      <td>1</td>\n      <td>001</td>\n      <td>BSK2514</td>\n      <td>WAE</td>\n      <td>01</td>\n      <td>2017-01-01 20:40</td>\n      <td>2017-01-02 01:05</td>\n      <td>WAE</td>\n      <td>...</td>\n      <td>1.0</td>\n      <td>YOKKAICHI</td>\n      <td>군산</td>\n      <td>케미칼 운반선</td>\n      <td>9.0</td>\n      <td>4.0</td>\n      <td>0.0</td>\n      <td>N</td>\n      <td>N</td>\n      <td>1.0</td>\n    </tr>\n    <tr>\n      <th>32</th>\n      <td>130004</td>\n      <td>2017</td>\n      <td>1</td>\n      <td>001</td>\n      <td>BSK2548</td>\n      <td>WAM</td>\n      <td>04</td>\n      <td>2017-01-01 06:40</td>\n      <td>2017-01-01 07:40</td>\n      <td>WAM</td>\n      <td>...</td>\n      <td>4.0</td>\n      <td>여수</td>\n      <td>여수</td>\n      <td>석유제품 운반선</td>\n      <td>5.0</td>\n      <td>6.0</td>\n      <td>0.0</td>\n      <td>N</td>\n      <td>N</td>\n      <td>1.0</td>\n    </tr>\n    <tr>\n      <th>39</th>\n      <td>010511</td>\n      <td>2017</td>\n      <td>1</td>\n      <td>002</td>\n      <td>BSZ7247</td>\n      <td>WAW</td>\n      <td>01</td>\n      <td>2017-01-01 16:10</td>\n      <td>2017-01-01 17:45</td>\n      <td>WAW</td>\n      <td>...</td>\n      <td>1.0</td>\n      <td>부산</td>\n      <td>부산</td>\n      <td>석유제품 운반선</td>\n      <td>4.0</td>\n      <td>4.0</td>\n      <td>0.0</td>\n      <td>N</td>\n      <td>N</td>\n      <td>1.0</td>\n    </tr>\n    <tr>\n      <th>...</th>\n      <td>...</td>\n      <td>...</td>\n      <td>...</td>\n      <td>...</td>\n      <td>...</td>\n      <td>...</td>\n      <td>...</td>\n      <td>...</td>\n      <td>...</td>\n      <td>...</td>\n      <td>...</td>\n      <td>...</td>\n      <td>...</td>\n      <td>...</td>\n      <td>...</td>\n      <td>...</td>\n      <td>...</td>\n      <td>...</td>\n      <td>...</td>\n      <td>...</td>\n      <td>...</td>\n    </tr>\n    <tr>\n      <th>36342</th>\n      <td>DSDD6</td>\n      <td>2021</td>\n      <td>9</td>\n      <td>002</td>\n      <td>BSK2457</td>\n      <td>WAM</td>\n      <td>03</td>\n      <td>2021-06-26 06:20</td>\n      <td>2021-06-27 10:00</td>\n      <td>WAM</td>\n      <td>...</td>\n      <td>12.0</td>\n      <td>NIIGATA</td>\n      <td>NIIGATA</td>\n      <td>케미칼 운반선</td>\n      <td>9.0</td>\n      <td>4.0</td>\n      <td>0.0</td>\n      <td>Y</td>\n      <td>N</td>\n      <td>1.0</td>\n    </tr>\n    <tr>\n      <th>36343</th>\n      <td>150040</td>\n      <td>2021</td>\n      <td>37</td>\n      <td>001</td>\n      <td>YSK0017</td>\n      <td>WAM</td>\n      <td>03</td>\n      <td>2021-06-28 03:20</td>\n      <td>2021-06-28 08:27</td>\n      <td>WAM</td>\n      <td>...</td>\n      <td>1.0</td>\n      <td>부산</td>\n      <td>대산</td>\n      <td>석유제품 운반선</td>\n      <td>5.0</td>\n      <td>5.0</td>\n      <td>0.0</td>\n      <td>Y</td>\n      <td>Y</td>\n      <td>1.0</td>\n    </tr>\n    <tr>\n      <th>36344</th>\n      <td>BUSA6</td>\n      <td>2021</td>\n      <td>4</td>\n      <td>001</td>\n      <td>USC1002</td>\n      <td>WAE</td>\n      <td>01</td>\n      <td>2021-06-27 08:30</td>\n      <td>2021-06-27 20:45</td>\n      <td>WAE</td>\n      <td>...</td>\n      <td>1.0</td>\n      <td>OCEAN DISTRICT</td>\n      <td>NINGBO</td>\n      <td>석유제품 운반선</td>\n      <td>0.0</td>\n      <td>18.0</td>\n      <td>0.0</td>\n      <td>Y</td>\n      <td>Y</td>\n      <td>1.0</td>\n    </tr>\n    <tr>\n      <th>36345</th>\n      <td>HOJK</td>\n      <td>2021</td>\n      <td>22</td>\n      <td>003</td>\n      <td>USC2011</td>\n      <td>WAE</td>\n      <td>01</td>\n      <td>2021-06-29 13:20</td>\n      <td>2021-06-29 21:05</td>\n      <td>WAE</td>\n      <td>...</td>\n      <td>1.0</td>\n      <td>MITAJIRI</td>\n      <td>NAGOYA, AICHI</td>\n      <td>케미칼 운반선</td>\n      <td>2.0</td>\n      <td>12.0</td>\n      <td>0.0</td>\n      <td>Y</td>\n      <td>Y</td>\n      <td>1.0</td>\n    </tr>\n    <tr>\n      <th>36346</th>\n      <td>D7RI</td>\n      <td>2021</td>\n      <td>3</td>\n      <td>001</td>\n      <td>YSZ2381</td>\n      <td>WAB</td>\n      <td>02</td>\n      <td>2021-06-27 14:35</td>\n      <td>2021-06-27 21:05</td>\n      <td>WAB</td>\n      <td>...</td>\n      <td>2.0</td>\n      <td>OCEAN DISTRICT</td>\n      <td>NINGBO</td>\n      <td>케미칼 운반선</td>\n      <td>3.0</td>\n      <td>18.0</td>\n      <td>0.0</td>\n      <td>Y</td>\n      <td>Y</td>\n      <td>1.0</td>\n    </tr>\n  </tbody>\n</table>\n<p>36243 rows × 36 columns</p>\n</div>"
     },
     "metadata": {},
     "execution_count": 62
    }
   ],
   "source": [
    "data = data[data['입항횟수1'] != 2016]\n",
    "data"
   ]
  },
  {
   "cell_type": "code",
   "execution_count": 70,
   "metadata": {},
   "outputs": [
    {
     "output_type": "execute_result",
     "data": {
      "text/plain": [
       "       level_0  index    호출부호  입항횟수1  입항횟수2 입항횟수3  선사/대리점1 신청시설1 신청시설2  \\\n",
       "0            0      2   DSRN9   2017      1   001  BSK2678   WAM    06   \n",
       "1            1     10    D7NP   2017      1   001  BSK2514   WAM    01   \n",
       "2            2     25   DSRL9   2017      1   001  BSK2514   WAE    01   \n",
       "3            3     32  130004   2017      1   001  BSK2548   WAM    04   \n",
       "4            4     39  010511   2017      1   002  BSZ7247   WAW    01   \n",
       "...        ...    ...     ...    ...    ...   ...      ...   ...   ...   \n",
       "36238    36238  36342   DSDD6   2021      9   002  BSK2457   WAM    03   \n",
       "36239    36239  36343  150040   2021     37   001  YSK0017   WAM    03   \n",
       "36240    36240  36344   BUSA6   2021      4   001  USC1002   WAE    01   \n",
       "36241    36241  36345    HOJK   2021     22   003  USC2011   WAE    01   \n",
       "36242    36242  36346    D7RI   2021      3   001  YSZ2381   WAB    02   \n",
       "\n",
       "       신청일시1(FROM ~ TO)  ... 계선장소2             차항지           전출항지      선박용도  \\\n",
       "0      2017-01-01 12:00  ...   NaN             NaN            NaN       NaN   \n",
       "1      2017-01-01 21:15  ...   1.0           CHIBA       ICHIHARA   케미칼 운반선   \n",
       "2      2017-01-01 20:40  ...   1.0       YOKKAICHI             군산   케미칼 운반선   \n",
       "3      2017-01-01 06:40  ...   4.0              여수             여수  석유제품 운반선   \n",
       "4      2017-01-01 16:10  ...   1.0              부산             부산  석유제품 운반선   \n",
       "...                 ...  ...   ...             ...            ...       ...   \n",
       "36238  2021-06-26 06:20  ...  12.0         NIIGATA        NIIGATA   케미칼 운반선   \n",
       "36239  2021-06-28 03:20  ...   1.0              부산             대산  석유제품 운반선   \n",
       "36240  2021-06-27 08:30  ...   1.0  OCEAN DISTRICT         NINGBO  석유제품 운반선   \n",
       "36241  2021-06-29 13:20  ...   1.0        MITAJIRI  NAGOYA, AICHI   케미칼 운반선   \n",
       "36242  2021-06-27 14:35  ...   2.0  OCEAN DISTRICT         NINGBO   케미칼 운반선   \n",
       "\n",
       "      승무원(한국인) 승무원(외국인)   승객   예선   도선 수리여부  \n",
       "0          NaN      NaN  NaN  NaN  NaN  NaN  \n",
       "1          4.0      7.0  0.0    N    N  1.0  \n",
       "2          9.0      4.0  0.0    N    N  1.0  \n",
       "3          5.0      6.0  0.0    N    N  1.0  \n",
       "4          4.0      4.0  0.0    N    N  1.0  \n",
       "...        ...      ...  ...  ...  ...  ...  \n",
       "36238      9.0      4.0  0.0    Y    N  1.0  \n",
       "36239      5.0      5.0  0.0    Y    Y  1.0  \n",
       "36240      0.0     18.0  0.0    Y    Y  1.0  \n",
       "36241      2.0     12.0  0.0    Y    Y  1.0  \n",
       "36242      3.0     18.0  0.0    Y    Y  1.0  \n",
       "\n",
       "[36243 rows x 38 columns]"
      ],
      "text/html": "<div>\n<style scoped>\n    .dataframe tbody tr th:only-of-type {\n        vertical-align: middle;\n    }\n\n    .dataframe tbody tr th {\n        vertical-align: top;\n    }\n\n    .dataframe thead th {\n        text-align: right;\n    }\n</style>\n<table border=\"1\" class=\"dataframe\">\n  <thead>\n    <tr style=\"text-align: right;\">\n      <th></th>\n      <th>level_0</th>\n      <th>index</th>\n      <th>호출부호</th>\n      <th>입항횟수1</th>\n      <th>입항횟수2</th>\n      <th>입항횟수3</th>\n      <th>선사/대리점1</th>\n      <th>신청시설1</th>\n      <th>신청시설2</th>\n      <th>신청일시1(FROM ~ TO)</th>\n      <th>...</th>\n      <th>계선장소2</th>\n      <th>차항지</th>\n      <th>전출항지</th>\n      <th>선박용도</th>\n      <th>승무원(한국인)</th>\n      <th>승무원(외국인)</th>\n      <th>승객</th>\n      <th>예선</th>\n      <th>도선</th>\n      <th>수리여부</th>\n    </tr>\n  </thead>\n  <tbody>\n    <tr>\n      <th>0</th>\n      <td>0</td>\n      <td>2</td>\n      <td>DSRN9</td>\n      <td>2017</td>\n      <td>1</td>\n      <td>001</td>\n      <td>BSK2678</td>\n      <td>WAM</td>\n      <td>06</td>\n      <td>2017-01-01 12:00</td>\n      <td>...</td>\n      <td>NaN</td>\n      <td>NaN</td>\n      <td>NaN</td>\n      <td>NaN</td>\n      <td>NaN</td>\n      <td>NaN</td>\n      <td>NaN</td>\n      <td>NaN</td>\n      <td>NaN</td>\n      <td>NaN</td>\n    </tr>\n    <tr>\n      <th>1</th>\n      <td>1</td>\n      <td>10</td>\n      <td>D7NP</td>\n      <td>2017</td>\n      <td>1</td>\n      <td>001</td>\n      <td>BSK2514</td>\n      <td>WAM</td>\n      <td>01</td>\n      <td>2017-01-01 21:15</td>\n      <td>...</td>\n      <td>1.0</td>\n      <td>CHIBA</td>\n      <td>ICHIHARA</td>\n      <td>케미칼 운반선</td>\n      <td>4.0</td>\n      <td>7.0</td>\n      <td>0.0</td>\n      <td>N</td>\n      <td>N</td>\n      <td>1.0</td>\n    </tr>\n    <tr>\n      <th>2</th>\n      <td>2</td>\n      <td>25</td>\n      <td>DSRL9</td>\n      <td>2017</td>\n      <td>1</td>\n      <td>001</td>\n      <td>BSK2514</td>\n      <td>WAE</td>\n      <td>01</td>\n      <td>2017-01-01 20:40</td>\n      <td>...</td>\n      <td>1.0</td>\n      <td>YOKKAICHI</td>\n      <td>군산</td>\n      <td>케미칼 운반선</td>\n      <td>9.0</td>\n      <td>4.0</td>\n      <td>0.0</td>\n      <td>N</td>\n      <td>N</td>\n      <td>1.0</td>\n    </tr>\n    <tr>\n      <th>3</th>\n      <td>3</td>\n      <td>32</td>\n      <td>130004</td>\n      <td>2017</td>\n      <td>1</td>\n      <td>001</td>\n      <td>BSK2548</td>\n      <td>WAM</td>\n      <td>04</td>\n      <td>2017-01-01 06:40</td>\n      <td>...</td>\n      <td>4.0</td>\n      <td>여수</td>\n      <td>여수</td>\n      <td>석유제품 운반선</td>\n      <td>5.0</td>\n      <td>6.0</td>\n      <td>0.0</td>\n      <td>N</td>\n      <td>N</td>\n      <td>1.0</td>\n    </tr>\n    <tr>\n      <th>4</th>\n      <td>4</td>\n      <td>39</td>\n      <td>010511</td>\n      <td>2017</td>\n      <td>1</td>\n      <td>002</td>\n      <td>BSZ7247</td>\n      <td>WAW</td>\n      <td>01</td>\n      <td>2017-01-01 16:10</td>\n      <td>...</td>\n      <td>1.0</td>\n      <td>부산</td>\n      <td>부산</td>\n      <td>석유제품 운반선</td>\n      <td>4.0</td>\n      <td>4.0</td>\n      <td>0.0</td>\n      <td>N</td>\n      <td>N</td>\n      <td>1.0</td>\n    </tr>\n    <tr>\n      <th>...</th>\n      <td>...</td>\n      <td>...</td>\n      <td>...</td>\n      <td>...</td>\n      <td>...</td>\n      <td>...</td>\n      <td>...</td>\n      <td>...</td>\n      <td>...</td>\n      <td>...</td>\n      <td>...</td>\n      <td>...</td>\n      <td>...</td>\n      <td>...</td>\n      <td>...</td>\n      <td>...</td>\n      <td>...</td>\n      <td>...</td>\n      <td>...</td>\n      <td>...</td>\n      <td>...</td>\n    </tr>\n    <tr>\n      <th>36238</th>\n      <td>36238</td>\n      <td>36342</td>\n      <td>DSDD6</td>\n      <td>2021</td>\n      <td>9</td>\n      <td>002</td>\n      <td>BSK2457</td>\n      <td>WAM</td>\n      <td>03</td>\n      <td>2021-06-26 06:20</td>\n      <td>...</td>\n      <td>12.0</td>\n      <td>NIIGATA</td>\n      <td>NIIGATA</td>\n      <td>케미칼 운반선</td>\n      <td>9.0</td>\n      <td>4.0</td>\n      <td>0.0</td>\n      <td>Y</td>\n      <td>N</td>\n      <td>1.0</td>\n    </tr>\n    <tr>\n      <th>36239</th>\n      <td>36239</td>\n      <td>36343</td>\n      <td>150040</td>\n      <td>2021</td>\n      <td>37</td>\n      <td>001</td>\n      <td>YSK0017</td>\n      <td>WAM</td>\n      <td>03</td>\n      <td>2021-06-28 03:20</td>\n      <td>...</td>\n      <td>1.0</td>\n      <td>부산</td>\n      <td>대산</td>\n      <td>석유제품 운반선</td>\n      <td>5.0</td>\n      <td>5.0</td>\n      <td>0.0</td>\n      <td>Y</td>\n      <td>Y</td>\n      <td>1.0</td>\n    </tr>\n    <tr>\n      <th>36240</th>\n      <td>36240</td>\n      <td>36344</td>\n      <td>BUSA6</td>\n      <td>2021</td>\n      <td>4</td>\n      <td>001</td>\n      <td>USC1002</td>\n      <td>WAE</td>\n      <td>01</td>\n      <td>2021-06-27 08:30</td>\n      <td>...</td>\n      <td>1.0</td>\n      <td>OCEAN DISTRICT</td>\n      <td>NINGBO</td>\n      <td>석유제품 운반선</td>\n      <td>0.0</td>\n      <td>18.0</td>\n      <td>0.0</td>\n      <td>Y</td>\n      <td>Y</td>\n      <td>1.0</td>\n    </tr>\n    <tr>\n      <th>36241</th>\n      <td>36241</td>\n      <td>36345</td>\n      <td>HOJK</td>\n      <td>2021</td>\n      <td>22</td>\n      <td>003</td>\n      <td>USC2011</td>\n      <td>WAE</td>\n      <td>01</td>\n      <td>2021-06-29 13:20</td>\n      <td>...</td>\n      <td>1.0</td>\n      <td>MITAJIRI</td>\n      <td>NAGOYA, AICHI</td>\n      <td>케미칼 운반선</td>\n      <td>2.0</td>\n      <td>12.0</td>\n      <td>0.0</td>\n      <td>Y</td>\n      <td>Y</td>\n      <td>1.0</td>\n    </tr>\n    <tr>\n      <th>36242</th>\n      <td>36242</td>\n      <td>36346</td>\n      <td>D7RI</td>\n      <td>2021</td>\n      <td>3</td>\n      <td>001</td>\n      <td>YSZ2381</td>\n      <td>WAB</td>\n      <td>02</td>\n      <td>2021-06-27 14:35</td>\n      <td>...</td>\n      <td>2.0</td>\n      <td>OCEAN DISTRICT</td>\n      <td>NINGBO</td>\n      <td>케미칼 운반선</td>\n      <td>3.0</td>\n      <td>18.0</td>\n      <td>0.0</td>\n      <td>Y</td>\n      <td>Y</td>\n      <td>1.0</td>\n    </tr>\n  </tbody>\n</table>\n<p>36243 rows × 38 columns</p>\n</div>"
     },
     "metadata": {},
     "execution_count": 70
    }
   ],
   "source": [
    "data = data.reset_index()\n",
    "data"
   ]
  },
  {
   "cell_type": "code",
   "execution_count": 65,
   "metadata": {},
   "outputs": [
    {
     "output_type": "execute_result",
     "data": {
      "text/plain": [
       "                     id   선명   구분   외내   입출  총톤수 입항일시 출항일시  항해구분  국적1 계선장소1  \\\n",
       "2        2017_001_DSRN9  NaN  NaN  NaN  NaN  NaN  NaN  NaN   NaN  NaN   NaN   \n",
       "57       2017_002_V7OH9  NaN  NaN  NaN  NaN  NaN  NaN  NaN   NaN  NaN   NaN   \n",
       "66       2017_001_DSOL5  NaN  NaN  NaN  NaN  NaN  NaN  NaN   NaN  NaN   NaN   \n",
       "74        2017_001_DSGV  NaN  NaN  NaN  NaN  NaN  NaN  NaN   NaN  NaN   NaN   \n",
       "83      2017_001_061079  NaN  NaN  NaN  NaN  NaN  NaN  NaN   NaN  NaN   NaN   \n",
       "...                 ...  ...  ...  ...  ...  ...  ...  ...   ...  ...   ...   \n",
       "35075  2021_001_V7A4361  NaN  NaN  NaN  NaN  NaN  NaN  NaN   NaN  NaN   NaN   \n",
       "35076  2021_001_V7A4361  NaN  NaN  NaN  NaN  NaN  NaN  NaN   NaN  NaN   NaN   \n",
       "35099    2021_001_V7OT6  NaN  NaN  NaN  NaN  NaN  NaN  NaN   NaN  NaN   NaN   \n",
       "35111    2021_003_V7OH5  NaN  NaN  NaN  NaN  NaN  NaN  NaN   NaN  NaN   NaN   \n",
       "35585  2021_001_V7A4362  NaN  NaN  NaN  NaN  NaN  NaN  NaN   NaN  NaN   NaN   \n",
       "\n",
       "       계선장소2  \n",
       "2        NaN  \n",
       "57       NaN  \n",
       "66       NaN  \n",
       "74       NaN  \n",
       "83       NaN  \n",
       "...      ...  \n",
       "35075    NaN  \n",
       "35076    NaN  \n",
       "35099    NaN  \n",
       "35111    NaN  \n",
       "35585    NaN  \n",
       "\n",
       "[5565 rows x 12 columns]"
      ],
      "text/html": "<div>\n<style scoped>\n    .dataframe tbody tr th:only-of-type {\n        vertical-align: middle;\n    }\n\n    .dataframe tbody tr th {\n        vertical-align: top;\n    }\n\n    .dataframe thead th {\n        text-align: right;\n    }\n</style>\n<table border=\"1\" class=\"dataframe\">\n  <thead>\n    <tr style=\"text-align: right;\">\n      <th></th>\n      <th>id</th>\n      <th>선명</th>\n      <th>구분</th>\n      <th>외내</th>\n      <th>입출</th>\n      <th>총톤수</th>\n      <th>입항일시</th>\n      <th>출항일시</th>\n      <th>항해구분</th>\n      <th>국적1</th>\n      <th>계선장소1</th>\n      <th>계선장소2</th>\n    </tr>\n  </thead>\n  <tbody>\n    <tr>\n      <th>2</th>\n      <td>2017_001_DSRN9</td>\n      <td>NaN</td>\n      <td>NaN</td>\n      <td>NaN</td>\n      <td>NaN</td>\n      <td>NaN</td>\n      <td>NaN</td>\n      <td>NaN</td>\n      <td>NaN</td>\n      <td>NaN</td>\n      <td>NaN</td>\n      <td>NaN</td>\n    </tr>\n    <tr>\n      <th>57</th>\n      <td>2017_002_V7OH9</td>\n      <td>NaN</td>\n      <td>NaN</td>\n      <td>NaN</td>\n      <td>NaN</td>\n      <td>NaN</td>\n      <td>NaN</td>\n      <td>NaN</td>\n      <td>NaN</td>\n      <td>NaN</td>\n      <td>NaN</td>\n      <td>NaN</td>\n    </tr>\n    <tr>\n      <th>66</th>\n      <td>2017_001_DSOL5</td>\n      <td>NaN</td>\n      <td>NaN</td>\n      <td>NaN</td>\n      <td>NaN</td>\n      <td>NaN</td>\n      <td>NaN</td>\n      <td>NaN</td>\n      <td>NaN</td>\n      <td>NaN</td>\n      <td>NaN</td>\n      <td>NaN</td>\n    </tr>\n    <tr>\n      <th>74</th>\n      <td>2017_001_DSGV</td>\n      <td>NaN</td>\n      <td>NaN</td>\n      <td>NaN</td>\n      <td>NaN</td>\n      <td>NaN</td>\n      <td>NaN</td>\n      <td>NaN</td>\n      <td>NaN</td>\n      <td>NaN</td>\n      <td>NaN</td>\n      <td>NaN</td>\n    </tr>\n    <tr>\n      <th>83</th>\n      <td>2017_001_061079</td>\n      <td>NaN</td>\n      <td>NaN</td>\n      <td>NaN</td>\n      <td>NaN</td>\n      <td>NaN</td>\n      <td>NaN</td>\n      <td>NaN</td>\n      <td>NaN</td>\n      <td>NaN</td>\n      <td>NaN</td>\n      <td>NaN</td>\n    </tr>\n    <tr>\n      <th>...</th>\n      <td>...</td>\n      <td>...</td>\n      <td>...</td>\n      <td>...</td>\n      <td>...</td>\n      <td>...</td>\n      <td>...</td>\n      <td>...</td>\n      <td>...</td>\n      <td>...</td>\n      <td>...</td>\n      <td>...</td>\n    </tr>\n    <tr>\n      <th>35075</th>\n      <td>2021_001_V7A4361</td>\n      <td>NaN</td>\n      <td>NaN</td>\n      <td>NaN</td>\n      <td>NaN</td>\n      <td>NaN</td>\n      <td>NaN</td>\n      <td>NaN</td>\n      <td>NaN</td>\n      <td>NaN</td>\n      <td>NaN</td>\n      <td>NaN</td>\n    </tr>\n    <tr>\n      <th>35076</th>\n      <td>2021_001_V7A4361</td>\n      <td>NaN</td>\n      <td>NaN</td>\n      <td>NaN</td>\n      <td>NaN</td>\n      <td>NaN</td>\n      <td>NaN</td>\n      <td>NaN</td>\n      <td>NaN</td>\n      <td>NaN</td>\n      <td>NaN</td>\n      <td>NaN</td>\n    </tr>\n    <tr>\n      <th>35099</th>\n      <td>2021_001_V7OT6</td>\n      <td>NaN</td>\n      <td>NaN</td>\n      <td>NaN</td>\n      <td>NaN</td>\n      <td>NaN</td>\n      <td>NaN</td>\n      <td>NaN</td>\n      <td>NaN</td>\n      <td>NaN</td>\n      <td>NaN</td>\n      <td>NaN</td>\n    </tr>\n    <tr>\n      <th>35111</th>\n      <td>2021_003_V7OH5</td>\n      <td>NaN</td>\n      <td>NaN</td>\n      <td>NaN</td>\n      <td>NaN</td>\n      <td>NaN</td>\n      <td>NaN</td>\n      <td>NaN</td>\n      <td>NaN</td>\n      <td>NaN</td>\n      <td>NaN</td>\n      <td>NaN</td>\n    </tr>\n    <tr>\n      <th>35585</th>\n      <td>2021_001_V7A4362</td>\n      <td>NaN</td>\n      <td>NaN</td>\n      <td>NaN</td>\n      <td>NaN</td>\n      <td>NaN</td>\n      <td>NaN</td>\n      <td>NaN</td>\n      <td>NaN</td>\n      <td>NaN</td>\n      <td>NaN</td>\n      <td>NaN</td>\n    </tr>\n  </tbody>\n</table>\n<p>5565 rows × 12 columns</p>\n</div>"
     },
     "metadata": {},
     "execution_count": 65
    }
   ],
   "source": [
    "data.loc[data['계선장소2'].isnull(), 'id':'계선장소2']"
   ]
  },
  {
   "cell_type": "code",
   "execution_count": 66,
   "metadata": {},
   "outputs": [
    {
     "output_type": "execute_result",
     "data": {
      "text/plain": [
       "Empty DataFrame\n",
       "Columns: [id, 선명, 구분, 외내, 입출, 총톤수, 입항일시, 출항일시, 항해구분, 국적1, 계선장소1, 계선장소2]\n",
       "Index: []"
      ],
      "text/html": "<div>\n<style scoped>\n    .dataframe tbody tr th:only-of-type {\n        vertical-align: middle;\n    }\n\n    .dataframe tbody tr th {\n        vertical-align: top;\n    }\n\n    .dataframe thead th {\n        text-align: right;\n    }\n</style>\n<table border=\"1\" class=\"dataframe\">\n  <thead>\n    <tr style=\"text-align: right;\">\n      <th></th>\n      <th>id</th>\n      <th>선명</th>\n      <th>구분</th>\n      <th>외내</th>\n      <th>입출</th>\n      <th>총톤수</th>\n      <th>입항일시</th>\n      <th>출항일시</th>\n      <th>항해구분</th>\n      <th>국적1</th>\n      <th>계선장소1</th>\n      <th>계선장소2</th>\n    </tr>\n  </thead>\n  <tbody>\n  </tbody>\n</table>\n</div>"
     },
     "metadata": {},
     "execution_count": 66
    }
   ],
   "source": [
    "data.loc[data['id']=='2016_019_D7BN', 'id':'계선장소2']"
   ]
  },
  {
   "cell_type": "code",
   "execution_count": 67,
   "metadata": {},
   "outputs": [
    {
     "output_type": "stream",
     "name": "stdout",
     "text": [
      "<class 'pandas.core.frame.DataFrame'>\nInt64Index: 36243 entries, 2 to 36346\nData columns (total 36 columns):\n #   Column            Non-Null Count  Dtype  \n---  ------            --------------  -----  \n 0   호출부호              36243 non-null  object \n 1   입항횟수1             36243 non-null  int64  \n 2   입항횟수2             36243 non-null  int64  \n 3   입항횟수3             36243 non-null  object \n 4   선사/대리점1           36243 non-null  object \n 5   신청시설1             36243 non-null  object \n 6   신청시설2             36243 non-null  object \n 7   신청일시1(FROM ~ TO)  36243 non-null  object \n 8   신청일시2(FROM ~ TO)  36243 non-null  object \n 9   지정시설1             36243 non-null  object \n 10  지정시설2             36243 non-null  object \n 11  지정일시1(FROM ~ TO)  36243 non-null  object \n 12  지정일시2(FROM ~ TO)  36243 non-null  object \n 13  사용목적명             36243 non-null  object \n 14  허가유무              36243 non-null  object \n 15  id                36243 non-null  object \n 16  선명                30678 non-null  object \n 17  구분                30678 non-null  object \n 18  외내                30678 non-null  object \n 19  입출                30678 non-null  object \n 20  총톤수               30678 non-null  object \n 21  입항일시              30678 non-null  object \n 22  출항일시              30678 non-null  object \n 23  항해구분              30678 non-null  float64\n 24  국적1               30678 non-null  object \n 25  계선장소1             30678 non-null  object \n 26  계선장소2             30678 non-null  float64\n 27  차항지               30676 non-null  object \n 28  전출항지              30675 non-null  object \n 29  선박용도              30678 non-null  object \n 30  승무원(한국인)          30678 non-null  float64\n 31  승무원(외국인)          30678 non-null  float64\n 32  승객                30678 non-null  float64\n 33  예선                30249 non-null  object \n 34  도선                30676 non-null  object \n 35  수리여부              30678 non-null  float64\ndtypes: float64(6), int64(2), object(28)\nmemory usage: 10.2+ MB\n"
     ]
    }
   ],
   "source": [
    "data.info()"
   ]
  }
 ]
}